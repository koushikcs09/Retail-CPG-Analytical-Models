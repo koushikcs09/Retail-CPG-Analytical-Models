{
 "cells": [
  {
   "cell_type": "code",
   "execution_count": 7,
   "id": "64b8f644",
   "metadata": {},
   "outputs": [],
   "source": [
    "import pandas as pd\n"
   ]
  },
  {
   "cell_type": "code",
   "execution_count": 8,
   "id": "113b9904",
   "metadata": {},
   "outputs": [],
   "source": [
    "df=pd.read_csv('C:\\\\Users\\\\patel\\\\Downloads\\\\project\\\\Proect_dataset.csv')"
   ]
  },
  {
   "cell_type": "code",
   "execution_count": 9,
   "id": "f6a92a10",
   "metadata": {},
   "outputs": [
    {
     "data": {
      "text/html": [
       "<div>\n",
       "<style scoped>\n",
       "    .dataframe tbody tr th:only-of-type {\n",
       "        vertical-align: middle;\n",
       "    }\n",
       "\n",
       "    .dataframe tbody tr th {\n",
       "        vertical-align: top;\n",
       "    }\n",
       "\n",
       "    .dataframe thead th {\n",
       "        text-align: right;\n",
       "    }\n",
       "</style>\n",
       "<table border=\"1\" class=\"dataframe\">\n",
       "  <thead>\n",
       "    <tr style=\"text-align: right;\">\n",
       "      <th></th>\n",
       "      <th>Unnamed: 0</th>\n",
       "      <th>tweets</th>\n",
       "      <th>likes</th>\n",
       "      <th>time</th>\n",
       "    </tr>\n",
       "  </thead>\n",
       "  <tbody>\n",
       "    <tr>\n",
       "      <th>0</th>\n",
       "      <td>0</td>\n",
       "      <td>RT @MARBLEXofficial: MBX with Consensus 2022✨ ...</td>\n",
       "      <td>0</td>\n",
       "      <td>2022-06-10 23:59:59+00:00</td>\n",
       "    </tr>\n",
       "    <tr>\n",
       "      <th>1</th>\n",
       "      <td>1</td>\n",
       "      <td>Aside of #crypto it’s getting real out here th...</td>\n",
       "      <td>2</td>\n",
       "      <td>2022-06-10 23:59:56+00:00</td>\n",
       "    </tr>\n",
       "    <tr>\n",
       "      <th>2</th>\n",
       "      <td>2</td>\n",
       "      <td>RT @OfficialTravlad: I will send $1,000 to som...</td>\n",
       "      <td>0</td>\n",
       "      <td>2022-06-10 23:59:51+00:00</td>\n",
       "    </tr>\n",
       "    <tr>\n",
       "      <th>3</th>\n",
       "      <td>3</td>\n",
       "      <td>RT @lisaownet: Thanks for the socks.\\n\\nMeet m...</td>\n",
       "      <td>0</td>\n",
       "      <td>2022-06-10 23:59:50+00:00</td>\n",
       "    </tr>\n",
       "    <tr>\n",
       "      <th>4</th>\n",
       "      <td>4</td>\n",
       "      <td>RT @metavisa: We are very excited to announce ...</td>\n",
       "      <td>0</td>\n",
       "      <td>2022-06-10 23:59:49+00:00</td>\n",
       "    </tr>\n",
       "    <tr>\n",
       "      <th>...</th>\n",
       "      <td>...</td>\n",
       "      <td>...</td>\n",
       "      <td>...</td>\n",
       "      <td>...</td>\n",
       "    </tr>\n",
       "    <tr>\n",
       "      <th>92903</th>\n",
       "      <td>92903</td>\n",
       "      <td>RT @Nolinz_Samurai: #DumbleDAO is that Art tha...</td>\n",
       "      <td>0</td>\n",
       "      <td>2022-06-16 22:55:48+00:00</td>\n",
       "    </tr>\n",
       "    <tr>\n",
       "      <th>92904</th>\n",
       "      <td>92904</td>\n",
       "      <td>RT @BingXOfficial: 💎Follow BingX on Social Med...</td>\n",
       "      <td>0</td>\n",
       "      <td>2022-06-16 22:55:47+00:00</td>\n",
       "    </tr>\n",
       "    <tr>\n",
       "      <th>92905</th>\n",
       "      <td>92905</td>\n",
       "      <td>RT @KibaInuWorld: The 💎diamond hands will prev...</td>\n",
       "      <td>0</td>\n",
       "      <td>2022-06-16 22:55:47+00:00</td>\n",
       "    </tr>\n",
       "    <tr>\n",
       "      <th>92906</th>\n",
       "      <td>92906</td>\n",
       "      <td>RT @kryptochay: 🚨⚡️📢 #VOLTARMY PLZ SUBMIT YOUR...</td>\n",
       "      <td>0</td>\n",
       "      <td>2022-06-16 22:55:44+00:00</td>\n",
       "    </tr>\n",
       "    <tr>\n",
       "      <th>92907</th>\n",
       "      <td>92907</td>\n",
       "      <td>RT @apollo_river: Some fair estimates on poten...</td>\n",
       "      <td>0</td>\n",
       "      <td>2022-06-16 22:55:43+00:00</td>\n",
       "    </tr>\n",
       "  </tbody>\n",
       "</table>\n",
       "<p>92908 rows × 4 columns</p>\n",
       "</div>"
      ],
      "text/plain": [
       "       Unnamed: 0                                             tweets  likes  \\\n",
       "0               0  RT @MARBLEXofficial: MBX with Consensus 2022✨ ...      0   \n",
       "1               1  Aside of #crypto it’s getting real out here th...      2   \n",
       "2               2  RT @OfficialTravlad: I will send $1,000 to som...      0   \n",
       "3               3  RT @lisaownet: Thanks for the socks.\\n\\nMeet m...      0   \n",
       "4               4  RT @metavisa: We are very excited to announce ...      0   \n",
       "...           ...                                                ...    ...   \n",
       "92903       92903  RT @Nolinz_Samurai: #DumbleDAO is that Art tha...      0   \n",
       "92904       92904  RT @BingXOfficial: 💎Follow BingX on Social Med...      0   \n",
       "92905       92905  RT @KibaInuWorld: The 💎diamond hands will prev...      0   \n",
       "92906       92906  RT @kryptochay: 🚨⚡️📢 #VOLTARMY PLZ SUBMIT YOUR...      0   \n",
       "92907       92907  RT @apollo_river: Some fair estimates on poten...      0   \n",
       "\n",
       "                            time  \n",
       "0      2022-06-10 23:59:59+00:00  \n",
       "1      2022-06-10 23:59:56+00:00  \n",
       "2      2022-06-10 23:59:51+00:00  \n",
       "3      2022-06-10 23:59:50+00:00  \n",
       "4      2022-06-10 23:59:49+00:00  \n",
       "...                          ...  \n",
       "92903  2022-06-16 22:55:48+00:00  \n",
       "92904  2022-06-16 22:55:47+00:00  \n",
       "92905  2022-06-16 22:55:47+00:00  \n",
       "92906  2022-06-16 22:55:44+00:00  \n",
       "92907  2022-06-16 22:55:43+00:00  \n",
       "\n",
       "[92908 rows x 4 columns]"
      ]
     },
     "execution_count": 9,
     "metadata": {},
     "output_type": "execute_result"
    }
   ],
   "source": [
    "df"
   ]
  },
  {
   "cell_type": "code",
   "execution_count": 10,
   "id": "e202aa27",
   "metadata": {},
   "outputs": [
    {
     "name": "stdout",
     "output_type": "stream",
     "text": [
      "       Unnamed: 0                                             tweets  likes  \\\n",
      "16             16  RT @OfficialTravlad: I will send $1,000 to som...      0   \n",
      "34             34  RT @OfficialTravlad: I will send $1,000 to som...      0   \n",
      "37             37  RT @MARBLEXofficial: MBX with Consensus 2022✨ ...      0   \n",
      "59             59  RT @PlayWizardia: All this talk of listings, g...      0   \n",
      "60             60  RT @CryptoTownEU: 🚀 Airdrop: BrightyPad\\n💰 Val...      0   \n",
      "...           ...                                                ...    ...   \n",
      "92903       92903  RT @Nolinz_Samurai: #DumbleDAO is that Art tha...      0   \n",
      "92904       92904  RT @BingXOfficial: 💎Follow BingX on Social Med...      0   \n",
      "92905       92905  RT @KibaInuWorld: The 💎diamond hands will prev...      0   \n",
      "92906       92906  RT @kryptochay: 🚨⚡️📢 #VOLTARMY PLZ SUBMIT YOUR...      0   \n",
      "92907       92907  RT @apollo_river: Some fair estimates on poten...      0   \n",
      "\n",
      "                            time  \n",
      "16     2022-06-10 23:59:38+00:00  \n",
      "34     2022-06-10 23:59:10+00:00  \n",
      "37     2022-06-10 23:59:08+00:00  \n",
      "59     2022-06-10 23:58:44+00:00  \n",
      "60     2022-06-10 23:58:43+00:00  \n",
      "...                          ...  \n",
      "92903  2022-06-16 22:55:48+00:00  \n",
      "92904  2022-06-16 22:55:47+00:00  \n",
      "92905  2022-06-16 22:55:47+00:00  \n",
      "92906  2022-06-16 22:55:44+00:00  \n",
      "92907  2022-06-16 22:55:43+00:00  \n",
      "\n",
      "[52421 rows x 4 columns]\n"
     ]
    }
   ],
   "source": [
    "print(df[df.duplicated(subset=['tweets'])])"
   ]
  },
  {
   "cell_type": "markdown",
   "id": "cdfb94a1",
   "metadata": {},
   "source": [
    "This many duplicate tweets are present which make our accuracy low."
   ]
  },
  {
   "cell_type": "code",
   "execution_count": 4,
   "id": "1c37880f",
   "metadata": {},
   "outputs": [
    {
     "name": "stdout",
     "output_type": "stream",
     "text": [
      "       Unnamed: 0                                             tweets  likes  \\\n",
      "0               0  RT @MARBLEXofficial: MBX with Consensus 2022✨ ...      0   \n",
      "1               1  Aside of #crypto it’s getting real out here th...      2   \n",
      "2               2  RT @OfficialTravlad: I will send $1,000 to som...      0   \n",
      "3               3  RT @lisaownet: Thanks for the socks.\\n\\nMeet m...      0   \n",
      "4               4  RT @metavisa: We are very excited to announce ...      0   \n",
      "...           ...                                                ...    ...   \n",
      "92894       92894  We has donated $12,250 since launching on Febr...      1   \n",
      "92899       92899  🚨🚨🚨 Crypto alert:\\n\\n• Bollinger Bands Breakou...      0   \n",
      "92900       92900  RT @biertjetilburg: #LUNA 🚀🚀🚀 Luna to thé moon...      0   \n",
      "92901       92901  I'm highly confident that the years that will ...     10   \n",
      "92902       92902  RT @BYzmnsz: Percentage of earnings of #crypto...      0   \n",
      "\n",
      "                            time  \n",
      "0      2022-06-10 23:59:59+00:00  \n",
      "1      2022-06-10 23:59:56+00:00  \n",
      "2      2022-06-10 23:59:51+00:00  \n",
      "3      2022-06-10 23:59:50+00:00  \n",
      "4      2022-06-10 23:59:49+00:00  \n",
      "...                          ...  \n",
      "92894  2022-06-16 22:55:54+00:00  \n",
      "92899  2022-06-16 22:55:49+00:00  \n",
      "92900  2022-06-16 22:55:49+00:00  \n",
      "92901  2022-06-16 22:55:48+00:00  \n",
      "92902  2022-06-16 22:55:48+00:00  \n",
      "\n",
      "[40487 rows x 4 columns]\n"
     ]
    }
   ],
   "source": [
    "print(df[~df.duplicated(subset=['tweets'])])"
   ]
  },
  {
   "cell_type": "markdown",
   "id": "22b60d4b",
   "metadata": {},
   "source": [
    "After removing duplicate we got 40487 clean tweets "
   ]
  },
  {
   "cell_type": "code",
   "execution_count": 6,
   "id": "bee7c03d",
   "metadata": {},
   "outputs": [],
   "source": [
    "df[~df.duplicated(subset=['tweets'])].to_csv('Removed_duplicated_1.csv')"
   ]
  },
  {
   "cell_type": "markdown",
   "id": "dd976aa3",
   "metadata": {},
   "source": [
    "then we saved this to csv"
   ]
  },
  {
   "cell_type": "code",
   "execution_count": null,
   "id": "7ec2cfaf",
   "metadata": {},
   "outputs": [],
   "source": []
  }
 ],
 "metadata": {
  "kernelspec": {
   "display_name": "Python 3 (ipykernel)",
   "language": "python",
   "name": "python3"
  },
  "language_info": {
   "codemirror_mode": {
    "name": "ipython",
    "version": 3
   },
   "file_extension": ".py",
   "mimetype": "text/x-python",
   "name": "python",
   "nbconvert_exporter": "python",
   "pygments_lexer": "ipython3",
   "version": "3.9.12"
  }
 },
 "nbformat": 4,
 "nbformat_minor": 5
}
