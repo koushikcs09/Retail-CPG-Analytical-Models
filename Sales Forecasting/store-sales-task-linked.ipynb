{
 "cells": [
  {
   "cell_type": "markdown",
   "id": "bfc0ff76",
   "metadata": {
    "papermill": {
     "duration": 0.010494,
     "end_time": "2022-08-02T18:58:42.113087",
     "exception": false,
     "start_time": "2022-08-02T18:58:42.102593",
     "status": "completed"
    },
    "tags": []
   },
   "source": [
    "# Kaggle Store Sales Forecast"
   ]
  },
  {
   "cell_type": "markdown",
   "id": "e45ac13d",
   "metadata": {
    "papermill": {
     "duration": 0.007596,
     "end_time": "2022-08-02T18:58:42.128771",
     "exception": false,
     "start_time": "2022-08-02T18:58:42.121175",
     "status": "completed"
    },
    "tags": []
   },
   "source": [
    "## What we know about the database:\n",
    "\n",
    "In this competition, you will predict sales for the thousands of product families sold at Favorita stores located in Ecuador. The training data includes dates, store and product information, whether that item was being promoted, as well as the sales numbers. Additional files include supplementary information that may be useful in building your models.\n",
    "\n",
    "File Descriptions and Data Field Information\\\n",
    "**train.csv**\\\n",
    "The training data, comprising time series of features store_nbr, family, and onpromotion as well as the target sales.\n",
    "store_nbr identifies the store at which the products are sold.\n",
    "family identifies the type of product sold.\n",
    "sales gives the total sales for a product family at a particular store at a given date. Fractional values are possible since products can be sold in fractional units (1.5 kg of cheese, for instance, as opposed to 1 bag of chips).\n",
    "onpromotion gives the total number of items in a product family that were being promoted at a store at a given date.\\\n",
    "**test.csv**\\\n",
    "The test data, having the same features as the training data. You will predict the target sales for the dates in this file.\n",
    "The dates in the test data are for the 15 days after the last date in the training data.\n",
    "sample_submission.csv\n",
    "A sample submission file in the correct format.\\\n",
    "**stores.csv**\\\n",
    "Store metadata, including city, state, type, and cluster.\n",
    "cluster is a grouping of similar stores.\\\n",
    "**oil.csv**\\\n",
    "Daily oil price. Includes values during both the train and test data timeframes. (Ecuador is an oil-dependent country and it's economical health is highly vulnerable to shocks in oil prices.)\\\n",
    "**holidays_events.csv**\\\n",
    "Holidays and Events, with metadata\n",
    "NOTE: Pay special attention to the transferred column. A holiday that is transferred officially falls on that calendar day, but was moved to another date by the government. A transferred day is more like a normal day than a holiday. To find the day that it was actually celebrated, look for the corresponding row where type is Transfer. For example, the holiday Independencia de Guayaquil was transferred from 2012-10-09 to 2012-10-12, which means it was celebrated on 2012-10-12. Days that are type Bridge are extra days that are added to a holiday (e.g., to extend the break across a long weekend). These are frequently made up by the type Work Day which is a day not normally scheduled for work (e.g., Saturday) that is meant to payback the Bridge.\\\n",
    "Additional holidays are days added a regular calendar holiday, for example, as typically happens around Christmas (making Christmas Eve a holiday).\\\n",
    "**Additional Notes**\\\n",
    "Wages in the public sector are paid every two weeks on the 15 th and on the last day of the month. Supermarket sales could be affected by this.\n",
    "A magnitude 7.8 earthquake struck Ecuador on April 16, 2016. People rallied in relief efforts donating water and other first need products which greatly affected supermarket sales for several weeks after the earthquake."
   ]
  },
  {
   "cell_type": "markdown",
   "id": "cefb362d",
   "metadata": {
    "papermill": {
     "duration": 0.007565,
     "end_time": "2022-08-02T18:58:42.144022",
     "exception": false,
     "start_time": "2022-08-02T18:58:42.136457",
     "status": "completed"
    },
    "tags": []
   },
   "source": [
    "## About the project\n",
    "\n",
    "Although this project as a part of a machine learning challenge in Kaggle, I grasped the opportunity to make a full analysis and visualization to the data to add it to my portfolio. \n",
    "After finishing the full analysis, I will make program a machine learning estimator with the scikit-learn tool and apply it to solve the challenge.\n",
    "\n",
    "\n",
    "The main programing language for this project will be Python. I have also made some changes to the data with excel and Google’s Big Query SQL. For the visualization part, aside the use of matplotlib library, I will also use Tableau.\n"
   ]
  },
  {
   "cell_type": "markdown",
   "id": "fc37292c",
   "metadata": {
    "papermill": {
     "duration": 0.007469,
     "end_time": "2022-08-02T18:58:42.159231",
     "exception": false,
     "start_time": "2022-08-02T18:58:42.151762",
     "status": "completed"
    },
    "tags": []
   },
   "source": [
    "## About the company\n",
    "\n",
    "A quick overview of Favorita Corporation:\\\n",
    "**History**: \n",
    "The Favorita Corporation began at Quito, Ecuador, in 1952 as a store that sold soaps, candles and imported items that turned into the first self-service supermarket that turned into a supermarket chain all over the western part of south and part of central America.\n",
    "\n",
    "\n",
    "**Business Diversification**: \n",
    "The diversification of The Favorita Corporation contains three sections:\n",
    "In the commercial section Favorita corporation has a diversified stores chains from supermarkets to toys and furniture stores.\n",
    "In the real estate section commercial and industrial real estate.\n",
    "In the industrial area they own they have warehouses and distribution centers for many different kinds of products, as well as a private power plant. \\\n",
    "\n",
    "**Sources:**\\\n",
    "Wikipedia: [es.wikipedia.org](https://es.wikipedia.org/wiki/Corporaci%C3%B3n_Favorita)\\\n",
    "Corporación Favorita: [Company's Website](https://www.corporacionfavorita.com/en/)\n"
   ]
  },
  {
   "cell_type": "code",
   "execution_count": 1,
   "id": "573ce051",
   "metadata": {
    "execution": {
     "iopub.execute_input": "2022-08-02T18:58:42.176895Z",
     "iopub.status.busy": "2022-08-02T18:58:42.176453Z",
     "iopub.status.idle": "2022-08-02T18:58:43.204712Z",
     "shell.execute_reply": "2022-08-02T18:58:43.203557Z"
    },
    "papermill": {
     "duration": 1.040456,
     "end_time": "2022-08-02T18:58:43.207539",
     "exception": false,
     "start_time": "2022-08-02T18:58:42.167083",
     "status": "completed"
    },
    "tags": []
   },
   "outputs": [],
   "source": [
    "# Getting the data ready:\n",
    "#Importing tools\n",
    "import pandas as pd\n",
    "import numpy as np\n",
    "import matplotlib.pyplot as plt\n",
    "from sklearn import preprocessing\n"
   ]
  },
  {
   "cell_type": "code",
   "execution_count": 2,
   "id": "0d69060e",
   "metadata": {
    "execution": {
     "iopub.execute_input": "2022-08-02T18:58:43.227212Z",
     "iopub.status.busy": "2022-08-02T18:58:43.226455Z",
     "iopub.status.idle": "2022-08-02T18:58:46.032336Z",
     "shell.execute_reply": "2022-08-02T18:58:46.031172Z"
    },
    "papermill": {
     "duration": 2.819131,
     "end_time": "2022-08-02T18:58:46.034893",
     "exception": false,
     "start_time": "2022-08-02T18:58:43.215762",
     "status": "completed"
    },
    "tags": []
   },
   "outputs": [],
   "source": [
    "#Importing the Databases\n",
    "holiday= pd.read_csv('../input/store-sales-time-series-forecasting/holidays_events.csv')\n",
    "oil = pd.read_csv('../input/store-sales-time-series-forecasting/oil.csv')\n",
    "stores= pd.read_csv('../input/store-sales-time-series-forecasting/stores.csv')\n",
    "transactions= pd.read_csv('../input/store-sales-time-series-forecasting/transactions.csv')\n",
    "train=pd.read_csv('../input/store-sales-time-series-forecasting/train.csv')"
   ]
  },
  {
   "cell_type": "code",
   "execution_count": 3,
   "id": "8f8896d9",
   "metadata": {
    "execution": {
     "iopub.execute_input": "2022-08-02T18:58:46.053513Z",
     "iopub.status.busy": "2022-08-02T18:58:46.053118Z",
     "iopub.status.idle": "2022-08-02T18:58:46.076095Z",
     "shell.execute_reply": "2022-08-02T18:58:46.075067Z"
    },
    "papermill": {
     "duration": 0.035148,
     "end_time": "2022-08-02T18:58:46.078538",
     "exception": false,
     "start_time": "2022-08-02T18:58:46.043390",
     "status": "completed"
    },
    "tags": []
   },
   "outputs": [
    {
     "data": {
      "text/html": [
       "<div>\n",
       "<style scoped>\n",
       "    .dataframe tbody tr th:only-of-type {\n",
       "        vertical-align: middle;\n",
       "    }\n",
       "\n",
       "    .dataframe tbody tr th {\n",
       "        vertical-align: top;\n",
       "    }\n",
       "\n",
       "    .dataframe thead th {\n",
       "        text-align: right;\n",
       "    }\n",
       "</style>\n",
       "<table border=\"1\" class=\"dataframe\">\n",
       "  <thead>\n",
       "    <tr style=\"text-align: right;\">\n",
       "      <th></th>\n",
       "      <th>date</th>\n",
       "      <th>type</th>\n",
       "      <th>locale</th>\n",
       "      <th>locale_name</th>\n",
       "      <th>description</th>\n",
       "      <th>transferred</th>\n",
       "    </tr>\n",
       "  </thead>\n",
       "  <tbody>\n",
       "    <tr>\n",
       "      <th>0</th>\n",
       "      <td>2012-03-02</td>\n",
       "      <td>Holiday</td>\n",
       "      <td>Local</td>\n",
       "      <td>Manta</td>\n",
       "      <td>Fundacion de Manta</td>\n",
       "      <td>False</td>\n",
       "    </tr>\n",
       "    <tr>\n",
       "      <th>1</th>\n",
       "      <td>2012-04-01</td>\n",
       "      <td>Holiday</td>\n",
       "      <td>Regional</td>\n",
       "      <td>Cotopaxi</td>\n",
       "      <td>Provincializacion de Cotopaxi</td>\n",
       "      <td>False</td>\n",
       "    </tr>\n",
       "    <tr>\n",
       "      <th>2</th>\n",
       "      <td>2012-04-12</td>\n",
       "      <td>Holiday</td>\n",
       "      <td>Local</td>\n",
       "      <td>Cuenca</td>\n",
       "      <td>Fundacion de Cuenca</td>\n",
       "      <td>False</td>\n",
       "    </tr>\n",
       "    <tr>\n",
       "      <th>3</th>\n",
       "      <td>2012-04-14</td>\n",
       "      <td>Holiday</td>\n",
       "      <td>Local</td>\n",
       "      <td>Libertad</td>\n",
       "      <td>Cantonizacion de Libertad</td>\n",
       "      <td>False</td>\n",
       "    </tr>\n",
       "    <tr>\n",
       "      <th>4</th>\n",
       "      <td>2012-04-21</td>\n",
       "      <td>Holiday</td>\n",
       "      <td>Local</td>\n",
       "      <td>Riobamba</td>\n",
       "      <td>Cantonizacion de Riobamba</td>\n",
       "      <td>False</td>\n",
       "    </tr>\n",
       "  </tbody>\n",
       "</table>\n",
       "</div>"
      ],
      "text/plain": [
       "         date     type    locale locale_name                    description  \\\n",
       "0  2012-03-02  Holiday     Local       Manta             Fundacion de Manta   \n",
       "1  2012-04-01  Holiday  Regional    Cotopaxi  Provincializacion de Cotopaxi   \n",
       "2  2012-04-12  Holiday     Local      Cuenca            Fundacion de Cuenca   \n",
       "3  2012-04-14  Holiday     Local    Libertad      Cantonizacion de Libertad   \n",
       "4  2012-04-21  Holiday     Local    Riobamba      Cantonizacion de Riobamba   \n",
       "\n",
       "   transferred  \n",
       "0        False  \n",
       "1        False  \n",
       "2        False  \n",
       "3        False  \n",
       "4        False  "
      ]
     },
     "execution_count": 3,
     "metadata": {},
     "output_type": "execute_result"
    }
   ],
   "source": [
    "#exploring the databases:\n",
    "holiday.head()\n",
    "#holiday.dtypes"
   ]
  },
  {
   "cell_type": "code",
   "execution_count": 4,
   "id": "a87a3261",
   "metadata": {
    "execution": {
     "iopub.execute_input": "2022-08-02T18:58:46.098194Z",
     "iopub.status.busy": "2022-08-02T18:58:46.097384Z",
     "iopub.status.idle": "2022-08-02T18:58:46.107751Z",
     "shell.execute_reply": "2022-08-02T18:58:46.106659Z"
    },
    "papermill": {
     "duration": 0.021795,
     "end_time": "2022-08-02T18:58:46.109950",
     "exception": false,
     "start_time": "2022-08-02T18:58:46.088155",
     "status": "completed"
    },
    "tags": []
   },
   "outputs": [],
   "source": [
    "#change date datatype\n",
    "holiday[\"date\"]=pd.to_datetime(holiday[\"date\"])"
   ]
  },
  {
   "cell_type": "code",
   "execution_count": 5,
   "id": "a8d43b6f",
   "metadata": {
    "execution": {
     "iopub.execute_input": "2022-08-02T18:58:46.128503Z",
     "iopub.status.busy": "2022-08-02T18:58:46.127786Z",
     "iopub.status.idle": "2022-08-02T18:58:46.148425Z",
     "shell.execute_reply": "2022-08-02T18:58:46.147402Z"
    },
    "papermill": {
     "duration": 0.031779,
     "end_time": "2022-08-02T18:58:46.150508",
     "exception": false,
     "start_time": "2022-08-02T18:58:46.118729",
     "status": "completed"
    },
    "tags": []
   },
   "outputs": [
    {
     "data": {
      "text/plain": [
       "transferred              bool\n",
       "date           datetime64[ns]\n",
       "type                   object\n",
       "locale                 object\n",
       "locale_name            object\n",
       "description            object\n",
       "dtype: object"
      ]
     },
     "execution_count": 5,
     "metadata": {},
     "output_type": "execute_result"
    }
   ],
   "source": [
    "#Removing transferred holidays to make better predictions\n",
    "holi=holiday.set_index(\"transferred\")\n",
    "hol1=holi.drop(True, )\n",
    "hol1=hol1.reset_index()\n",
    "hol1[\"date\"]=pd.to_datetime(hol1[\"date\"])\n",
    "holiday=hol1\n",
    "holiday.dtypes"
   ]
  },
  {
   "cell_type": "code",
   "execution_count": 6,
   "id": "401680a2",
   "metadata": {
    "execution": {
     "iopub.execute_input": "2022-08-02T18:58:46.170635Z",
     "iopub.status.busy": "2022-08-02T18:58:46.169936Z",
     "iopub.status.idle": "2022-08-02T18:58:46.176855Z",
     "shell.execute_reply": "2022-08-02T18:58:46.176042Z"
    },
    "papermill": {
     "duration": 0.019366,
     "end_time": "2022-08-02T18:58:46.178855",
     "exception": false,
     "start_time": "2022-08-02T18:58:46.159489",
     "status": "completed"
    },
    "tags": []
   },
   "outputs": [
    {
     "data": {
      "text/plain": [
       "date            object\n",
       "store_nbr        int64\n",
       "transactions     int64\n",
       "dtype: object"
      ]
     },
     "execution_count": 6,
     "metadata": {},
     "output_type": "execute_result"
    }
   ],
   "source": [
    "#Reviewing transactionst\n",
    "transactions.head()\n",
    "transactions.dtypes"
   ]
  },
  {
   "cell_type": "code",
   "execution_count": 7,
   "id": "986cf017",
   "metadata": {
    "execution": {
     "iopub.execute_input": "2022-08-02T18:58:46.198440Z",
     "iopub.status.busy": "2022-08-02T18:58:46.197716Z",
     "iopub.status.idle": "2022-08-02T18:58:46.271748Z",
     "shell.execute_reply": "2022-08-02T18:58:46.270569Z"
    },
    "papermill": {
     "duration": 0.087318,
     "end_time": "2022-08-02T18:58:46.274487",
     "exception": false,
     "start_time": "2022-08-02T18:58:46.187169",
     "status": "completed"
    },
    "scrolled": true,
    "tags": []
   },
   "outputs": [
    {
     "data": {
      "text/plain": [
       "date            datetime64[ns]\n",
       "store_nbr               object\n",
       "transactions             int64\n",
       "dtype: object"
      ]
     },
     "execution_count": 7,
     "metadata": {},
     "output_type": "execute_result"
    }
   ],
   "source": [
    "#changing data types\n",
    "transactions[\"date\"]=pd.to_datetime(transactions[\"date\"])\n",
    "transactions[\"store_nbr\"]=transactions[\"store_nbr\"].astype(str)\n",
    "transactions.dtypes\n",
    "#transactions.head()"
   ]
  },
  {
   "cell_type": "code",
   "execution_count": 8,
   "id": "28e2d517",
   "metadata": {
    "execution": {
     "iopub.execute_input": "2022-08-02T18:58:46.294716Z",
     "iopub.status.busy": "2022-08-02T18:58:46.293978Z",
     "iopub.status.idle": "2022-08-02T18:58:46.304169Z",
     "shell.execute_reply": "2022-08-02T18:58:46.303196Z"
    },
    "papermill": {
     "duration": 0.022375,
     "end_time": "2022-08-02T18:58:46.306281",
     "exception": false,
     "start_time": "2022-08-02T18:58:46.283906",
     "status": "completed"
    },
    "tags": []
   },
   "outputs": [
    {
     "data": {
      "text/plain": [
       "54"
      ]
     },
     "execution_count": 8,
     "metadata": {},
     "output_type": "execute_result"
    }
   ],
   "source": [
    "#reviewing stores\n",
    "#change dtype of store number\n",
    "stores[\"store_nbr\"]=stores[\"store_nbr\"].astype(str)\n",
    "#removed type and cluster as I couldn't find their meaning\n",
    "stores=stores.drop([\"type\",\"cluster\"],axis=1)\n",
    "stores.head()\n",
    "len(stores)"
   ]
  },
  {
   "cell_type": "code",
   "execution_count": 9,
   "id": "bc2cd767",
   "metadata": {
    "execution": {
     "iopub.execute_input": "2022-08-02T18:58:46.325330Z",
     "iopub.status.busy": "2022-08-02T18:58:46.324687Z",
     "iopub.status.idle": "2022-08-02T18:58:46.348806Z",
     "shell.execute_reply": "2022-08-02T18:58:46.347686Z"
    },
    "papermill": {
     "duration": 0.036087,
     "end_time": "2022-08-02T18:58:46.351204",
     "exception": false,
     "start_time": "2022-08-02T18:58:46.315117",
     "status": "completed"
    },
    "tags": []
   },
   "outputs": [
    {
     "data": {
      "text/html": [
       "<div>\n",
       "<style scoped>\n",
       "    .dataframe tbody tr th:only-of-type {\n",
       "        vertical-align: middle;\n",
       "    }\n",
       "\n",
       "    .dataframe tbody tr th {\n",
       "        vertical-align: top;\n",
       "    }\n",
       "\n",
       "    .dataframe thead th {\n",
       "        text-align: right;\n",
       "    }\n",
       "</style>\n",
       "<table border=\"1\" class=\"dataframe\">\n",
       "  <thead>\n",
       "    <tr style=\"text-align: right;\">\n",
       "      <th></th>\n",
       "      <th>date</th>\n",
       "      <th>dcoilwtico</th>\n",
       "    </tr>\n",
       "  </thead>\n",
       "  <tbody>\n",
       "    <tr>\n",
       "      <th>0</th>\n",
       "      <td>2013-01-01</td>\n",
       "      <td>93.128</td>\n",
       "    </tr>\n",
       "    <tr>\n",
       "      <th>1</th>\n",
       "      <td>2013-01-02</td>\n",
       "      <td>93.140</td>\n",
       "    </tr>\n",
       "    <tr>\n",
       "      <th>2</th>\n",
       "      <td>2013-01-03</td>\n",
       "      <td>92.970</td>\n",
       "    </tr>\n",
       "    <tr>\n",
       "      <th>3</th>\n",
       "      <td>2013-01-04</td>\n",
       "      <td>93.120</td>\n",
       "    </tr>\n",
       "    <tr>\n",
       "      <th>4</th>\n",
       "      <td>2013-01-07</td>\n",
       "      <td>93.200</td>\n",
       "    </tr>\n",
       "  </tbody>\n",
       "</table>\n",
       "</div>"
      ],
      "text/plain": [
       "        date  dcoilwtico\n",
       "0 2013-01-01      93.128\n",
       "1 2013-01-02      93.140\n",
       "2 2013-01-03      92.970\n",
       "3 2013-01-04      93.120\n",
       "4 2013-01-07      93.200"
      ]
     },
     "execution_count": 9,
     "metadata": {},
     "output_type": "execute_result"
    }
   ],
   "source": [
    "#reviewing oil\n",
    "#I removed null values in excel while calculating the average of cells above and below null cell\n",
    "oil = pd.read_csv('../input/oil-instore-data/oil_nNull_v1.csv')\n",
    "oil[\"date\"]=pd.to_datetime(oil[\"date\"],format=\"%d/%m/%Y\")\n",
    "oil.head()\n"
   ]
  },
  {
   "cell_type": "code",
   "execution_count": 10,
   "id": "09cb0d13",
   "metadata": {
    "execution": {
     "iopub.execute_input": "2022-08-02T18:58:46.372606Z",
     "iopub.status.busy": "2022-08-02T18:58:46.371472Z",
     "iopub.status.idle": "2022-08-02T18:58:50.588432Z",
     "shell.execute_reply": "2022-08-02T18:58:50.587190Z"
    },
    "papermill": {
     "duration": 4.22996,
     "end_time": "2022-08-02T18:58:50.590660",
     "exception": false,
     "start_time": "2022-08-02T18:58:46.360700",
     "status": "completed"
    },
    "tags": []
   },
   "outputs": [
    {
     "data": {
      "text/plain": [
       "id                     object\n",
       "date           datetime64[ns]\n",
       "store_nbr              object\n",
       "family                 object\n",
       "sales                 float64\n",
       "onpromotion             int64\n",
       "dtype: object"
      ]
     },
     "execution_count": 10,
     "metadata": {},
     "output_type": "execute_result"
    }
   ],
   "source": [
    "#review train\n",
    "#correct datatype\n",
    "train[\"date\"]=pd.to_datetime(train[\"date\"])\n",
    "train[\"id\"]=train[\"id\"].astype(str)\n",
    "train[\"store_nbr\"]=train[\"store_nbr\"].astype(str)\n",
    "train.dtypes"
   ]
  },
  {
   "cell_type": "code",
   "execution_count": 11,
   "id": "c472dab5",
   "metadata": {
    "execution": {
     "iopub.execute_input": "2022-08-02T18:58:50.612184Z",
     "iopub.status.busy": "2022-08-02T18:58:50.611046Z",
     "iopub.status.idle": "2022-08-02T18:58:50.623430Z",
     "shell.execute_reply": "2022-08-02T18:58:50.622602Z"
    },
    "papermill": {
     "duration": 0.024822,
     "end_time": "2022-08-02T18:58:50.625399",
     "exception": false,
     "start_time": "2022-08-02T18:58:50.600577",
     "status": "completed"
    },
    "tags": []
   },
   "outputs": [
    {
     "data": {
      "text/html": [
       "<div>\n",
       "<style scoped>\n",
       "    .dataframe tbody tr th:only-of-type {\n",
       "        vertical-align: middle;\n",
       "    }\n",
       "\n",
       "    .dataframe tbody tr th {\n",
       "        vertical-align: top;\n",
       "    }\n",
       "\n",
       "    .dataframe thead th {\n",
       "        text-align: right;\n",
       "    }\n",
       "</style>\n",
       "<table border=\"1\" class=\"dataframe\">\n",
       "  <thead>\n",
       "    <tr style=\"text-align: right;\">\n",
       "      <th></th>\n",
       "      <th>transferred</th>\n",
       "      <th>date</th>\n",
       "      <th>type</th>\n",
       "      <th>locale</th>\n",
       "      <th>locale_name</th>\n",
       "      <th>description</th>\n",
       "    </tr>\n",
       "  </thead>\n",
       "  <tbody>\n",
       "    <tr>\n",
       "      <th>0</th>\n",
       "      <td>False</td>\n",
       "      <td>2012-03-02</td>\n",
       "      <td>Holiday</td>\n",
       "      <td>Local</td>\n",
       "      <td>Manta</td>\n",
       "      <td>Fundacion de Manta</td>\n",
       "    </tr>\n",
       "    <tr>\n",
       "      <th>1</th>\n",
       "      <td>False</td>\n",
       "      <td>2012-04-01</td>\n",
       "      <td>Holiday</td>\n",
       "      <td>Regional</td>\n",
       "      <td>Cotopaxi</td>\n",
       "      <td>Provincializacion de Cotopaxi</td>\n",
       "    </tr>\n",
       "    <tr>\n",
       "      <th>2</th>\n",
       "      <td>False</td>\n",
       "      <td>2012-04-12</td>\n",
       "      <td>Holiday</td>\n",
       "      <td>Local</td>\n",
       "      <td>Cuenca</td>\n",
       "      <td>Fundacion de Cuenca</td>\n",
       "    </tr>\n",
       "    <tr>\n",
       "      <th>3</th>\n",
       "      <td>False</td>\n",
       "      <td>2012-04-14</td>\n",
       "      <td>Holiday</td>\n",
       "      <td>Local</td>\n",
       "      <td>Libertad</td>\n",
       "      <td>Cantonizacion de Libertad</td>\n",
       "    </tr>\n",
       "    <tr>\n",
       "      <th>4</th>\n",
       "      <td>False</td>\n",
       "      <td>2012-04-21</td>\n",
       "      <td>Holiday</td>\n",
       "      <td>Local</td>\n",
       "      <td>Riobamba</td>\n",
       "      <td>Cantonizacion de Riobamba</td>\n",
       "    </tr>\n",
       "  </tbody>\n",
       "</table>\n",
       "</div>"
      ],
      "text/plain": [
       "   transferred       date     type    locale locale_name  \\\n",
       "0        False 2012-03-02  Holiday     Local       Manta   \n",
       "1        False 2012-04-01  Holiday  Regional    Cotopaxi   \n",
       "2        False 2012-04-12  Holiday     Local      Cuenca   \n",
       "3        False 2012-04-14  Holiday     Local    Libertad   \n",
       "4        False 2012-04-21  Holiday     Local    Riobamba   \n",
       "\n",
       "                     description  \n",
       "0             Fundacion de Manta  \n",
       "1  Provincializacion de Cotopaxi  \n",
       "2            Fundacion de Cuenca  \n",
       "3      Cantonizacion de Libertad  \n",
       "4      Cantonizacion de Riobamba  "
      ]
     },
     "execution_count": 11,
     "metadata": {},
     "output_type": "execute_result"
    }
   ],
   "source": [
    "#clean checking null values\n",
    "holiday.isna()\n",
    "holiday.head()"
   ]
  },
  {
   "cell_type": "code",
   "execution_count": 12,
   "id": "5d2291ef",
   "metadata": {
    "execution": {
     "iopub.execute_input": "2022-08-02T18:58:50.646568Z",
     "iopub.status.busy": "2022-08-02T18:58:50.645553Z",
     "iopub.status.idle": "2022-08-02T18:58:50.653714Z",
     "shell.execute_reply": "2022-08-02T18:58:50.652938Z"
    },
    "papermill": {
     "duration": 0.020327,
     "end_time": "2022-08-02T18:58:50.655610",
     "exception": false,
     "start_time": "2022-08-02T18:58:50.635283",
     "status": "completed"
    },
    "tags": []
   },
   "outputs": [
    {
     "data": {
      "text/plain": [
       "store_nbr    0\n",
       "city         0\n",
       "state        0\n",
       "dtype: int64"
      ]
     },
     "execution_count": 12,
     "metadata": {},
     "output_type": "execute_result"
    }
   ],
   "source": [
    "stores.isna().sum()"
   ]
  },
  {
   "cell_type": "code",
   "execution_count": 13,
   "id": "2d915689",
   "metadata": {
    "execution": {
     "iopub.execute_input": "2022-08-02T18:58:50.675116Z",
     "iopub.status.busy": "2022-08-02T18:58:50.674750Z",
     "iopub.status.idle": "2022-08-02T18:58:50.682206Z",
     "shell.execute_reply": "2022-08-02T18:58:50.681292Z"
    },
    "papermill": {
     "duration": 0.019699,
     "end_time": "2022-08-02T18:58:50.684237",
     "exception": false,
     "start_time": "2022-08-02T18:58:50.664538",
     "status": "completed"
    },
    "tags": []
   },
   "outputs": [
    {
     "data": {
      "text/plain": [
       "date          0\n",
       "dcoilwtico    0\n",
       "dtype: int64"
      ]
     },
     "execution_count": 13,
     "metadata": {},
     "output_type": "execute_result"
    }
   ],
   "source": [
    "oil.isna().sum()"
   ]
  },
  {
   "cell_type": "code",
   "execution_count": 14,
   "id": "bfd20567",
   "metadata": {
    "execution": {
     "iopub.execute_input": "2022-08-02T18:58:50.704901Z",
     "iopub.status.busy": "2022-08-02T18:58:50.704228Z",
     "iopub.status.idle": "2022-08-02T18:58:51.115496Z",
     "shell.execute_reply": "2022-08-02T18:58:51.114269Z"
    },
    "papermill": {
     "duration": 0.429424,
     "end_time": "2022-08-02T18:58:51.123044",
     "exception": false,
     "start_time": "2022-08-02T18:58:50.693620",
     "status": "completed"
    },
    "tags": []
   },
   "outputs": [
    {
     "data": {
      "text/html": [
       "<div>\n",
       "<style scoped>\n",
       "    .dataframe tbody tr th:only-of-type {\n",
       "        vertical-align: middle;\n",
       "    }\n",
       "\n",
       "    .dataframe tbody tr th {\n",
       "        vertical-align: top;\n",
       "    }\n",
       "\n",
       "    .dataframe thead th {\n",
       "        text-align: right;\n",
       "    }\n",
       "</style>\n",
       "<table border=\"1\" class=\"dataframe\">\n",
       "  <thead>\n",
       "    <tr style=\"text-align: right;\">\n",
       "      <th></th>\n",
       "      <th>date</th>\n",
       "      <th>store_nbr</th>\n",
       "      <th>transactions</th>\n",
       "    </tr>\n",
       "  </thead>\n",
       "  <tbody>\n",
       "    <tr>\n",
       "      <th>83483</th>\n",
       "      <td>2017-08-15</td>\n",
       "      <td>50</td>\n",
       "      <td>2804</td>\n",
       "    </tr>\n",
       "    <tr>\n",
       "      <th>83484</th>\n",
       "      <td>2017-08-15</td>\n",
       "      <td>51</td>\n",
       "      <td>1573</td>\n",
       "    </tr>\n",
       "    <tr>\n",
       "      <th>83485</th>\n",
       "      <td>2017-08-15</td>\n",
       "      <td>52</td>\n",
       "      <td>2255</td>\n",
       "    </tr>\n",
       "    <tr>\n",
       "      <th>83486</th>\n",
       "      <td>2017-08-15</td>\n",
       "      <td>53</td>\n",
       "      <td>932</td>\n",
       "    </tr>\n",
       "    <tr>\n",
       "      <th>83487</th>\n",
       "      <td>2017-08-15</td>\n",
       "      <td>54</td>\n",
       "      <td>802</td>\n",
       "    </tr>\n",
       "  </tbody>\n",
       "</table>\n",
       "</div>"
      ],
      "text/plain": [
       "            date store_nbr  transactions\n",
       "83483 2017-08-15        50          2804\n",
       "83484 2017-08-15        51          1573\n",
       "83485 2017-08-15        52          2255\n",
       "83486 2017-08-15        53           932\n",
       "83487 2017-08-15        54           802"
      ]
     },
     "execution_count": 14,
     "metadata": {},
     "output_type": "execute_result"
    }
   ],
   "source": [
    "train.isna().sum()\n",
    "train.dtypes\n",
    "transactions.tail()"
   ]
  },
  {
   "cell_type": "code",
   "execution_count": 15,
   "id": "4b3fed01",
   "metadata": {
    "execution": {
     "iopub.execute_input": "2022-08-02T18:58:51.150960Z",
     "iopub.status.busy": "2022-08-02T18:58:51.149760Z",
     "iopub.status.idle": "2022-08-02T18:58:51.840203Z",
     "shell.execute_reply": "2022-08-02T18:58:51.839002Z"
    },
    "papermill": {
     "duration": 0.704675,
     "end_time": "2022-08-02T18:58:51.842772",
     "exception": false,
     "start_time": "2022-08-02T18:58:51.138097",
     "status": "completed"
    },
    "tags": []
   },
   "outputs": [
    {
     "data": {
      "text/html": [
       "<div>\n",
       "<style scoped>\n",
       "    .dataframe tbody tr th:only-of-type {\n",
       "        vertical-align: middle;\n",
       "    }\n",
       "\n",
       "    .dataframe tbody tr th {\n",
       "        vertical-align: top;\n",
       "    }\n",
       "\n",
       "    .dataframe thead th {\n",
       "        text-align: right;\n",
       "    }\n",
       "</style>\n",
       "<table border=\"1\" class=\"dataframe\">\n",
       "  <thead>\n",
       "    <tr style=\"text-align: right;\">\n",
       "      <th></th>\n",
       "      <th>sales</th>\n",
       "      <th>onpromotion</th>\n",
       "    </tr>\n",
       "  </thead>\n",
       "  <tbody>\n",
       "    <tr>\n",
       "      <th>count</th>\n",
       "      <td>90936.000</td>\n",
       "      <td>90936.000</td>\n",
       "    </tr>\n",
       "    <tr>\n",
       "      <th>mean</th>\n",
       "      <td>3776.972</td>\n",
       "      <td>21.057</td>\n",
       "    </tr>\n",
       "    <tr>\n",
       "      <th>std</th>\n",
       "      <td>2874.209</td>\n",
       "      <td>33.306</td>\n",
       "    </tr>\n",
       "    <tr>\n",
       "      <th>min</th>\n",
       "      <td>0.000</td>\n",
       "      <td>0.000</td>\n",
       "    </tr>\n",
       "    <tr>\n",
       "      <th>25%</th>\n",
       "      <td>2117.000</td>\n",
       "      <td>0.000</td>\n",
       "    </tr>\n",
       "    <tr>\n",
       "      <th>50%</th>\n",
       "      <td>3185.000</td>\n",
       "      <td>5.000</td>\n",
       "    </tr>\n",
       "    <tr>\n",
       "      <th>75%</th>\n",
       "      <td>4726.000</td>\n",
       "      <td>36.000</td>\n",
       "    </tr>\n",
       "    <tr>\n",
       "      <th>max</th>\n",
       "      <td>124717.000</td>\n",
       "      <td>741.000</td>\n",
       "    </tr>\n",
       "  </tbody>\n",
       "</table>\n",
       "</div>"
      ],
      "text/plain": [
       "            sales  onpromotion\n",
       "count   90936.000    90936.000\n",
       "mean     3776.972       21.057\n",
       "std      2874.209       33.306\n",
       "min         0.000        0.000\n",
       "25%      2117.000        0.000\n",
       "50%      3185.000        5.000\n",
       "75%      4726.000       36.000\n",
       "max    124717.000      741.000"
      ]
     },
     "execution_count": 15,
     "metadata": {},
     "output_type": "execute_result"
    }
   ],
   "source": [
    "train.loc[train[\"family\"]==\"GROCERY I\"].describe().round(decimals=3)"
   ]
  },
  {
   "cell_type": "code",
   "execution_count": 16,
   "id": "d14d13e4",
   "metadata": {
    "execution": {
     "iopub.execute_input": "2022-08-02T18:58:51.862969Z",
     "iopub.status.busy": "2022-08-02T18:58:51.861888Z",
     "iopub.status.idle": "2022-08-02T18:58:51.881570Z",
     "shell.execute_reply": "2022-08-02T18:58:51.879776Z"
    },
    "papermill": {
     "duration": 0.032095,
     "end_time": "2022-08-02T18:58:51.884035",
     "exception": false,
     "start_time": "2022-08-02T18:58:51.851940",
     "status": "completed"
    },
    "tags": []
   },
   "outputs": [
    {
     "data": {
      "text/html": [
       "<div>\n",
       "<style scoped>\n",
       "    .dataframe tbody tr th:only-of-type {\n",
       "        vertical-align: middle;\n",
       "    }\n",
       "\n",
       "    .dataframe tbody tr th {\n",
       "        vertical-align: top;\n",
       "    }\n",
       "\n",
       "    .dataframe thead th {\n",
       "        text-align: right;\n",
       "    }\n",
       "</style>\n",
       "<table border=\"1\" class=\"dataframe\">\n",
       "  <thead>\n",
       "    <tr style=\"text-align: right;\">\n",
       "      <th></th>\n",
       "      <th>id</th>\n",
       "      <th>date</th>\n",
       "      <th>store_nbr</th>\n",
       "      <th>family</th>\n",
       "      <th>sales</th>\n",
       "      <th>onpromotion</th>\n",
       "    </tr>\n",
       "  </thead>\n",
       "  <tbody>\n",
       "    <tr>\n",
       "      <th>2163723</th>\n",
       "      <td>2163723</td>\n",
       "      <td>2016-05-02</td>\n",
       "      <td>2</td>\n",
       "      <td>GROCERY I</td>\n",
       "      <td>124717.0</td>\n",
       "      <td>59</td>\n",
       "    </tr>\n",
       "  </tbody>\n",
       "</table>\n",
       "</div>"
      ],
      "text/plain": [
       "              id       date store_nbr     family     sales  onpromotion\n",
       "2163723  2163723 2016-05-02         2  GROCERY I  124717.0           59"
      ]
     },
     "execution_count": 16,
     "metadata": {},
     "output_type": "execute_result"
    }
   ],
   "source": [
    "train.loc[train[\"sales\"]==124717]"
   ]
  },
  {
   "cell_type": "code",
   "execution_count": 17,
   "id": "205af2a3",
   "metadata": {
    "execution": {
     "iopub.execute_input": "2022-08-02T18:58:51.905332Z",
     "iopub.status.busy": "2022-08-02T18:58:51.904937Z",
     "iopub.status.idle": "2022-08-02T18:58:52.136290Z",
     "shell.execute_reply": "2022-08-02T18:58:52.135245Z"
    },
    "papermill": {
     "duration": 0.244762,
     "end_time": "2022-08-02T18:58:52.138509",
     "exception": false,
     "start_time": "2022-08-02T18:58:51.893747",
     "status": "completed"
    },
    "tags": []
   },
   "outputs": [
    {
     "data": {
      "text/html": [
       "<div>\n",
       "<style scoped>\n",
       "    .dataframe tbody tr th:only-of-type {\n",
       "        vertical-align: middle;\n",
       "    }\n",
       "\n",
       "    .dataframe tbody tr th {\n",
       "        vertical-align: top;\n",
       "    }\n",
       "\n",
       "    .dataframe thead th {\n",
       "        text-align: right;\n",
       "    }\n",
       "</style>\n",
       "<table border=\"1\" class=\"dataframe\">\n",
       "  <thead>\n",
       "    <tr style=\"text-align: right;\">\n",
       "      <th></th>\n",
       "      <th>sales</th>\n",
       "      <th>onpromotion</th>\n",
       "    </tr>\n",
       "  </thead>\n",
       "  <tbody>\n",
       "    <tr>\n",
       "      <th>count</th>\n",
       "      <td>90936.000</td>\n",
       "      <td>90936.000</td>\n",
       "    </tr>\n",
       "    <tr>\n",
       "      <th>mean</th>\n",
       "      <td>3776.972</td>\n",
       "      <td>21.057</td>\n",
       "    </tr>\n",
       "    <tr>\n",
       "      <th>std</th>\n",
       "      <td>2874.209</td>\n",
       "      <td>33.306</td>\n",
       "    </tr>\n",
       "    <tr>\n",
       "      <th>min</th>\n",
       "      <td>0.000</td>\n",
       "      <td>0.000</td>\n",
       "    </tr>\n",
       "    <tr>\n",
       "      <th>25%</th>\n",
       "      <td>2117.000</td>\n",
       "      <td>0.000</td>\n",
       "    </tr>\n",
       "    <tr>\n",
       "      <th>50%</th>\n",
       "      <td>3185.000</td>\n",
       "      <td>5.000</td>\n",
       "    </tr>\n",
       "    <tr>\n",
       "      <th>75%</th>\n",
       "      <td>4726.000</td>\n",
       "      <td>36.000</td>\n",
       "    </tr>\n",
       "    <tr>\n",
       "      <th>max</th>\n",
       "      <td>124717.000</td>\n",
       "      <td>741.000</td>\n",
       "    </tr>\n",
       "  </tbody>\n",
       "</table>\n",
       "</div>"
      ],
      "text/plain": [
       "            sales  onpromotion\n",
       "count   90936.000    90936.000\n",
       "mean     3776.972       21.057\n",
       "std      2874.209       33.306\n",
       "min         0.000        0.000\n",
       "25%      2117.000        0.000\n",
       "50%      3185.000        5.000\n",
       "75%      4726.000       36.000\n",
       "max    124717.000      741.000"
      ]
     },
     "execution_count": 17,
     "metadata": {},
     "output_type": "execute_result"
    }
   ],
   "source": [
    "groceries1=train.loc[train[\"family\"]==\"GROCERY I\"]\n",
    "groceries1.describe().round(decimals=3)"
   ]
  },
  {
   "cell_type": "code",
   "execution_count": 18,
   "id": "a9e0529e",
   "metadata": {
    "execution": {
     "iopub.execute_input": "2022-08-02T18:58:52.158816Z",
     "iopub.status.busy": "2022-08-02T18:58:52.158006Z",
     "iopub.status.idle": "2022-08-02T18:58:52.972245Z",
     "shell.execute_reply": "2022-08-02T18:58:52.971104Z"
    },
    "papermill": {
     "duration": 0.827116,
     "end_time": "2022-08-02T18:58:52.974831",
     "exception": false,
     "start_time": "2022-08-02T18:58:52.147715",
     "status": "completed"
    },
    "tags": []
   },
   "outputs": [
    {
     "data": {
      "text/plain": [
       "<matplotlib.collections.PathCollection at 0x7f5b64498d50>"
      ]
     },
     "execution_count": 18,
     "metadata": {},
     "output_type": "execute_result"
    },
    {
     "data": {
      "image/png": "[encoded data removed]",
      "text/plain": [
       "<Figure size 1080x1080 with 1 Axes>"
      ]
     },
     "metadata": {
      "needs_background": "light"
     },
     "output_type": "display_data"
    }
   ],
   "source": [
    "plt.figure(figsize=(15,15))\n",
    "plt.scatter(groceries1[\"store_nbr\"],groceries1[\"sales\"])"
   ]
  },
  {
   "cell_type": "code",
   "execution_count": 19,
   "id": "cb14d740",
   "metadata": {
    "execution": {
     "iopub.execute_input": "2022-08-02T18:58:52.999854Z",
     "iopub.status.busy": "2022-08-02T18:58:52.999092Z",
     "iopub.status.idle": "2022-08-02T18:58:53.024506Z",
     "shell.execute_reply": "2022-08-02T18:58:53.023602Z"
    },
    "papermill": {
     "duration": 0.04017,
     "end_time": "2022-08-02T18:58:53.026587",
     "exception": false,
     "start_time": "2022-08-02T18:58:52.986417",
     "status": "completed"
    },
    "tags": []
   },
   "outputs": [],
   "source": [
    "str_2=groceries1.loc[groceries1[\"store_nbr\"]==\"2\"]\n",
    "str2_2016=str_2.loc[(str_2[\"date\"].dt.year==2017)]"
   ]
  },
  {
   "cell_type": "code",
   "execution_count": 20,
   "id": "3b73f01c",
   "metadata": {
    "execution": {
     "iopub.execute_input": "2022-08-02T18:58:53.050114Z",
     "iopub.status.busy": "2022-08-02T18:58:53.049406Z",
     "iopub.status.idle": "2022-08-02T18:58:53.237302Z",
     "shell.execute_reply": "2022-08-02T18:58:53.236507Z"
    },
    "papermill": {
     "duration": 0.202082,
     "end_time": "2022-08-02T18:58:53.239397",
     "exception": false,
     "start_time": "2022-08-02T18:58:53.037315",
     "status": "completed"
    },
    "tags": []
   },
   "outputs": [
    {
     "data": {
      "text/plain": [
       "<matplotlib.collections.PathCollection at 0x7f5b622a3910>"
      ]
     },
     "execution_count": 20,
     "metadata": {},
     "output_type": "execute_result"
    },
    {
     "data": {
      "image/png": "[encoded data removed]",
      "text/plain": [
       "<Figure size 432x288 with 1 Axes>"
      ]
     },
     "metadata": {
      "needs_background": "light"
     },
     "output_type": "display_data"
    }
   ],
   "source": [
    "plt.scatter(str2_2016[\"date\"],str2_2016[\"sales\"])"
   ]
  },
  {
   "cell_type": "code",
   "execution_count": 21,
   "id": "b66b1b3d",
   "metadata": {
    "execution": {
     "iopub.execute_input": "2022-08-02T18:58:53.263111Z",
     "iopub.status.busy": "2022-08-02T18:58:53.262426Z",
     "iopub.status.idle": "2022-08-02T18:58:53.281725Z",
     "shell.execute_reply": "2022-08-02T18:58:53.280587Z"
    },
    "papermill": {
     "duration": 0.033917,
     "end_time": "2022-08-02T18:58:53.284129",
     "exception": false,
     "start_time": "2022-08-02T18:58:53.250212",
     "status": "completed"
    },
    "tags": []
   },
   "outputs": [
    {
     "data": {
      "text/html": [
       "<div>\n",
       "<style scoped>\n",
       "    .dataframe tbody tr th:only-of-type {\n",
       "        vertical-align: middle;\n",
       "    }\n",
       "\n",
       "    .dataframe tbody tr th {\n",
       "        vertical-align: top;\n",
       "    }\n",
       "\n",
       "    .dataframe thead th {\n",
       "        text-align: right;\n",
       "    }\n",
       "</style>\n",
       "<table border=\"1\" class=\"dataframe\">\n",
       "  <thead>\n",
       "    <tr style=\"text-align: right;\">\n",
       "      <th></th>\n",
       "      <th>sales</th>\n",
       "      <th>onpromotion</th>\n",
       "    </tr>\n",
       "  </thead>\n",
       "  <tbody>\n",
       "    <tr>\n",
       "      <th>count</th>\n",
       "      <td>10.00</td>\n",
       "      <td>10.00</td>\n",
       "    </tr>\n",
       "    <tr>\n",
       "      <th>mean</th>\n",
       "      <td>28230.90</td>\n",
       "      <td>52.50</td>\n",
       "    </tr>\n",
       "    <tr>\n",
       "      <th>std</th>\n",
       "      <td>37878.74</td>\n",
       "      <td>34.55</td>\n",
       "    </tr>\n",
       "    <tr>\n",
       "      <th>min</th>\n",
       "      <td>8273.00</td>\n",
       "      <td>19.00</td>\n",
       "    </tr>\n",
       "    <tr>\n",
       "      <th>25%</th>\n",
       "      <td>8614.25</td>\n",
       "      <td>26.25</td>\n",
       "    </tr>\n",
       "    <tr>\n",
       "      <th>50%</th>\n",
       "      <td>10858.50</td>\n",
       "      <td>41.00</td>\n",
       "    </tr>\n",
       "    <tr>\n",
       "      <th>75%</th>\n",
       "      <td>21378.75</td>\n",
       "      <td>61.25</td>\n",
       "    </tr>\n",
       "    <tr>\n",
       "      <th>max</th>\n",
       "      <td>124717.00</td>\n",
       "      <td>115.00</td>\n",
       "    </tr>\n",
       "  </tbody>\n",
       "</table>\n",
       "</div>"
      ],
      "text/plain": [
       "           sales  onpromotion\n",
       "count      10.00        10.00\n",
       "mean    28230.90        52.50\n",
       "std     37878.74        34.55\n",
       "min      8273.00        19.00\n",
       "25%      8614.25        26.25\n",
       "50%     10858.50        41.00\n",
       "75%     21378.75        61.25\n",
       "max    124717.00       115.00"
      ]
     },
     "execution_count": 21,
     "metadata": {},
     "output_type": "execute_result"
    }
   ],
   "source": [
    "str_2.loc[(str_2[\"date\"].dt.year==2016)&(str_2[\"sales\"]>8000)].describe().round(decimals=2)"
   ]
  },
  {
   "cell_type": "markdown",
   "id": "5bb4534b",
   "metadata": {
    "papermill": {
     "duration": 0.010664,
     "end_time": "2022-08-02T18:58:53.305848",
     "exception": false,
     "start_time": "2022-08-02T18:58:53.295184",
     "status": "completed"
    },
    "tags": []
   },
   "source": [
    "After a look at the stores information it seems like there are some outliers, but they make sense due to the fact that they are related to the earthquake relief efforts by the local community.\n"
   ]
  },
  {
   "cell_type": "code",
   "execution_count": 22,
   "id": "5f663388",
   "metadata": {
    "execution": {
     "iopub.execute_input": "2022-08-02T18:58:53.330095Z",
     "iopub.status.busy": "2022-08-02T18:58:53.329107Z",
     "iopub.status.idle": "2022-08-02T18:58:55.857062Z",
     "shell.execute_reply": "2022-08-02T18:58:55.855788Z"
    },
    "papermill": {
     "duration": 2.543004,
     "end_time": "2022-08-02T18:58:55.859754",
     "exception": false,
     "start_time": "2022-08-02T18:58:53.316750",
     "status": "completed"
    },
    "tags": []
   },
   "outputs": [],
   "source": [
    "#pump up the data for the learning process\n",
    "merged=pd.merge_ordered(train,oil,on=\"date\",fill_method=\"ffill\")\n",
    "merged.loc[(merged[\"date\"].dt.year==2017)&(merged[\"date\"].dt.month==8)&(merged[\"date\"].dt.day>15)]\n",
    "merged=merged.drop(merged.index[3000891:])\n",
    "#merged.groupby(by=merged[\"family\"]).count()\n"
   ]
  },
  {
   "cell_type": "code",
   "execution_count": 23,
   "id": "aa2286a0",
   "metadata": {
    "execution": {
     "iopub.execute_input": "2022-08-02T18:58:55.885987Z",
     "iopub.status.busy": "2022-08-02T18:58:55.884927Z",
     "iopub.status.idle": "2022-08-02T18:58:56.627569Z",
     "shell.execute_reply": "2022-08-02T18:58:56.626324Z"
    },
    "papermill": {
     "duration": 0.75828,
     "end_time": "2022-08-02T18:58:56.630858",
     "exception": false,
     "start_time": "2022-08-02T18:58:55.872578",
     "status": "completed"
    },
    "tags": []
   },
   "outputs": [
    {
     "data": {
      "text/html": [
       "<div>\n",
       "<style scoped>\n",
       "    .dataframe tbody tr th:only-of-type {\n",
       "        vertical-align: middle;\n",
       "    }\n",
       "\n",
       "    .dataframe tbody tr th {\n",
       "        vertical-align: top;\n",
       "    }\n",
       "\n",
       "    .dataframe thead th {\n",
       "        text-align: right;\n",
       "    }\n",
       "</style>\n",
       "<table border=\"1\" class=\"dataframe\">\n",
       "  <thead>\n",
       "    <tr style=\"text-align: right;\">\n",
       "      <th></th>\n",
       "      <th>id</th>\n",
       "      <th>date</th>\n",
       "      <th>store_nbr</th>\n",
       "      <th>family</th>\n",
       "      <th>sales</th>\n",
       "      <th>onpromotion</th>\n",
       "      <th>dcoilwtico</th>\n",
       "    </tr>\n",
       "  </thead>\n",
       "  <tbody>\n",
       "    <tr>\n",
       "      <th>0</th>\n",
       "      <td>0</td>\n",
       "      <td>2013-01-01</td>\n",
       "      <td>1</td>\n",
       "      <td>0</td>\n",
       "      <td>0.000</td>\n",
       "      <td>0</td>\n",
       "      <td>93.128</td>\n",
       "    </tr>\n",
       "    <tr>\n",
       "      <th>1</th>\n",
       "      <td>1</td>\n",
       "      <td>2013-01-01</td>\n",
       "      <td>1</td>\n",
       "      <td>1</td>\n",
       "      <td>0.000</td>\n",
       "      <td>0</td>\n",
       "      <td>93.128</td>\n",
       "    </tr>\n",
       "    <tr>\n",
       "      <th>2</th>\n",
       "      <td>2</td>\n",
       "      <td>2013-01-01</td>\n",
       "      <td>1</td>\n",
       "      <td>2</td>\n",
       "      <td>0.000</td>\n",
       "      <td>0</td>\n",
       "      <td>93.128</td>\n",
       "    </tr>\n",
       "    <tr>\n",
       "      <th>3</th>\n",
       "      <td>3</td>\n",
       "      <td>2013-01-01</td>\n",
       "      <td>1</td>\n",
       "      <td>3</td>\n",
       "      <td>0.000</td>\n",
       "      <td>0</td>\n",
       "      <td>93.128</td>\n",
       "    </tr>\n",
       "    <tr>\n",
       "      <th>4</th>\n",
       "      <td>4</td>\n",
       "      <td>2013-01-01</td>\n",
       "      <td>1</td>\n",
       "      <td>4</td>\n",
       "      <td>0.000</td>\n",
       "      <td>0</td>\n",
       "      <td>93.128</td>\n",
       "    </tr>\n",
       "    <tr>\n",
       "      <th>...</th>\n",
       "      <td>...</td>\n",
       "      <td>...</td>\n",
       "      <td>...</td>\n",
       "      <td>...</td>\n",
       "      <td>...</td>\n",
       "      <td>...</td>\n",
       "      <td>...</td>\n",
       "    </tr>\n",
       "    <tr>\n",
       "      <th>3000886</th>\n",
       "      <td>3000883</td>\n",
       "      <td>2017-08-15</td>\n",
       "      <td>9</td>\n",
       "      <td>28</td>\n",
       "      <td>438.133</td>\n",
       "      <td>0</td>\n",
       "      <td>47.570</td>\n",
       "    </tr>\n",
       "    <tr>\n",
       "      <th>3000887</th>\n",
       "      <td>3000884</td>\n",
       "      <td>2017-08-15</td>\n",
       "      <td>9</td>\n",
       "      <td>29</td>\n",
       "      <td>154.553</td>\n",
       "      <td>1</td>\n",
       "      <td>47.570</td>\n",
       "    </tr>\n",
       "    <tr>\n",
       "      <th>3000888</th>\n",
       "      <td>3000885</td>\n",
       "      <td>2017-08-15</td>\n",
       "      <td>9</td>\n",
       "      <td>30</td>\n",
       "      <td>2419.729</td>\n",
       "      <td>148</td>\n",
       "      <td>47.570</td>\n",
       "    </tr>\n",
       "    <tr>\n",
       "      <th>3000889</th>\n",
       "      <td>3000886</td>\n",
       "      <td>2017-08-15</td>\n",
       "      <td>9</td>\n",
       "      <td>31</td>\n",
       "      <td>121.000</td>\n",
       "      <td>8</td>\n",
       "      <td>47.570</td>\n",
       "    </tr>\n",
       "    <tr>\n",
       "      <th>3000890</th>\n",
       "      <td>3000887</td>\n",
       "      <td>2017-08-15</td>\n",
       "      <td>9</td>\n",
       "      <td>32</td>\n",
       "      <td>16.000</td>\n",
       "      <td>0</td>\n",
       "      <td>47.570</td>\n",
       "    </tr>\n",
       "  </tbody>\n",
       "</table>\n",
       "<p>3000891 rows × 7 columns</p>\n",
       "</div>"
      ],
      "text/plain": [
       "              id       date store_nbr  family     sales  onpromotion  \\\n",
       "0              0 2013-01-01         1       0     0.000            0   \n",
       "1              1 2013-01-01         1       1     0.000            0   \n",
       "2              2 2013-01-01         1       2     0.000            0   \n",
       "3              3 2013-01-01         1       3     0.000            0   \n",
       "4              4 2013-01-01         1       4     0.000            0   \n",
       "...          ...        ...       ...     ...       ...          ...   \n",
       "3000886  3000883 2017-08-15         9      28   438.133            0   \n",
       "3000887  3000884 2017-08-15         9      29   154.553            1   \n",
       "3000888  3000885 2017-08-15         9      30  2419.729          148   \n",
       "3000889  3000886 2017-08-15         9      31   121.000            8   \n",
       "3000890  3000887 2017-08-15         9      32    16.000            0   \n",
       "\n",
       "         dcoilwtico  \n",
       "0            93.128  \n",
       "1            93.128  \n",
       "2            93.128  \n",
       "3            93.128  \n",
       "4            93.128  \n",
       "...             ...  \n",
       "3000886      47.570  \n",
       "3000887      47.570  \n",
       "3000888      47.570  \n",
       "3000889      47.570  \n",
       "3000890      47.570  \n",
       "\n",
       "[3000891 rows x 7 columns]"
      ]
     },
     "execution_count": 23,
     "metadata": {},
     "output_type": "execute_result"
    }
   ],
   "source": [
    "#setting family as categorical data\n",
    "encoder= preprocessing.LabelEncoder()\n",
    "merged[\"family\"]= encoder.fit_transform(merged[\"family\"])\n",
    "merged"
   ]
  },
  {
   "cell_type": "code",
   "execution_count": 24,
   "id": "6bbe8263",
   "metadata": {
    "execution": {
     "iopub.execute_input": "2022-08-02T18:58:56.654961Z",
     "iopub.status.busy": "2022-08-02T18:58:56.653993Z",
     "iopub.status.idle": "2022-08-02T18:59:06.017054Z",
     "shell.execute_reply": "2022-08-02T18:59:06.015966Z"
    },
    "papermill": {
     "duration": 9.377468,
     "end_time": "2022-08-02T18:59:06.019452",
     "exception": false,
     "start_time": "2022-08-02T18:58:56.641984",
     "status": "completed"
    },
    "tags": []
   },
   "outputs": [
    {
     "data": {
      "text/html": [
       "<div>\n",
       "<style scoped>\n",
       "    .dataframe tbody tr th:only-of-type {\n",
       "        vertical-align: middle;\n",
       "    }\n",
       "\n",
       "    .dataframe tbody tr th {\n",
       "        vertical-align: top;\n",
       "    }\n",
       "\n",
       "    .dataframe thead th {\n",
       "        text-align: right;\n",
       "    }\n",
       "</style>\n",
       "<table border=\"1\" class=\"dataframe\">\n",
       "  <thead>\n",
       "    <tr style=\"text-align: right;\">\n",
       "      <th></th>\n",
       "      <th>id</th>\n",
       "      <th>date</th>\n",
       "      <th>store_nbr</th>\n",
       "      <th>family</th>\n",
       "      <th>sales</th>\n",
       "      <th>onpromotion</th>\n",
       "      <th>dcoilwtico</th>\n",
       "    </tr>\n",
       "  </thead>\n",
       "  <tbody>\n",
       "    <tr>\n",
       "      <th>0</th>\n",
       "      <td>0</td>\n",
       "      <td>734869</td>\n",
       "      <td>1</td>\n",
       "      <td>0</td>\n",
       "      <td>0.0000</td>\n",
       "      <td>0</td>\n",
       "      <td>93.128</td>\n",
       "    </tr>\n",
       "    <tr>\n",
       "      <th>1</th>\n",
       "      <td>1</td>\n",
       "      <td>734869</td>\n",
       "      <td>1</td>\n",
       "      <td>1</td>\n",
       "      <td>0.0000</td>\n",
       "      <td>0</td>\n",
       "      <td>93.128</td>\n",
       "    </tr>\n",
       "    <tr>\n",
       "      <th>2</th>\n",
       "      <td>2</td>\n",
       "      <td>734869</td>\n",
       "      <td>1</td>\n",
       "      <td>2</td>\n",
       "      <td>0.0000</td>\n",
       "      <td>0</td>\n",
       "      <td>93.128</td>\n",
       "    </tr>\n",
       "    <tr>\n",
       "      <th>3</th>\n",
       "      <td>3</td>\n",
       "      <td>734869</td>\n",
       "      <td>1</td>\n",
       "      <td>3</td>\n",
       "      <td>0.0000</td>\n",
       "      <td>0</td>\n",
       "      <td>93.128</td>\n",
       "    </tr>\n",
       "    <tr>\n",
       "      <th>4</th>\n",
       "      <td>4</td>\n",
       "      <td>734869</td>\n",
       "      <td>1</td>\n",
       "      <td>4</td>\n",
       "      <td>0.0000</td>\n",
       "      <td>0</td>\n",
       "      <td>93.128</td>\n",
       "    </tr>\n",
       "    <tr>\n",
       "      <th>...</th>\n",
       "      <td>...</td>\n",
       "      <td>...</td>\n",
       "      <td>...</td>\n",
       "      <td>...</td>\n",
       "      <td>...</td>\n",
       "      <td>...</td>\n",
       "      <td>...</td>\n",
       "    </tr>\n",
       "    <tr>\n",
       "      <th>1999995</th>\n",
       "      <td>1999992</td>\n",
       "      <td>735994</td>\n",
       "      <td>25</td>\n",
       "      <td>27</td>\n",
       "      <td>0.0000</td>\n",
       "      <td>0</td>\n",
       "      <td>33.660</td>\n",
       "    </tr>\n",
       "    <tr>\n",
       "      <th>1999996</th>\n",
       "      <td>1999993</td>\n",
       "      <td>735994</td>\n",
       "      <td>25</td>\n",
       "      <td>28</td>\n",
       "      <td>156.6330</td>\n",
       "      <td>0</td>\n",
       "      <td>33.660</td>\n",
       "    </tr>\n",
       "    <tr>\n",
       "      <th>1999997</th>\n",
       "      <td>1999994</td>\n",
       "      <td>735994</td>\n",
       "      <td>25</td>\n",
       "      <td>29</td>\n",
       "      <td>40.8290</td>\n",
       "      <td>0</td>\n",
       "      <td>33.660</td>\n",
       "    </tr>\n",
       "    <tr>\n",
       "      <th>1999998</th>\n",
       "      <td>1999995</td>\n",
       "      <td>735994</td>\n",
       "      <td>25</td>\n",
       "      <td>30</td>\n",
       "      <td>1212.1641</td>\n",
       "      <td>0</td>\n",
       "      <td>33.660</td>\n",
       "    </tr>\n",
       "    <tr>\n",
       "      <th>1999999</th>\n",
       "      <td>1999996</td>\n",
       "      <td>735994</td>\n",
       "      <td>25</td>\n",
       "      <td>31</td>\n",
       "      <td>0.0000</td>\n",
       "      <td>0</td>\n",
       "      <td>33.660</td>\n",
       "    </tr>\n",
       "  </tbody>\n",
       "</table>\n",
       "<p>2000000 rows × 7 columns</p>\n",
       "</div>"
      ],
      "text/plain": [
       "              id    date store_nbr  family      sales  onpromotion  dcoilwtico\n",
       "0              0  734869         1       0     0.0000            0      93.128\n",
       "1              1  734869         1       1     0.0000            0      93.128\n",
       "2              2  734869         1       2     0.0000            0      93.128\n",
       "3              3  734869         1       3     0.0000            0      93.128\n",
       "4              4  734869         1       4     0.0000            0      93.128\n",
       "...          ...     ...       ...     ...        ...          ...         ...\n",
       "1999995  1999992  735994        25      27     0.0000            0      33.660\n",
       "1999996  1999993  735994        25      28   156.6330            0      33.660\n",
       "1999997  1999994  735994        25      29    40.8290            0      33.660\n",
       "1999998  1999995  735994        25      30  1212.1641            0      33.660\n",
       "1999999  1999996  735994        25      31     0.0000            0      33.660\n",
       "\n",
       "[2000000 rows x 7 columns]"
      ]
     },
     "execution_count": 24,
     "metadata": {},
     "output_type": "execute_result"
    }
   ],
   "source": [
    "#cut the training into smaller segmet to train and test\n",
    "from sklearn.linear_model import SGDRegressor\n",
    "from sklearn.ensemble import RandomForestRegressor\n",
    "from sklearn.model_selection import train_test_split\n",
    "from datetime import date\n",
    "merged_500k=merged.iloc[0:2000000]\n",
    "merged_500k\n",
    "pd.options.mode.chained_assignment = None\n",
    "#dt.strptime(merged_500k[\"date\"], \"%Y-%m-%d\").toordinal()\n",
    "merged_500k[\"date\"]= merged_500k['date'].apply(lambda x: x.toordinal())\n",
    "merged_500k"
   ]
  },
  {
   "cell_type": "code",
   "execution_count": 25,
   "id": "334d3c13",
   "metadata": {
    "execution": {
     "iopub.execute_input": "2022-08-02T18:59:06.046864Z",
     "iopub.status.busy": "2022-08-02T18:59:06.046485Z",
     "iopub.status.idle": "2022-08-02T19:12:57.997873Z",
     "shell.execute_reply": "2022-08-02T19:12:57.996722Z"
    },
    "papermill": {
     "duration": 831.980839,
     "end_time": "2022-08-02T19:12:58.013212",
     "exception": false,
     "start_time": "2022-08-02T18:59:06.032373",
     "status": "completed"
    },
    "tags": []
   },
   "outputs": [
    {
     "data": {
      "text/plain": [
       "0.9160512274659093"
      ]
     },
     "execution_count": 25,
     "metadata": {},
     "output_type": "execute_result"
    }
   ],
   "source": [
    "X= merged_500k.drop(\"sales\",axis=1)\n",
    "y= merged_500k[\"sales\"]\n",
    "np.random.seed(42)\n",
    "\n",
    "#split\n",
    "X_train,X_test,y_train,y_test = train_test_split(X,y,test_size=0.2)\n",
    "model=RandomForestRegressor()\n",
    "model.fit(X_train,y_train)\n",
    "model.score(X_test,y_test)"
   ]
  },
  {
   "cell_type": "code",
   "execution_count": 26,
   "id": "8f1fe498",
   "metadata": {
    "execution": {
     "iopub.execute_input": "2022-08-02T19:12:58.039033Z",
     "iopub.status.busy": "2022-08-02T19:12:58.037949Z",
     "iopub.status.idle": "2022-08-02T19:42:38.549982Z",
     "shell.execute_reply": "2022-08-02T19:42:38.548748Z"
    },
    "papermill": {
     "duration": 1780.528125,
     "end_time": "2022-08-02T19:42:38.553205",
     "exception": false,
     "start_time": "2022-08-02T19:12:58.025080",
     "status": "completed"
    },
    "tags": []
   },
   "outputs": [],
   "source": [
    "from sklearn.metrics import mean_squared_log_error\n",
    "from sklearn.model_selection import cross_val_score\n",
    "cv = cross_val_score(model,X,y,cv=3, scoring='r2')\n",
    "\n",
    "#y_pred= model.predict(X_test)\n",
    "#mse=mean_squared_log_error(y_test,y_pred)\n",
    "#mse"
   ]
  },
  {
   "cell_type": "code",
   "execution_count": 27,
   "id": "ae00e9d3",
   "metadata": {
    "execution": {
     "iopub.execute_input": "2022-08-02T19:42:38.580869Z",
     "iopub.status.busy": "2022-08-02T19:42:38.580457Z",
     "iopub.status.idle": "2022-08-02T19:42:38.587695Z",
     "shell.execute_reply": "2022-08-02T19:42:38.586515Z"
    },
    "papermill": {
     "duration": 0.022832,
     "end_time": "2022-08-02T19:42:38.589728",
     "exception": false,
     "start_time": "2022-08-02T19:42:38.566896",
     "status": "completed"
    },
    "tags": []
   },
   "outputs": [
    {
     "data": {
      "text/plain": [
       "0.4244930935339597"
      ]
     },
     "execution_count": 27,
     "metadata": {},
     "output_type": "execute_result"
    }
   ],
   "source": [
    "cv.mean()"
   ]
  },
  {
   "cell_type": "code",
   "execution_count": 28,
   "id": "c013a551",
   "metadata": {
    "execution": {
     "iopub.execute_input": "2022-08-02T19:42:38.617436Z",
     "iopub.status.busy": "2022-08-02T19:42:38.617036Z",
     "iopub.status.idle": "2022-08-02T19:42:38.657209Z",
     "shell.execute_reply": "2022-08-02T19:42:38.656076Z"
    },
    "papermill": {
     "duration": 0.057381,
     "end_time": "2022-08-02T19:42:38.659568",
     "exception": false,
     "start_time": "2022-08-02T19:42:38.602187",
     "status": "completed"
    },
    "tags": []
   },
   "outputs": [
    {
     "data": {
      "text/plain": [
       "0        2017-08-16\n",
       "1        2017-08-16\n",
       "2        2017-08-16\n",
       "3        2017-08-16\n",
       "4        2017-08-16\n",
       "            ...    \n",
       "28507    2017-08-31\n",
       "28508    2017-08-31\n",
       "28509    2017-08-31\n",
       "28510    2017-08-31\n",
       "28511    2017-08-31\n",
       "Name: date, Length: 28512, dtype: object"
      ]
     },
     "execution_count": 28,
     "metadata": {},
     "output_type": "execute_result"
    }
   ],
   "source": [
    "test=pd.read_csv(\"../input/store-sales-time-series-forecasting/test.csv\")\n",
    "test[\"date\"]\n"
   ]
  },
  {
   "cell_type": "code",
   "execution_count": 29,
   "id": "98f1bdb9",
   "metadata": {
    "execution": {
     "iopub.execute_input": "2022-08-02T19:42:38.687988Z",
     "iopub.status.busy": "2022-08-02T19:42:38.687568Z",
     "iopub.status.idle": "2022-08-02T19:42:38.852879Z",
     "shell.execute_reply": "2022-08-02T19:42:38.851337Z"
    },
    "papermill": {
     "duration": 0.183166,
     "end_time": "2022-08-02T19:42:38.855966",
     "exception": false,
     "start_time": "2022-08-02T19:42:38.672800",
     "status": "completed"
    },
    "tags": []
   },
   "outputs": [
    {
     "name": "stdout",
     "output_type": "stream",
     "text": [
      "            id       date  store_nbr  family  onpromotion\n",
      "0      3000888 2017-08-16          1       0            0\n",
      "1      3000889 2017-08-16          1       1            0\n",
      "2      3000890 2017-08-16          1       2            2\n",
      "3      3000891 2017-08-16          1       3           20\n",
      "4      3000892 2017-08-16          1       4            0\n",
      "...        ...        ...        ...     ...          ...\n",
      "28507  3029395 2017-08-31          9      28            1\n",
      "28508  3029396 2017-08-31          9      29            0\n",
      "28509  3029397 2017-08-31          9      30            1\n",
      "28510  3029398 2017-08-31          9      31            9\n",
      "28511  3029399 2017-08-31          9      32            0\n",
      "\n",
      "[28512 rows x 5 columns]\n"
     ]
    }
   ],
   "source": [
    "test=pd.read_csv(\"../input/store-sales-time-series-forecasting/test.csv\")\n",
    "test1=test\n",
    "encoder= preprocessing.LabelEncoder()\n",
    "test[\"family\"]= encoder.fit_transform(test[\"family\"])\n",
    "test[\"date\"]=pd.to_datetime(test[\"date\"])\n",
    "testm=pd.merge_ordered(test,oil,on=\"date\",fill_method=\"ffill\")\n",
    "testm.loc[(testm[\"date\"].dt.year==2017)&(testm[\"date\"].dt.month==8)&(testm[\"date\"].dt.day>=15)]\n",
    "testm=testm.dropna()\n",
    "testm[\"date\"]= testm['date'].apply(lambda x: x.toordinal())\n",
    "print(test1)"
   ]
  },
  {
   "cell_type": "code",
   "execution_count": 30,
   "id": "59f8e9af",
   "metadata": {
    "execution": {
     "iopub.execute_input": "2022-08-02T19:42:38.881799Z",
     "iopub.status.busy": "2022-08-02T19:42:38.881420Z",
     "iopub.status.idle": "2022-08-02T19:42:41.172512Z",
     "shell.execute_reply": "2022-08-02T19:42:41.171353Z"
    },
    "papermill": {
     "duration": 2.306957,
     "end_time": "2022-08-02T19:42:41.175333",
     "exception": false,
     "start_time": "2022-08-02T19:42:38.868376",
     "status": "completed"
    },
    "tags": []
   },
   "outputs": [],
   "source": [
    "#predict test\n",
    "solution=model.predict(testm)"
   ]
  },
  {
   "cell_type": "code",
   "execution_count": 31,
   "id": "7b79b59a",
   "metadata": {
    "execution": {
     "iopub.execute_input": "2022-08-02T19:42:41.202486Z",
     "iopub.status.busy": "2022-08-02T19:42:41.202095Z",
     "iopub.status.idle": "2022-08-02T19:42:41.208786Z",
     "shell.execute_reply": "2022-08-02T19:42:41.207671Z"
    },
    "papermill": {
     "duration": 0.022501,
     "end_time": "2022-08-02T19:42:41.211017",
     "exception": false,
     "start_time": "2022-08-02T19:42:41.188516",
     "status": "completed"
    },
    "tags": []
   },
   "outputs": [
    {
     "data": {
      "text/plain": [
       "array([5.33000000e+00, 1.40000000e-01, 1.05501000e+03, ...,\n",
       "       2.31813083e+03, 2.16564290e+02, 1.55876399e+01])"
      ]
     },
     "execution_count": 31,
     "metadata": {},
     "output_type": "execute_result"
    }
   ],
   "source": [
    "solution\n"
   ]
  },
  {
   "cell_type": "code",
   "execution_count": 32,
   "id": "b1ded51d",
   "metadata": {
    "execution": {
     "iopub.execute_input": "2022-08-02T19:42:41.241722Z",
     "iopub.status.busy": "2022-08-02T19:42:41.241091Z",
     "iopub.status.idle": "2022-08-02T19:42:41.259044Z",
     "shell.execute_reply": "2022-08-02T19:42:41.257893Z"
    },
    "papermill": {
     "duration": 0.035167,
     "end_time": "2022-08-02T19:42:41.261295",
     "exception": false,
     "start_time": "2022-08-02T19:42:41.226128",
     "status": "completed"
    },
    "tags": []
   },
   "outputs": [
    {
     "data": {
      "text/html": [
       "<div>\n",
       "<style scoped>\n",
       "    .dataframe tbody tr th:only-of-type {\n",
       "        vertical-align: middle;\n",
       "    }\n",
       "\n",
       "    .dataframe tbody tr th {\n",
       "        vertical-align: top;\n",
       "    }\n",
       "\n",
       "    .dataframe thead th {\n",
       "        text-align: right;\n",
       "    }\n",
       "</style>\n",
       "<table border=\"1\" class=\"dataframe\">\n",
       "  <thead>\n",
       "    <tr style=\"text-align: right;\">\n",
       "      <th></th>\n",
       "      <th>id</th>\n",
       "      <th>date</th>\n",
       "      <th>store_nbr</th>\n",
       "      <th>family</th>\n",
       "      <th>onpromotion</th>\n",
       "      <th>dcoilwtico</th>\n",
       "    </tr>\n",
       "  </thead>\n",
       "  <tbody>\n",
       "    <tr>\n",
       "      <th>1206</th>\n",
       "      <td>3000888.0</td>\n",
       "      <td>736557</td>\n",
       "      <td>1.0</td>\n",
       "      <td>0.0</td>\n",
       "      <td>0.0</td>\n",
       "      <td>46.80</td>\n",
       "    </tr>\n",
       "    <tr>\n",
       "      <th>1207</th>\n",
       "      <td>3000889.0</td>\n",
       "      <td>736557</td>\n",
       "      <td>1.0</td>\n",
       "      <td>1.0</td>\n",
       "      <td>0.0</td>\n",
       "      <td>46.80</td>\n",
       "    </tr>\n",
       "    <tr>\n",
       "      <th>1208</th>\n",
       "      <td>3000890.0</td>\n",
       "      <td>736557</td>\n",
       "      <td>1.0</td>\n",
       "      <td>2.0</td>\n",
       "      <td>2.0</td>\n",
       "      <td>46.80</td>\n",
       "    </tr>\n",
       "    <tr>\n",
       "      <th>1209</th>\n",
       "      <td>3000891.0</td>\n",
       "      <td>736557</td>\n",
       "      <td>1.0</td>\n",
       "      <td>3.0</td>\n",
       "      <td>20.0</td>\n",
       "      <td>46.80</td>\n",
       "    </tr>\n",
       "    <tr>\n",
       "      <th>1210</th>\n",
       "      <td>3000892.0</td>\n",
       "      <td>736557</td>\n",
       "      <td>1.0</td>\n",
       "      <td>4.0</td>\n",
       "      <td>0.0</td>\n",
       "      <td>46.80</td>\n",
       "    </tr>\n",
       "    <tr>\n",
       "      <th>...</th>\n",
       "      <td>...</td>\n",
       "      <td>...</td>\n",
       "      <td>...</td>\n",
       "      <td>...</td>\n",
       "      <td>...</td>\n",
       "      <td>...</td>\n",
       "    </tr>\n",
       "    <tr>\n",
       "      <th>29713</th>\n",
       "      <td>3029395.0</td>\n",
       "      <td>736572</td>\n",
       "      <td>9.0</td>\n",
       "      <td>28.0</td>\n",
       "      <td>1.0</td>\n",
       "      <td>47.26</td>\n",
       "    </tr>\n",
       "    <tr>\n",
       "      <th>29714</th>\n",
       "      <td>3029396.0</td>\n",
       "      <td>736572</td>\n",
       "      <td>9.0</td>\n",
       "      <td>29.0</td>\n",
       "      <td>0.0</td>\n",
       "      <td>47.26</td>\n",
       "    </tr>\n",
       "    <tr>\n",
       "      <th>29715</th>\n",
       "      <td>3029397.0</td>\n",
       "      <td>736572</td>\n",
       "      <td>9.0</td>\n",
       "      <td>30.0</td>\n",
       "      <td>1.0</td>\n",
       "      <td>47.26</td>\n",
       "    </tr>\n",
       "    <tr>\n",
       "      <th>29716</th>\n",
       "      <td>3029398.0</td>\n",
       "      <td>736572</td>\n",
       "      <td>9.0</td>\n",
       "      <td>31.0</td>\n",
       "      <td>9.0</td>\n",
       "      <td>47.26</td>\n",
       "    </tr>\n",
       "    <tr>\n",
       "      <th>29717</th>\n",
       "      <td>3029399.0</td>\n",
       "      <td>736572</td>\n",
       "      <td>9.0</td>\n",
       "      <td>32.0</td>\n",
       "      <td>0.0</td>\n",
       "      <td>47.26</td>\n",
       "    </tr>\n",
       "  </tbody>\n",
       "</table>\n",
       "<p>28512 rows × 6 columns</p>\n",
       "</div>"
      ],
      "text/plain": [
       "              id    date  store_nbr  family  onpromotion  dcoilwtico\n",
       "1206   3000888.0  736557        1.0     0.0          0.0       46.80\n",
       "1207   3000889.0  736557        1.0     1.0          0.0       46.80\n",
       "1208   3000890.0  736557        1.0     2.0          2.0       46.80\n",
       "1209   3000891.0  736557        1.0     3.0         20.0       46.80\n",
       "1210   3000892.0  736557        1.0     4.0          0.0       46.80\n",
       "...          ...     ...        ...     ...          ...         ...\n",
       "29713  3029395.0  736572        9.0    28.0          1.0       47.26\n",
       "29714  3029396.0  736572        9.0    29.0          0.0       47.26\n",
       "29715  3029397.0  736572        9.0    30.0          1.0       47.26\n",
       "29716  3029398.0  736572        9.0    31.0          9.0       47.26\n",
       "29717  3029399.0  736572        9.0    32.0          0.0       47.26\n",
       "\n",
       "[28512 rows x 6 columns]"
      ]
     },
     "execution_count": 32,
     "metadata": {},
     "output_type": "execute_result"
    }
   ],
   "source": [
    "testm"
   ]
  },
  {
   "cell_type": "code",
   "execution_count": 33,
   "id": "83a7d37f",
   "metadata": {
    "execution": {
     "iopub.execute_input": "2022-08-02T19:42:41.288142Z",
     "iopub.status.busy": "2022-08-02T19:42:41.287354Z",
     "iopub.status.idle": "2022-08-02T19:42:41.373088Z",
     "shell.execute_reply": "2022-08-02T19:42:41.371965Z"
    },
    "papermill": {
     "duration": 0.102813,
     "end_time": "2022-08-02T19:42:41.376009",
     "exception": false,
     "start_time": "2022-08-02T19:42:41.273196",
     "status": "completed"
    },
    "tags": []
   },
   "outputs": [],
   "source": [
    "s1=testm[\"id\"]\n",
    "s2=solution\n",
    "\n",
    "s1=s1.tolist()\n",
    "s2=s2.tolist()\n",
    "d = {'id': s1, 'sales': s2}\n",
    "d=pd.DataFrame(data=d)\n",
    "d[\"id\"]=d[\"id\"].astype(int)\n",
    "d[\"id\"]=d[\"id\"].astype(str)\n",
    "d.to_csv(\"solution.csv\",index=False)\n"
   ]
  },
  {
   "cell_type": "code",
   "execution_count": null,
   "id": "e8029578",
   "metadata": {
    "papermill": {
     "duration": 0.012608,
     "end_time": "2022-08-02T19:42:41.400900",
     "exception": false,
     "start_time": "2022-08-02T19:42:41.388292",
     "status": "completed"
    },
    "tags": []
   },
   "outputs": [],
   "source": []
  },
  {
   "cell_type": "code",
   "execution_count": null,
   "id": "7d0fe7a3",
   "metadata": {
    "papermill": {
     "duration": 0.012154,
     "end_time": "2022-08-02T19:42:41.425724",
     "exception": false,
     "start_time": "2022-08-02T19:42:41.413570",
     "status": "completed"
    },
    "tags": []
   },
   "outputs": [],
   "source": []
  }
 ],
 "metadata": {
  "kernelspec": {
   "display_name": "Python 3",
   "language": "python",
   "name": "python3"
  },
  "language_info": {
   "codemirror_mode": {
    "name": "ipython",
    "version": 3
   },
   "file_extension": ".py",
   "mimetype": "text/x-python",
   "name": "python",
   "nbconvert_exporter": "python",
   "pygments_lexer": "ipython3",
   "version": "3.7.12"
  },
  "papermill": {
   "default_parameters": {},
   "duration": 2650.695889,
   "end_time": "2022-08-02T19:42:43.870824",
   "environment_variables": {},
   "exception": null,
   "input_path": "__notebook__.ipynb",
   "output_path": "__notebook__.ipynb",
   "parameters": {},
   "start_time": "2022-08-02T18:58:33.174935",
   "version": "2.3.4"
  }
 },
 "nbformat": 4,
 "nbformat_minor": 5
}
