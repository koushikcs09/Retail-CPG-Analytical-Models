{
 "cells": [
  {
   "cell_type": "markdown",
   "id": "69cbb37e",
   "metadata": {
    "papermill": {
     "duration": 0.082322,
     "end_time": "2021-11-15T13:43:16.349507",
     "exception": false,
     "start_time": "2021-11-15T13:43:16.267185",
     "status": "completed"
    },
    "tags": []
   },
   "source": [
    "# walmart-recruiting-store-sales-forecasting predictions"
   ]
  },
  {
   "cell_type": "markdown",
   "id": "973b34c6",
   "metadata": {
    "papermill": {
     "duration": 0.067762,
     "end_time": "2021-11-15T13:43:16.485727",
     "exception": false,
     "start_time": "2021-11-15T13:43:16.417965",
     "status": "completed"
    },
    "tags": []
   },
   "source": [
    "## 1. Introduction\n",
    "Following provided with historical sales data for 45 Walmart stores located in different regions. Each store contains a number of departments, and you are tasked with predicting the department-wide sales for each store.\n",
    "\n",
    "In addition, Walmart runs several promotional markdown events throughout the year. These markdowns precede prominent holidays, the four largest of which are the Super Bowl, Labor Day, Thanksgiving, and Christmas. The weeks including these holidays are weighted five times higher in the evaluation than non-holiday weeks. Part of the challenge presented by this competition is modeling the effects of markdowns on these holiday weeks in the absence of complete/ideal historical data.\n",
    "\n",
    "### Store Sales Forecasting & Discount Strategy:\n",
    "Goal:\n",
    "\n",
    "1. Exploratory Data Analysis to describe and clean the data, and to understand attributes\n",
    "2. Feature selection to keep only important attributes\n",
    "3. Developing a framework to evaluate and spot-check algorithms\n",
    "4. Predicting and explaining future sales\n",
    "5. Identifying the right time for discount strategies"
   ]
  },
  {
   "cell_type": "markdown",
   "id": "2451c1cc",
   "metadata": {
    "papermill": {
     "duration": 0.077912,
     "end_time": "2021-11-15T13:43:16.632371",
     "exception": false,
     "start_time": "2021-11-15T13:43:16.554459",
     "status": "completed"
    },
    "tags": []
   },
   "source": [
    "## 2. Data Loading, Preparation & Cleaning"
   ]
  },
  {
   "cell_type": "code",
   "execution_count": 1,
   "id": "293ecdf2",
   "metadata": {
    "execution": {
     "iopub.execute_input": "2021-11-15T13:43:16.785245Z",
     "iopub.status.busy": "2021-11-15T13:43:16.784635Z",
     "iopub.status.idle": "2021-11-15T13:43:18.129462Z",
     "shell.execute_reply": "2021-11-15T13:43:18.128801Z",
     "shell.execute_reply.started": "2021-11-15T13:05:17.849152Z"
    },
    "papermill": {
     "duration": 1.425935,
     "end_time": "2021-11-15T13:43:18.129671",
     "exception": false,
     "start_time": "2021-11-15T13:43:16.703736",
     "status": "completed"
    },
    "tags": []
   },
   "outputs": [],
   "source": [
    "# Importing all the libraries\n",
    "import pandas as pd\n",
    "import numpy as np\n",
    "import warnings\n",
    "from matplotlib import pyplot as plt\n",
    "import seaborn as sns\n",
    "from sklearn.impute import SimpleImputer\n",
    "from sklearn.model_selection import train_test_split\n",
    "from sklearn.ensemble import RandomForestRegressor\n",
    "from sklearn.tree import DecisionTreeClassifier\n",
    "from sklearn.metrics import mean_squared_error\n",
    "import warnings\n",
    "warnings.filterwarnings('ignore')\n",
    "pd.set_option(\"display.max_columns\", 120)\n",
    "pd.set_option(\"display.max_rows\", 120)\n"
   ]
  },
  {
   "cell_type": "markdown",
   "id": "2e419376",
   "metadata": {
    "papermill": {
     "duration": 0.067492,
     "end_time": "2021-11-15T13:43:18.266232",
     "exception": false,
     "start_time": "2021-11-15T13:43:18.198740",
     "status": "completed"
    },
    "tags": []
   },
   "source": [
    "## 2.1  Explore the Data"
   ]
  },
  {
   "cell_type": "code",
   "execution_count": 2,
   "id": "0d035f94",
   "metadata": {
    "execution": {
     "iopub.execute_input": "2021-11-15T13:43:18.404922Z",
     "iopub.status.busy": "2021-11-15T13:43:18.404259Z",
     "iopub.status.idle": "2021-11-15T13:43:19.030383Z",
     "shell.execute_reply": "2021-11-15T13:43:19.030929Z",
     "shell.execute_reply.started": "2021-11-15T13:05:19.287413Z"
    },
    "papermill": {
     "duration": 0.696917,
     "end_time": "2021-11-15T13:43:19.031111",
     "exception": false,
     "start_time": "2021-11-15T13:43:18.334194",
     "status": "completed"
    },
    "tags": []
   },
   "outputs": [],
   "source": [
    "# Reading the data using pandas dataframe\n",
    "features = pd.read_csv('../input/walmart-recruiting-store-sales-forecasting/features.csv.zip')\n",
    "train = pd.read_csv('../input/walmart-recruiting-store-sales-forecasting/train.csv.zip')\n",
    "stores = pd.read_csv('../input/walmart-recruiting-store-sales-forecasting/stores.csv')\n",
    "test = pd.read_csv('../input/walmart-recruiting-store-sales-forecasting/test.csv.zip')\n",
    "sample_submission = pd.read_csv('../input/walmart-recruiting-store-sales-forecasting/sampleSubmission.csv.zip')"
   ]
  },
  {
   "cell_type": "code",
   "execution_count": 3,
   "id": "8fc3c296",
   "metadata": {
    "execution": {
     "iopub.execute_input": "2021-11-15T13:43:19.172086Z",
     "iopub.status.busy": "2021-11-15T13:43:19.171351Z",
     "iopub.status.idle": "2021-11-15T13:43:19.204397Z",
     "shell.execute_reply": "2021-11-15T13:43:19.205270Z",
     "shell.execute_reply.started": "2021-11-15T13:05:19.882721Z"
    },
    "papermill": {
     "duration": 0.104671,
     "end_time": "2021-11-15T13:43:19.205523",
     "exception": false,
     "start_time": "2021-11-15T13:43:19.100852",
     "status": "completed"
    },
    "tags": []
   },
   "outputs": [
    {
     "name": "stdout",
     "output_type": "stream",
     "text": [
      "   Store        Date  Temperature  Fuel_Price  MarkDown1  MarkDown2  \\\n",
      "0      1  2010-02-05        42.31       2.572        NaN        NaN   \n",
      "1      1  2010-02-12        38.51       2.548        NaN        NaN   \n",
      "2      1  2010-02-19        39.93       2.514        NaN        NaN   \n",
      "3      1  2010-02-26        46.63       2.561        NaN        NaN   \n",
      "4      1  2010-03-05        46.50       2.625        NaN        NaN   \n",
      "\n",
      "   MarkDown3  MarkDown4  MarkDown5         CPI  Unemployment  IsHoliday  \n",
      "0        NaN        NaN        NaN  211.096358         8.106      False  \n",
      "1        NaN        NaN        NaN  211.242170         8.106       True  \n",
      "2        NaN        NaN        NaN  211.289143         8.106      False  \n",
      "3        NaN        NaN        NaN  211.319643         8.106      False  \n",
      "4        NaN        NaN        NaN  211.350143         8.106      False  \n",
      "------------------------------------------------------------\n",
      "\n",
      "   Store Type    Size\n",
      "0      1    A  151315\n",
      "1      2    A  202307\n",
      "2      3    B   37392\n",
      "3      4    A  205863\n",
      "4      5    B   34875\n",
      "------------------------------------------------------------\n",
      "\n",
      "   Store  Dept        Date  Weekly_Sales  IsHoliday\n",
      "0      1     1  2010-02-05      24924.50      False\n",
      "1      1     1  2010-02-12      46039.49       True\n",
      "2      1     1  2010-02-19      41595.55      False\n",
      "3      1     1  2010-02-26      19403.54      False\n",
      "4      1     1  2010-03-05      21827.90      False\n",
      "------------------------------------------------------------\n",
      "\n",
      "   Store  Dept        Date  IsHoliday\n",
      "0      1     1  2012-11-02      False\n",
      "1      1     1  2012-11-09      False\n",
      "2      1     1  2012-11-16      False\n",
      "3      1     1  2012-11-23       True\n",
      "4      1     1  2012-11-30      False\n",
      "------------------------------------------------------------\n",
      "\n",
      "               Id  Weekly_Sales\n",
      "0  1_1_2012-11-02             0\n",
      "1  1_1_2012-11-09             0\n",
      "2  1_1_2012-11-16             0\n",
      "3  1_1_2012-11-23             0\n",
      "4  1_1_2012-11-30             0\n"
     ]
    }
   ],
   "source": [
    "print(features.head())\n",
    "print(\"------------------------------------------------------------\\n\")\n",
    "print(stores.head())\n",
    "print(\"------------------------------------------------------------\\n\")\n",
    "print(train.head())\n",
    "print(\"------------------------------------------------------------\\n\")\n",
    "print(test.head())\n",
    "print(\"------------------------------------------------------------\\n\")\n",
    "print(sample_submission.head())"
   ]
  },
  {
   "cell_type": "markdown",
   "id": "48813656",
   "metadata": {
    "papermill": {
     "duration": 0.067829,
     "end_time": "2021-11-15T13:43:19.344559",
     "exception": false,
     "start_time": "2021-11-15T13:43:19.276730",
     "status": "completed"
    },
    "tags": []
   },
   "source": [
    "We can see that the test dataset don't contain the features included in the train dataset, taking into consideration that these features (Temperature, Fuel price, MarkDowns, CPI and Unemployment) cannot be used in the test dataset due to their high dependences on the date, so it will be a good idea to delete them. but before that, we will make sure that these features don't provide any information on the target 'Weekly_Sales'."
   ]
  },
  {
   "cell_type": "code",
   "execution_count": 4,
   "id": "35a1d25b",
   "metadata": {
    "execution": {
     "iopub.execute_input": "2021-11-15T13:43:19.484563Z",
     "iopub.status.busy": "2021-11-15T13:43:19.483937Z",
     "iopub.status.idle": "2021-11-15T13:43:19.492581Z",
     "shell.execute_reply": "2021-11-15T13:43:19.493176Z",
     "shell.execute_reply.started": "2021-11-15T13:05:19.919096Z"
    },
    "papermill": {
     "duration": 0.080201,
     "end_time": "2021-11-15T13:43:19.493370",
     "exception": false,
     "start_time": "2021-11-15T13:43:19.413169",
     "status": "completed"
    },
    "tags": []
   },
   "outputs": [
    {
     "data": {
      "text/plain": [
       "((8190, 12), (421570, 5), (45, 3), (115064, 4))"
      ]
     },
     "execution_count": 4,
     "metadata": {},
     "output_type": "execute_result"
    }
   ],
   "source": [
    "# Finding the number of rowns and columns in dataframe\n",
    "features.shape, train.shape, stores.shape, test.shape"
   ]
  },
  {
   "cell_type": "code",
   "execution_count": 5,
   "id": "eed7ac45",
   "metadata": {
    "execution": {
     "iopub.execute_input": "2021-11-15T13:43:19.636052Z",
     "iopub.status.busy": "2021-11-15T13:43:19.635448Z",
     "iopub.status.idle": "2021-11-15T13:43:19.646602Z",
     "shell.execute_reply": "2021-11-15T13:43:19.647249Z",
     "shell.execute_reply.started": "2021-11-15T13:05:19.930273Z"
    },
    "papermill": {
     "duration": 0.084267,
     "end_time": "2021-11-15T13:43:19.647510",
     "exception": false,
     "start_time": "2021-11-15T13:43:19.563243",
     "status": "completed"
    },
    "tags": []
   },
   "outputs": [
    {
     "name": "stdout",
     "output_type": "stream",
     "text": [
      "Store             int64\n",
      "Date             object\n",
      "Temperature     float64\n",
      "Fuel_Price      float64\n",
      "MarkDown1       float64\n",
      "MarkDown2       float64\n",
      "MarkDown3       float64\n",
      "MarkDown4       float64\n",
      "MarkDown5       float64\n",
      "CPI             float64\n",
      "Unemployment    float64\n",
      "IsHoliday          bool\n",
      "dtype: object\n",
      "------------------------------------------------------------\n",
      "\n",
      "Store             int64\n",
      "Dept              int64\n",
      "Date             object\n",
      "Weekly_Sales    float64\n",
      "IsHoliday          bool\n",
      "dtype: object\n",
      "------------------------------------------------------------\n",
      "\n",
      "Store     int64\n",
      "Type     object\n",
      "Size      int64\n",
      "dtype: object\n",
      "------------------------------------------------------------\n",
      "\n",
      "Store         int64\n",
      "Dept          int64\n",
      "Date         object\n",
      "IsHoliday      bool\n",
      "dtype: object\n"
     ]
    }
   ],
   "source": [
    "# Some basic information of differnt column's data type of dataframe\n",
    "print(features.dtypes)\n",
    "print(\"------------------------------------------------------------\\n\")\n",
    "print(train.dtypes)\n",
    "print(\"------------------------------------------------------------\\n\")\n",
    "print(stores.dtypes)\n",
    "print(\"------------------------------------------------------------\\n\")\n",
    "print(test.dtypes)"
   ]
  },
  {
   "cell_type": "markdown",
   "id": "8f177a47",
   "metadata": {
    "execution": {
     "iopub.execute_input": "2021-07-24T12:38:01.849993Z",
     "iopub.status.busy": "2021-07-24T12:38:01.849591Z",
     "iopub.status.idle": "2021-07-24T12:38:01.854407Z",
     "shell.execute_reply": "2021-07-24T12:38:01.853692Z",
     "shell.execute_reply.started": "2021-07-24T12:38:01.84991Z"
    },
    "papermill": {
     "duration": 0.068818,
     "end_time": "2021-11-15T13:43:19.790440",
     "exception": false,
     "start_time": "2021-11-15T13:43:19.721622",
     "status": "completed"
    },
    "tags": []
   },
   "source": [
    "# Prepare the Dataset for Training"
   ]
  },
  {
   "cell_type": "markdown",
   "id": "6b351775",
   "metadata": {
    "papermill": {
     "duration": 0.070158,
     "end_time": "2021-11-15T13:43:19.929737",
     "exception": false,
     "start_time": "2021-11-15T13:43:19.859579",
     "status": "completed"
    },
    "tags": []
   },
   "source": [
    "### 2.2 Data Cleaning\n",
    "Let's start by cleaning the data of both datasets. We will see if they have missing values, duplicates and see if eliminate them if thats the case.\n",
    "\n",
    "Very important to take into account that both datasets are going to merge. Therefore, they must have one key column that has the same values. Hence, We will also see if the values are consistent in both datasets."
   ]
  },
  {
   "cell_type": "code",
   "execution_count": 6,
   "id": "f848ec58",
   "metadata": {
    "execution": {
     "iopub.execute_input": "2021-11-15T13:43:20.073568Z",
     "iopub.status.busy": "2021-11-15T13:43:20.072893Z",
     "iopub.status.idle": "2021-11-15T13:43:20.091901Z",
     "shell.execute_reply": "2021-11-15T13:43:20.092417Z",
     "shell.execute_reply.started": "2021-11-15T13:05:19.949690Z"
    },
    "papermill": {
     "duration": 0.0924,
     "end_time": "2021-11-15T13:43:20.092611",
     "exception": false,
     "start_time": "2021-11-15T13:43:20.000211",
     "status": "completed"
    },
    "tags": []
   },
   "outputs": [],
   "source": [
    "feature_store = features.merge(stores, how='inner', on = \"Store\")"
   ]
  },
  {
   "cell_type": "code",
   "execution_count": 7,
   "id": "9ef64987",
   "metadata": {
    "execution": {
     "iopub.execute_input": "2021-11-15T13:43:20.234556Z",
     "iopub.status.busy": "2021-11-15T13:43:20.233936Z",
     "iopub.status.idle": "2021-11-15T13:43:20.403939Z",
     "shell.execute_reply": "2021-11-15T13:43:20.404438Z",
     "shell.execute_reply.started": "2021-11-15T13:05:19.974137Z"
    },
    "papermill": {
     "duration": 0.242026,
     "end_time": "2021-11-15T13:43:20.404626",
     "exception": false,
     "start_time": "2021-11-15T13:43:20.162600",
     "status": "completed"
    },
    "tags": []
   },
   "outputs": [],
   "source": [
    "train = train.merge(feature_store, how='inner', on=['Store','Date','IsHoliday'])"
   ]
  },
  {
   "cell_type": "code",
   "execution_count": 8,
   "id": "5d1c85a8",
   "metadata": {
    "execution": {
     "iopub.execute_input": "2021-11-15T13:43:20.546403Z",
     "iopub.status.busy": "2021-11-15T13:43:20.545732Z",
     "iopub.status.idle": "2021-11-15T13:43:20.591779Z",
     "shell.execute_reply": "2021-11-15T13:43:20.592336Z",
     "shell.execute_reply.started": "2021-11-15T13:05:20.132962Z"
    },
    "papermill": {
     "duration": 0.118456,
     "end_time": "2021-11-15T13:43:20.592514",
     "exception": false,
     "start_time": "2021-11-15T13:43:20.474058",
     "status": "completed"
    },
    "tags": []
   },
   "outputs": [],
   "source": [
    "test = test.merge(feature_store, how='inner', on=['Store','Date','IsHoliday'])"
   ]
  },
  {
   "cell_type": "code",
   "execution_count": 9,
   "id": "d0471f17",
   "metadata": {
    "execution": {
     "iopub.execute_input": "2021-11-15T13:43:20.738426Z",
     "iopub.status.busy": "2021-11-15T13:43:20.737772Z",
     "iopub.status.idle": "2021-11-15T13:43:21.796403Z",
     "shell.execute_reply": "2021-11-15T13:43:21.795828Z",
     "shell.execute_reply.started": "2021-11-15T13:05:20.174988Z"
    },
    "papermill": {
     "duration": 1.131798,
     "end_time": "2021-11-15T13:43:21.796555",
     "exception": false,
     "start_time": "2021-11-15T13:43:20.664757",
     "status": "completed"
    },
    "tags": []
   },
   "outputs": [],
   "source": [
    "# Another useful step is to facilate the acces to the 'Date' attribute by splitting it into its componenents (i.e. Year, Month and week,day).\n",
    "train = train.copy()\n",
    "test = test.copy()\n",
    "\n",
    "train['Date'] = pd.to_datetime(train['Date'])\n",
    "train['Year'] = pd.to_datetime(train['Date']).dt.year\n",
    "train['Month'] = pd.to_datetime(train['Date']).dt.month\n",
    "train['Week'] = pd.to_datetime(train['Date']).dt.week\n",
    "train['Day'] = pd.to_datetime(train['Date']).dt.day\n",
    "train.replace({'A': 1, 'B': 2,'C':3},inplace=True)\n",
    "\n",
    "test['Date'] = pd.to_datetime(test['Date'])\n",
    "test['Year'] = pd.to_datetime(test['Date']).dt.year\n",
    "test['Month'] = pd.to_datetime(test['Date']).dt.month\n",
    "test['Week'] = pd.to_datetime(test['Date']).dt.week\n",
    "test['Day'] = pd.to_datetime(test['Date']).dt.day\n",
    "test.replace({'A': 1, 'B': 2,'C':3},inplace=True)\n"
   ]
  },
  {
   "cell_type": "code",
   "execution_count": 10,
   "id": "43baece7",
   "metadata": {
    "execution": {
     "iopub.execute_input": "2021-11-15T13:43:21.948616Z",
     "iopub.status.busy": "2021-11-15T13:43:21.947925Z",
     "iopub.status.idle": "2021-11-15T13:43:21.963795Z",
     "shell.execute_reply": "2021-11-15T13:43:21.964799Z",
     "shell.execute_reply.started": "2021-11-15T13:05:21.091350Z"
    },
    "papermill": {
     "duration": 0.09819,
     "end_time": "2021-11-15T13:43:21.965023",
     "exception": false,
     "start_time": "2021-11-15T13:43:21.866833",
     "status": "completed"
    },
    "tags": []
   },
   "outputs": [
    {
     "name": "stdout",
     "output_type": "stream",
     "text": [
      "   Store  Dept       Date  Weekly_Sales  IsHoliday  Temperature  Fuel_Price  \\\n",
      "0      1     1 2010-02-05      24924.50      False        42.31       2.572   \n",
      "1      1     2 2010-02-05      50605.27      False        42.31       2.572   \n",
      "2      1     3 2010-02-05      13740.12      False        42.31       2.572   \n",
      "3      1     4 2010-02-05      39954.04      False        42.31       2.572   \n",
      "4      1     5 2010-02-05      32229.38      False        42.31       2.572   \n",
      "\n",
      "   MarkDown1  MarkDown2  MarkDown3  MarkDown4  MarkDown5         CPI  \\\n",
      "0        NaN        NaN        NaN        NaN        NaN  211.096358   \n",
      "1        NaN        NaN        NaN        NaN        NaN  211.096358   \n",
      "2        NaN        NaN        NaN        NaN        NaN  211.096358   \n",
      "3        NaN        NaN        NaN        NaN        NaN  211.096358   \n",
      "4        NaN        NaN        NaN        NaN        NaN  211.096358   \n",
      "\n",
      "   Unemployment  Type    Size  Year  Month  Week  Day  \n",
      "0         8.106     1  151315  2010      2     5    5  \n",
      "1         8.106     1  151315  2010      2     5    5  \n",
      "2         8.106     1  151315  2010      2     5    5  \n",
      "3         8.106     1  151315  2010      2     5    5  \n",
      "4         8.106     1  151315  2010      2     5    5  \n",
      "------------------------------------------------------------\n",
      "\n",
      "   Store  Dept       Date  IsHoliday  Temperature  Fuel_Price  MarkDown1  \\\n",
      "0      1     1 2012-11-02      False        55.32       3.386    6766.44   \n",
      "1      1     2 2012-11-02      False        55.32       3.386    6766.44   \n",
      "2      1     3 2012-11-02      False        55.32       3.386    6766.44   \n",
      "3      1     4 2012-11-02      False        55.32       3.386    6766.44   \n",
      "4      1     5 2012-11-02      False        55.32       3.386    6766.44   \n",
      "\n",
      "   MarkDown2  MarkDown3  MarkDown4  MarkDown5         CPI  Unemployment  Type  \\\n",
      "0     5147.7      50.82     3639.9    2737.42  223.462779         6.573     1   \n",
      "1     5147.7      50.82     3639.9    2737.42  223.462779         6.573     1   \n",
      "2     5147.7      50.82     3639.9    2737.42  223.462779         6.573     1   \n",
      "3     5147.7      50.82     3639.9    2737.42  223.462779         6.573     1   \n",
      "4     5147.7      50.82     3639.9    2737.42  223.462779         6.573     1   \n",
      "\n",
      "     Size  Year  Month  Week  Day  \n",
      "0  151315  2012     11    44    2  \n",
      "1  151315  2012     11    44    2  \n",
      "2  151315  2012     11    44    2  \n",
      "3  151315  2012     11    44    2  \n",
      "4  151315  2012     11    44    2  \n"
     ]
    }
   ],
   "source": [
    "print(train.head())\n",
    "print(\"------------------------------------------------------------\\n\")\n",
    "print(test.head())"
   ]
  },
  {
   "cell_type": "markdown",
   "id": "0e3cfb73",
   "metadata": {
    "papermill": {
     "duration": 0.072538,
     "end_time": "2021-11-15T13:43:22.108704",
     "exception": false,
     "start_time": "2021-11-15T13:43:22.036166",
     "status": "completed"
    },
    "tags": []
   },
   "source": [
    "##  Descriptive statistics & data visualizations:\n",
    "### Weekly_Sales\n",
    "The plot makes the right skewness clear, so most weeks have sales around the median.\n",
    "Also, we can see that the Weekly_Sales attribute has a large kurtosis which indicates the presence of extreme values, in other words, some weeks have high sales. It would be a good idea to know the origins of these extreme values."
   ]
  },
  {
   "cell_type": "code",
   "execution_count": 11,
   "id": "c729b700",
   "metadata": {
    "execution": {
     "iopub.execute_input": "2021-11-15T13:43:22.251686Z",
     "iopub.status.busy": "2021-11-15T13:43:22.251000Z",
     "iopub.status.idle": "2021-11-15T13:43:23.134275Z",
     "shell.execute_reply": "2021-11-15T13:43:23.134796Z",
     "shell.execute_reply.started": "2021-11-15T13:05:21.121297Z"
    },
    "papermill": {
     "duration": 0.95618,
     "end_time": "2021-11-15T13:43:23.134972",
     "exception": false,
     "start_time": "2021-11-15T13:43:22.178792",
     "status": "completed"
    },
    "tags": []
   },
   "outputs": [
    {
     "data": {
      "image/png": "[encoded data removed]",
      "text/plain": [
       "<Figure size 1440x504 with 1 Axes>"
      ]
     },
     "metadata": {
      "needs_background": "light"
     },
     "output_type": "display_data"
    }
   ],
   "source": [
    "weekly_sales = train.groupby(['Year','Week']).agg({'Weekly_Sales': ['mean', 'median']})\n",
    "weekly_sales2010 = train.loc[train['Year']==2010].groupby(['Week']).agg({'Weekly_Sales': ['mean', 'median']})\n",
    "weekly_sales2011 = train.loc[train['Year']==2011].groupby(['Week']).agg({'Weekly_Sales': ['mean', 'median']})\n",
    "weekly_sales2012 = train.loc[train['Year']==2012].groupby(['Week']).agg({'Weekly_Sales': ['mean', 'median']})\n",
    "plt.figure(figsize=(20, 7))\n",
    "sns.lineplot(weekly_sales2010['Weekly_Sales']['mean'].index, weekly_sales2010['Weekly_Sales']['mean'].values)\n",
    "sns.lineplot(weekly_sales2011['Weekly_Sales']['mean'].index, weekly_sales2011['Weekly_Sales']['mean'].values)\n",
    "sns.lineplot(weekly_sales2012['Weekly_Sales']['mean'].index, weekly_sales2012['Weekly_Sales']['mean'].values)\n",
    "\n",
    "plt.grid()\n",
    "plt.xticks(np.arange(1, 53, step=1))\n",
    "plt.legend(['2010', '2011', '2012'])\n",
    "plt.show()"
   ]
  },
  {
   "cell_type": "code",
   "execution_count": 12,
   "id": "d29d831a",
   "metadata": {
    "execution": {
     "iopub.execute_input": "2021-11-15T13:43:23.285064Z",
     "iopub.status.busy": "2021-11-15T13:43:23.284048Z",
     "iopub.status.idle": "2021-11-15T13:43:23.286896Z",
     "shell.execute_reply": "2021-11-15T13:43:23.286277Z",
     "shell.execute_reply.started": "2021-11-15T13:05:21.994452Z"
    },
    "papermill": {
     "duration": 0.07925,
     "end_time": "2021-11-15T13:43:23.287030",
     "exception": false,
     "start_time": "2021-11-15T13:43:23.207780",
     "status": "completed"
    },
    "tags": []
   },
   "outputs": [],
   "source": [
    "Y_train = train['Weekly_Sales']"
   ]
  },
  {
   "cell_type": "code",
   "execution_count": 13,
   "id": "8d497d69",
   "metadata": {
    "execution": {
     "iopub.execute_input": "2021-11-15T13:43:23.435928Z",
     "iopub.status.busy": "2021-11-15T13:43:23.434749Z",
     "iopub.status.idle": "2021-11-15T13:43:23.439701Z",
     "shell.execute_reply": "2021-11-15T13:43:23.440395Z",
     "shell.execute_reply.started": "2021-11-15T13:05:22.000357Z"
    },
    "papermill": {
     "duration": 0.081694,
     "end_time": "2021-11-15T13:43:23.440573",
     "exception": false,
     "start_time": "2021-11-15T13:43:23.358879",
     "status": "completed"
    },
    "tags": []
   },
   "outputs": [],
   "source": [
    "targets = Y_train.copy()"
   ]
  },
  {
   "cell_type": "code",
   "execution_count": 14,
   "id": "1380aa76",
   "metadata": {
    "execution": {
     "iopub.execute_input": "2021-11-15T13:43:23.590066Z",
     "iopub.status.busy": "2021-11-15T13:43:23.589063Z",
     "iopub.status.idle": "2021-11-15T13:43:23.617829Z",
     "shell.execute_reply": "2021-11-15T13:43:23.618453Z",
     "shell.execute_reply.started": "2021-11-15T13:05:22.014572Z"
    },
    "papermill": {
     "duration": 0.105281,
     "end_time": "2021-11-15T13:43:23.618644",
     "exception": false,
     "start_time": "2021-11-15T13:43:23.513363",
     "status": "completed"
    },
    "tags": []
   },
   "outputs": [],
   "source": [
    "train= train.drop(['Weekly_Sales'],axis=1)\n"
   ]
  },
  {
   "cell_type": "code",
   "execution_count": 15,
   "id": "07a1fb51",
   "metadata": {
    "execution": {
     "iopub.execute_input": "2021-11-15T13:43:23.773250Z",
     "iopub.status.busy": "2021-11-15T13:43:23.772322Z",
     "iopub.status.idle": "2021-11-15T13:43:23.799156Z",
     "shell.execute_reply": "2021-11-15T13:43:23.799708Z",
     "shell.execute_reply.started": "2021-11-15T13:05:22.058091Z"
    },
    "papermill": {
     "duration": 0.104093,
     "end_time": "2021-11-15T13:43:23.799881",
     "exception": false,
     "start_time": "2021-11-15T13:43:23.695788",
     "status": "completed"
    },
    "tags": []
   },
   "outputs": [],
   "source": [
    "# Let's also identify the numeric and categorical columns.\n",
    "numeric_cols = train.select_dtypes(include=np.number).columns.tolist()\n",
    "categorical_cols = train.select_dtypes('object').columns.tolist()"
   ]
  },
  {
   "cell_type": "code",
   "execution_count": 16,
   "id": "692251a4",
   "metadata": {
    "execution": {
     "iopub.execute_input": "2021-11-15T13:43:23.949789Z",
     "iopub.status.busy": "2021-11-15T13:43:23.948817Z",
     "iopub.status.idle": "2021-11-15T13:43:23.954426Z",
     "shell.execute_reply": "2021-11-15T13:43:23.954938Z",
     "shell.execute_reply.started": "2021-11-15T13:05:22.106545Z"
    },
    "papermill": {
     "duration": 0.083076,
     "end_time": "2021-11-15T13:43:23.955109",
     "exception": false,
     "start_time": "2021-11-15T13:43:23.872033",
     "status": "completed"
    },
    "tags": []
   },
   "outputs": [
    {
     "name": "stdout",
     "output_type": "stream",
     "text": [
      "['Store', 'Dept', 'Temperature', 'Fuel_Price', 'MarkDown1', 'MarkDown2', 'MarkDown3', 'MarkDown4', 'MarkDown5', 'CPI', 'Unemployment', 'Type', 'Size', 'Year', 'Month', 'Week', 'Day']\n",
      "------------------------------------------------------------\n",
      "\n",
      "[]\n"
     ]
    }
   ],
   "source": [
    "print(numeric_cols)\n",
    "print(\"------------------------------------------------------------\\n\")\n",
    "print(categorical_cols)"
   ]
  },
  {
   "cell_type": "code",
   "execution_count": 17,
   "id": "662624f7",
   "metadata": {
    "execution": {
     "iopub.execute_input": "2021-11-15T13:43:24.107335Z",
     "iopub.status.busy": "2021-11-15T13:43:24.106157Z",
     "iopub.status.idle": "2021-11-15T13:43:24.129023Z",
     "shell.execute_reply": "2021-11-15T13:43:24.129567Z",
     "shell.execute_reply.started": "2021-11-15T13:05:22.113665Z"
    },
    "papermill": {
     "duration": 0.100197,
     "end_time": "2021-11-15T13:43:24.129746",
     "exception": false,
     "start_time": "2021-11-15T13:43:24.029549",
     "status": "completed"
    },
    "tags": []
   },
   "outputs": [
    {
     "data": {
      "text/plain": [
       "Store                0\n",
       "Dept                 0\n",
       "Date                 0\n",
       "IsHoliday            0\n",
       "Temperature          0\n",
       "Fuel_Price           0\n",
       "MarkDown1       270889\n",
       "MarkDown2       310322\n",
       "MarkDown3       284479\n",
       "MarkDown4       286603\n",
       "MarkDown5       270138\n",
       "CPI                  0\n",
       "Unemployment         0\n",
       "Type                 0\n",
       "Size                 0\n",
       "Year                 0\n",
       "Month                0\n",
       "Week                 0\n",
       "Day                  0\n",
       "dtype: int64"
      ]
     },
     "execution_count": 17,
     "metadata": {},
     "output_type": "execute_result"
    }
   ],
   "source": [
    "# Check if there is any null value in train dataframe\n",
    "train.isnull().sum()"
   ]
  },
  {
   "cell_type": "code",
   "execution_count": 18,
   "id": "79cce36e",
   "metadata": {
    "execution": {
     "iopub.execute_input": "2021-11-15T13:43:24.279832Z",
     "iopub.status.busy": "2021-11-15T13:43:24.279105Z",
     "iopub.status.idle": "2021-11-15T13:43:24.290346Z",
     "shell.execute_reply": "2021-11-15T13:43:24.289777Z",
     "shell.execute_reply.started": "2021-11-15T13:05:22.145542Z"
    },
    "papermill": {
     "duration": 0.088028,
     "end_time": "2021-11-15T13:43:24.290496",
     "exception": false,
     "start_time": "2021-11-15T13:43:24.202468",
     "status": "completed"
    },
    "tags": []
   },
   "outputs": [
    {
     "data": {
      "text/plain": [
       "Store               0\n",
       "Dept                0\n",
       "Date                0\n",
       "IsHoliday           0\n",
       "Temperature         0\n",
       "Fuel_Price          0\n",
       "MarkDown1         149\n",
       "MarkDown2       28627\n",
       "MarkDown3        9829\n",
       "MarkDown4       12888\n",
       "MarkDown5           0\n",
       "CPI             38162\n",
       "Unemployment    38162\n",
       "Type                0\n",
       "Size                0\n",
       "Year                0\n",
       "Month               0\n",
       "Week                0\n",
       "Day                 0\n",
       "dtype: int64"
      ]
     },
     "execution_count": 18,
     "metadata": {},
     "output_type": "execute_result"
    }
   ],
   "source": [
    "# Check if there is any null value test in dataframe\n",
    "test.isnull().sum()"
   ]
  },
  {
   "cell_type": "markdown",
   "id": "e169460f",
   "metadata": {
    "papermill": {
     "duration": 0.072405,
     "end_time": "2021-11-15T13:43:24.436943",
     "exception": false,
     "start_time": "2021-11-15T13:43:24.364538",
     "status": "completed"
    },
    "tags": []
   },
   "source": [
    "# Impute Numerical Data"
   ]
  },
  {
   "cell_type": "code",
   "execution_count": 19,
   "id": "7baba32d",
   "metadata": {
    "execution": {
     "iopub.execute_input": "2021-11-15T13:43:24.588034Z",
     "iopub.status.busy": "2021-11-15T13:43:24.586996Z",
     "iopub.status.idle": "2021-11-15T13:43:24.589233Z",
     "shell.execute_reply": "2021-11-15T13:43:24.589727Z",
     "shell.execute_reply.started": "2021-11-15T13:05:22.166943Z"
    },
    "papermill": {
     "duration": 0.080191,
     "end_time": "2021-11-15T13:43:24.589906",
     "exception": false,
     "start_time": "2021-11-15T13:43:24.509715",
     "status": "completed"
    },
    "tags": []
   },
   "outputs": [],
   "source": [
    "# Create the imputer\n",
    "imputer = SimpleImputer(missing_values= np.NaN, strategy='mean')"
   ]
  },
  {
   "cell_type": "code",
   "execution_count": 20,
   "id": "ffd8728d",
   "metadata": {
    "execution": {
     "iopub.execute_input": "2021-11-15T13:43:24.740074Z",
     "iopub.status.busy": "2021-11-15T13:43:24.739113Z",
     "iopub.status.idle": "2021-11-15T13:43:24.870217Z",
     "shell.execute_reply": "2021-11-15T13:43:24.870767Z",
     "shell.execute_reply.started": "2021-11-15T13:05:22.172840Z"
    },
    "papermill": {
     "duration": 0.20734,
     "end_time": "2021-11-15T13:43:24.870943",
     "exception": false,
     "start_time": "2021-11-15T13:43:24.663603",
     "status": "completed"
    },
    "tags": []
   },
   "outputs": [
    {
     "data": {
      "text/plain": [
       "SimpleImputer()"
      ]
     },
     "execution_count": 20,
     "metadata": {},
     "output_type": "execute_result"
    }
   ],
   "source": [
    "# Fit the imputer to the numeric columns\n",
    "imputer.fit(train[numeric_cols])"
   ]
  },
  {
   "cell_type": "code",
   "execution_count": 21,
   "id": "4fd4a4df",
   "metadata": {
    "execution": {
     "iopub.execute_input": "2021-11-15T13:43:25.026548Z",
     "iopub.status.busy": "2021-11-15T13:43:25.025212Z",
     "iopub.status.idle": "2021-11-15T13:43:27.178755Z",
     "shell.execute_reply": "2021-11-15T13:43:27.179297Z",
     "shell.execute_reply.started": "2021-11-15T13:05:22.389720Z"
    },
    "papermill": {
     "duration": 2.233626,
     "end_time": "2021-11-15T13:43:27.179474",
     "exception": false,
     "start_time": "2021-11-15T13:43:24.945848",
     "status": "completed"
    },
    "tags": []
   },
   "outputs": [],
   "source": [
    "#Replace all the null values\n",
    "train[numeric_cols] =imputer.transform(train[numeric_cols])"
   ]
  },
  {
   "cell_type": "code",
   "execution_count": 22,
   "id": "f80806e6",
   "metadata": {
    "execution": {
     "iopub.execute_input": "2021-11-15T13:43:27.329142Z",
     "iopub.status.busy": "2021-11-15T13:43:27.328135Z",
     "iopub.status.idle": "2021-11-15T13:43:27.355121Z",
     "shell.execute_reply": "2021-11-15T13:43:27.354414Z",
     "shell.execute_reply.started": "2021-11-15T13:05:23.903331Z"
    },
    "papermill": {
     "duration": 0.102916,
     "end_time": "2021-11-15T13:43:27.355269",
     "exception": false,
     "start_time": "2021-11-15T13:43:27.252353",
     "status": "completed"
    },
    "tags": []
   },
   "outputs": [
    {
     "data": {
      "text/plain": [
       "Store           0\n",
       "Dept            0\n",
       "Date            0\n",
       "IsHoliday       0\n",
       "Temperature     0\n",
       "Fuel_Price      0\n",
       "MarkDown1       0\n",
       "MarkDown2       0\n",
       "MarkDown3       0\n",
       "MarkDown4       0\n",
       "MarkDown5       0\n",
       "CPI             0\n",
       "Unemployment    0\n",
       "Type            0\n",
       "Size            0\n",
       "Year            0\n",
       "Month           0\n",
       "Week            0\n",
       "Day             0\n",
       "dtype: int64"
      ]
     },
     "execution_count": 22,
     "metadata": {},
     "output_type": "execute_result"
    }
   ],
   "source": [
    "# Check if there is any null value\n",
    "train.isnull().sum()"
   ]
  },
  {
   "cell_type": "markdown",
   "id": "f6f9a33c",
   "metadata": {
    "papermill": {
     "duration": 0.074022,
     "end_time": "2021-11-15T13:43:27.504078",
     "exception": false,
     "start_time": "2021-11-15T13:43:27.430056",
     "status": "completed"
    },
    "tags": []
   },
   "source": [
    "# Evaluate Algorithms\n",
    "After analysing, cleaning and preparing the data, the next step is to select the best algorithm with the optimal parameters to obtain the best results.\n",
    "This step requiers manually selecting the type of data normalization, manually selecting algorithms and tune all hyperparameters. \n",
    "\n",
    "Many algorithms assume normal distribution of the data, especially when features have different ranges like our case, so it is necessary to implement this step in our pipeline.\n",
    "\n",
    "#### For data normalization, Lale will have the following choices :\n",
    "\n",
    "1. MinMaxscaler\n",
    "#### Algorithms used for spot-checking :\n",
    "\n",
    "1. LinearRegression\n",
    "2. RandomForestRegressor\n",
    "3. GradientBoostingRegressor"
   ]
  },
  {
   "cell_type": "code",
   "execution_count": 23,
   "id": "71a1f6ab",
   "metadata": {
    "execution": {
     "iopub.execute_input": "2021-11-15T13:43:27.656438Z",
     "iopub.status.busy": "2021-11-15T13:43:27.655745Z",
     "iopub.status.idle": "2021-11-15T13:43:27.658138Z",
     "shell.execute_reply": "2021-11-15T13:43:27.658653Z",
     "shell.execute_reply.started": "2021-11-15T13:05:23.936885Z"
    },
    "papermill": {
     "duration": 0.080895,
     "end_time": "2021-11-15T13:43:27.658825",
     "exception": false,
     "start_time": "2021-11-15T13:43:27.577930",
     "status": "completed"
    },
    "tags": []
   },
   "outputs": [],
   "source": [
    "# importing MinMaxScaler\n",
    "from sklearn.preprocessing import MinMaxScaler"
   ]
  },
  {
   "cell_type": "code",
   "execution_count": 24,
   "id": "e1603353",
   "metadata": {
    "execution": {
     "iopub.execute_input": "2021-11-15T13:43:27.810104Z",
     "iopub.status.busy": "2021-11-15T13:43:27.809466Z",
     "iopub.status.idle": "2021-11-15T13:43:27.813777Z",
     "shell.execute_reply": "2021-11-15T13:43:27.813293Z",
     "shell.execute_reply.started": "2021-11-15T13:05:23.944222Z"
    },
    "papermill": {
     "duration": 0.081281,
     "end_time": "2021-11-15T13:43:27.813916",
     "exception": false,
     "start_time": "2021-11-15T13:43:27.732635",
     "status": "completed"
    },
    "tags": []
   },
   "outputs": [],
   "source": [
    "# Create the scaler\n",
    "scaler = MinMaxScaler()"
   ]
  },
  {
   "cell_type": "code",
   "execution_count": 25,
   "id": "b462a55b",
   "metadata": {
    "execution": {
     "iopub.execute_input": "2021-11-15T13:43:27.972306Z",
     "iopub.status.busy": "2021-11-15T13:43:27.971628Z",
     "iopub.status.idle": "2021-11-15T13:43:28.056249Z",
     "shell.execute_reply": "2021-11-15T13:43:28.056780Z",
     "shell.execute_reply.started": "2021-11-15T13:05:23.953717Z"
    },
    "papermill": {
     "duration": 0.165958,
     "end_time": "2021-11-15T13:43:28.056968",
     "exception": false,
     "start_time": "2021-11-15T13:43:27.891010",
     "status": "completed"
    },
    "tags": []
   },
   "outputs": [
    {
     "data": {
      "text/plain": [
       "MinMaxScaler()"
      ]
     },
     "execution_count": 25,
     "metadata": {},
     "output_type": "execute_result"
    }
   ],
   "source": [
    "# Fit the scaler to the numeric columns\n",
    "scaler.fit(train[numeric_cols])"
   ]
  },
  {
   "cell_type": "code",
   "execution_count": 26,
   "id": "71a517e1",
   "metadata": {
    "execution": {
     "iopub.execute_input": "2021-11-15T13:43:28.209574Z",
     "iopub.status.busy": "2021-11-15T13:43:28.208969Z",
     "iopub.status.idle": "2021-11-15T13:43:30.289523Z",
     "shell.execute_reply": "2021-11-15T13:43:30.290009Z",
     "shell.execute_reply.started": "2021-11-15T13:05:24.086851Z"
    },
    "papermill": {
     "duration": 2.158248,
     "end_time": "2021-11-15T13:43:30.290206",
     "exception": false,
     "start_time": "2021-11-15T13:43:28.131958",
     "status": "completed"
    },
    "tags": []
   },
   "outputs": [],
   "source": [
    "# Transform and replace the numeric columns\n",
    "train[numeric_cols] = scaler.transform(train[numeric_cols])"
   ]
  },
  {
   "cell_type": "code",
   "execution_count": 27,
   "id": "c870479c",
   "metadata": {
    "execution": {
     "iopub.execute_input": "2021-11-15T13:43:30.442575Z",
     "iopub.status.busy": "2021-11-15T13:43:30.441595Z",
     "iopub.status.idle": "2021-11-15T13:43:30.690172Z",
     "shell.execute_reply": "2021-11-15T13:43:30.689640Z",
     "shell.execute_reply.started": "2021-11-15T13:05:25.385088Z"
    },
    "papermill": {
     "duration": 0.325817,
     "end_time": "2021-11-15T13:43:30.690329",
     "exception": false,
     "start_time": "2021-11-15T13:43:30.364512",
     "status": "completed"
    },
    "tags": []
   },
   "outputs": [
    {
     "data": {
      "text/html": [
       "<div>\n",
       "<style scoped>\n",
       "    .dataframe tbody tr th:only-of-type {\n",
       "        vertical-align: middle;\n",
       "    }\n",
       "\n",
       "    .dataframe tbody tr th {\n",
       "        vertical-align: top;\n",
       "    }\n",
       "\n",
       "    .dataframe thead th {\n",
       "        text-align: right;\n",
       "    }\n",
       "</style>\n",
       "<table border=\"1\" class=\"dataframe\">\n",
       "  <thead>\n",
       "    <tr style=\"text-align: right;\">\n",
       "      <th></th>\n",
       "      <th>Store</th>\n",
       "      <th>Dept</th>\n",
       "      <th>Temperature</th>\n",
       "      <th>Fuel_Price</th>\n",
       "      <th>MarkDown1</th>\n",
       "      <th>MarkDown2</th>\n",
       "      <th>MarkDown3</th>\n",
       "      <th>MarkDown4</th>\n",
       "      <th>MarkDown5</th>\n",
       "      <th>CPI</th>\n",
       "      <th>Unemployment</th>\n",
       "      <th>Type</th>\n",
       "      <th>Size</th>\n",
       "      <th>Year</th>\n",
       "      <th>Month</th>\n",
       "      <th>Week</th>\n",
       "      <th>Day</th>\n",
       "    </tr>\n",
       "  </thead>\n",
       "  <tbody>\n",
       "    <tr>\n",
       "      <th>min</th>\n",
       "      <td>0.0</td>\n",
       "      <td>0.0</td>\n",
       "      <td>0.0</td>\n",
       "      <td>0.0</td>\n",
       "      <td>0.0</td>\n",
       "      <td>0.0</td>\n",
       "      <td>0.0</td>\n",
       "      <td>0.0</td>\n",
       "      <td>0.0</td>\n",
       "      <td>0.0</td>\n",
       "      <td>0.0</td>\n",
       "      <td>0.0</td>\n",
       "      <td>0.0</td>\n",
       "      <td>0.0</td>\n",
       "      <td>0.0</td>\n",
       "      <td>0.0</td>\n",
       "      <td>0.0</td>\n",
       "    </tr>\n",
       "    <tr>\n",
       "      <th>max</th>\n",
       "      <td>1.0</td>\n",
       "      <td>1.0</td>\n",
       "      <td>1.0</td>\n",
       "      <td>1.0</td>\n",
       "      <td>1.0</td>\n",
       "      <td>1.0</td>\n",
       "      <td>1.0</td>\n",
       "      <td>1.0</td>\n",
       "      <td>1.0</td>\n",
       "      <td>1.0</td>\n",
       "      <td>1.0</td>\n",
       "      <td>1.0</td>\n",
       "      <td>1.0</td>\n",
       "      <td>1.0</td>\n",
       "      <td>1.0</td>\n",
       "      <td>1.0</td>\n",
       "      <td>1.0</td>\n",
       "    </tr>\n",
       "  </tbody>\n",
       "</table>\n",
       "</div>"
      ],
      "text/plain": [
       "     Store  Dept  Temperature  Fuel_Price  MarkDown1  MarkDown2  MarkDown3  \\\n",
       "min    0.0   0.0          0.0         0.0        0.0        0.0        0.0   \n",
       "max    1.0   1.0          1.0         1.0        1.0        1.0        1.0   \n",
       "\n",
       "     MarkDown4  MarkDown5  CPI  Unemployment  Type  Size  Year  Month  Week  \\\n",
       "min        0.0        0.0  0.0           0.0   0.0   0.0   0.0    0.0   0.0   \n",
       "max        1.0        1.0  1.0           1.0   1.0   1.0   1.0    1.0   1.0   \n",
       "\n",
       "     Day  \n",
       "min  0.0  \n",
       "max  1.0  "
      ]
     },
     "execution_count": 27,
     "metadata": {},
     "output_type": "execute_result"
    }
   ],
   "source": [
    "train[numeric_cols].describe().loc[['min', 'max']]"
   ]
  },
  {
   "cell_type": "code",
   "execution_count": 28,
   "id": "a1b02a77",
   "metadata": {
    "execution": {
     "iopub.execute_input": "2021-11-15T13:43:30.845091Z",
     "iopub.status.busy": "2021-11-15T13:43:30.844461Z",
     "iopub.status.idle": "2021-11-15T13:43:30.878106Z",
     "shell.execute_reply": "2021-11-15T13:43:30.877588Z",
     "shell.execute_reply.started": "2021-11-15T13:05:25.681659Z"
    },
    "papermill": {
     "duration": 0.112201,
     "end_time": "2021-11-15T13:43:30.878252",
     "exception": false,
     "start_time": "2021-11-15T13:43:30.766051",
     "status": "completed"
    },
    "tags": []
   },
   "outputs": [],
   "source": [
    "# 'Date' is irrelevant and Drop it from data.\n",
    "train= train.drop(['Date'],axis=1)\n",
    "test = test.drop(['Date'], axis=1)"
   ]
  },
  {
   "cell_type": "code",
   "execution_count": 29,
   "id": "7b73eed8",
   "metadata": {
    "execution": {
     "iopub.execute_input": "2021-11-15T13:43:31.032115Z",
     "iopub.status.busy": "2021-11-15T13:43:31.031421Z",
     "iopub.status.idle": "2021-11-15T13:43:31.048665Z",
     "shell.execute_reply": "2021-11-15T13:43:31.049203Z",
     "shell.execute_reply.started": "2021-11-15T13:05:25.729591Z"
    },
    "papermill": {
     "duration": 0.096252,
     "end_time": "2021-11-15T13:43:31.049409",
     "exception": false,
     "start_time": "2021-11-15T13:43:30.953157",
     "status": "completed"
    },
    "tags": []
   },
   "outputs": [],
   "source": [
    "# Preparing the dataset:\n",
    "X_train =train[['Store','Dept','IsHoliday','Size','Week','Type','Year']]\n",
    "X_test = test[['Store', 'Dept','IsHoliday', 'Size', 'Week', 'Type', 'Year']]"
   ]
  },
  {
   "cell_type": "code",
   "execution_count": 30,
   "id": "22e02a02",
   "metadata": {
    "execution": {
     "iopub.execute_input": "2021-11-15T13:43:31.202855Z",
     "iopub.status.busy": "2021-11-15T13:43:31.202132Z",
     "iopub.status.idle": "2021-11-15T13:43:31.208540Z",
     "shell.execute_reply": "2021-11-15T13:43:31.207982Z",
     "shell.execute_reply.started": "2021-11-15T13:05:25.758566Z"
    },
    "papermill": {
     "duration": 0.08406,
     "end_time": "2021-11-15T13:43:31.208686",
     "exception": false,
     "start_time": "2021-11-15T13:43:31.124626",
     "status": "completed"
    },
    "tags": []
   },
   "outputs": [
    {
     "name": "stdout",
     "output_type": "stream",
     "text": [
      "Index(['Store', 'Dept', 'IsHoliday', 'Size', 'Week', 'Type', 'Year'], dtype='object')\n",
      "Index(['Store', 'Dept', 'IsHoliday', 'Size', 'Week', 'Type', 'Year'], dtype='object')\n"
     ]
    }
   ],
   "source": [
    "print(X_train.columns)\n",
    "print(X_test.columns)"
   ]
  },
  {
   "cell_type": "markdown",
   "id": "13636f54",
   "metadata": {
    "papermill": {
     "duration": 0.075203,
     "end_time": "2021-11-15T13:43:31.359192",
     "exception": false,
     "start_time": "2021-11-15T13:43:31.283989",
     "status": "completed"
    },
    "tags": []
   },
   "source": [
    "# Training and Validation Set"
   ]
  },
  {
   "cell_type": "code",
   "execution_count": 31,
   "id": "ada93800",
   "metadata": {
    "execution": {
     "iopub.execute_input": "2021-11-15T13:43:31.516468Z",
     "iopub.status.busy": "2021-11-15T13:43:31.515533Z",
     "iopub.status.idle": "2021-11-15T13:43:31.589786Z",
     "shell.execute_reply": "2021-11-15T13:43:31.589161Z",
     "shell.execute_reply.started": "2021-11-15T13:05:25.766167Z"
    },
    "papermill": {
     "duration": 0.154851,
     "end_time": "2021-11-15T13:43:31.589930",
     "exception": false,
     "start_time": "2021-11-15T13:43:31.435079",
     "status": "completed"
    },
    "tags": []
   },
   "outputs": [],
   "source": [
    "# Splitting and training\n",
    "train_inputs, val_inputs, train_targets, val_targets = train_test_split(X_train, Y_train, test_size=0.25, random_state=42)"
   ]
  },
  {
   "cell_type": "markdown",
   "id": "d71188c1",
   "metadata": {
    "papermill": {
     "duration": 0.075662,
     "end_time": "2021-11-15T13:43:31.740497",
     "exception": false,
     "start_time": "2021-11-15T13:43:31.664835",
     "status": "completed"
    },
    "tags": []
   },
   "source": [
    "# Make Predictions and Evaluate Your Model"
   ]
  },
  {
   "cell_type": "markdown",
   "id": "a1440bd5",
   "metadata": {
    "papermill": {
     "duration": 0.074719,
     "end_time": "2021-11-15T13:43:31.891087",
     "exception": false,
     "start_time": "2021-11-15T13:43:31.816368",
     "status": "completed"
    },
    "tags": []
   },
   "source": [
    "## XGBRegressor"
   ]
  },
  {
   "cell_type": "code",
   "execution_count": 32,
   "id": "868441b7",
   "metadata": {
    "execution": {
     "iopub.execute_input": "2021-11-15T13:43:32.047622Z",
     "iopub.status.busy": "2021-11-15T13:43:32.046873Z",
     "iopub.status.idle": "2021-11-15T13:43:32.132550Z",
     "shell.execute_reply": "2021-11-15T13:43:32.131912Z",
     "shell.execute_reply.started": "2021-11-15T13:05:25.866720Z"
    },
    "papermill": {
     "duration": 0.165227,
     "end_time": "2021-11-15T13:43:32.132694",
     "exception": false,
     "start_time": "2021-11-15T13:43:31.967467",
     "status": "completed"
    },
    "tags": []
   },
   "outputs": [],
   "source": [
    "# importing XGBRegressor\n",
    "from xgboost import XGBRegressor"
   ]
  },
  {
   "cell_type": "code",
   "execution_count": 33,
   "id": "0a58905b",
   "metadata": {
    "execution": {
     "iopub.execute_input": "2021-11-15T13:43:32.288508Z",
     "iopub.status.busy": "2021-11-15T13:43:32.287873Z",
     "iopub.status.idle": "2021-11-15T13:43:32.291882Z",
     "shell.execute_reply": "2021-11-15T13:43:32.292388Z",
     "shell.execute_reply.started": "2021-11-15T13:05:25.952637Z"
    },
    "papermill": {
     "duration": 0.083906,
     "end_time": "2021-11-15T13:43:32.292573",
     "exception": false,
     "start_time": "2021-11-15T13:43:32.208667",
     "status": "completed"
    },
    "tags": []
   },
   "outputs": [],
   "source": [
    "# fitting the model\n",
    "model = XGBRegressor(random_state=42, n_jobs=-1, n_estimators=20, max_depth=4)"
   ]
  },
  {
   "cell_type": "code",
   "execution_count": 34,
   "id": "649d0c2f",
   "metadata": {
    "execution": {
     "iopub.execute_input": "2021-11-15T13:43:32.445524Z",
     "iopub.status.busy": "2021-11-15T13:43:32.444857Z",
     "iopub.status.idle": "2021-11-15T13:43:34.103114Z",
     "shell.execute_reply": "2021-11-15T13:43:34.103683Z",
     "shell.execute_reply.started": "2021-11-15T13:05:25.958791Z"
    },
    "papermill": {
     "duration": 1.736425,
     "end_time": "2021-11-15T13:43:34.103884",
     "exception": false,
     "start_time": "2021-11-15T13:43:32.367459",
     "status": "completed"
    },
    "tags": []
   },
   "outputs": [
    {
     "data": {
      "text/plain": [
       "XGBRegressor(base_score=0.5, booster='gbtree', colsample_bylevel=1,\n",
       "             colsample_bynode=1, colsample_bytree=1, gamma=0, gpu_id=-1,\n",
       "             importance_type='gain', interaction_constraints='',\n",
       "             learning_rate=0.300000012, max_delta_step=0, max_depth=4,\n",
       "             min_child_weight=1, missing=nan, monotone_constraints='()',\n",
       "             n_estimators=20, n_jobs=-1, num_parallel_tree=1, random_state=42,\n",
       "             reg_alpha=0, reg_lambda=1, scale_pos_weight=1, subsample=1,\n",
       "             tree_method='exact', validate_parameters=1, verbosity=None)"
      ]
     },
     "execution_count": 34,
     "metadata": {},
     "output_type": "execute_result"
    }
   ],
   "source": [
    "model.fit(train_inputs,train_targets)"
   ]
  },
  {
   "cell_type": "markdown",
   "id": "0c9ab7c0",
   "metadata": {
    "papermill": {
     "duration": 0.075102,
     "end_time": "2021-11-15T13:43:34.255891",
     "exception": false,
     "start_time": "2021-11-15T13:43:34.180789",
     "status": "completed"
    },
    "tags": []
   },
   "source": [
    "## Feature Importance\n",
    "Based on the gini index computations, a decision tree assigns an \"importance\" value to each feature. These values can be used to interpret the results given by a decision tree.\n"
   ]
  },
  {
   "cell_type": "code",
   "execution_count": 35,
   "id": "35e8f668",
   "metadata": {
    "execution": {
     "iopub.execute_input": "2021-11-15T13:43:34.414217Z",
     "iopub.status.busy": "2021-11-15T13:43:34.413220Z",
     "iopub.status.idle": "2021-11-15T13:43:34.426525Z",
     "shell.execute_reply": "2021-11-15T13:43:34.427073Z",
     "shell.execute_reply.started": "2021-11-15T13:05:27.657379Z"
    },
    "papermill": {
     "duration": 0.095803,
     "end_time": "2021-11-15T13:43:34.427260",
     "exception": false,
     "start_time": "2021-11-15T13:43:34.331457",
     "status": "completed"
    },
    "tags": []
   },
   "outputs": [],
   "source": [
    "#Let's turn this into a dataframe and visualize the most important features.\n",
    "importance_df = pd.DataFrame({\n",
    "    'feature': X_test.columns,\n",
    "    'importance':model.feature_importances_\n",
    "}).sort_values('importance', ascending=False)"
   ]
  },
  {
   "cell_type": "code",
   "execution_count": 36,
   "id": "31e19ead",
   "metadata": {
    "execution": {
     "iopub.execute_input": "2021-11-15T13:43:34.584235Z",
     "iopub.status.busy": "2021-11-15T13:43:34.581657Z",
     "iopub.status.idle": "2021-11-15T13:43:34.782932Z",
     "shell.execute_reply": "2021-11-15T13:43:34.783412Z",
     "shell.execute_reply.started": "2021-11-15T13:05:27.673847Z"
    },
    "papermill": {
     "duration": 0.280536,
     "end_time": "2021-11-15T13:43:34.783593",
     "exception": false,
     "start_time": "2021-11-15T13:43:34.503057",
     "status": "completed"
    },
    "tags": []
   },
   "outputs": [
    {
     "data": {
      "image/png": "[encoded data removed]",
      "text/plain": [
       "<Figure size 720x432 with 1 Axes>"
      ]
     },
     "metadata": {
      "needs_background": "light"
     },
     "output_type": "display_data"
    }
   ],
   "source": [
    "import seaborn as sns\n",
    "plt.figure(figsize=(10,6))\n",
    "plt.title('Feature Importance')\n",
    "sns.barplot(data=importance_df.head(10), x='importance', y='feature');"
   ]
  },
  {
   "cell_type": "code",
   "execution_count": 37,
   "id": "c340e6a5",
   "metadata": {
    "execution": {
     "iopub.execute_input": "2021-11-15T13:43:34.940029Z",
     "iopub.status.busy": "2021-11-15T13:43:34.939399Z",
     "iopub.status.idle": "2021-11-15T13:43:35.273881Z",
     "shell.execute_reply": "2021-11-15T13:43:35.274440Z",
     "shell.execute_reply.started": "2021-11-15T13:05:27.865901Z"
    },
    "papermill": {
     "duration": 0.414573,
     "end_time": "2021-11-15T13:43:35.274635",
     "exception": false,
     "start_time": "2021-11-15T13:43:34.860062",
     "status": "completed"
    },
    "scrolled": true,
    "tags": []
   },
   "outputs": [
    {
     "data": {
      "text/plain": [
       "array([ 3101.5615,  6328.4175,  3373.5718, ..., 55422.164 , 15274.511 ,\n",
       "       21858.455 ], dtype=float32)"
      ]
     },
     "execution_count": 37,
     "metadata": {},
     "output_type": "execute_result"
    }
   ],
   "source": [
    "# Make and evaluate predictions:\n",
    "x_pred = model.predict(train_inputs)\n",
    "x_pred"
   ]
  },
  {
   "cell_type": "markdown",
   "id": "8d24a674",
   "metadata": {
    "papermill": {
     "duration": 0.076856,
     "end_time": "2021-11-15T13:43:35.430900",
     "exception": false,
     "start_time": "2021-11-15T13:43:35.354044",
     "status": "completed"
    },
    "tags": []
   },
   "source": [
    "### Evaluation"
   ]
  },
  {
   "cell_type": "code",
   "execution_count": 38,
   "id": "3b385b6d",
   "metadata": {
    "execution": {
     "iopub.execute_input": "2021-11-15T13:43:35.592006Z",
     "iopub.status.busy": "2021-11-15T13:43:35.591357Z",
     "iopub.status.idle": "2021-11-15T13:43:35.593144Z",
     "shell.execute_reply": "2021-11-15T13:43:35.593698Z",
     "shell.execute_reply.started": "2021-11-15T13:05:28.085123Z"
    },
    "papermill": {
     "duration": 0.083456,
     "end_time": "2021-11-15T13:43:35.593863",
     "exception": false,
     "start_time": "2021-11-15T13:43:35.510407",
     "status": "completed"
    },
    "tags": []
   },
   "outputs": [],
   "source": [
    "# calculating mean_squared_error\n",
    "def rmse(a, b):\n",
    "    return mean_squared_error(a, b, squared=False)"
   ]
  },
  {
   "cell_type": "code",
   "execution_count": 39,
   "id": "281400c1",
   "metadata": {
    "execution": {
     "iopub.execute_input": "2021-11-15T13:43:35.750780Z",
     "iopub.status.busy": "2021-11-15T13:43:35.750124Z",
     "iopub.status.idle": "2021-11-15T13:43:35.757980Z",
     "shell.execute_reply": "2021-11-15T13:43:35.758518Z",
     "shell.execute_reply.started": "2021-11-15T13:05:28.092124Z"
    },
    "papermill": {
     "duration": 0.087643,
     "end_time": "2021-11-15T13:43:35.758726",
     "exception": false,
     "start_time": "2021-11-15T13:43:35.671083",
     "status": "completed"
    },
    "tags": []
   },
   "outputs": [
    {
     "data": {
      "text/plain": [
       "10943.379573724877"
      ]
     },
     "execution_count": 39,
     "metadata": {},
     "output_type": "execute_result"
    }
   ],
   "source": [
    "rmse(x_pred,train_targets)"
   ]
  },
  {
   "cell_type": "markdown",
   "id": "d66a4da6",
   "metadata": {
    "papermill": {
     "duration": 0.078062,
     "end_time": "2021-11-15T13:43:35.914671",
     "exception": false,
     "start_time": "2021-11-15T13:43:35.836609",
     "status": "completed"
    },
    "tags": []
   },
   "source": [
    "## Making Predictions"
   ]
  },
  {
   "cell_type": "code",
   "execution_count": 40,
   "id": "214125ec",
   "metadata": {
    "execution": {
     "iopub.execute_input": "2021-11-15T13:43:36.072627Z",
     "iopub.status.busy": "2021-11-15T13:43:36.072003Z",
     "iopub.status.idle": "2021-11-15T13:43:36.188081Z",
     "shell.execute_reply": "2021-11-15T13:43:36.188704Z",
     "shell.execute_reply.started": "2021-11-15T13:05:28.109205Z"
    },
    "papermill": {
     "duration": 0.196346,
     "end_time": "2021-11-15T13:43:36.188935",
     "exception": false,
     "start_time": "2021-11-15T13:43:35.992589",
     "status": "completed"
    },
    "tags": []
   },
   "outputs": [
    {
     "data": {
      "text/plain": [
       "array([1990.9271, 1990.9271, 1990.9271, ..., 1990.9271, 1990.9271,\n",
       "       1990.9271], dtype=float32)"
      ]
     },
     "execution_count": 40,
     "metadata": {},
     "output_type": "execute_result"
    }
   ],
   "source": [
    "x_preds=model.predict(X_test)\n",
    "x_preds"
   ]
  },
  {
   "cell_type": "code",
   "execution_count": 41,
   "id": "11a00665",
   "metadata": {
    "execution": {
     "iopub.execute_input": "2021-11-15T13:43:36.351868Z",
     "iopub.status.busy": "2021-11-15T13:43:36.351205Z",
     "iopub.status.idle": "2021-11-15T13:43:36.353462Z",
     "shell.execute_reply": "2021-11-15T13:43:36.354064Z",
     "shell.execute_reply.started": "2021-11-15T13:05:28.187763Z"
    },
    "papermill": {
     "duration": 0.086493,
     "end_time": "2021-11-15T13:43:36.354234",
     "exception": false,
     "start_time": "2021-11-15T13:43:36.267741",
     "status": "completed"
    },
    "tags": []
   },
   "outputs": [],
   "source": [
    "Final = X_test[['Store', 'Dept', 'Week']]\n",
    "test['Weekly_Sales']= x_preds"
   ]
  },
  {
   "cell_type": "code",
   "execution_count": 42,
   "id": "a952bf37",
   "metadata": {
    "execution": {
     "iopub.execute_input": "2021-11-15T13:43:36.511093Z",
     "iopub.status.busy": "2021-11-15T13:43:36.510490Z",
     "iopub.status.idle": "2021-11-15T13:43:36.904206Z",
     "shell.execute_reply": "2021-11-15T13:43:36.903522Z",
     "shell.execute_reply.started": "2021-11-15T13:05:28.197390Z"
    },
    "papermill": {
     "duration": 0.473364,
     "end_time": "2021-11-15T13:43:36.904407",
     "exception": false,
     "start_time": "2021-11-15T13:43:36.431043",
     "status": "completed"
    },
    "tags": []
   },
   "outputs": [],
   "source": [
    "sample_submission['Weekly_Sales'] = test['Weekly_Sales']\n",
    "sample_submission.to_csv('submission_2.csv',index=False)"
   ]
  },
  {
   "cell_type": "code",
   "execution_count": 43,
   "id": "c2e8af9c",
   "metadata": {
    "execution": {
     "iopub.execute_input": "2021-11-15T13:43:37.065554Z",
     "iopub.status.busy": "2021-11-15T13:43:37.064601Z",
     "iopub.status.idle": "2021-11-15T13:43:37.161441Z",
     "shell.execute_reply": "2021-11-15T13:43:37.160880Z",
     "shell.execute_reply.started": "2021-11-15T13:05:28.447516Z"
    },
    "papermill": {
     "duration": 0.179245,
     "end_time": "2021-11-15T13:43:37.161601",
     "exception": false,
     "start_time": "2021-11-15T13:43:36.982356",
     "status": "completed"
    },
    "tags": []
   },
   "outputs": [
    {
     "data": {
      "text/html": [
       "<div>\n",
       "<style scoped>\n",
       "    .dataframe tbody tr th:only-of-type {\n",
       "        vertical-align: middle;\n",
       "    }\n",
       "\n",
       "    .dataframe tbody tr th {\n",
       "        vertical-align: top;\n",
       "    }\n",
       "\n",
       "    .dataframe thead th {\n",
       "        text-align: right;\n",
       "    }\n",
       "</style>\n",
       "<table border=\"1\" class=\"dataframe\">\n",
       "  <thead>\n",
       "    <tr style=\"text-align: right;\">\n",
       "      <th></th>\n",
       "      <th>Id</th>\n",
       "      <th>Weekly_Sales</th>\n",
       "    </tr>\n",
       "  </thead>\n",
       "  <tbody>\n",
       "    <tr>\n",
       "      <th>0</th>\n",
       "      <td>1_1_2012-11-02</td>\n",
       "      <td>1990.9271</td>\n",
       "    </tr>\n",
       "    <tr>\n",
       "      <th>1</th>\n",
       "      <td>1_1_2012-11-09</td>\n",
       "      <td>1990.9271</td>\n",
       "    </tr>\n",
       "    <tr>\n",
       "      <th>2</th>\n",
       "      <td>1_1_2012-11-16</td>\n",
       "      <td>1990.9271</td>\n",
       "    </tr>\n",
       "    <tr>\n",
       "      <th>3</th>\n",
       "      <td>1_1_2012-11-23</td>\n",
       "      <td>1990.9271</td>\n",
       "    </tr>\n",
       "    <tr>\n",
       "      <th>4</th>\n",
       "      <td>1_1_2012-11-30</td>\n",
       "      <td>1990.9271</td>\n",
       "    </tr>\n",
       "    <tr>\n",
       "      <th>...</th>\n",
       "      <td>...</td>\n",
       "      <td>...</td>\n",
       "    </tr>\n",
       "    <tr>\n",
       "      <th>115059</th>\n",
       "      <td>45_98_2013-06-28</td>\n",
       "      <td>1990.9271</td>\n",
       "    </tr>\n",
       "    <tr>\n",
       "      <th>115060</th>\n",
       "      <td>45_98_2013-07-05</td>\n",
       "      <td>1990.9271</td>\n",
       "    </tr>\n",
       "    <tr>\n",
       "      <th>115061</th>\n",
       "      <td>45_98_2013-07-12</td>\n",
       "      <td>1990.9271</td>\n",
       "    </tr>\n",
       "    <tr>\n",
       "      <th>115062</th>\n",
       "      <td>45_98_2013-07-19</td>\n",
       "      <td>1990.9271</td>\n",
       "    </tr>\n",
       "    <tr>\n",
       "      <th>115063</th>\n",
       "      <td>45_98_2013-07-26</td>\n",
       "      <td>1990.9271</td>\n",
       "    </tr>\n",
       "  </tbody>\n",
       "</table>\n",
       "<p>115064 rows × 2 columns</p>\n",
       "</div>"
      ],
      "text/plain": [
       "                      Id  Weekly_Sales\n",
       "0         1_1_2012-11-02     1990.9271\n",
       "1         1_1_2012-11-09     1990.9271\n",
       "2         1_1_2012-11-16     1990.9271\n",
       "3         1_1_2012-11-23     1990.9271\n",
       "4         1_1_2012-11-30     1990.9271\n",
       "...                  ...           ...\n",
       "115059  45_98_2013-06-28     1990.9271\n",
       "115060  45_98_2013-07-05     1990.9271\n",
       "115061  45_98_2013-07-12     1990.9271\n",
       "115062  45_98_2013-07-19     1990.9271\n",
       "115063  45_98_2013-07-26     1990.9271\n",
       "\n",
       "[115064 rows x 2 columns]"
      ]
     },
     "execution_count": 43,
     "metadata": {},
     "output_type": "execute_result"
    }
   ],
   "source": [
    "preds1=pd.read_csv('submission_2.csv')\n",
    "preds1"
   ]
  },
  {
   "cell_type": "code",
   "execution_count": 44,
   "id": "11bd1e1a",
   "metadata": {
    "execution": {
     "iopub.execute_input": "2021-11-15T13:43:37.327228Z",
     "iopub.status.busy": "2021-11-15T13:43:37.326582Z",
     "iopub.status.idle": "2021-11-15T13:43:37.561296Z",
     "shell.execute_reply": "2021-11-15T13:43:37.560715Z",
     "shell.execute_reply.started": "2021-11-15T13:05:28.556091Z"
    },
    "papermill": {
     "duration": 0.321604,
     "end_time": "2021-11-15T13:43:37.561446",
     "exception": false,
     "start_time": "2021-11-15T13:43:37.239842",
     "status": "completed"
    },
    "tags": []
   },
   "outputs": [
    {
     "data": {
      "image/png": "[encoded data removed]",
      "text/plain": [
       "<Figure size 720x432 with 1 Axes>"
      ]
     },
     "metadata": {
      "needs_background": "light"
     },
     "output_type": "display_data"
    }
   ],
   "source": [
    "#ploting prediction\n",
    "plt.figure(figsize=(10,6))\n",
    "sns.barplot(data=preds1.head(10), x='Id', y='Weekly_Sales');"
   ]
  },
  {
   "cell_type": "markdown",
   "id": "0d08a923",
   "metadata": {
    "papermill": {
     "duration": 0.078078,
     "end_time": "2021-11-15T13:43:37.717923",
     "exception": false,
     "start_time": "2021-11-15T13:43:37.639845",
     "status": "completed"
    },
    "tags": []
   },
   "source": [
    "## RandomForestRegressor"
   ]
  },
  {
   "cell_type": "markdown",
   "id": "e6a20520",
   "metadata": {
    "papermill": {
     "duration": 0.078991,
     "end_time": "2021-11-15T13:43:37.875473",
     "exception": false,
     "start_time": "2021-11-15T13:43:37.796482",
     "status": "completed"
    },
    "tags": []
   },
   "source": [
    "## Hyperparameter Tuning\n",
    "For hyperparameter tuning, Lale give us the choice to use its search space or schemas as is, or we can customize the schemas to fit our purposes"
   ]
  },
  {
   "cell_type": "code",
   "execution_count": 45,
   "id": "e33eee75",
   "metadata": {
    "execution": {
     "iopub.execute_input": "2021-11-15T13:43:38.039539Z",
     "iopub.status.busy": "2021-11-15T13:43:38.038813Z",
     "iopub.status.idle": "2021-11-15T13:43:38.043984Z",
     "shell.execute_reply": "2021-11-15T13:43:38.044524Z",
     "shell.execute_reply.started": "2021-11-15T13:05:28.793210Z"
    },
    "papermill": {
     "duration": 0.090561,
     "end_time": "2021-11-15T13:43:38.044705",
     "exception": false,
     "start_time": "2021-11-15T13:43:37.954144",
     "status": "completed"
    },
    "tags": []
   },
   "outputs": [],
   "source": [
    "def test_params(**params):\n",
    "    model = RandomForestRegressor(random_state=42, n_jobs=-1, **params).fit(train_inputs, train_targets)\n",
    "    train_rmse = mean_squared_error(model.predict(train_inputs), train_targets, squared=False)\n",
    "    val_rmse = mean_squared_error(model.predict(val_inputs), val_targets, squared=False)\n",
    "    return train_rmse, val_rmse"
   ]
  },
  {
   "cell_type": "code",
   "execution_count": 46,
   "id": "b1ec8065",
   "metadata": {
    "execution": {
     "iopub.execute_input": "2021-11-15T13:43:38.206698Z",
     "iopub.status.busy": "2021-11-15T13:43:38.206067Z",
     "iopub.status.idle": "2021-11-15T13:43:47.047138Z",
     "shell.execute_reply": "2021-11-15T13:43:47.046482Z",
     "shell.execute_reply.started": "2021-11-15T13:05:28.802172Z"
    },
    "papermill": {
     "duration": 8.922269,
     "end_time": "2021-11-15T13:43:47.047296",
     "exception": false,
     "start_time": "2021-11-15T13:43:38.125027",
     "status": "completed"
    },
    "tags": []
   },
   "outputs": [
    {
     "data": {
      "text/plain": [
       "(1798.05628235229, 3432.018174894536)"
      ]
     },
     "execution_count": 46,
     "metadata": {},
     "output_type": "execute_result"
    }
   ],
   "source": [
    "test_params(n_estimators=20, max_depth=20)"
   ]
  },
  {
   "cell_type": "code",
   "execution_count": 47,
   "id": "63eab7f5",
   "metadata": {
    "execution": {
     "iopub.execute_input": "2021-11-15T13:43:47.214302Z",
     "iopub.status.busy": "2021-11-15T13:43:47.213384Z",
     "iopub.status.idle": "2021-11-15T13:43:53.058804Z",
     "shell.execute_reply": "2021-11-15T13:43:53.059247Z",
     "shell.execute_reply.started": "2021-11-15T13:05:38.487570Z"
    },
    "papermill": {
     "duration": 5.931476,
     "end_time": "2021-11-15T13:43:53.059445",
     "exception": false,
     "start_time": "2021-11-15T13:43:47.127969",
     "status": "completed"
    },
    "tags": []
   },
   "outputs": [
    {
     "data": {
      "text/plain": [
       "(13806.977338643439, 14212.377040662092)"
      ]
     },
     "execution_count": 47,
     "metadata": {},
     "output_type": "execute_result"
    }
   ],
   "source": [
    "test_params(n_estimators=50, max_depth=10,min_samples_split=3, min_samples_leaf=4, max_features=0.4)"
   ]
  },
  {
   "cell_type": "markdown",
   "id": "918ab165",
   "metadata": {
    "papermill": {
     "duration": 0.078921,
     "end_time": "2021-11-15T13:43:53.217453",
     "exception": false,
     "start_time": "2021-11-15T13:43:53.138532",
     "status": "completed"
    },
    "tags": []
   },
   "source": [
    "#### To plot the graph between training error and validation error."
   ]
  },
  {
   "cell_type": "code",
   "execution_count": 48,
   "id": "b9ca5b77",
   "metadata": {
    "execution": {
     "iopub.execute_input": "2021-11-15T13:43:53.378993Z",
     "iopub.status.busy": "2021-11-15T13:43:53.378036Z",
     "iopub.status.idle": "2021-11-15T13:43:53.385089Z",
     "shell.execute_reply": "2021-11-15T13:43:53.385665Z",
     "shell.execute_reply.started": "2021-11-15T13:05:44.651330Z"
    },
    "papermill": {
     "duration": 0.089576,
     "end_time": "2021-11-15T13:43:53.385837",
     "exception": false,
     "start_time": "2021-11-15T13:43:53.296261",
     "status": "completed"
    },
    "tags": []
   },
   "outputs": [],
   "source": [
    "def test_param_and_plot(param_name, param_values):\n",
    "    train_errors, val_errors = [], [] \n",
    "    for value in param_values:\n",
    "        params = {param_name: value}\n",
    "        train_rmse, val_rmse = test_params(**params)\n",
    "        train_errors.append(train_rmse)\n",
    "        val_errors.append(val_rmse)\n",
    "    plt.figure(figsize=(10,6))\n",
    "    plt.title('Overfitting curve: ' + param_name)\n",
    "    plt.plot(param_values, train_errors, 'b-o')\n",
    "    plt.plot(param_values, val_errors, 'r-o')\n",
    "    plt.xlabel(param_name)\n",
    "    plt.ylabel('RMSE')\n",
    "    plt.legend(['Training', 'Validation'])"
   ]
  },
  {
   "cell_type": "code",
   "execution_count": 49,
   "id": "fe7bd1fd",
   "metadata": {
    "execution": {
     "iopub.execute_input": "2021-11-15T13:43:53.547896Z",
     "iopub.status.busy": "2021-11-15T13:43:53.546934Z",
     "iopub.status.idle": "2021-11-15T13:48:07.351398Z",
     "shell.execute_reply": "2021-11-15T13:48:07.351938Z",
     "shell.execute_reply.started": "2021-11-15T13:05:44.658410Z"
    },
    "papermill": {
     "duration": 253.886994,
     "end_time": "2021-11-15T13:48:07.352114",
     "exception": false,
     "start_time": "2021-11-15T13:43:53.465120",
     "status": "completed"
    },
    "tags": []
   },
   "outputs": [
    {
     "data": {
      "image/png": "[encoded data removed]",
      "text/plain": [
       "<Figure size 720x432 with 1 Axes>"
      ]
     },
     "metadata": {
      "needs_background": "light"
     },
     "output_type": "display_data"
    }
   ],
   "source": [
    "test_param_and_plot('max_depth', [5, 10, 15, 20, 25, 30, 35])"
   ]
  },
  {
   "cell_type": "code",
   "execution_count": 50,
   "id": "fa5d7d82",
   "metadata": {
    "execution": {
     "iopub.execute_input": "2021-11-15T13:48:07.515484Z",
     "iopub.status.busy": "2021-11-15T13:48:07.514860Z",
     "iopub.status.idle": "2021-11-15T13:49:23.547225Z",
     "shell.execute_reply": "2021-11-15T13:49:23.547772Z",
     "shell.execute_reply.started": "2021-11-15T13:10:42.661687Z"
    },
    "papermill": {
     "duration": 76.11563,
     "end_time": "2021-11-15T13:49:23.547947",
     "exception": false,
     "start_time": "2021-11-15T13:48:07.432317",
     "status": "completed"
    },
    "tags": []
   },
   "outputs": [
    {
     "data": {
      "image/png": "[encoded data removed]",
      "text/plain": [
       "<Figure size 720x432 with 1 Axes>"
      ]
     },
     "metadata": {
      "needs_background": "light"
     },
     "output_type": "display_data"
    }
   ],
   "source": [
    "test_param_and_plot('n_estimators', [5, 10, 15, 20, 25, 30, 35])"
   ]
  },
  {
   "cell_type": "markdown",
   "id": "927b4850",
   "metadata": {
    "papermill": {
     "duration": 0.081836,
     "end_time": "2021-11-15T13:49:23.711232",
     "exception": false,
     "start_time": "2021-11-15T13:49:23.629396",
     "status": "completed"
    },
    "tags": []
   },
   "source": [
    "# Training the Best Model"
   ]
  },
  {
   "cell_type": "code",
   "execution_count": 51,
   "id": "ca14763d",
   "metadata": {
    "execution": {
     "iopub.execute_input": "2021-11-15T13:49:23.881530Z",
     "iopub.status.busy": "2021-11-15T13:49:23.880549Z",
     "iopub.status.idle": "2021-11-15T13:50:10.586115Z",
     "shell.execute_reply": "2021-11-15T13:50:10.586630Z",
     "shell.execute_reply.started": "2021-11-15T13:12:10.509386Z"
    },
    "papermill": {
     "duration": 46.794538,
     "end_time": "2021-11-15T13:50:10.586812",
     "exception": false,
     "start_time": "2021-11-15T13:49:23.792274",
     "status": "completed"
    },
    "scrolled": true,
    "tags": []
   },
   "outputs": [
    {
     "data": {
      "text/plain": [
       "RandomForestRegressor(max_depth=27, max_features=6, min_samples_split=3,\n",
       "                      n_estimators=58)"
      ]
     },
     "execution_count": 51,
     "metadata": {},
     "output_type": "execute_result"
    }
   ],
   "source": [
    "# fitting the model with Hyperparameter Overfitting \n",
    "RF = RandomForestRegressor(n_estimators=58, max_depth=27, max_features=6, min_samples_split=3, min_samples_leaf=1)\n",
    "RF.fit(train_inputs,train_targets)"
   ]
  },
  {
   "cell_type": "markdown",
   "id": "f6692e3f",
   "metadata": {
    "papermill": {
     "duration": 0.081357,
     "end_time": "2021-11-15T13:50:10.751185",
     "exception": false,
     "start_time": "2021-11-15T13:50:10.669828",
     "status": "completed"
    },
    "tags": []
   },
   "source": [
    "##### We can compute the accuracy of the model on the training and validation sets using RF.score"
   ]
  },
  {
   "cell_type": "code",
   "execution_count": 52,
   "id": "187f3ba2",
   "metadata": {
    "execution": {
     "iopub.execute_input": "2021-11-15T13:50:10.918762Z",
     "iopub.status.busy": "2021-11-15T13:50:10.918127Z",
     "iopub.status.idle": "2021-11-15T13:50:21.054491Z",
     "shell.execute_reply": "2021-11-15T13:50:21.053850Z",
     "shell.execute_reply.started": "2021-11-15T13:13:05.123714Z"
    },
    "papermill": {
     "duration": 10.221188,
     "end_time": "2021-11-15T13:50:21.054632",
     "exception": false,
     "start_time": "2021-11-15T13:50:10.833444",
     "status": "completed"
    },
    "tags": []
   },
   "outputs": [
    {
     "data": {
      "text/plain": [
       "0.9952123489749454"
      ]
     },
     "execution_count": 52,
     "metadata": {},
     "output_type": "execute_result"
    }
   ],
   "source": [
    "RF.score(train_inputs, train_targets)"
   ]
  },
  {
   "cell_type": "code",
   "execution_count": 53,
   "id": "27124038",
   "metadata": {
    "execution": {
     "iopub.execute_input": "2021-11-15T13:50:21.226777Z",
     "iopub.status.busy": "2021-11-15T13:50:21.226125Z",
     "iopub.status.idle": "2021-11-15T13:50:24.664271Z",
     "shell.execute_reply": "2021-11-15T13:50:24.663739Z",
     "shell.execute_reply.started": "2021-11-15T13:13:19.666770Z"
    },
    "papermill": {
     "duration": 3.527057,
     "end_time": "2021-11-15T13:50:24.664438",
     "exception": false,
     "start_time": "2021-11-15T13:50:21.137381",
     "status": "completed"
    },
    "tags": []
   },
   "outputs": [
    {
     "data": {
      "text/plain": [
       "0.9775878483964466"
      ]
     },
     "execution_count": 53,
     "metadata": {},
     "output_type": "execute_result"
    }
   ],
   "source": [
    "RF.score(val_inputs, val_targets)"
   ]
  },
  {
   "cell_type": "code",
   "execution_count": 54,
   "id": "9cbed636",
   "metadata": {
    "code_folding": [],
    "execution": {
     "iopub.execute_input": "2021-11-15T13:50:24.837267Z",
     "iopub.status.busy": "2021-11-15T13:50:24.836602Z",
     "iopub.status.idle": "2021-11-15T13:50:35.046711Z",
     "shell.execute_reply": "2021-11-15T13:50:35.046010Z",
     "shell.execute_reply.started": "2021-11-15T13:13:24.527305Z"
    },
    "papermill": {
     "duration": 10.29844,
     "end_time": "2021-11-15T13:50:35.046858",
     "exception": false,
     "start_time": "2021-11-15T13:50:24.748418",
     "status": "completed"
    },
    "scrolled": true,
    "tags": []
   },
   "outputs": [
    {
     "data": {
      "text/plain": [
       "array([6.71987069e+00, 1.81195201e+03, 4.92763654e+02, ...,\n",
       "       6.08044974e+04, 3.45252306e+04, 1.58521817e+04])"
      ]
     },
     "execution_count": 54,
     "metadata": {},
     "output_type": "execute_result"
    }
   ],
   "source": [
    "# Make and evaluate predictions:\n",
    "train_preds = RF.predict(train_inputs)\n",
    "train_preds"
   ]
  },
  {
   "cell_type": "markdown",
   "id": "80061b33",
   "metadata": {
    "papermill": {
     "duration": 0.081936,
     "end_time": "2021-11-15T13:50:35.213022",
     "exception": false,
     "start_time": "2021-11-15T13:50:35.131086",
     "status": "completed"
    },
    "tags": []
   },
   "source": [
    "### Evaluation"
   ]
  },
  {
   "cell_type": "code",
   "execution_count": 55,
   "id": "57676a94",
   "metadata": {
    "execution": {
     "iopub.execute_input": "2021-11-15T13:50:35.382148Z",
     "iopub.status.busy": "2021-11-15T13:50:35.381489Z",
     "iopub.status.idle": "2021-11-15T13:50:35.387383Z",
     "shell.execute_reply": "2021-11-15T13:50:35.387981Z",
     "shell.execute_reply.started": "2021-11-15T13:13:39.140557Z"
    },
    "papermill": {
     "duration": 0.092987,
     "end_time": "2021-11-15T13:50:35.388149",
     "exception": false,
     "start_time": "2021-11-15T13:50:35.295162",
     "status": "completed"
    },
    "tags": []
   },
   "outputs": [
    {
     "data": {
      "text/plain": [
       "1568.2853432656543"
      ]
     },
     "execution_count": 55,
     "metadata": {},
     "output_type": "execute_result"
    }
   ],
   "source": [
    "rmse(train_targets,train_preds)"
   ]
  },
  {
   "cell_type": "markdown",
   "id": "a755c965",
   "metadata": {
    "papermill": {
     "duration": 0.082677,
     "end_time": "2021-11-15T13:50:35.553232",
     "exception": false,
     "start_time": "2021-11-15T13:50:35.470555",
     "status": "completed"
    },
    "tags": []
   },
   "source": [
    "## Feature Importance\n",
    "Based on the gini index computations, a decision tree assigns an \"importance\" value to each feature. These values can be used to interpret the results given by a decision tree."
   ]
  },
  {
   "cell_type": "code",
   "execution_count": 56,
   "id": "03a23d72",
   "metadata": {
    "execution": {
     "iopub.execute_input": "2021-11-15T13:50:35.721574Z",
     "iopub.status.busy": "2021-11-15T13:50:35.720944Z",
     "iopub.status.idle": "2021-11-15T13:50:35.917729Z",
     "shell.execute_reply": "2021-11-15T13:50:35.918264Z",
     "shell.execute_reply.started": "2021-11-15T13:13:39.151547Z"
    },
    "papermill": {
     "duration": 0.2826,
     "end_time": "2021-11-15T13:50:35.918478",
     "exception": false,
     "start_time": "2021-11-15T13:50:35.635878",
     "status": "completed"
    },
    "tags": []
   },
   "outputs": [],
   "source": [
    "# Let's turn this into a dataframe and visualize the most important features.\n",
    "importance_df = pd.DataFrame({\n",
    "    'feature': X_test.columns,\n",
    "    'importance': RF.feature_importances_\n",
    "}).sort_values('importance', ascending=False)"
   ]
  },
  {
   "cell_type": "code",
   "execution_count": 57,
   "id": "fe56cde9",
   "metadata": {
    "execution": {
     "iopub.execute_input": "2021-11-15T13:50:36.089737Z",
     "iopub.status.busy": "2021-11-15T13:50:36.089085Z",
     "iopub.status.idle": "2021-11-15T13:50:36.281865Z",
     "shell.execute_reply": "2021-11-15T13:50:36.281260Z",
     "shell.execute_reply.started": "2021-11-15T13:13:39.612807Z"
    },
    "papermill": {
     "duration": 0.279955,
     "end_time": "2021-11-15T13:50:36.282007",
     "exception": false,
     "start_time": "2021-11-15T13:50:36.002052",
     "status": "completed"
    },
    "tags": []
   },
   "outputs": [
    {
     "data": {
      "image/png": "[encoded data removed]",
      "text/plain": [
       "<Figure size 720x432 with 1 Axes>"
      ]
     },
     "metadata": {
      "needs_background": "light"
     },
     "output_type": "display_data"
    }
   ],
   "source": [
    "import seaborn as sns\n",
    "plt.figure(figsize=(10,6))\n",
    "plt.title('Feature Importance')\n",
    "sns.barplot(data=importance_df.head(10), x='importance', y='feature');"
   ]
  },
  {
   "cell_type": "markdown",
   "id": "d415c8a3",
   "metadata": {
    "papermill": {
     "duration": 0.083365,
     "end_time": "2021-11-15T13:50:36.450266",
     "exception": false,
     "start_time": "2021-11-15T13:50:36.366901",
     "status": "completed"
    },
    "tags": []
   },
   "source": [
    "# Making Predictions"
   ]
  },
  {
   "cell_type": "code",
   "execution_count": 58,
   "id": "058b5548",
   "metadata": {
    "execution": {
     "iopub.execute_input": "2021-11-15T13:50:36.624826Z",
     "iopub.status.busy": "2021-11-15T13:50:36.624120Z",
     "iopub.status.idle": "2021-11-15T13:50:36.977037Z",
     "shell.execute_reply": "2021-11-15T13:50:36.976407Z",
     "shell.execute_reply.started": "2021-11-15T13:13:39.810706Z"
    },
    "papermill": {
     "duration": 0.443031,
     "end_time": "2021-11-15T13:50:36.977177",
     "exception": false,
     "start_time": "2021-11-15T13:50:36.534146",
     "status": "completed"
    },
    "tags": []
   },
   "outputs": [
    {
     "data": {
      "text/plain": [
       "array([1885.5433908, 1885.5433908, 1885.5433908, ..., 1885.5433908,\n",
       "       1885.5433908, 1885.5433908])"
      ]
     },
     "execution_count": 58,
     "metadata": {},
     "output_type": "execute_result"
    }
   ],
   "source": [
    "predict = RF.predict(X_test)\n",
    "predict"
   ]
  },
  {
   "cell_type": "markdown",
   "id": "e506b7ad",
   "metadata": {
    "papermill": {
     "duration": 0.084899,
     "end_time": "2021-11-15T13:50:37.148358",
     "exception": false,
     "start_time": "2021-11-15T13:50:37.063459",
     "status": "completed"
    },
    "tags": []
   },
   "source": [
    "## Making Predictions"
   ]
  },
  {
   "cell_type": "code",
   "execution_count": 59,
   "id": "ba3bfff6",
   "metadata": {
    "execution": {
     "iopub.execute_input": "2021-11-15T13:50:37.323503Z",
     "iopub.status.busy": "2021-11-15T13:50:37.322715Z",
     "iopub.status.idle": "2021-11-15T13:50:37.325537Z",
     "shell.execute_reply": "2021-11-15T13:50:37.325981Z",
     "shell.execute_reply.started": "2021-11-15T13:13:40.145201Z"
    },
    "papermill": {
     "duration": 0.093523,
     "end_time": "2021-11-15T13:50:37.326151",
     "exception": false,
     "start_time": "2021-11-15T13:50:37.232628",
     "status": "completed"
    },
    "tags": []
   },
   "outputs": [],
   "source": [
    "Final = X_test[['Store', 'Dept', 'Week']]\n",
    "test['Weekly_Sales']= predict"
   ]
  },
  {
   "cell_type": "code",
   "execution_count": 60,
   "id": "01f443ad",
   "metadata": {
    "execution": {
     "iopub.execute_input": "2021-11-15T13:50:37.498187Z",
     "iopub.status.busy": "2021-11-15T13:50:37.497225Z",
     "iopub.status.idle": "2021-11-15T13:50:38.071915Z",
     "shell.execute_reply": "2021-11-15T13:50:38.072393Z",
     "shell.execute_reply.started": "2021-11-15T13:13:40.155421Z"
    },
    "papermill": {
     "duration": 0.662449,
     "end_time": "2021-11-15T13:50:38.072570",
     "exception": false,
     "start_time": "2021-11-15T13:50:37.410121",
     "status": "completed"
    },
    "tags": []
   },
   "outputs": [
    {
     "data": {
      "text/html": [
       "<div>\n",
       "<style scoped>\n",
       "    .dataframe tbody tr th:only-of-type {\n",
       "        vertical-align: middle;\n",
       "    }\n",
       "\n",
       "    .dataframe tbody tr th {\n",
       "        vertical-align: top;\n",
       "    }\n",
       "\n",
       "    .dataframe thead th {\n",
       "        text-align: right;\n",
       "    }\n",
       "</style>\n",
       "<table border=\"1\" class=\"dataframe\">\n",
       "  <thead>\n",
       "    <tr style=\"text-align: right;\">\n",
       "      <th></th>\n",
       "      <th>Id</th>\n",
       "      <th>Weekly_Sales</th>\n",
       "    </tr>\n",
       "  </thead>\n",
       "  <tbody>\n",
       "    <tr>\n",
       "      <th>0</th>\n",
       "      <td>1_1_2012-11-02</td>\n",
       "      <td>1885.543391</td>\n",
       "    </tr>\n",
       "    <tr>\n",
       "      <th>1</th>\n",
       "      <td>1_1_2012-11-09</td>\n",
       "      <td>1885.543391</td>\n",
       "    </tr>\n",
       "    <tr>\n",
       "      <th>2</th>\n",
       "      <td>1_1_2012-11-16</td>\n",
       "      <td>1885.543391</td>\n",
       "    </tr>\n",
       "    <tr>\n",
       "      <th>3</th>\n",
       "      <td>1_1_2012-11-23</td>\n",
       "      <td>1885.543391</td>\n",
       "    </tr>\n",
       "    <tr>\n",
       "      <th>4</th>\n",
       "      <td>1_1_2012-11-30</td>\n",
       "      <td>1885.543391</td>\n",
       "    </tr>\n",
       "    <tr>\n",
       "      <th>...</th>\n",
       "      <td>...</td>\n",
       "      <td>...</td>\n",
       "    </tr>\n",
       "    <tr>\n",
       "      <th>115059</th>\n",
       "      <td>45_98_2013-06-28</td>\n",
       "      <td>1885.543391</td>\n",
       "    </tr>\n",
       "    <tr>\n",
       "      <th>115060</th>\n",
       "      <td>45_98_2013-07-05</td>\n",
       "      <td>1885.543391</td>\n",
       "    </tr>\n",
       "    <tr>\n",
       "      <th>115061</th>\n",
       "      <td>45_98_2013-07-12</td>\n",
       "      <td>1885.543391</td>\n",
       "    </tr>\n",
       "    <tr>\n",
       "      <th>115062</th>\n",
       "      <td>45_98_2013-07-19</td>\n",
       "      <td>1885.543391</td>\n",
       "    </tr>\n",
       "    <tr>\n",
       "      <th>115063</th>\n",
       "      <td>45_98_2013-07-26</td>\n",
       "      <td>1885.543391</td>\n",
       "    </tr>\n",
       "  </tbody>\n",
       "</table>\n",
       "<p>115064 rows × 2 columns</p>\n",
       "</div>"
      ],
      "text/plain": [
       "                      Id  Weekly_Sales\n",
       "0         1_1_2012-11-02   1885.543391\n",
       "1         1_1_2012-11-09   1885.543391\n",
       "2         1_1_2012-11-16   1885.543391\n",
       "3         1_1_2012-11-23   1885.543391\n",
       "4         1_1_2012-11-30   1885.543391\n",
       "...                  ...           ...\n",
       "115059  45_98_2013-06-28   1885.543391\n",
       "115060  45_98_2013-07-05   1885.543391\n",
       "115061  45_98_2013-07-12   1885.543391\n",
       "115062  45_98_2013-07-19   1885.543391\n",
       "115063  45_98_2013-07-26   1885.543391\n",
       "\n",
       "[115064 rows x 2 columns]"
      ]
     },
     "execution_count": 60,
     "metadata": {},
     "output_type": "execute_result"
    }
   ],
   "source": [
    "sample_submission['Weekly_Sales'] = test['Weekly_Sales']\n",
    "sample_submission.to_csv('submission.csv',index=False)\n",
    "predicts=pd.read_csv('submission.csv')\n",
    "predicts"
   ]
  },
  {
   "cell_type": "code",
   "execution_count": 61,
   "id": "f6eecdc5",
   "metadata": {
    "execution": {
     "iopub.execute_input": "2021-11-15T13:50:38.247339Z",
     "iopub.status.busy": "2021-11-15T13:50:38.246646Z",
     "iopub.status.idle": "2021-11-15T13:50:38.476510Z",
     "shell.execute_reply": "2021-11-15T13:50:38.477045Z",
     "shell.execute_reply.started": "2021-11-15T13:13:40.571108Z"
    },
    "papermill": {
     "duration": 0.318326,
     "end_time": "2021-11-15T13:50:38.477219",
     "exception": false,
     "start_time": "2021-11-15T13:50:38.158893",
     "status": "completed"
    },
    "tags": []
   },
   "outputs": [
    {
     "data": {
      "image/png": "[encoded data removed]",
      "text/plain": [
       "<Figure size 720x432 with 1 Axes>"
      ]
     },
     "metadata": {
      "needs_background": "light"
     },
     "output_type": "display_data"
    }
   ],
   "source": [
    "#ploting prediction\n",
    "plt.figure(figsize=(10,6))\n",
    "sns.barplot(data=predicts.head(10), x='Id', y='Weekly_Sales');"
   ]
  },
  {
   "cell_type": "markdown",
   "id": "f855efd7",
   "metadata": {
    "papermill": {
     "duration": 0.085089,
     "end_time": "2021-11-15T13:50:38.650352",
     "exception": false,
     "start_time": "2021-11-15T13:50:38.565263",
     "status": "completed"
    },
    "tags": []
   },
   "source": [
    "## LinearRegression"
   ]
  },
  {
   "cell_type": "code",
   "execution_count": 62,
   "id": "a9a4f460",
   "metadata": {
    "execution": {
     "iopub.execute_input": "2021-11-15T13:50:38.824989Z",
     "iopub.status.busy": "2021-11-15T13:50:38.823329Z",
     "iopub.status.idle": "2021-11-15T13:50:38.828390Z",
     "shell.execute_reply": "2021-11-15T13:50:38.827844Z",
     "shell.execute_reply.started": "2021-11-15T13:13:40.842714Z"
    },
    "papermill": {
     "duration": 0.092772,
     "end_time": "2021-11-15T13:50:38.828542",
     "exception": false,
     "start_time": "2021-11-15T13:50:38.735770",
     "status": "completed"
    },
    "tags": []
   },
   "outputs": [],
   "source": [
    "# importing the LinearRegression algorithm\n",
    "from sklearn.linear_model import LinearRegression"
   ]
  },
  {
   "cell_type": "code",
   "execution_count": 63,
   "id": "8d2c52a7",
   "metadata": {
    "execution": {
     "iopub.execute_input": "2021-11-15T13:50:39.006162Z",
     "iopub.status.busy": "2021-11-15T13:50:39.005188Z",
     "iopub.status.idle": "2021-11-15T13:50:39.540092Z",
     "shell.execute_reply": "2021-11-15T13:50:39.540890Z",
     "shell.execute_reply.started": "2021-11-15T13:13:40.849681Z"
    },
    "papermill": {
     "duration": 0.626862,
     "end_time": "2021-11-15T13:50:39.541118",
     "exception": false,
     "start_time": "2021-11-15T13:50:38.914256",
     "status": "completed"
    },
    "tags": []
   },
   "outputs": [
    {
     "data": {
      "text/plain": [
       "LinearRegression()"
      ]
     },
     "execution_count": 63,
     "metadata": {},
     "output_type": "execute_result"
    }
   ],
   "source": [
    "# fitting the model\n",
    "lr=LinearRegression()\n",
    "lr.fit(train_inputs,train_targets)"
   ]
  },
  {
   "cell_type": "code",
   "execution_count": 64,
   "id": "7c7740e8",
   "metadata": {
    "execution": {
     "iopub.execute_input": "2021-11-15T13:50:39.726519Z",
     "iopub.status.busy": "2021-11-15T13:50:39.725252Z",
     "iopub.status.idle": "2021-11-15T13:50:40.022646Z",
     "shell.execute_reply": "2021-11-15T13:50:40.023620Z",
     "shell.execute_reply.started": "2021-11-15T13:13:41.260656Z"
    },
    "papermill": {
     "duration": 0.391996,
     "end_time": "2021-11-15T13:50:40.023955",
     "exception": false,
     "start_time": "2021-11-15T13:50:39.631959",
     "status": "completed"
    },
    "tags": []
   },
   "outputs": [
    {
     "data": {
      "text/plain": [
       "array([10511.43062391, 15878.69963478, 22838.38990493, ...,\n",
       "       26901.83662411, 12732.32849333, 20548.72973757])"
      ]
     },
     "execution_count": 64,
     "metadata": {},
     "output_type": "execute_result"
    }
   ],
   "source": [
    "Y_pred=lr.predict(train_inputs)\n",
    "Y_pred"
   ]
  },
  {
   "cell_type": "markdown",
   "id": "ba1d3fb4",
   "metadata": {
    "papermill": {
     "duration": 0.087694,
     "end_time": "2021-11-15T13:50:40.249152",
     "exception": false,
     "start_time": "2021-11-15T13:50:40.161458",
     "status": "completed"
    },
    "tags": []
   },
   "source": [
    "### Evaluation"
   ]
  },
  {
   "cell_type": "code",
   "execution_count": 65,
   "id": "b605fd1b",
   "metadata": {
    "execution": {
     "iopub.execute_input": "2021-11-15T13:50:40.426398Z",
     "iopub.status.busy": "2021-11-15T13:50:40.425712Z",
     "iopub.status.idle": "2021-11-15T13:50:40.431243Z",
     "shell.execute_reply": "2021-11-15T13:50:40.431866Z",
     "shell.execute_reply.started": "2021-11-15T13:13:41.452954Z"
    },
    "papermill": {
     "duration": 0.096547,
     "end_time": "2021-11-15T13:50:40.432047",
     "exception": false,
     "start_time": "2021-11-15T13:50:40.335500",
     "status": "completed"
    },
    "tags": []
   },
   "outputs": [
    {
     "data": {
      "text/plain": [
       "21674.949850452453"
      ]
     },
     "execution_count": 65,
     "metadata": {},
     "output_type": "execute_result"
    }
   ],
   "source": [
    "rmse(train_targets,Y_pred)"
   ]
  },
  {
   "cell_type": "markdown",
   "id": "0ff3df01",
   "metadata": {
    "papermill": {
     "duration": 0.086099,
     "end_time": "2021-11-15T13:50:40.605371",
     "exception": false,
     "start_time": "2021-11-15T13:50:40.519272",
     "status": "completed"
    },
    "tags": []
   },
   "source": [
    "## Making Predictions"
   ]
  },
  {
   "cell_type": "code",
   "execution_count": 66,
   "id": "680856d3",
   "metadata": {
    "execution": {
     "iopub.execute_input": "2021-11-15T13:50:40.783258Z",
     "iopub.status.busy": "2021-11-15T13:50:40.782609Z",
     "iopub.status.idle": "2021-11-15T13:50:40.886881Z",
     "shell.execute_reply": "2021-11-15T13:50:40.887765Z",
     "shell.execute_reply.started": "2021-11-15T13:13:41.472961Z"
    },
    "papermill": {
     "duration": 0.194881,
     "end_time": "2021-11-15T13:50:40.888072",
     "exception": false,
     "start_time": "2021-11-15T13:50:40.693191",
     "status": "completed"
    },
    "tags": []
   },
   "outputs": [
    {
     "data": {
      "text/plain": [
       "array([2.91715719e+09, 2.91716812e+09, 2.91717906e+09, ...,\n",
       "       2.27987346e+09, 2.27989533e+09, 2.27990626e+09])"
      ]
     },
     "execution_count": 66,
     "metadata": {},
     "output_type": "execute_result"
    }
   ],
   "source": [
    "y_pred=lr.predict(X_test)\n",
    "y_pred"
   ]
  },
  {
   "cell_type": "markdown",
   "id": "67310d2d",
   "metadata": {
    "papermill": {
     "duration": 0.0871,
     "end_time": "2021-11-15T13:50:41.113002",
     "exception": false,
     "start_time": "2021-11-15T13:50:41.025902",
     "status": "completed"
    },
    "tags": []
   },
   "source": [
    "### To convert df to csv file"
   ]
  },
  {
   "cell_type": "code",
   "execution_count": 67,
   "id": "aefbab21",
   "metadata": {
    "execution": {
     "iopub.execute_input": "2021-11-15T13:50:41.294496Z",
     "iopub.status.busy": "2021-11-15T13:50:41.293762Z",
     "iopub.status.idle": "2021-11-15T13:50:41.297040Z",
     "shell.execute_reply": "2021-11-15T13:50:41.296548Z",
     "shell.execute_reply.started": "2021-11-15T13:13:41.575777Z"
    },
    "papermill": {
     "duration": 0.096551,
     "end_time": "2021-11-15T13:50:41.297183",
     "exception": false,
     "start_time": "2021-11-15T13:50:41.200632",
     "status": "completed"
    },
    "tags": []
   },
   "outputs": [],
   "source": [
    "Final = X_test[['Store', 'Dept', 'Week']]\n",
    "test['Weekly_Sales']= y_pred"
   ]
  },
  {
   "cell_type": "code",
   "execution_count": 68,
   "id": "3eed2c18",
   "metadata": {
    "execution": {
     "iopub.execute_input": "2021-11-15T13:50:41.475955Z",
     "iopub.status.busy": "2021-11-15T13:50:41.475222Z",
     "iopub.status.idle": "2021-11-15T13:50:41.939113Z",
     "shell.execute_reply": "2021-11-15T13:50:41.938571Z",
     "shell.execute_reply.started": "2021-11-15T13:13:41.597977Z"
    },
    "papermill": {
     "duration": 0.555044,
     "end_time": "2021-11-15T13:50:41.939262",
     "exception": false,
     "start_time": "2021-11-15T13:50:41.384218",
     "status": "completed"
    },
    "tags": []
   },
   "outputs": [],
   "source": [
    "sample_submission['Weekly_Sales'] = test['Weekly_Sales']\n",
    "sample_submission.to_csv('submission_1.csv',index=False)"
   ]
  },
  {
   "cell_type": "code",
   "execution_count": 69,
   "id": "494e9835",
   "metadata": {
    "execution": {
     "iopub.execute_input": "2021-11-15T13:50:42.120236Z",
     "iopub.status.busy": "2021-11-15T13:50:42.119578Z",
     "iopub.status.idle": "2021-11-15T13:50:42.212245Z",
     "shell.execute_reply": "2021-11-15T13:50:42.211665Z",
     "shell.execute_reply.started": "2021-11-15T13:13:41.956406Z"
    },
    "papermill": {
     "duration": 0.1853,
     "end_time": "2021-11-15T13:50:42.212405",
     "exception": false,
     "start_time": "2021-11-15T13:50:42.027105",
     "status": "completed"
    },
    "tags": []
   },
   "outputs": [],
   "source": [
    "preds=pd.read_csv('submission_1.csv')"
   ]
  },
  {
   "cell_type": "code",
   "execution_count": 70,
   "id": "b39344cd",
   "metadata": {
    "execution": {
     "iopub.execute_input": "2021-11-15T13:50:42.388860Z",
     "iopub.status.busy": "2021-11-15T13:50:42.388176Z",
     "iopub.status.idle": "2021-11-15T13:50:42.620377Z",
     "shell.execute_reply": "2021-11-15T13:50:42.619725Z",
     "shell.execute_reply.started": "2021-11-15T13:13:42.069696Z"
    },
    "papermill": {
     "duration": 0.321352,
     "end_time": "2021-11-15T13:50:42.620523",
     "exception": false,
     "start_time": "2021-11-15T13:50:42.299171",
     "status": "completed"
    },
    "tags": []
   },
   "outputs": [
    {
     "data": {
      "image/png": "[encoded data removed]",
      "text/plain": [
       "<Figure size 720x432 with 1 Axes>"
      ]
     },
     "metadata": {
      "needs_background": "light"
     },
     "output_type": "display_data"
    }
   ],
   "source": [
    "#ploting prediction\n",
    "import seaborn as sns\n",
    "plt.figure(figsize=(10,6))\n",
    "sns.barplot(data=preds.head(10),x='Id', y='Weekly_Sales');"
   ]
  }
 ],
 "metadata": {
  "kernelspec": {
   "display_name": "Python 3",
   "language": "python",
   "name": "python3"
  },
  "language_info": {
   "codemirror_mode": {
    "name": "ipython",
    "version": 3
   },
   "file_extension": ".py",
   "mimetype": "text/x-python",
   "name": "python",
   "nbconvert_exporter": "python",
   "pygments_lexer": "ipython3",
   "version": "3.7.10"
  },
  "papermill": {
   "default_parameters": {},
   "duration": 456.082558,
   "end_time": "2021-11-15T13:50:44.152628",
   "environment_variables": {},
   "exception": null,
   "input_path": "__notebook__.ipynb",
   "output_path": "__notebook__.ipynb",
   "parameters": {},
   "start_time": "2021-11-15T13:43:08.070070",
   "version": "2.3.3"
  }
 },
 "nbformat": 4,
 "nbformat_minor": 5
}
