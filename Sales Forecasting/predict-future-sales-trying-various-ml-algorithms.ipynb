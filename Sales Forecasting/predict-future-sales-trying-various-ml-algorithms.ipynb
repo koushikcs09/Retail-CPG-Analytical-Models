{
 "cells": [
  {
   "cell_type": "code",
   "execution_count": 1,
   "id": "a34c45f7",
   "metadata": {
    "_cell_guid": "b1076dfc-b9ad-4769-8c92-a6c4dae69d19",
    "_uuid": "8f2839f25d086af736a60e9eeb907d3b93b6e0e5",
    "execution": {
     "iopub.execute_input": "2022-07-22T19:34:37.759975Z",
     "iopub.status.busy": "2022-07-22T19:34:37.759248Z",
     "iopub.status.idle": "2022-07-22T19:34:37.771943Z",
     "shell.execute_reply": "2022-07-22T19:34:37.771146Z"
    },
    "papermill": {
     "duration": 0.025028,
     "end_time": "2022-07-22T19:34:37.774958",
     "exception": false,
     "start_time": "2022-07-22T19:34:37.749930",
     "status": "completed"
    },
    "tags": []
   },
   "outputs": [
    {
     "name": "stdout",
     "output_type": "stream",
     "text": [
      "/kaggle/input/competitive-data-science-predict-future-sales/items.csv\n",
      "/kaggle/input/competitive-data-science-predict-future-sales/sample_submission.csv\n",
      "/kaggle/input/competitive-data-science-predict-future-sales/item_categories.csv\n",
      "/kaggle/input/competitive-data-science-predict-future-sales/sales_train.csv\n",
      "/kaggle/input/competitive-data-science-predict-future-sales/shops.csv\n",
      "/kaggle/input/competitive-data-science-predict-future-sales/test.csv\n"
     ]
    }
   ],
   "source": [
    "# This Python 3 environment comes with many helpful analytics libraries installed\n",
    "# It is defined by the kaggle/python Docker image: https://github.com/kaggle/docker-python\n",
    "# For example, here's several helpful packages to load\n",
    "\n",
    "import numpy as np # linear algebra\n",
    "import pandas as pd # data processing, CSV file I/O (e.g. pd.read_csv)\n",
    "\n",
    "# Input data files are available in the read-only \"../input/\" directory\n",
    "# For example, running this (by clicking run or pressing Shift+Enter) will list all files under the input directory\n",
    "\n",
    "import os\n",
    "for dirname, _, filenames in os.walk('/kaggle/input'):\n",
    "    for filename in filenames:\n",
    "        print(os.path.join(dirname, filename))\n",
    "\n",
    "# You can write up to 20GB to the current directory (/kaggle/working/) that gets preserved as output when you create a version using \"Save & Run All\" \n",
    "# You can also write temporary files to /kaggle/temp/, but they won't be saved outside of the current session"
   ]
  },
  {
   "cell_type": "markdown",
   "id": "87d8cca1",
   "metadata": {
    "papermill": {
     "duration": 0.005896,
     "end_time": "2022-07-22T19:34:37.787266",
     "exception": false,
     "start_time": "2022-07-22T19:34:37.781370",
     "status": "completed"
    },
    "tags": []
   },
   "source": [
    "# Let us import required libraries for the project"
   ]
  },
  {
   "cell_type": "code",
   "execution_count": 2,
   "id": "3953c28f",
   "metadata": {
    "execution": {
     "iopub.execute_input": "2022-07-22T19:34:37.802362Z",
     "iopub.status.busy": "2022-07-22T19:34:37.801532Z",
     "iopub.status.idle": "2022-07-22T19:34:45.968967Z",
     "shell.execute_reply": "2022-07-22T19:34:45.967372Z"
    },
    "papermill": {
     "duration": 8.178106,
     "end_time": "2022-07-22T19:34:45.971977",
     "exception": false,
     "start_time": "2022-07-22T19:34:37.793871",
     "status": "completed"
    },
    "tags": []
   },
   "outputs": [],
   "source": [
    "import matplotlib.pyplot as plt\n",
    "import seaborn as sns\n",
    "import pandas as pd\n",
    "import numpy as np\n",
    "import matplotlib.pyplot as plt\n",
    "import tensorflow as tf\n",
    "%matplotlib inline\n",
    "from tensorflow import keras\n",
    "from sklearn.preprocessing import StandardScaler\n",
    "from tensorflow.keras.models import Sequential\n",
    "from tensorflow.keras.layers import LSTM, Dense"
   ]
  },
  {
   "cell_type": "code",
   "execution_count": 3,
   "id": "80f54dd7",
   "metadata": {
    "execution": {
     "iopub.execute_input": "2022-07-22T19:34:45.986891Z",
     "iopub.status.busy": "2022-07-22T19:34:45.986243Z",
     "iopub.status.idle": "2022-07-22T19:34:48.313123Z",
     "shell.execute_reply": "2022-07-22T19:34:48.311982Z"
    },
    "papermill": {
     "duration": 2.337527,
     "end_time": "2022-07-22T19:34:48.316058",
     "exception": false,
     "start_time": "2022-07-22T19:34:45.978531",
     "status": "completed"
    },
    "tags": []
   },
   "outputs": [],
   "source": [
    "item_categories_df = pd.read_csv(\"/kaggle/input/competitive-data-science-predict-future-sales/item_categories.csv\")\n",
    "shops_df = pd.read_csv(\"/kaggle/input/competitive-data-science-predict-future-sales/shops.csv\")\n",
    "sales_train_df = pd.read_csv(\"/kaggle/input/competitive-data-science-predict-future-sales/sales_train.csv\")\n",
    "items_df = pd.read_csv(\"/kaggle/input/competitive-data-science-predict-future-sales/items.csv\")\n",
    "test_df = pd.read_csv('/kaggle/input/competitive-data-science-predict-future-sales/test.csv')"
   ]
  },
  {
   "cell_type": "markdown",
   "id": "451c11d6",
   "metadata": {
    "papermill": {
     "duration": 0.005679,
     "end_time": "2022-07-22T19:34:48.327963",
     "exception": false,
     "start_time": "2022-07-22T19:34:48.322284",
     "status": "completed"
    },
    "tags": []
   },
   "source": [
    "# Let us check the train data"
   ]
  },
  {
   "cell_type": "code",
   "execution_count": 4,
   "id": "c8e07ecd",
   "metadata": {
    "execution": {
     "iopub.execute_input": "2022-07-22T19:34:48.341682Z",
     "iopub.status.busy": "2022-07-22T19:34:48.341301Z",
     "iopub.status.idle": "2022-07-22T19:34:48.363959Z",
     "shell.execute_reply": "2022-07-22T19:34:48.362849Z"
    },
    "papermill": {
     "duration": 0.03278,
     "end_time": "2022-07-22T19:34:48.366710",
     "exception": false,
     "start_time": "2022-07-22T19:34:48.333930",
     "status": "completed"
    },
    "tags": []
   },
   "outputs": [
    {
     "data": {
      "text/html": [
       "<div>\n",
       "<style scoped>\n",
       "    .dataframe tbody tr th:only-of-type {\n",
       "        vertical-align: middle;\n",
       "    }\n",
       "\n",
       "    .dataframe tbody tr th {\n",
       "        vertical-align: top;\n",
       "    }\n",
       "\n",
       "    .dataframe thead th {\n",
       "        text-align: right;\n",
       "    }\n",
       "</style>\n",
       "<table border=\"1\" class=\"dataframe\">\n",
       "  <thead>\n",
       "    <tr style=\"text-align: right;\">\n",
       "      <th></th>\n",
       "      <th>date</th>\n",
       "      <th>date_block_num</th>\n",
       "      <th>shop_id</th>\n",
       "      <th>item_id</th>\n",
       "      <th>item_price</th>\n",
       "      <th>item_cnt_day</th>\n",
       "    </tr>\n",
       "  </thead>\n",
       "  <tbody>\n",
       "    <tr>\n",
       "      <th>0</th>\n",
       "      <td>02.01.2013</td>\n",
       "      <td>0</td>\n",
       "      <td>59</td>\n",
       "      <td>22154</td>\n",
       "      <td>999.00</td>\n",
       "      <td>1.0</td>\n",
       "    </tr>\n",
       "    <tr>\n",
       "      <th>1</th>\n",
       "      <td>03.01.2013</td>\n",
       "      <td>0</td>\n",
       "      <td>25</td>\n",
       "      <td>2552</td>\n",
       "      <td>899.00</td>\n",
       "      <td>1.0</td>\n",
       "    </tr>\n",
       "    <tr>\n",
       "      <th>2</th>\n",
       "      <td>05.01.2013</td>\n",
       "      <td>0</td>\n",
       "      <td>25</td>\n",
       "      <td>2552</td>\n",
       "      <td>899.00</td>\n",
       "      <td>-1.0</td>\n",
       "    </tr>\n",
       "    <tr>\n",
       "      <th>3</th>\n",
       "      <td>06.01.2013</td>\n",
       "      <td>0</td>\n",
       "      <td>25</td>\n",
       "      <td>2554</td>\n",
       "      <td>1709.05</td>\n",
       "      <td>1.0</td>\n",
       "    </tr>\n",
       "    <tr>\n",
       "      <th>4</th>\n",
       "      <td>15.01.2013</td>\n",
       "      <td>0</td>\n",
       "      <td>25</td>\n",
       "      <td>2555</td>\n",
       "      <td>1099.00</td>\n",
       "      <td>1.0</td>\n",
       "    </tr>\n",
       "  </tbody>\n",
       "</table>\n",
       "</div>"
      ],
      "text/plain": [
       "         date  date_block_num  shop_id  item_id  item_price  item_cnt_day\n",
       "0  02.01.2013               0       59    22154      999.00           1.0\n",
       "1  03.01.2013               0       25     2552      899.00           1.0\n",
       "2  05.01.2013               0       25     2552      899.00          -1.0\n",
       "3  06.01.2013               0       25     2554     1709.05           1.0\n",
       "4  15.01.2013               0       25     2555     1099.00           1.0"
      ]
     },
     "execution_count": 4,
     "metadata": {},
     "output_type": "execute_result"
    }
   ],
   "source": [
    "sales_train_df.head()"
   ]
  },
  {
   "cell_type": "markdown",
   "id": "a27f8c6c",
   "metadata": {
    "papermill": {
     "duration": 0.005883,
     "end_time": "2022-07-22T19:34:48.378769",
     "exception": false,
     "start_time": "2022-07-22T19:34:48.372886",
     "status": "completed"
    },
    "tags": []
   },
   "source": [
    "Check the dimensions,datatyes, and other statistics of the data"
   ]
  },
  {
   "cell_type": "code",
   "execution_count": 5,
   "id": "5d6efd67",
   "metadata": {
    "execution": {
     "iopub.execute_input": "2022-07-22T19:34:48.392692Z",
     "iopub.status.busy": "2022-07-22T19:34:48.392200Z",
     "iopub.status.idle": "2022-07-22T19:34:48.399495Z",
     "shell.execute_reply": "2022-07-22T19:34:48.398336Z"
    },
    "papermill": {
     "duration": 0.016893,
     "end_time": "2022-07-22T19:34:48.401798",
     "exception": false,
     "start_time": "2022-07-22T19:34:48.384905",
     "status": "completed"
    },
    "tags": []
   },
   "outputs": [
    {
     "data": {
      "text/plain": [
       "(2935849, 6)"
      ]
     },
     "execution_count": 5,
     "metadata": {},
     "output_type": "execute_result"
    }
   ],
   "source": [
    "sales_train_df.shape"
   ]
  },
  {
   "cell_type": "code",
   "execution_count": 6,
   "id": "e23b2015",
   "metadata": {
    "execution": {
     "iopub.execute_input": "2022-07-22T19:34:48.416659Z",
     "iopub.status.busy": "2022-07-22T19:34:48.416284Z",
     "iopub.status.idle": "2022-07-22T19:34:48.441249Z",
     "shell.execute_reply": "2022-07-22T19:34:48.439977Z"
    },
    "papermill": {
     "duration": 0.035147,
     "end_time": "2022-07-22T19:34:48.443955",
     "exception": false,
     "start_time": "2022-07-22T19:34:48.408808",
     "status": "completed"
    },
    "tags": []
   },
   "outputs": [
    {
     "name": "stdout",
     "output_type": "stream",
     "text": [
      "<class 'pandas.core.frame.DataFrame'>\n",
      "RangeIndex: 2935849 entries, 0 to 2935848\n",
      "Data columns (total 6 columns):\n",
      " #   Column          Dtype  \n",
      "---  ------          -----  \n",
      " 0   date            object \n",
      " 1   date_block_num  int64  \n",
      " 2   shop_id         int64  \n",
      " 3   item_id         int64  \n",
      " 4   item_price      float64\n",
      " 5   item_cnt_day    float64\n",
      "dtypes: float64(2), int64(3), object(1)\n",
      "memory usage: 134.4+ MB\n"
     ]
    }
   ],
   "source": [
    "sales_train_df.info()\n"
   ]
  },
  {
   "cell_type": "code",
   "execution_count": 7,
   "id": "ef53445b",
   "metadata": {
    "execution": {
     "iopub.execute_input": "2022-07-22T19:34:48.458463Z",
     "iopub.status.busy": "2022-07-22T19:34:48.458089Z",
     "iopub.status.idle": "2022-07-22T19:34:48.945653Z",
     "shell.execute_reply": "2022-07-22T19:34:48.944444Z"
    },
    "papermill": {
     "duration": 0.497829,
     "end_time": "2022-07-22T19:34:48.948303",
     "exception": false,
     "start_time": "2022-07-22T19:34:48.450474",
     "status": "completed"
    },
    "tags": []
   },
   "outputs": [
    {
     "data": {
      "text/html": [
       "<div>\n",
       "<style scoped>\n",
       "    .dataframe tbody tr th:only-of-type {\n",
       "        vertical-align: middle;\n",
       "    }\n",
       "\n",
       "    .dataframe tbody tr th {\n",
       "        vertical-align: top;\n",
       "    }\n",
       "\n",
       "    .dataframe thead th {\n",
       "        text-align: right;\n",
       "    }\n",
       "</style>\n",
       "<table border=\"1\" class=\"dataframe\">\n",
       "  <thead>\n",
       "    <tr style=\"text-align: right;\">\n",
       "      <th></th>\n",
       "      <th>date_block_num</th>\n",
       "      <th>shop_id</th>\n",
       "      <th>item_id</th>\n",
       "      <th>item_price</th>\n",
       "      <th>item_cnt_day</th>\n",
       "    </tr>\n",
       "  </thead>\n",
       "  <tbody>\n",
       "    <tr>\n",
       "      <th>count</th>\n",
       "      <td>2.935849e+06</td>\n",
       "      <td>2.935849e+06</td>\n",
       "      <td>2.935849e+06</td>\n",
       "      <td>2.935849e+06</td>\n",
       "      <td>2.935849e+06</td>\n",
       "    </tr>\n",
       "    <tr>\n",
       "      <th>mean</th>\n",
       "      <td>1.456991e+01</td>\n",
       "      <td>3.300173e+01</td>\n",
       "      <td>1.019723e+04</td>\n",
       "      <td>8.908532e+02</td>\n",
       "      <td>1.242641e+00</td>\n",
       "    </tr>\n",
       "    <tr>\n",
       "      <th>std</th>\n",
       "      <td>9.422988e+00</td>\n",
       "      <td>1.622697e+01</td>\n",
       "      <td>6.324297e+03</td>\n",
       "      <td>1.729800e+03</td>\n",
       "      <td>2.618834e+00</td>\n",
       "    </tr>\n",
       "    <tr>\n",
       "      <th>min</th>\n",
       "      <td>0.000000e+00</td>\n",
       "      <td>0.000000e+00</td>\n",
       "      <td>0.000000e+00</td>\n",
       "      <td>-1.000000e+00</td>\n",
       "      <td>-2.200000e+01</td>\n",
       "    </tr>\n",
       "    <tr>\n",
       "      <th>25%</th>\n",
       "      <td>7.000000e+00</td>\n",
       "      <td>2.200000e+01</td>\n",
       "      <td>4.476000e+03</td>\n",
       "      <td>2.490000e+02</td>\n",
       "      <td>1.000000e+00</td>\n",
       "    </tr>\n",
       "    <tr>\n",
       "      <th>50%</th>\n",
       "      <td>1.400000e+01</td>\n",
       "      <td>3.100000e+01</td>\n",
       "      <td>9.343000e+03</td>\n",
       "      <td>3.990000e+02</td>\n",
       "      <td>1.000000e+00</td>\n",
       "    </tr>\n",
       "    <tr>\n",
       "      <th>75%</th>\n",
       "      <td>2.300000e+01</td>\n",
       "      <td>4.700000e+01</td>\n",
       "      <td>1.568400e+04</td>\n",
       "      <td>9.990000e+02</td>\n",
       "      <td>1.000000e+00</td>\n",
       "    </tr>\n",
       "    <tr>\n",
       "      <th>max</th>\n",
       "      <td>3.300000e+01</td>\n",
       "      <td>5.900000e+01</td>\n",
       "      <td>2.216900e+04</td>\n",
       "      <td>3.079800e+05</td>\n",
       "      <td>2.169000e+03</td>\n",
       "    </tr>\n",
       "  </tbody>\n",
       "</table>\n",
       "</div>"
      ],
      "text/plain": [
       "       date_block_num       shop_id       item_id    item_price  item_cnt_day\n",
       "count    2.935849e+06  2.935849e+06  2.935849e+06  2.935849e+06  2.935849e+06\n",
       "mean     1.456991e+01  3.300173e+01  1.019723e+04  8.908532e+02  1.242641e+00\n",
       "std      9.422988e+00  1.622697e+01  6.324297e+03  1.729800e+03  2.618834e+00\n",
       "min      0.000000e+00  0.000000e+00  0.000000e+00 -1.000000e+00 -2.200000e+01\n",
       "25%      7.000000e+00  2.200000e+01  4.476000e+03  2.490000e+02  1.000000e+00\n",
       "50%      1.400000e+01  3.100000e+01  9.343000e+03  3.990000e+02  1.000000e+00\n",
       "75%      2.300000e+01  4.700000e+01  1.568400e+04  9.990000e+02  1.000000e+00\n",
       "max      3.300000e+01  5.900000e+01  2.216900e+04  3.079800e+05  2.169000e+03"
      ]
     },
     "execution_count": 7,
     "metadata": {},
     "output_type": "execute_result"
    }
   ],
   "source": [
    "sales_train_df.describe()"
   ]
  },
  {
   "cell_type": "code",
   "execution_count": 8,
   "id": "fd06b1f5",
   "metadata": {
    "execution": {
     "iopub.execute_input": "2022-07-22T19:34:48.963613Z",
     "iopub.status.busy": "2022-07-22T19:34:48.962744Z",
     "iopub.status.idle": "2022-07-22T19:34:49.119653Z",
     "shell.execute_reply": "2022-07-22T19:34:49.118549Z"
    },
    "papermill": {
     "duration": 0.167405,
     "end_time": "2022-07-22T19:34:49.122425",
     "exception": false,
     "start_time": "2022-07-22T19:34:48.955020",
     "status": "completed"
    },
    "tags": []
   },
   "outputs": [
    {
     "data": {
      "text/plain": [
       "date              0\n",
       "date_block_num    0\n",
       "shop_id           0\n",
       "item_id           0\n",
       "item_price        0\n",
       "item_cnt_day      0\n",
       "dtype: int64"
      ]
     },
     "execution_count": 8,
     "metadata": {},
     "output_type": "execute_result"
    }
   ],
   "source": [
    "sales_train_df.isnull().sum()"
   ]
  },
  {
   "cell_type": "markdown",
   "id": "0f06b2d1",
   "metadata": {
    "papermill": {
     "duration": 0.00658,
     "end_time": "2022-07-22T19:34:49.135892",
     "exception": false,
     "start_time": "2022-07-22T19:34:49.129312",
     "status": "completed"
    },
    "tags": []
   },
   "source": [
    "# Now let's change the date format to pandas date format."
   ]
  },
  {
   "cell_type": "code",
   "execution_count": 9,
   "id": "f936e073",
   "metadata": {
    "execution": {
     "iopub.execute_input": "2022-07-22T19:34:49.153404Z",
     "iopub.status.busy": "2022-07-22T19:34:49.151228Z",
     "iopub.status.idle": "2022-07-22T19:34:49.529799Z",
     "shell.execute_reply": "2022-07-22T19:34:49.528370Z"
    },
    "papermill": {
     "duration": 0.389726,
     "end_time": "2022-07-22T19:34:49.532771",
     "exception": false,
     "start_time": "2022-07-22T19:34:49.143045",
     "status": "completed"
    },
    "tags": []
   },
   "outputs": [
    {
     "data": {
      "text/plain": [
       "0         2013-02-01\n",
       "1         2013-03-01\n",
       "2         2013-05-01\n",
       "3         2013-06-01\n",
       "4         2013-01-15\n",
       "             ...    \n",
       "2935844   2015-10-10\n",
       "2935845   2015-09-10\n",
       "2935846   2015-10-14\n",
       "2935847   2015-10-22\n",
       "2935848   2015-03-10\n",
       "Name: date, Length: 2935849, dtype: datetime64[ns]"
      ]
     },
     "execution_count": 9,
     "metadata": {},
     "output_type": "execute_result"
    }
   ],
   "source": [
    "sales_train_df['date'] = pd.to_datetime(sales_train_df['date'])\n",
    "sales_train_df['date']"
   ]
  },
  {
   "cell_type": "code",
   "execution_count": 10,
   "id": "9127b963",
   "metadata": {
    "execution": {
     "iopub.execute_input": "2022-07-22T19:34:49.553492Z",
     "iopub.status.busy": "2022-07-22T19:34:49.553039Z",
     "iopub.status.idle": "2022-07-22T19:34:49.890563Z",
     "shell.execute_reply": "2022-07-22T19:34:49.889068Z"
    },
    "papermill": {
     "duration": 0.350477,
     "end_time": "2022-07-22T19:34:49.894018",
     "exception": false,
     "start_time": "2022-07-22T19:34:49.543541",
     "status": "completed"
    },
    "tags": []
   },
   "outputs": [
    {
     "data": {
      "text/plain": [
       "0          2013-02\n",
       "1          2013-03\n",
       "2          2013-05\n",
       "3          2013-06\n",
       "4          2013-01\n",
       "            ...   \n",
       "2935844    2015-10\n",
       "2935845    2015-09\n",
       "2935846    2015-10\n",
       "2935847    2015-10\n",
       "2935848    2015-03\n",
       "Name: month_year, Length: 2935849, dtype: period[M]"
      ]
     },
     "execution_count": 10,
     "metadata": {},
     "output_type": "execute_result"
    }
   ],
   "source": [
    "sales_train_df['month_year'] = sales_train_df['date'].dt.to_period('M')\n",
    "sales_train_df['month_year']"
   ]
  },
  {
   "cell_type": "markdown",
   "id": "d0d03c7e",
   "metadata": {
    "papermill": {
     "duration": 0.007221,
     "end_time": "2022-07-22T19:34:49.914156",
     "exception": false,
     "start_time": "2022-07-22T19:34:49.906935",
     "status": "completed"
    },
    "tags": []
   },
   "source": [
    "# Now let's consider only valid item_price and item_cnt_day"
   ]
  },
  {
   "cell_type": "code",
   "execution_count": 11,
   "id": "05f24c25",
   "metadata": {
    "execution": {
     "iopub.execute_input": "2022-07-22T19:34:49.932162Z",
     "iopub.status.busy": "2022-07-22T19:34:49.931255Z",
     "iopub.status.idle": "2022-07-22T19:34:50.210365Z",
     "shell.execute_reply": "2022-07-22T19:34:50.209251Z"
    },
    "papermill": {
     "duration": 0.290125,
     "end_time": "2022-07-22T19:34:50.212954",
     "exception": false,
     "start_time": "2022-07-22T19:34:49.922829",
     "status": "completed"
    },
    "tags": []
   },
   "outputs": [],
   "source": [
    "sales_train_df = sales_train_df[sales_train_df['item_price']>0]\n",
    "sales_train_df = sales_train_df[sales_train_df['item_cnt_day']>0]"
   ]
  },
  {
   "cell_type": "code",
   "execution_count": 12,
   "id": "8fbfefae",
   "metadata": {
    "execution": {
     "iopub.execute_input": "2022-07-22T19:34:50.228768Z",
     "iopub.status.busy": "2022-07-22T19:34:50.228233Z",
     "iopub.status.idle": "2022-07-22T19:34:50.246974Z",
     "shell.execute_reply": "2022-07-22T19:34:50.245933Z"
    },
    "papermill": {
     "duration": 0.029551,
     "end_time": "2022-07-22T19:34:50.249514",
     "exception": false,
     "start_time": "2022-07-22T19:34:50.219963",
     "status": "completed"
    },
    "tags": []
   },
   "outputs": [
    {
     "data": {
      "text/html": [
       "<div>\n",
       "<style scoped>\n",
       "    .dataframe tbody tr th:only-of-type {\n",
       "        vertical-align: middle;\n",
       "    }\n",
       "\n",
       "    .dataframe tbody tr th {\n",
       "        vertical-align: top;\n",
       "    }\n",
       "\n",
       "    .dataframe thead th {\n",
       "        text-align: right;\n",
       "    }\n",
       "</style>\n",
       "<table border=\"1\" class=\"dataframe\">\n",
       "  <thead>\n",
       "    <tr style=\"text-align: right;\">\n",
       "      <th></th>\n",
       "      <th>date</th>\n",
       "      <th>date_block_num</th>\n",
       "      <th>shop_id</th>\n",
       "      <th>item_id</th>\n",
       "      <th>item_price</th>\n",
       "      <th>item_cnt_day</th>\n",
       "      <th>month_year</th>\n",
       "    </tr>\n",
       "  </thead>\n",
       "  <tbody>\n",
       "    <tr>\n",
       "      <th>0</th>\n",
       "      <td>2013-02-01</td>\n",
       "      <td>0</td>\n",
       "      <td>59</td>\n",
       "      <td>22154</td>\n",
       "      <td>999.00</td>\n",
       "      <td>1.0</td>\n",
       "      <td>2013-02</td>\n",
       "    </tr>\n",
       "    <tr>\n",
       "      <th>1</th>\n",
       "      <td>2013-03-01</td>\n",
       "      <td>0</td>\n",
       "      <td>25</td>\n",
       "      <td>2552</td>\n",
       "      <td>899.00</td>\n",
       "      <td>1.0</td>\n",
       "      <td>2013-03</td>\n",
       "    </tr>\n",
       "    <tr>\n",
       "      <th>3</th>\n",
       "      <td>2013-06-01</td>\n",
       "      <td>0</td>\n",
       "      <td>25</td>\n",
       "      <td>2554</td>\n",
       "      <td>1709.05</td>\n",
       "      <td>1.0</td>\n",
       "      <td>2013-06</td>\n",
       "    </tr>\n",
       "    <tr>\n",
       "      <th>4</th>\n",
       "      <td>2013-01-15</td>\n",
       "      <td>0</td>\n",
       "      <td>25</td>\n",
       "      <td>2555</td>\n",
       "      <td>1099.00</td>\n",
       "      <td>1.0</td>\n",
       "      <td>2013-01</td>\n",
       "    </tr>\n",
       "    <tr>\n",
       "      <th>5</th>\n",
       "      <td>2013-10-01</td>\n",
       "      <td>0</td>\n",
       "      <td>25</td>\n",
       "      <td>2564</td>\n",
       "      <td>349.00</td>\n",
       "      <td>1.0</td>\n",
       "      <td>2013-10</td>\n",
       "    </tr>\n",
       "    <tr>\n",
       "      <th>...</th>\n",
       "      <td>...</td>\n",
       "      <td>...</td>\n",
       "      <td>...</td>\n",
       "      <td>...</td>\n",
       "      <td>...</td>\n",
       "      <td>...</td>\n",
       "      <td>...</td>\n",
       "    </tr>\n",
       "    <tr>\n",
       "      <th>2935844</th>\n",
       "      <td>2015-10-10</td>\n",
       "      <td>33</td>\n",
       "      <td>25</td>\n",
       "      <td>7409</td>\n",
       "      <td>299.00</td>\n",
       "      <td>1.0</td>\n",
       "      <td>2015-10</td>\n",
       "    </tr>\n",
       "    <tr>\n",
       "      <th>2935845</th>\n",
       "      <td>2015-09-10</td>\n",
       "      <td>33</td>\n",
       "      <td>25</td>\n",
       "      <td>7460</td>\n",
       "      <td>299.00</td>\n",
       "      <td>1.0</td>\n",
       "      <td>2015-09</td>\n",
       "    </tr>\n",
       "    <tr>\n",
       "      <th>2935846</th>\n",
       "      <td>2015-10-14</td>\n",
       "      <td>33</td>\n",
       "      <td>25</td>\n",
       "      <td>7459</td>\n",
       "      <td>349.00</td>\n",
       "      <td>1.0</td>\n",
       "      <td>2015-10</td>\n",
       "    </tr>\n",
       "    <tr>\n",
       "      <th>2935847</th>\n",
       "      <td>2015-10-22</td>\n",
       "      <td>33</td>\n",
       "      <td>25</td>\n",
       "      <td>7440</td>\n",
       "      <td>299.00</td>\n",
       "      <td>1.0</td>\n",
       "      <td>2015-10</td>\n",
       "    </tr>\n",
       "    <tr>\n",
       "      <th>2935848</th>\n",
       "      <td>2015-03-10</td>\n",
       "      <td>33</td>\n",
       "      <td>25</td>\n",
       "      <td>7460</td>\n",
       "      <td>299.00</td>\n",
       "      <td>1.0</td>\n",
       "      <td>2015-03</td>\n",
       "    </tr>\n",
       "  </tbody>\n",
       "</table>\n",
       "<p>2928492 rows × 7 columns</p>\n",
       "</div>"
      ],
      "text/plain": [
       "              date  date_block_num  shop_id  item_id  item_price  \\\n",
       "0       2013-02-01               0       59    22154      999.00   \n",
       "1       2013-03-01               0       25     2552      899.00   \n",
       "3       2013-06-01               0       25     2554     1709.05   \n",
       "4       2013-01-15               0       25     2555     1099.00   \n",
       "5       2013-10-01               0       25     2564      349.00   \n",
       "...            ...             ...      ...      ...         ...   \n",
       "2935844 2015-10-10              33       25     7409      299.00   \n",
       "2935845 2015-09-10              33       25     7460      299.00   \n",
       "2935846 2015-10-14              33       25     7459      349.00   \n",
       "2935847 2015-10-22              33       25     7440      299.00   \n",
       "2935848 2015-03-10              33       25     7460      299.00   \n",
       "\n",
       "         item_cnt_day month_year  \n",
       "0                 1.0    2013-02  \n",
       "1                 1.0    2013-03  \n",
       "3                 1.0    2013-06  \n",
       "4                 1.0    2013-01  \n",
       "5                 1.0    2013-10  \n",
       "...               ...        ...  \n",
       "2935844           1.0    2015-10  \n",
       "2935845           1.0    2015-09  \n",
       "2935846           1.0    2015-10  \n",
       "2935847           1.0    2015-10  \n",
       "2935848           1.0    2015-03  \n",
       "\n",
       "[2928492 rows x 7 columns]"
      ]
     },
     "execution_count": 12,
     "metadata": {},
     "output_type": "execute_result"
    }
   ],
   "source": [
    "sales_train_df"
   ]
  },
  {
   "cell_type": "code",
   "execution_count": 13,
   "id": "7e5eae15",
   "metadata": {
    "execution": {
     "iopub.execute_input": "2022-07-22T19:34:50.265995Z",
     "iopub.status.busy": "2022-07-22T19:34:50.265635Z",
     "iopub.status.idle": "2022-07-22T19:34:53.100792Z",
     "shell.execute_reply": "2022-07-22T19:34:53.099591Z"
    },
    "papermill": {
     "duration": 2.846854,
     "end_time": "2022-07-22T19:34:53.103526",
     "exception": false,
     "start_time": "2022-07-22T19:34:50.256672",
     "status": "completed"
    },
    "tags": []
   },
   "outputs": [],
   "source": [
    "monthly_data = sales_train_df.pivot_table(\n",
    "    index = ['shop_id','item_id'],\n",
    "    values = ['item_cnt_day'],\n",
    "    columns = ['date_block_num'],\n",
    "    fill_value = 0,\n",
    "    aggfunc='sum')"
   ]
  },
  {
   "cell_type": "code",
   "execution_count": 14,
   "id": "d62d219d",
   "metadata": {
    "execution": {
     "iopub.execute_input": "2022-07-22T19:34:53.119945Z",
     "iopub.status.busy": "2022-07-22T19:34:53.119570Z",
     "iopub.status.idle": "2022-07-22T19:34:53.134511Z",
     "shell.execute_reply": "2022-07-22T19:34:53.133330Z"
    },
    "papermill": {
     "duration": 0.026356,
     "end_time": "2022-07-22T19:34:53.137064",
     "exception": false,
     "start_time": "2022-07-22T19:34:53.110708",
     "status": "completed"
    },
    "tags": []
   },
   "outputs": [],
   "source": [
    "monthly_data.reset_index(inplace = True)"
   ]
  },
  {
   "cell_type": "code",
   "execution_count": 15,
   "id": "1cb174b9",
   "metadata": {
    "execution": {
     "iopub.execute_input": "2022-07-22T19:34:53.154330Z",
     "iopub.status.busy": "2022-07-22T19:34:53.153877Z",
     "iopub.status.idle": "2022-07-22T19:34:53.286007Z",
     "shell.execute_reply": "2022-07-22T19:34:53.284764Z"
    },
    "papermill": {
     "duration": 0.14371,
     "end_time": "2022-07-22T19:34:53.288627",
     "exception": false,
     "start_time": "2022-07-22T19:34:53.144917",
     "status": "completed"
    },
    "tags": []
   },
   "outputs": [],
   "source": [
    "train_data = monthly_data.drop(columns= ['shop_id','item_id'], level=0)"
   ]
  },
  {
   "cell_type": "code",
   "execution_count": 16,
   "id": "80c2618e",
   "metadata": {
    "execution": {
     "iopub.execute_input": "2022-07-22T19:34:53.305635Z",
     "iopub.status.busy": "2022-07-22T19:34:53.304496Z",
     "iopub.status.idle": "2022-07-22T19:34:53.314654Z",
     "shell.execute_reply": "2022-07-22T19:34:53.313396Z"
    },
    "papermill": {
     "duration": 0.021483,
     "end_time": "2022-07-22T19:34:53.317388",
     "exception": false,
     "start_time": "2022-07-22T19:34:53.295905",
     "status": "completed"
    },
    "tags": []
   },
   "outputs": [],
   "source": [
    "train_data.fillna(0,inplace = True)"
   ]
  },
  {
   "cell_type": "code",
   "execution_count": 17,
   "id": "e82e5583",
   "metadata": {
    "execution": {
     "iopub.execute_input": "2022-07-22T19:34:53.333672Z",
     "iopub.status.busy": "2022-07-22T19:34:53.333294Z",
     "iopub.status.idle": "2022-07-22T19:34:53.337994Z",
     "shell.execute_reply": "2022-07-22T19:34:53.337171Z"
    },
    "papermill": {
     "duration": 0.015587,
     "end_time": "2022-07-22T19:34:53.340192",
     "exception": false,
     "start_time": "2022-07-22T19:34:53.324605",
     "status": "completed"
    },
    "tags": []
   },
   "outputs": [],
   "source": [
    "x_train = np.expand_dims(train_data.values[:,:-1],axis = 2)\n",
    "y_train = train_data.values[:,-1:]"
   ]
  },
  {
   "cell_type": "code",
   "execution_count": 18,
   "id": "18606501",
   "metadata": {
    "execution": {
     "iopub.execute_input": "2022-07-22T19:34:53.356756Z",
     "iopub.status.busy": "2022-07-22T19:34:53.356005Z",
     "iopub.status.idle": "2022-07-22T19:34:53.521213Z",
     "shell.execute_reply": "2022-07-22T19:34:53.520112Z"
    },
    "papermill": {
     "duration": 0.176176,
     "end_time": "2022-07-22T19:34:53.523599",
     "exception": false,
     "start_time": "2022-07-22T19:34:53.347423",
     "status": "completed"
    },
    "tags": []
   },
   "outputs": [
    {
     "name": "stderr",
     "output_type": "stream",
     "text": [
      "/opt/conda/lib/python3.7/site-packages/pandas/core/frame.py:9203: FutureWarning: merging between different levels is deprecated and will be removed in a future version. (2 levels on the left,1 on the right)\n",
      "  validate=validate,\n"
     ]
    }
   ],
   "source": [
    "test_rows = monthly_data.merge(\n",
    "    test_df,\n",
    "    on = ['item_id','shop_id'],\n",
    "    how = 'right')"
   ]
  },
  {
   "cell_type": "code",
   "execution_count": 19,
   "id": "77b0e1bc",
   "metadata": {
    "execution": {
     "iopub.execute_input": "2022-07-22T19:34:53.540026Z",
     "iopub.status.busy": "2022-07-22T19:34:53.539624Z",
     "iopub.status.idle": "2022-07-22T19:34:53.614746Z",
     "shell.execute_reply": "2022-07-22T19:34:53.613433Z"
    },
    "papermill": {
     "duration": 0.086338,
     "end_time": "2022-07-22T19:34:53.617201",
     "exception": false,
     "start_time": "2022-07-22T19:34:53.530863",
     "status": "completed"
    },
    "tags": []
   },
   "outputs": [],
   "source": [
    "x_test = test_rows.drop(test_rows.columns[:5], axis=1).drop('ID', axis=1)\n",
    "x_test.fillna(0,inplace = True)"
   ]
  },
  {
   "cell_type": "code",
   "execution_count": 20,
   "id": "3fa3742b",
   "metadata": {
    "execution": {
     "iopub.execute_input": "2022-07-22T19:34:53.633661Z",
     "iopub.status.busy": "2022-07-22T19:34:53.633271Z",
     "iopub.status.idle": "2022-07-22T19:34:53.639003Z",
     "shell.execute_reply": "2022-07-22T19:34:53.637901Z"
    },
    "papermill": {
     "duration": 0.016813,
     "end_time": "2022-07-22T19:34:53.641279",
     "exception": false,
     "start_time": "2022-07-22T19:34:53.624466",
     "status": "completed"
    },
    "tags": []
   },
   "outputs": [
    {
     "name": "stdout",
     "output_type": "stream",
     "text": [
      "(424098, 33, 1) (424098, 1) (214200, 33, 1)\n"
     ]
    }
   ],
   "source": [
    "x_test = np.expand_dims(x_test,axis = 2)\n",
    "print(x_train.shape,y_train.shape,x_test.shape)"
   ]
  },
  {
   "cell_type": "code",
   "execution_count": 21,
   "id": "9f8e5877",
   "metadata": {
    "execution": {
     "iopub.execute_input": "2022-07-22T19:34:53.658812Z",
     "iopub.status.busy": "2022-07-22T19:34:53.657847Z",
     "iopub.status.idle": "2022-07-22T19:34:54.096150Z",
     "shell.execute_reply": "2022-07-22T19:34:54.094832Z"
    },
    "papermill": {
     "duration": 0.450335,
     "end_time": "2022-07-22T19:34:54.099319",
     "exception": false,
     "start_time": "2022-07-22T19:34:53.648984",
     "status": "completed"
    },
    "tags": []
   },
   "outputs": [
    {
     "name": "stderr",
     "output_type": "stream",
     "text": [
      "2022-07-22 19:34:53.711643: I tensorflow/core/common_runtime/process_util.cc:146] Creating new thread pool with default inter op setting: 2. Tune using inter_op_parallelism_threads for best performance.\n"
     ]
    }
   ],
   "source": [
    "model = tf.keras.models.Sequential()    \n",
    "model.add(LSTM(64, input_shape=(33, 1), return_sequences=False))\n",
    "model.add(Dense(1))\n",
    "    \n",
    "model.compile(\n",
    "    loss = 'mse',\n",
    "    optimizer = 'adam', \n",
    "    metrics = ['mean_squared_error']        \n",
    ")"
   ]
  },
  {
   "cell_type": "code",
   "execution_count": 22,
   "id": "04a94dc8",
   "metadata": {
    "execution": {
     "iopub.execute_input": "2022-07-22T19:34:54.117447Z",
     "iopub.status.busy": "2022-07-22T19:34:54.116943Z",
     "iopub.status.idle": "2022-07-22T19:39:39.679025Z",
     "shell.execute_reply": "2022-07-22T19:39:39.677444Z"
    },
    "papermill": {
     "duration": 285.57587,
     "end_time": "2022-07-22T19:39:39.682663",
     "exception": false,
     "start_time": "2022-07-22T19:34:54.106793",
     "status": "completed"
    },
    "tags": []
   },
   "outputs": [
    {
     "name": "stderr",
     "output_type": "stream",
     "text": [
      "2022-07-22 19:34:54.261189: I tensorflow/compiler/mlir/mlir_graph_optimization_pass.cc:185] None of the MLIR Optimization Passes are enabled (registered 2)\n"
     ]
    },
    {
     "name": "stdout",
     "output_type": "stream",
     "text": [
      "Epoch 1/10\n",
      "63/63 [==============================] - 31s 457ms/step - loss: 24.7251 - mean_squared_error: 24.7251 - val_loss: 2.5688 - val_mean_squared_error: 2.5688\n",
      "Epoch 2/10\n",
      "63/63 [==============================] - 28s 445ms/step - loss: 24.5636 - mean_squared_error: 24.5636 - val_loss: 2.4755 - val_mean_squared_error: 2.4755\n",
      "Epoch 3/10\n",
      "63/63 [==============================] - 28s 448ms/step - loss: 24.4365 - mean_squared_error: 24.4365 - val_loss: 2.4485 - val_mean_squared_error: 2.4485\n",
      "Epoch 4/10\n",
      "63/63 [==============================] - 29s 455ms/step - loss: 24.3631 - mean_squared_error: 24.3631 - val_loss: 2.4155 - val_mean_squared_error: 2.4155\n",
      "Epoch 5/10\n",
      "63/63 [==============================] - 29s 457ms/step - loss: 24.3102 - mean_squared_error: 24.3102 - val_loss: 2.5643 - val_mean_squared_error: 2.5643\n",
      "Epoch 6/10\n",
      "63/63 [==============================] - 28s 453ms/step - loss: 24.2692 - mean_squared_error: 24.2692 - val_loss: 2.3812 - val_mean_squared_error: 2.3812\n",
      "Epoch 7/10\n",
      "63/63 [==============================] - 28s 448ms/step - loss: 24.1967 - mean_squared_error: 24.1967 - val_loss: 2.3349 - val_mean_squared_error: 2.3349\n",
      "Epoch 8/10\n",
      "63/63 [==============================] - 29s 456ms/step - loss: 24.1324 - mean_squared_error: 24.1324 - val_loss: 2.3191 - val_mean_squared_error: 2.3191\n",
      "Epoch 9/10\n",
      "63/63 [==============================] - 28s 446ms/step - loss: 24.1021 - mean_squared_error: 24.1021 - val_loss: 2.3227 - val_mean_squared_error: 2.3227\n",
      "Epoch 10/10\n",
      "63/63 [==============================] - 28s 439ms/step - loss: 24.0469 - mean_squared_error: 24.0469 - val_loss: 2.3276 - val_mean_squared_error: 2.3276\n"
     ]
    }
   ],
   "source": [
    "history = model.fit(\n",
    "    x_train, \n",
    "    y_train, \n",
    "    epochs=10, \n",
    "    batch_size=4096,\n",
    "    verbose=1, \n",
    "    shuffle=True,\n",
    "    validation_split=0.4)"
   ]
  },
  {
   "cell_type": "code",
   "execution_count": 23,
   "id": "1d0fd520",
   "metadata": {
    "execution": {
     "iopub.execute_input": "2022-07-22T19:39:39.765576Z",
     "iopub.status.busy": "2022-07-22T19:39:39.764532Z",
     "iopub.status.idle": "2022-07-22T19:39:39.991695Z",
     "shell.execute_reply": "2022-07-22T19:39:39.990778Z"
    },
    "papermill": {
     "duration": 0.27057,
     "end_time": "2022-07-22T19:39:39.993752",
     "exception": false,
     "start_time": "2022-07-22T19:39:39.723182",
     "status": "completed"
    },
    "tags": []
   },
   "outputs": [
    {
     "data": {
      "image/png": "[encoded data removed]",
      "text/plain": [
       "<Figure size 432x288 with 1 Axes>"
      ]
     },
     "metadata": {
      "needs_background": "light"
     },
     "output_type": "display_data"
    }
   ],
   "source": [
    "plt.plot(history.history[\"loss\"], color=\"r\")\n",
    "plt.plot(history.history[\"val_loss\"], color=\"g\")\n",
    "plt.legend([\"Training\", \"Validation\"])\n",
    "plt.xlabel(\"epochs\")\n",
    "plt.ylabel(\"loss\")\n",
    "plt.title('Evaluation')\n",
    "plt.show()"
   ]
  },
  {
   "cell_type": "code",
   "execution_count": 24,
   "id": "951f64dc",
   "metadata": {
    "execution": {
     "iopub.execute_input": "2022-07-22T19:39:40.074264Z",
     "iopub.status.busy": "2022-07-22T19:39:40.073801Z",
     "iopub.status.idle": "2022-07-22T19:40:32.335786Z",
     "shell.execute_reply": "2022-07-22T19:40:32.334533Z"
    },
    "papermill": {
     "duration": 52.305508,
     "end_time": "2022-07-22T19:40:32.338565",
     "exception": false,
     "start_time": "2022-07-22T19:39:40.033057",
     "status": "completed"
    },
    "tags": []
   },
   "outputs": [],
   "source": [
    "test_predict = model.predict(x_test)\n",
    "submission = pd.DataFrame({'ID':test_df['ID'],'item_cnt_month':test_predict.ravel()})\n",
    "submission['item_cnt_month'] = submission['item_cnt_month']\n",
    "submission.to_csv('submission.csv',index = False)"
   ]
  },
  {
   "cell_type": "code",
   "execution_count": 25,
   "id": "a9be9872",
   "metadata": {
    "execution": {
     "iopub.execute_input": "2022-07-22T19:40:32.419898Z",
     "iopub.status.busy": "2022-07-22T19:40:32.418932Z",
     "iopub.status.idle": "2022-07-22T19:40:32.424029Z",
     "shell.execute_reply": "2022-07-22T19:40:32.422856Z"
    },
    "papermill": {
     "duration": 0.048377,
     "end_time": "2022-07-22T19:40:32.426123",
     "exception": false,
     "start_time": "2022-07-22T19:40:32.377746",
     "status": "completed"
    },
    "tags": []
   },
   "outputs": [],
   "source": [
    "# from sklearn.linear_model import LogisticRegression\n",
    "# from sklearn.metrics import classification_report, confusion_matrix"
   ]
  },
  {
   "cell_type": "code",
   "execution_count": 26,
   "id": "609fae06",
   "metadata": {
    "execution": {
     "iopub.execute_input": "2022-07-22T19:40:32.506139Z",
     "iopub.status.busy": "2022-07-22T19:40:32.505717Z",
     "iopub.status.idle": "2022-07-22T19:40:32.510028Z",
     "shell.execute_reply": "2022-07-22T19:40:32.508899Z"
    },
    "papermill": {
     "duration": 0.046771,
     "end_time": "2022-07-22T19:40:32.512247",
     "exception": false,
     "start_time": "2022-07-22T19:40:32.465476",
     "status": "completed"
    },
    "tags": []
   },
   "outputs": [],
   "source": [
    "# model = LogisticRegression()\n",
    "# model.fit()"
   ]
  }
 ],
 "metadata": {
  "kernelspec": {
   "display_name": "Python 3",
   "language": "python",
   "name": "python3"
  },
  "language_info": {
   "codemirror_mode": {
    "name": "ipython",
    "version": 3
   },
   "file_extension": ".py",
   "mimetype": "text/x-python",
   "name": "python",
   "nbconvert_exporter": "python",
   "pygments_lexer": "ipython3",
   "version": "3.7.12"
  },
  "papermill": {
   "default_parameters": {},
   "duration": 367.942032,
   "end_time": "2022-07-22T19:40:36.157809",
   "environment_variables": {},
   "exception": null,
   "input_path": "__notebook__.ipynb",
   "output_path": "__notebook__.ipynb",
   "parameters": {},
   "start_time": "2022-07-22T19:34:28.215777",
   "version": "2.3.4"
  }
 },
 "nbformat": 4,
 "nbformat_minor": 5
}
