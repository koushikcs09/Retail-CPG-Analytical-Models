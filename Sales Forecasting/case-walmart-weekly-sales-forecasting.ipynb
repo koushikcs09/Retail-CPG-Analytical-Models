{
 "cells": [
  {
   "cell_type": "markdown",
   "id": "aff02c20",
   "metadata": {
    "papermill": {
     "duration": 0.027367,
     "end_time": "2022-06-20T07:30:33.588036",
     "exception": false,
     "start_time": "2022-06-20T07:30:33.560669",
     "status": "completed"
    },
    "tags": []
   },
   "source": [
    "# # Case: Walmart Recruiting - Store Sales Forecasting."
   ]
  },
  {
   "cell_type": "markdown",
   "id": "39ea5f65",
   "metadata": {
    "papermill": {
     "duration": 0.025344,
     "end_time": "2022-06-20T07:30:33.641455",
     "exception": false,
     "start_time": "2022-06-20T07:30:33.616111",
     "status": "completed"
    },
    "tags": []
   },
   "source": [
    "# # Bibliotecas utilizadas."
   ]
  },
  {
   "cell_type": "code",
   "execution_count": 1,
   "id": "1ddf01fc",
   "metadata": {
    "execution": {
     "iopub.execute_input": "2022-06-20T07:30:33.695561Z",
     "iopub.status.busy": "2022-06-20T07:30:33.694785Z",
     "iopub.status.idle": "2022-06-20T07:30:36.583602Z",
     "shell.execute_reply": "2022-06-20T07:30:36.582580Z"
    },
    "papermill": {
     "duration": 2.920088,
     "end_time": "2022-06-20T07:30:36.587085",
     "exception": false,
     "start_time": "2022-06-20T07:30:33.666997",
     "status": "completed"
    },
    "tags": []
   },
   "outputs": [],
   "source": [
    "# importando todas as bibliotecas necessárias\n",
    "import pandas as pd\n",
    "import numpy as np\n",
    "import plotly.express as px\n",
    "import matplotlib.pyplot as plt\n",
    "%matplotlib inline\n",
    "import seaborn as sns\n",
    "from datetime import timedelta\n",
    "\n",
    "from mpl_toolkits import mplot3d\n",
    "\n",
    "\n",
    "from sklearn.ensemble import RandomForestRegressor\n",
    "#from lazypredict.Supervised import LazyRegressor\n",
    "from sklearn.model_selection import train_test_split\n",
    "\n",
    "import warnings\n",
    "warnings.filterwarnings(\"ignore\") # ignoring annoying warnings"
   ]
  },
  {
   "cell_type": "markdown",
   "id": "b19dc867",
   "metadata": {
    "papermill": {
     "duration": 0.02532,
     "end_time": "2022-06-20T07:30:36.638386",
     "exception": false,
     "start_time": "2022-06-20T07:30:36.613066",
     "status": "completed"
    },
    "tags": []
   },
   "source": [
    "# # 1. Entendendo o problema de Negócio\n",
    "\n",
    "O Walmart é uma corporação de varejo que opera como uma rede de supermercados. Neste case o Walmart forneceu dados de 45 lojas onde em cada uma delas há 99 departamentos distribuidas no tempo de 2010-02-05 á 2012-11-1. Nos dados diponibilizados  temos também dados das vendas semanais de cada par loja/departamento.Além disso, o Walmart tem uma politica de remarcação de preços promocionais ao londo do ano, principalmente em datas que precedem feriados importantes.\n",
    "\n",
    "**Diante disso existe um problema de negócio a ser descoberto:** \n",
    "\n",
    "**1.** Qual o o impacto dos feriados nas vendas das lojas? \n",
    "\n",
    "**2.** É possível estimar as vendas das lojas por semana em datas futuras de 2012–11–02 a 2013–07-26? Se sim,quais seriam esses valores?\n",
    "\n",
    "**obs:** Para isso, nos dados disponibilizados estão inclusos quatro semanas dos principais feriados. São eles:\n",
    "\n",
    "**- Super Bowl:** 12-Feb-10, 11-Feb-11, 10-Feb-12, 8-Feb-13\n",
    "\n",
    "**- Labor Day:** 10-Sep-10, 9-Sep-11, 7-Sep-12, 6-Sep-13\n",
    "\n",
    "**- Thanksgiving:** 26-Nov-10, 25-Nov-11, 23-Nov-12, 29-Nov-13\n",
    "\n",
    "**- Christmas:** 31-Dec-10, 30-Dec-11, 28-Dec-12, 27-Dec-13\n",
    " \n",
    " "
   ]
  },
  {
   "cell_type": "markdown",
   "id": "aceffc6e",
   "metadata": {
    "papermill": {
     "duration": 0.024752,
     "end_time": "2022-06-20T07:30:36.689221",
     "exception": false,
     "start_time": "2022-06-20T07:30:36.664469",
     "status": "completed"
    },
    "tags": []
   },
   "source": [
    "# # 2. Qual modelo de machine learning será utilizado para abordar o problema?\n",
    "\n",
    "\n",
    "Há pelo menos dois caminhos a serem seguidos neste case: \n",
    "\n",
    "**a) Séries Temporais:** Uma vez que as vendas estão dispostas ao longo do tempo e temos que prever para datas futuras um possível modelo seria o clássico ARIMA ou o SARIMA (considera períodos sazonais).\n",
    "\n",
    "**b) Modelos de regressão:** Uma vez que queremos saber a relção das vendas em relação ao feriado,e prever numericamente valores em datas futuras. \n",
    "Como no case há questões como pesos diferentes para feriados na semana, tamanho/tipo da loja e muitas outras variáveis optei por uma modelagem de regressão (Random Forest Regressor)"
   ]
  },
  {
   "cell_type": "markdown",
   "id": "b46267c8",
   "metadata": {
    "papermill": {
     "duration": 0.025249,
     "end_time": "2022-06-20T07:30:36.739843",
     "exception": false,
     "start_time": "2022-06-20T07:30:36.714594",
     "status": "completed"
    },
    "tags": []
   },
   "source": [
    "# # 3 . Métrica utilizada"
   ]
  },
  {
   "cell_type": "markdown",
   "id": "708cd04b",
   "metadata": {
    "papermill": {
     "duration": 0.025056,
     "end_time": "2022-06-20T07:30:36.790322",
     "exception": false,
     "start_time": "2022-06-20T07:30:36.765266",
     "status": "completed"
    },
    "tags": []
   },
   "source": [
    "O Walmart estabeleceu como métrica de demsenpenho o Weighted Mean Absolute Error (WMAE), cuja função matemática é mostrada abaixo."
   ]
  },
  {
   "cell_type": "markdown",
   "id": "aaaba7b0",
   "metadata": {
    "papermill": {
     "duration": 0.02524,
     "end_time": "2022-06-20T07:30:36.841334",
     "exception": false,
     "start_time": "2022-06-20T07:30:36.816094",
     "status": "completed"
    },
    "tags": []
   },
   "source": []
  },
  {
   "cell_type": "markdown",
   "id": "eeba38a6",
   "metadata": {
    "papermill": {
     "duration": 0.025939,
     "end_time": "2022-06-20T07:30:36.892569",
     "exception": false,
     "start_time": "2022-06-20T07:30:36.866630",
     "status": "completed"
    },
    "tags": []
   },
   "source": [
    "![](http://latex.codecogs.com/gif.latex?%7BWMAE%7D%20%3D%20%5Cfrac%7B1%7D%7B%5Csum%7Bw_i%7D%7D%20%5Csum_%7Bi%3D1%7D%5En%20w_i%20%7C%20y_i%20-%20%5Chat%7By%7D_i%20%7C)\n",
    "\n",
    "* n é o número de linhas\n",
    "* \\\\( \\hat{y}_i \\\\) é a previsão de vendsas.\n",
    "* \\\\( y_i \\\\) são as vendas atuais.\n",
    "* \\\\( w_i \\\\) São os pesos, onde w = 5 se a semana tiver um feriado, caso contrário será 1."
   ]
  },
  {
   "cell_type": "markdown",
   "id": "4d167bea",
   "metadata": {
    "papermill": {
     "duration": 0.025046,
     "end_time": "2022-06-20T07:30:36.943018",
     "exception": false,
     "start_time": "2022-06-20T07:30:36.917972",
     "status": "completed"
    },
    "tags": []
   },
   "source": [
    "Nosso objetivo é diminuir essa pontuação o máximo possível, além de prever as vendas semanais. Usaremos essa métrica de desempenho nos modelos de machine leanirng abordados. "
   ]
  },
  {
   "cell_type": "markdown",
   "id": "b7827209",
   "metadata": {
    "papermill": {
     "duration": 0.024797,
     "end_time": "2022-06-20T07:30:36.993543",
     "exception": false,
     "start_time": "2022-06-20T07:30:36.968746",
     "status": "completed"
    },
    "tags": []
   },
   "source": [
    "#  # 4. Dados disponibilizados"
   ]
  },
  {
   "cell_type": "markdown",
   "id": "17738170",
   "metadata": {
    "papermill": {
     "duration": 0.024867,
     "end_time": "2022-06-20T07:30:37.043746",
     "exception": false,
     "start_time": "2022-06-20T07:30:37.018879",
     "status": "completed"
    },
    "tags": []
   },
   "source": [
    "**Foram disponibilizados 5 arquivos com os seguintes campos:**\n",
    "\n",
    "\n",
    "**a) features.csv —** Este arquivo contém dados adicionais relacionados à loja, departamento e atividade regional para as datas indicadas. Ele contém os seguintes campos:\n",
    "\n",
    "**Store —** o número da loja\n",
    "\n",
    "**Date —** a semana\n",
    "\n",
    "**Temperature —** temperatura média na região\n",
    "\n",
    "**Fuel Price —** custo do combustível na região\n",
    "\n",
    "**MarkDown(1–5) —** dados anônimos relacionados a descontos promocionais que o Walmart está executando. Os dados de redução de preços só estão disponíveis após novembro de 2011 e não estão disponíveis para todas as lojas o tempo todo. Qualquer valor ausente é marcado com um NaN.\n",
    "\n",
    "**CPI -** o índice de preços ao consumidor\n",
    "\n",
    "**Unemployment –** a taxa de desemprego\n",
    "\n",
    "**IsHoliday —** Se o feriado cai durante a semana.\n",
    "\n",
    "----------------------------------------------------------------------------------------------------------------\n",
    "\n",
    "**b) train.csv** - (Abrange de 2010–02–05 a 2012-11–01)\n",
    "\n",
    "**Store —** o número da loja\n",
    "\n",
    "**Dept —** o número do departamento\n",
    "\n",
    "**Date —** a semana\n",
    "\n",
    "**weekly_sales—** vendas para determinado departamento em determinada loja\n",
    "\n",
    "**IsHoliday —** se a semana é uma semana de feriado especial \n",
    "\n",
    "________________________________________________________________________________________________________________\n",
    "\n",
    "**c) stores.csv —** Este arquivo contém informações anônimas sobre as 45 lojas, indicando o tipo e tamanho da loja.\n",
    "________________________________________________________________________________________________________________\n",
    "\n",
    "**d) test.csv —** Este arquivo é idêntico ao train.csv, exceto que retemos as vendas semanais. Você deve prever as vendas para cada trio de loja, departamento e data neste arquivo\n",
    "\n",
    "_______________________________________________________________________________________________________________\n",
    "**e) sampleSubmission.csv -** Usado para a submissão deste case no kaggle."
   ]
  },
  {
   "cell_type": "markdown",
   "id": "f5a373f1",
   "metadata": {
    "papermill": {
     "duration": 0.024957,
     "end_time": "2022-06-20T07:30:37.094021",
     "exception": false,
     "start_time": "2022-06-20T07:30:37.069064",
     "status": "completed"
    },
    "tags": []
   },
   "source": [
    "# 4.1 Leitura dos dados"
   ]
  },
  {
   "cell_type": "code",
   "execution_count": 2,
   "id": "4cd2b678",
   "metadata": {
    "execution": {
     "iopub.execute_input": "2022-06-20T07:30:37.147650Z",
     "iopub.status.busy": "2022-06-20T07:30:37.146767Z",
     "iopub.status.idle": "2022-06-20T07:30:37.761702Z",
     "shell.execute_reply": "2022-06-20T07:30:37.760706Z"
    },
    "papermill": {
     "duration": 0.644971,
     "end_time": "2022-06-20T07:30:37.764560",
     "exception": false,
     "start_time": "2022-06-20T07:30:37.119589",
     "status": "completed"
    },
    "tags": []
   },
   "outputs": [],
   "source": [
    "#Leitura dos dados disponibilizados\n",
    "df_features = pd.read_csv('../input/walmart-recruiting-store-sales-forecasting/features.csv.zip')\n",
    "df_train = pd.read_csv('../input/walmart-recruiting-store-sales-forecasting/train.csv.zip')\n",
    "df_test = pd.read_csv('../input/walmart-recruiting-store-sales-forecasting/test.csv.zip')\n",
    "df_stores = pd.read_csv('../input/walmart-recruiting-store-sales-forecasting/stores.csv')\n",
    "df_sample_submission = pd.read_csv('../input/walmart-recruiting-store-sales-forecasting/sampleSubmission.csv.zip')"
   ]
  },
  {
   "cell_type": "markdown",
   "id": "d5859605",
   "metadata": {
    "papermill": {
     "duration": 0.025127,
     "end_time": "2022-06-20T07:30:37.816198",
     "exception": false,
     "start_time": "2022-06-20T07:30:37.791071",
     "status": "completed"
    },
    "tags": []
   },
   "source": [
    "# 4.2 Overview dos dados importados"
   ]
  },
  {
   "cell_type": "markdown",
   "id": "47b56ef5",
   "metadata": {
    "papermill": {
     "duration": 0.025502,
     "end_time": "2022-06-20T07:30:37.867664",
     "exception": false,
     "start_time": "2022-06-20T07:30:37.842162",
     "status": "completed"
    },
    "tags": []
   },
   "source": [
    "# a) features.csv"
   ]
  },
  {
   "cell_type": "code",
   "execution_count": 3,
   "id": "00be8a2e",
   "metadata": {
    "execution": {
     "iopub.execute_input": "2022-06-20T07:30:37.922266Z",
     "iopub.status.busy": "2022-06-20T07:30:37.921786Z",
     "iopub.status.idle": "2022-06-20T07:30:37.974637Z",
     "shell.execute_reply": "2022-06-20T07:30:37.973646Z"
    },
    "papermill": {
     "duration": 0.084938,
     "end_time": "2022-06-20T07:30:37.978523",
     "exception": false,
     "start_time": "2022-06-20T07:30:37.893585",
     "status": "completed"
    },
    "tags": []
   },
   "outputs": [
    {
     "name": "stdout",
     "output_type": "stream",
     "text": [
      "<class 'pandas.core.frame.DataFrame'>\n",
      "RangeIndex: 8190 entries, 0 to 8189\n",
      "Data columns (total 12 columns):\n",
      " #   Column        Non-Null Count  Dtype  \n",
      "---  ------        --------------  -----  \n",
      " 0   Store         8190 non-null   int64  \n",
      " 1   Date          8190 non-null   object \n",
      " 2   Temperature   8190 non-null   float64\n",
      " 3   Fuel_Price    8190 non-null   float64\n",
      " 4   MarkDown1     4032 non-null   float64\n",
      " 5   MarkDown2     2921 non-null   float64\n",
      " 6   MarkDown3     3613 non-null   float64\n",
      " 7   MarkDown4     3464 non-null   float64\n",
      " 8   MarkDown5     4050 non-null   float64\n",
      " 9   CPI           7605 non-null   float64\n",
      " 10  Unemployment  7605 non-null   float64\n",
      " 11  IsHoliday     8190 non-null   bool   \n",
      "dtypes: bool(1), float64(9), int64(1), object(1)\n",
      "memory usage: 712.0+ KB\n",
      "Shape of features.csv: None\n",
      "\n"
     ]
    },
    {
     "data": {
      "text/html": [
       "<div>\n",
       "<style scoped>\n",
       "    .dataframe tbody tr th:only-of-type {\n",
       "        vertical-align: middle;\n",
       "    }\n",
       "\n",
       "    .dataframe tbody tr th {\n",
       "        vertical-align: top;\n",
       "    }\n",
       "\n",
       "    .dataframe thead th {\n",
       "        text-align: right;\n",
       "    }\n",
       "</style>\n",
       "<table border=\"1\" class=\"dataframe\">\n",
       "  <thead>\n",
       "    <tr style=\"text-align: right;\">\n",
       "      <th></th>\n",
       "      <th>Store</th>\n",
       "      <th>Date</th>\n",
       "      <th>Temperature</th>\n",
       "      <th>Fuel_Price</th>\n",
       "      <th>MarkDown1</th>\n",
       "      <th>MarkDown2</th>\n",
       "      <th>MarkDown3</th>\n",
       "      <th>MarkDown4</th>\n",
       "      <th>MarkDown5</th>\n",
       "      <th>CPI</th>\n",
       "      <th>Unemployment</th>\n",
       "      <th>IsHoliday</th>\n",
       "    </tr>\n",
       "  </thead>\n",
       "  <tbody>\n",
       "    <tr>\n",
       "      <th>0</th>\n",
       "      <td>1</td>\n",
       "      <td>2010-02-05</td>\n",
       "      <td>42.31</td>\n",
       "      <td>2.572</td>\n",
       "      <td>NaN</td>\n",
       "      <td>NaN</td>\n",
       "      <td>NaN</td>\n",
       "      <td>NaN</td>\n",
       "      <td>NaN</td>\n",
       "      <td>211.096358</td>\n",
       "      <td>8.106</td>\n",
       "      <td>False</td>\n",
       "    </tr>\n",
       "    <tr>\n",
       "      <th>1</th>\n",
       "      <td>1</td>\n",
       "      <td>2010-02-12</td>\n",
       "      <td>38.51</td>\n",
       "      <td>2.548</td>\n",
       "      <td>NaN</td>\n",
       "      <td>NaN</td>\n",
       "      <td>NaN</td>\n",
       "      <td>NaN</td>\n",
       "      <td>NaN</td>\n",
       "      <td>211.242170</td>\n",
       "      <td>8.106</td>\n",
       "      <td>True</td>\n",
       "    </tr>\n",
       "    <tr>\n",
       "      <th>2</th>\n",
       "      <td>1</td>\n",
       "      <td>2010-02-19</td>\n",
       "      <td>39.93</td>\n",
       "      <td>2.514</td>\n",
       "      <td>NaN</td>\n",
       "      <td>NaN</td>\n",
       "      <td>NaN</td>\n",
       "      <td>NaN</td>\n",
       "      <td>NaN</td>\n",
       "      <td>211.289143</td>\n",
       "      <td>8.106</td>\n",
       "      <td>False</td>\n",
       "    </tr>\n",
       "    <tr>\n",
       "      <th>3</th>\n",
       "      <td>1</td>\n",
       "      <td>2010-02-26</td>\n",
       "      <td>46.63</td>\n",
       "      <td>2.561</td>\n",
       "      <td>NaN</td>\n",
       "      <td>NaN</td>\n",
       "      <td>NaN</td>\n",
       "      <td>NaN</td>\n",
       "      <td>NaN</td>\n",
       "      <td>211.319643</td>\n",
       "      <td>8.106</td>\n",
       "      <td>False</td>\n",
       "    </tr>\n",
       "    <tr>\n",
       "      <th>4</th>\n",
       "      <td>1</td>\n",
       "      <td>2010-03-05</td>\n",
       "      <td>46.50</td>\n",
       "      <td>2.625</td>\n",
       "      <td>NaN</td>\n",
       "      <td>NaN</td>\n",
       "      <td>NaN</td>\n",
       "      <td>NaN</td>\n",
       "      <td>NaN</td>\n",
       "      <td>211.350143</td>\n",
       "      <td>8.106</td>\n",
       "      <td>False</td>\n",
       "    </tr>\n",
       "  </tbody>\n",
       "</table>\n",
       "</div>"
      ],
      "text/plain": [
       "   Store        Date  Temperature  Fuel_Price  MarkDown1  MarkDown2  \\\n",
       "0      1  2010-02-05        42.31       2.572        NaN        NaN   \n",
       "1      1  2010-02-12        38.51       2.548        NaN        NaN   \n",
       "2      1  2010-02-19        39.93       2.514        NaN        NaN   \n",
       "3      1  2010-02-26        46.63       2.561        NaN        NaN   \n",
       "4      1  2010-03-05        46.50       2.625        NaN        NaN   \n",
       "\n",
       "   MarkDown3  MarkDown4  MarkDown5         CPI  Unemployment  IsHoliday  \n",
       "0        NaN        NaN        NaN  211.096358         8.106      False  \n",
       "1        NaN        NaN        NaN  211.242170         8.106       True  \n",
       "2        NaN        NaN        NaN  211.289143         8.106      False  \n",
       "3        NaN        NaN        NaN  211.319643         8.106      False  \n",
       "4        NaN        NaN        NaN  211.350143         8.106      False  "
      ]
     },
     "execution_count": 3,
     "metadata": {},
     "output_type": "execute_result"
    }
   ],
   "source": [
    "# print das principais informações dos dados e das cinco primeiras linhas.\n",
    "print(f\"Shape of features.csv: {df_features.info()}\\n\")\n",
    "df_features.head()"
   ]
  },
  {
   "cell_type": "markdown",
   "id": "f6506e91",
   "metadata": {
    "papermill": {
     "duration": 0.026649,
     "end_time": "2022-06-20T07:30:38.031548",
     "exception": false,
     "start_time": "2022-06-20T07:30:38.004899",
     "status": "completed"
    },
    "tags": []
   },
   "source": [
    "**Inferências:**\n",
    "\n",
    "* Há 12 colunas e 8190 linhas\n",
    "* A coluna \"Date\" deveria estar no formato datetime do pandas.\n",
    "* variáveis categóricas: MarkDown[1 -5], IsHoliday\n",
    "* De cara já nos deparamos com valores NaN em alguns campos."
   ]
  },
  {
   "cell_type": "code",
   "execution_count": 4,
   "id": "abf024b9",
   "metadata": {
    "execution": {
     "iopub.execute_input": "2022-06-20T07:30:38.086670Z",
     "iopub.status.busy": "2022-06-20T07:30:38.085750Z",
     "iopub.status.idle": "2022-06-20T07:30:38.138412Z",
     "shell.execute_reply": "2022-06-20T07:30:38.137264Z"
    },
    "papermill": {
     "duration": 0.083063,
     "end_time": "2022-06-20T07:30:38.140823",
     "exception": false,
     "start_time": "2022-06-20T07:30:38.057760",
     "status": "completed"
    },
    "tags": []
   },
   "outputs": [
    {
     "data": {
      "text/html": [
       "<div>\n",
       "<style scoped>\n",
       "    .dataframe tbody tr th:only-of-type {\n",
       "        vertical-align: middle;\n",
       "    }\n",
       "\n",
       "    .dataframe tbody tr th {\n",
       "        vertical-align: top;\n",
       "    }\n",
       "\n",
       "    .dataframe thead th {\n",
       "        text-align: right;\n",
       "    }\n",
       "</style>\n",
       "<table border=\"1\" class=\"dataframe\">\n",
       "  <thead>\n",
       "    <tr style=\"text-align: right;\">\n",
       "      <th></th>\n",
       "      <th>count</th>\n",
       "      <th>mean</th>\n",
       "      <th>std</th>\n",
       "      <th>min</th>\n",
       "      <th>25%</th>\n",
       "      <th>50%</th>\n",
       "      <th>75%</th>\n",
       "      <th>max</th>\n",
       "    </tr>\n",
       "  </thead>\n",
       "  <tbody>\n",
       "    <tr>\n",
       "      <th>Store</th>\n",
       "      <td>8190.0</td>\n",
       "      <td>23.000000</td>\n",
       "      <td>12.987966</td>\n",
       "      <td>1.000</td>\n",
       "      <td>12.000000</td>\n",
       "      <td>23.000000</td>\n",
       "      <td>34.000000</td>\n",
       "      <td>45.000000</td>\n",
       "    </tr>\n",
       "    <tr>\n",
       "      <th>Temperature</th>\n",
       "      <td>8190.0</td>\n",
       "      <td>59.356198</td>\n",
       "      <td>18.678607</td>\n",
       "      <td>-7.290</td>\n",
       "      <td>45.902500</td>\n",
       "      <td>60.710000</td>\n",
       "      <td>73.880000</td>\n",
       "      <td>101.950000</td>\n",
       "    </tr>\n",
       "    <tr>\n",
       "      <th>Fuel_Price</th>\n",
       "      <td>8190.0</td>\n",
       "      <td>3.405992</td>\n",
       "      <td>0.431337</td>\n",
       "      <td>2.472</td>\n",
       "      <td>3.041000</td>\n",
       "      <td>3.513000</td>\n",
       "      <td>3.743000</td>\n",
       "      <td>4.468000</td>\n",
       "    </tr>\n",
       "    <tr>\n",
       "      <th>MarkDown1</th>\n",
       "      <td>4032.0</td>\n",
       "      <td>7032.371786</td>\n",
       "      <td>9262.747448</td>\n",
       "      <td>-2781.450</td>\n",
       "      <td>1577.532500</td>\n",
       "      <td>4743.580000</td>\n",
       "      <td>8923.310000</td>\n",
       "      <td>103184.980000</td>\n",
       "    </tr>\n",
       "    <tr>\n",
       "      <th>MarkDown2</th>\n",
       "      <td>2921.0</td>\n",
       "      <td>3384.176594</td>\n",
       "      <td>8793.583016</td>\n",
       "      <td>-265.760</td>\n",
       "      <td>68.880000</td>\n",
       "      <td>364.570000</td>\n",
       "      <td>2153.350000</td>\n",
       "      <td>104519.540000</td>\n",
       "    </tr>\n",
       "    <tr>\n",
       "      <th>MarkDown3</th>\n",
       "      <td>3613.0</td>\n",
       "      <td>1760.100180</td>\n",
       "      <td>11276.462208</td>\n",
       "      <td>-179.260</td>\n",
       "      <td>6.600000</td>\n",
       "      <td>36.260000</td>\n",
       "      <td>163.150000</td>\n",
       "      <td>149483.310000</td>\n",
       "    </tr>\n",
       "    <tr>\n",
       "      <th>MarkDown4</th>\n",
       "      <td>3464.0</td>\n",
       "      <td>3292.935886</td>\n",
       "      <td>6792.329861</td>\n",
       "      <td>0.220</td>\n",
       "      <td>304.687500</td>\n",
       "      <td>1176.425000</td>\n",
       "      <td>3310.007500</td>\n",
       "      <td>67474.850000</td>\n",
       "    </tr>\n",
       "    <tr>\n",
       "      <th>MarkDown5</th>\n",
       "      <td>4050.0</td>\n",
       "      <td>4132.216422</td>\n",
       "      <td>13086.690278</td>\n",
       "      <td>-185.170</td>\n",
       "      <td>1440.827500</td>\n",
       "      <td>2727.135000</td>\n",
       "      <td>4832.555000</td>\n",
       "      <td>771448.100000</td>\n",
       "    </tr>\n",
       "    <tr>\n",
       "      <th>CPI</th>\n",
       "      <td>7605.0</td>\n",
       "      <td>172.460809</td>\n",
       "      <td>39.738346</td>\n",
       "      <td>126.064</td>\n",
       "      <td>132.364839</td>\n",
       "      <td>182.764003</td>\n",
       "      <td>213.932412</td>\n",
       "      <td>228.976456</td>\n",
       "    </tr>\n",
       "    <tr>\n",
       "      <th>Unemployment</th>\n",
       "      <td>7605.0</td>\n",
       "      <td>7.826821</td>\n",
       "      <td>1.877259</td>\n",
       "      <td>3.684</td>\n",
       "      <td>6.634000</td>\n",
       "      <td>7.806000</td>\n",
       "      <td>8.567000</td>\n",
       "      <td>14.313000</td>\n",
       "    </tr>\n",
       "  </tbody>\n",
       "</table>\n",
       "</div>"
      ],
      "text/plain": [
       "               count         mean           std       min          25%  \\\n",
       "Store         8190.0    23.000000     12.987966     1.000    12.000000   \n",
       "Temperature   8190.0    59.356198     18.678607    -7.290    45.902500   \n",
       "Fuel_Price    8190.0     3.405992      0.431337     2.472     3.041000   \n",
       "MarkDown1     4032.0  7032.371786   9262.747448 -2781.450  1577.532500   \n",
       "MarkDown2     2921.0  3384.176594   8793.583016  -265.760    68.880000   \n",
       "MarkDown3     3613.0  1760.100180  11276.462208  -179.260     6.600000   \n",
       "MarkDown4     3464.0  3292.935886   6792.329861     0.220   304.687500   \n",
       "MarkDown5     4050.0  4132.216422  13086.690278  -185.170  1440.827500   \n",
       "CPI           7605.0   172.460809     39.738346   126.064   132.364839   \n",
       "Unemployment  7605.0     7.826821      1.877259     3.684     6.634000   \n",
       "\n",
       "                      50%          75%            max  \n",
       "Store           23.000000    34.000000      45.000000  \n",
       "Temperature     60.710000    73.880000     101.950000  \n",
       "Fuel_Price       3.513000     3.743000       4.468000  \n",
       "MarkDown1     4743.580000  8923.310000  103184.980000  \n",
       "MarkDown2      364.570000  2153.350000  104519.540000  \n",
       "MarkDown3       36.260000   163.150000  149483.310000  \n",
       "MarkDown4     1176.425000  3310.007500   67474.850000  \n",
       "MarkDown5     2727.135000  4832.555000  771448.100000  \n",
       "CPI            182.764003   213.932412     228.976456  \n",
       "Unemployment     7.806000     8.567000      14.313000  "
      ]
     },
     "execution_count": 4,
     "metadata": {},
     "output_type": "execute_result"
    }
   ],
   "source": [
    "# Mostra alguns dados estatístico básicos\n",
    "df_features.describe().T"
   ]
  },
  {
   "cell_type": "markdown",
   "id": "f19d60f6",
   "metadata": {
    "papermill": {
     "duration": 0.026069,
     "end_time": "2022-06-20T07:30:38.193773",
     "exception": false,
     "start_time": "2022-06-20T07:30:38.167704",
     "status": "completed"
    },
    "tags": []
   },
   "source": [
    "**Inferências:**\n",
    "\n",
    "* Erro: Valores negativos em alguns campos."
   ]
  },
  {
   "cell_type": "markdown",
   "id": "2e55eba0",
   "metadata": {
    "papermill": {
     "duration": 0.025922,
     "end_time": "2022-06-20T07:30:38.246621",
     "exception": false,
     "start_time": "2022-06-20T07:30:38.220699",
     "status": "completed"
    },
    "tags": []
   },
   "source": [
    "# b) train.csv"
   ]
  },
  {
   "cell_type": "code",
   "execution_count": 5,
   "id": "85ec8144",
   "metadata": {
    "execution": {
     "iopub.execute_input": "2022-06-20T07:30:38.301987Z",
     "iopub.status.busy": "2022-06-20T07:30:38.300982Z",
     "iopub.status.idle": "2022-06-20T07:30:38.371526Z",
     "shell.execute_reply": "2022-06-20T07:30:38.370200Z"
    },
    "papermill": {
     "duration": 0.100856,
     "end_time": "2022-06-20T07:30:38.373789",
     "exception": false,
     "start_time": "2022-06-20T07:30:38.272933",
     "status": "completed"
    },
    "tags": []
   },
   "outputs": [
    {
     "name": "stdout",
     "output_type": "stream",
     "text": [
      "<class 'pandas.core.frame.DataFrame'>\n",
      "RangeIndex: 421570 entries, 0 to 421569\n",
      "Data columns (total 5 columns):\n",
      " #   Column        Non-Null Count   Dtype  \n",
      "---  ------        --------------   -----  \n",
      " 0   Store         421570 non-null  int64  \n",
      " 1   Dept          421570 non-null  int64  \n",
      " 2   Date          421570 non-null  object \n",
      " 3   Weekly_Sales  421570 non-null  float64\n",
      " 4   IsHoliday     421570 non-null  bool   \n",
      "dtypes: bool(1), float64(1), int64(2), object(1)\n",
      "memory usage: 13.3+ MB\n",
      "Shape of train.csv: None\n",
      "\n"
     ]
    },
    {
     "data": {
      "text/html": [
       "<div>\n",
       "<style scoped>\n",
       "    .dataframe tbody tr th:only-of-type {\n",
       "        vertical-align: middle;\n",
       "    }\n",
       "\n",
       "    .dataframe tbody tr th {\n",
       "        vertical-align: top;\n",
       "    }\n",
       "\n",
       "    .dataframe thead th {\n",
       "        text-align: right;\n",
       "    }\n",
       "</style>\n",
       "<table border=\"1\" class=\"dataframe\">\n",
       "  <thead>\n",
       "    <tr style=\"text-align: right;\">\n",
       "      <th></th>\n",
       "      <th>Store</th>\n",
       "      <th>Dept</th>\n",
       "      <th>Date</th>\n",
       "      <th>Weekly_Sales</th>\n",
       "      <th>IsHoliday</th>\n",
       "    </tr>\n",
       "  </thead>\n",
       "  <tbody>\n",
       "    <tr>\n",
       "      <th>0</th>\n",
       "      <td>1</td>\n",
       "      <td>1</td>\n",
       "      <td>2010-02-05</td>\n",
       "      <td>24924.50</td>\n",
       "      <td>False</td>\n",
       "    </tr>\n",
       "    <tr>\n",
       "      <th>1</th>\n",
       "      <td>1</td>\n",
       "      <td>1</td>\n",
       "      <td>2010-02-12</td>\n",
       "      <td>46039.49</td>\n",
       "      <td>True</td>\n",
       "    </tr>\n",
       "    <tr>\n",
       "      <th>2</th>\n",
       "      <td>1</td>\n",
       "      <td>1</td>\n",
       "      <td>2010-02-19</td>\n",
       "      <td>41595.55</td>\n",
       "      <td>False</td>\n",
       "    </tr>\n",
       "    <tr>\n",
       "      <th>3</th>\n",
       "      <td>1</td>\n",
       "      <td>1</td>\n",
       "      <td>2010-02-26</td>\n",
       "      <td>19403.54</td>\n",
       "      <td>False</td>\n",
       "    </tr>\n",
       "    <tr>\n",
       "      <th>4</th>\n",
       "      <td>1</td>\n",
       "      <td>1</td>\n",
       "      <td>2010-03-05</td>\n",
       "      <td>21827.90</td>\n",
       "      <td>False</td>\n",
       "    </tr>\n",
       "  </tbody>\n",
       "</table>\n",
       "</div>"
      ],
      "text/plain": [
       "   Store  Dept        Date  Weekly_Sales  IsHoliday\n",
       "0      1     1  2010-02-05      24924.50      False\n",
       "1      1     1  2010-02-12      46039.49       True\n",
       "2      1     1  2010-02-19      41595.55      False\n",
       "3      1     1  2010-02-26      19403.54      False\n",
       "4      1     1  2010-03-05      21827.90      False"
      ]
     },
     "execution_count": 5,
     "metadata": {},
     "output_type": "execute_result"
    }
   ],
   "source": [
    "# print das principais informações dos dados e das cinco primeiras linhas.\n",
    "print(f\"Shape of train.csv: {df_train.info()}\\n\")\n",
    "df_train.head()"
   ]
  },
  {
   "cell_type": "markdown",
   "id": "04c69a58",
   "metadata": {
    "papermill": {
     "duration": 0.026349,
     "end_time": "2022-06-20T07:30:38.427294",
     "exception": false,
     "start_time": "2022-06-20T07:30:38.400945",
     "status": "completed"
    },
    "tags": []
   },
   "source": [
    "**Inferências:**\n",
    "\n",
    "* Há 5 colunas e 421570 linhas.\n",
    "* A coluna \"Date\" deveria estar no formato datetime do pandas.\n",
    "* variáveis categóricas: IsHoliday"
   ]
  },
  {
   "cell_type": "code",
   "execution_count": 6,
   "id": "626b9d60",
   "metadata": {
    "execution": {
     "iopub.execute_input": "2022-06-20T07:30:38.483261Z",
     "iopub.status.busy": "2022-06-20T07:30:38.482163Z",
     "iopub.status.idle": "2022-06-20T07:30:38.552786Z",
     "shell.execute_reply": "2022-06-20T07:30:38.551636Z"
    },
    "papermill": {
     "duration": 0.101414,
     "end_time": "2022-06-20T07:30:38.555282",
     "exception": false,
     "start_time": "2022-06-20T07:30:38.453868",
     "status": "completed"
    },
    "tags": []
   },
   "outputs": [
    {
     "data": {
      "text/html": [
       "<div>\n",
       "<style scoped>\n",
       "    .dataframe tbody tr th:only-of-type {\n",
       "        vertical-align: middle;\n",
       "    }\n",
       "\n",
       "    .dataframe tbody tr th {\n",
       "        vertical-align: top;\n",
       "    }\n",
       "\n",
       "    .dataframe thead th {\n",
       "        text-align: right;\n",
       "    }\n",
       "</style>\n",
       "<table border=\"1\" class=\"dataframe\">\n",
       "  <thead>\n",
       "    <tr style=\"text-align: right;\">\n",
       "      <th></th>\n",
       "      <th>Store</th>\n",
       "      <th>Dept</th>\n",
       "      <th>Weekly_Sales</th>\n",
       "    </tr>\n",
       "  </thead>\n",
       "  <tbody>\n",
       "    <tr>\n",
       "      <th>count</th>\n",
       "      <td>421570.000000</td>\n",
       "      <td>421570.000000</td>\n",
       "      <td>421570.000000</td>\n",
       "    </tr>\n",
       "    <tr>\n",
       "      <th>mean</th>\n",
       "      <td>22.200546</td>\n",
       "      <td>44.260317</td>\n",
       "      <td>15981.258123</td>\n",
       "    </tr>\n",
       "    <tr>\n",
       "      <th>std</th>\n",
       "      <td>12.785297</td>\n",
       "      <td>30.492054</td>\n",
       "      <td>22711.183519</td>\n",
       "    </tr>\n",
       "    <tr>\n",
       "      <th>min</th>\n",
       "      <td>1.000000</td>\n",
       "      <td>1.000000</td>\n",
       "      <td>-4988.940000</td>\n",
       "    </tr>\n",
       "    <tr>\n",
       "      <th>25%</th>\n",
       "      <td>11.000000</td>\n",
       "      <td>18.000000</td>\n",
       "      <td>2079.650000</td>\n",
       "    </tr>\n",
       "    <tr>\n",
       "      <th>50%</th>\n",
       "      <td>22.000000</td>\n",
       "      <td>37.000000</td>\n",
       "      <td>7612.030000</td>\n",
       "    </tr>\n",
       "    <tr>\n",
       "      <th>75%</th>\n",
       "      <td>33.000000</td>\n",
       "      <td>74.000000</td>\n",
       "      <td>20205.852500</td>\n",
       "    </tr>\n",
       "    <tr>\n",
       "      <th>max</th>\n",
       "      <td>45.000000</td>\n",
       "      <td>99.000000</td>\n",
       "      <td>693099.360000</td>\n",
       "    </tr>\n",
       "  </tbody>\n",
       "</table>\n",
       "</div>"
      ],
      "text/plain": [
       "               Store           Dept   Weekly_Sales\n",
       "count  421570.000000  421570.000000  421570.000000\n",
       "mean       22.200546      44.260317   15981.258123\n",
       "std        12.785297      30.492054   22711.183519\n",
       "min         1.000000       1.000000   -4988.940000\n",
       "25%        11.000000      18.000000    2079.650000\n",
       "50%        22.000000      37.000000    7612.030000\n",
       "75%        33.000000      74.000000   20205.852500\n",
       "max        45.000000      99.000000  693099.360000"
      ]
     },
     "execution_count": 6,
     "metadata": {},
     "output_type": "execute_result"
    }
   ],
   "source": [
    "# Mostra alguns dados estatístico básicos\n",
    "df_train.describe()"
   ]
  },
  {
   "cell_type": "markdown",
   "id": "41dc2783",
   "metadata": {
    "papermill": {
     "duration": 0.027055,
     "end_time": "2022-06-20T07:30:38.609463",
     "exception": false,
     "start_time": "2022-06-20T07:30:38.582408",
     "status": "completed"
    },
    "tags": []
   },
   "source": [
    "**Inferências:**\n",
    "\n",
    "* Erro: Valores negativos nas vendas."
   ]
  },
  {
   "cell_type": "markdown",
   "id": "663b162a",
   "metadata": {
    "papermill": {
     "duration": 0.027369,
     "end_time": "2022-06-20T07:30:38.664276",
     "exception": false,
     "start_time": "2022-06-20T07:30:38.636907",
     "status": "completed"
    },
    "tags": []
   },
   "source": [
    "# c) test.csv"
   ]
  },
  {
   "cell_type": "code",
   "execution_count": 7,
   "id": "8f496e63",
   "metadata": {
    "execution": {
     "iopub.execute_input": "2022-06-20T07:30:38.721374Z",
     "iopub.status.busy": "2022-06-20T07:30:38.720129Z",
     "iopub.status.idle": "2022-06-20T07:30:38.754680Z",
     "shell.execute_reply": "2022-06-20T07:30:38.753837Z"
    },
    "papermill": {
     "duration": 0.066243,
     "end_time": "2022-06-20T07:30:38.758189",
     "exception": false,
     "start_time": "2022-06-20T07:30:38.691946",
     "status": "completed"
    },
    "tags": []
   },
   "outputs": [
    {
     "name": "stdout",
     "output_type": "stream",
     "text": [
      "<class 'pandas.core.frame.DataFrame'>\n",
      "RangeIndex: 115064 entries, 0 to 115063\n",
      "Data columns (total 4 columns):\n",
      " #   Column     Non-Null Count   Dtype \n",
      "---  ------     --------------   ----- \n",
      " 0   Store      115064 non-null  int64 \n",
      " 1   Dept       115064 non-null  int64 \n",
      " 2   Date       115064 non-null  object\n",
      " 3   IsHoliday  115064 non-null  bool  \n",
      "dtypes: bool(1), int64(2), object(1)\n",
      "memory usage: 2.7+ MB\n",
      "Shape of test.csv: None\n",
      "\n"
     ]
    },
    {
     "data": {
      "text/html": [
       "<div>\n",
       "<style scoped>\n",
       "    .dataframe tbody tr th:only-of-type {\n",
       "        vertical-align: middle;\n",
       "    }\n",
       "\n",
       "    .dataframe tbody tr th {\n",
       "        vertical-align: top;\n",
       "    }\n",
       "\n",
       "    .dataframe thead th {\n",
       "        text-align: right;\n",
       "    }\n",
       "</style>\n",
       "<table border=\"1\" class=\"dataframe\">\n",
       "  <thead>\n",
       "    <tr style=\"text-align: right;\">\n",
       "      <th></th>\n",
       "      <th>Store</th>\n",
       "      <th>Dept</th>\n",
       "      <th>Date</th>\n",
       "      <th>IsHoliday</th>\n",
       "    </tr>\n",
       "  </thead>\n",
       "  <tbody>\n",
       "    <tr>\n",
       "      <th>0</th>\n",
       "      <td>1</td>\n",
       "      <td>1</td>\n",
       "      <td>2012-11-02</td>\n",
       "      <td>False</td>\n",
       "    </tr>\n",
       "    <tr>\n",
       "      <th>1</th>\n",
       "      <td>1</td>\n",
       "      <td>1</td>\n",
       "      <td>2012-11-09</td>\n",
       "      <td>False</td>\n",
       "    </tr>\n",
       "    <tr>\n",
       "      <th>2</th>\n",
       "      <td>1</td>\n",
       "      <td>1</td>\n",
       "      <td>2012-11-16</td>\n",
       "      <td>False</td>\n",
       "    </tr>\n",
       "    <tr>\n",
       "      <th>3</th>\n",
       "      <td>1</td>\n",
       "      <td>1</td>\n",
       "      <td>2012-11-23</td>\n",
       "      <td>True</td>\n",
       "    </tr>\n",
       "    <tr>\n",
       "      <th>4</th>\n",
       "      <td>1</td>\n",
       "      <td>1</td>\n",
       "      <td>2012-11-30</td>\n",
       "      <td>False</td>\n",
       "    </tr>\n",
       "  </tbody>\n",
       "</table>\n",
       "</div>"
      ],
      "text/plain": [
       "   Store  Dept        Date  IsHoliday\n",
       "0      1     1  2012-11-02      False\n",
       "1      1     1  2012-11-09      False\n",
       "2      1     1  2012-11-16      False\n",
       "3      1     1  2012-11-23       True\n",
       "4      1     1  2012-11-30      False"
      ]
     },
     "execution_count": 7,
     "metadata": {},
     "output_type": "execute_result"
    }
   ],
   "source": [
    "# print das principais informações dos dados e das cinco primeiras linhas.\n",
    "print(f\"Shape of test.csv: {df_test.info()}\\n\")\n",
    "df_test.head()"
   ]
  },
  {
   "cell_type": "markdown",
   "id": "e2f4e1cc",
   "metadata": {
    "papermill": {
     "duration": 0.026902,
     "end_time": "2022-06-20T07:30:38.812583",
     "exception": false,
     "start_time": "2022-06-20T07:30:38.785681",
     "status": "completed"
    },
    "tags": []
   },
   "source": [
    "**Inferências:**\n",
    "\n",
    "* Há 4 colunas e 115064 linhas.\n",
    "* A coluna \"Date\" deveria estar no formato datetime do pandas.\n",
    "* variáveis categóricas: IsHoliday"
   ]
  },
  {
   "cell_type": "code",
   "execution_count": 8,
   "id": "ec120f6c",
   "metadata": {
    "execution": {
     "iopub.execute_input": "2022-06-20T07:30:38.869534Z",
     "iopub.status.busy": "2022-06-20T07:30:38.868870Z",
     "iopub.status.idle": "2022-06-20T07:30:38.891248Z",
     "shell.execute_reply": "2022-06-20T07:30:38.890518Z"
    },
    "papermill": {
     "duration": 0.053546,
     "end_time": "2022-06-20T07:30:38.893446",
     "exception": false,
     "start_time": "2022-06-20T07:30:38.839900",
     "status": "completed"
    },
    "tags": []
   },
   "outputs": [
    {
     "data": {
      "text/html": [
       "<div>\n",
       "<style scoped>\n",
       "    .dataframe tbody tr th:only-of-type {\n",
       "        vertical-align: middle;\n",
       "    }\n",
       "\n",
       "    .dataframe tbody tr th {\n",
       "        vertical-align: top;\n",
       "    }\n",
       "\n",
       "    .dataframe thead th {\n",
       "        text-align: right;\n",
       "    }\n",
       "</style>\n",
       "<table border=\"1\" class=\"dataframe\">\n",
       "  <thead>\n",
       "    <tr style=\"text-align: right;\">\n",
       "      <th></th>\n",
       "      <th>Store</th>\n",
       "      <th>Dept</th>\n",
       "    </tr>\n",
       "  </thead>\n",
       "  <tbody>\n",
       "    <tr>\n",
       "      <th>count</th>\n",
       "      <td>115064.000000</td>\n",
       "      <td>115064.000000</td>\n",
       "    </tr>\n",
       "    <tr>\n",
       "      <th>mean</th>\n",
       "      <td>22.238207</td>\n",
       "      <td>44.339524</td>\n",
       "    </tr>\n",
       "    <tr>\n",
       "      <th>std</th>\n",
       "      <td>12.809930</td>\n",
       "      <td>30.656410</td>\n",
       "    </tr>\n",
       "    <tr>\n",
       "      <th>min</th>\n",
       "      <td>1.000000</td>\n",
       "      <td>1.000000</td>\n",
       "    </tr>\n",
       "    <tr>\n",
       "      <th>25%</th>\n",
       "      <td>11.000000</td>\n",
       "      <td>18.000000</td>\n",
       "    </tr>\n",
       "    <tr>\n",
       "      <th>50%</th>\n",
       "      <td>22.000000</td>\n",
       "      <td>37.000000</td>\n",
       "    </tr>\n",
       "    <tr>\n",
       "      <th>75%</th>\n",
       "      <td>33.000000</td>\n",
       "      <td>74.000000</td>\n",
       "    </tr>\n",
       "    <tr>\n",
       "      <th>max</th>\n",
       "      <td>45.000000</td>\n",
       "      <td>99.000000</td>\n",
       "    </tr>\n",
       "  </tbody>\n",
       "</table>\n",
       "</div>"
      ],
      "text/plain": [
       "               Store           Dept\n",
       "count  115064.000000  115064.000000\n",
       "mean       22.238207      44.339524\n",
       "std        12.809930      30.656410\n",
       "min         1.000000       1.000000\n",
       "25%        11.000000      18.000000\n",
       "50%        22.000000      37.000000\n",
       "75%        33.000000      74.000000\n",
       "max        45.000000      99.000000"
      ]
     },
     "execution_count": 8,
     "metadata": {},
     "output_type": "execute_result"
    }
   ],
   "source": [
    "# Mostra alguns dados estatístico básicos\n",
    "df_test.describe()"
   ]
  },
  {
   "cell_type": "markdown",
   "id": "07361f62",
   "metadata": {
    "papermill": {
     "duration": 0.027397,
     "end_time": "2022-06-20T07:30:38.948550",
     "exception": false,
     "start_time": "2022-06-20T07:30:38.921153",
     "status": "completed"
    },
    "tags": []
   },
   "source": [
    "# d) stores.csv"
   ]
  },
  {
   "cell_type": "code",
   "execution_count": 9,
   "id": "3aa2d0d5",
   "metadata": {
    "execution": {
     "iopub.execute_input": "2022-06-20T07:30:39.006143Z",
     "iopub.status.busy": "2022-06-20T07:30:39.005500Z",
     "iopub.status.idle": "2022-06-20T07:30:39.023044Z",
     "shell.execute_reply": "2022-06-20T07:30:39.021932Z"
    },
    "papermill": {
     "duration": 0.050341,
     "end_time": "2022-06-20T07:30:39.026187",
     "exception": false,
     "start_time": "2022-06-20T07:30:38.975846",
     "status": "completed"
    },
    "tags": []
   },
   "outputs": [
    {
     "name": "stdout",
     "output_type": "stream",
     "text": [
      "<class 'pandas.core.frame.DataFrame'>\n",
      "RangeIndex: 45 entries, 0 to 44\n",
      "Data columns (total 3 columns):\n",
      " #   Column  Non-Null Count  Dtype \n",
      "---  ------  --------------  ----- \n",
      " 0   Store   45 non-null     int64 \n",
      " 1   Type    45 non-null     object\n",
      " 2   Size    45 non-null     int64 \n",
      "dtypes: int64(2), object(1)\n",
      "memory usage: 1.2+ KB\n",
      "Shape of stores.csv: None\n",
      "\n"
     ]
    },
    {
     "data": {
      "text/html": [
       "<div>\n",
       "<style scoped>\n",
       "    .dataframe tbody tr th:only-of-type {\n",
       "        vertical-align: middle;\n",
       "    }\n",
       "\n",
       "    .dataframe tbody tr th {\n",
       "        vertical-align: top;\n",
       "    }\n",
       "\n",
       "    .dataframe thead th {\n",
       "        text-align: right;\n",
       "    }\n",
       "</style>\n",
       "<table border=\"1\" class=\"dataframe\">\n",
       "  <thead>\n",
       "    <tr style=\"text-align: right;\">\n",
       "      <th></th>\n",
       "      <th>Store</th>\n",
       "      <th>Type</th>\n",
       "      <th>Size</th>\n",
       "    </tr>\n",
       "  </thead>\n",
       "  <tbody>\n",
       "    <tr>\n",
       "      <th>0</th>\n",
       "      <td>1</td>\n",
       "      <td>A</td>\n",
       "      <td>151315</td>\n",
       "    </tr>\n",
       "    <tr>\n",
       "      <th>1</th>\n",
       "      <td>2</td>\n",
       "      <td>A</td>\n",
       "      <td>202307</td>\n",
       "    </tr>\n",
       "    <tr>\n",
       "      <th>2</th>\n",
       "      <td>3</td>\n",
       "      <td>B</td>\n",
       "      <td>37392</td>\n",
       "    </tr>\n",
       "    <tr>\n",
       "      <th>3</th>\n",
       "      <td>4</td>\n",
       "      <td>A</td>\n",
       "      <td>205863</td>\n",
       "    </tr>\n",
       "    <tr>\n",
       "      <th>4</th>\n",
       "      <td>5</td>\n",
       "      <td>B</td>\n",
       "      <td>34875</td>\n",
       "    </tr>\n",
       "  </tbody>\n",
       "</table>\n",
       "</div>"
      ],
      "text/plain": [
       "   Store Type    Size\n",
       "0      1    A  151315\n",
       "1      2    A  202307\n",
       "2      3    B   37392\n",
       "3      4    A  205863\n",
       "4      5    B   34875"
      ]
     },
     "execution_count": 9,
     "metadata": {},
     "output_type": "execute_result"
    }
   ],
   "source": [
    "# print das principais informações dos dados e das cinco primeiras linhas.\n",
    "print(f\"Shape of stores.csv: {df_stores.info()}\\n\")\n",
    "df_stores.head()"
   ]
  },
  {
   "cell_type": "markdown",
   "id": "366f4d86",
   "metadata": {
    "papermill": {
     "duration": 0.02714,
     "end_time": "2022-06-20T07:30:39.081414",
     "exception": false,
     "start_time": "2022-06-20T07:30:39.054274",
     "status": "completed"
    },
    "tags": []
   },
   "source": [
    "**Inferências:**\n",
    "\n",
    "* Há 3 colunas e 45 linhas.\n",
    "* A coluna \"Date\" deveria estar no formato datetime do pandas.\n",
    "* variáveis categórica: Type"
   ]
  },
  {
   "cell_type": "code",
   "execution_count": 10,
   "id": "d4fa9536",
   "metadata": {
    "execution": {
     "iopub.execute_input": "2022-06-20T07:30:39.139198Z",
     "iopub.status.busy": "2022-06-20T07:30:39.138220Z",
     "iopub.status.idle": "2022-06-20T07:30:39.156486Z",
     "shell.execute_reply": "2022-06-20T07:30:39.155420Z"
    },
    "papermill": {
     "duration": 0.049383,
     "end_time": "2022-06-20T07:30:39.158601",
     "exception": false,
     "start_time": "2022-06-20T07:30:39.109218",
     "status": "completed"
    },
    "tags": []
   },
   "outputs": [
    {
     "data": {
      "text/html": [
       "<div>\n",
       "<style scoped>\n",
       "    .dataframe tbody tr th:only-of-type {\n",
       "        vertical-align: middle;\n",
       "    }\n",
       "\n",
       "    .dataframe tbody tr th {\n",
       "        vertical-align: top;\n",
       "    }\n",
       "\n",
       "    .dataframe thead th {\n",
       "        text-align: right;\n",
       "    }\n",
       "</style>\n",
       "<table border=\"1\" class=\"dataframe\">\n",
       "  <thead>\n",
       "    <tr style=\"text-align: right;\">\n",
       "      <th></th>\n",
       "      <th>Store</th>\n",
       "      <th>Size</th>\n",
       "    </tr>\n",
       "  </thead>\n",
       "  <tbody>\n",
       "    <tr>\n",
       "      <th>count</th>\n",
       "      <td>45.000000</td>\n",
       "      <td>45.000000</td>\n",
       "    </tr>\n",
       "    <tr>\n",
       "      <th>mean</th>\n",
       "      <td>23.000000</td>\n",
       "      <td>130287.600000</td>\n",
       "    </tr>\n",
       "    <tr>\n",
       "      <th>std</th>\n",
       "      <td>13.133926</td>\n",
       "      <td>63825.271991</td>\n",
       "    </tr>\n",
       "    <tr>\n",
       "      <th>min</th>\n",
       "      <td>1.000000</td>\n",
       "      <td>34875.000000</td>\n",
       "    </tr>\n",
       "    <tr>\n",
       "      <th>25%</th>\n",
       "      <td>12.000000</td>\n",
       "      <td>70713.000000</td>\n",
       "    </tr>\n",
       "    <tr>\n",
       "      <th>50%</th>\n",
       "      <td>23.000000</td>\n",
       "      <td>126512.000000</td>\n",
       "    </tr>\n",
       "    <tr>\n",
       "      <th>75%</th>\n",
       "      <td>34.000000</td>\n",
       "      <td>202307.000000</td>\n",
       "    </tr>\n",
       "    <tr>\n",
       "      <th>max</th>\n",
       "      <td>45.000000</td>\n",
       "      <td>219622.000000</td>\n",
       "    </tr>\n",
       "  </tbody>\n",
       "</table>\n",
       "</div>"
      ],
      "text/plain": [
       "           Store           Size\n",
       "count  45.000000      45.000000\n",
       "mean   23.000000  130287.600000\n",
       "std    13.133926   63825.271991\n",
       "min     1.000000   34875.000000\n",
       "25%    12.000000   70713.000000\n",
       "50%    23.000000  126512.000000\n",
       "75%    34.000000  202307.000000\n",
       "max    45.000000  219622.000000"
      ]
     },
     "execution_count": 10,
     "metadata": {},
     "output_type": "execute_result"
    }
   ],
   "source": [
    "# Mostra alguns dados estatístico básicos\n",
    "df_stores.describe()"
   ]
  },
  {
   "cell_type": "markdown",
   "id": "392653a6",
   "metadata": {
    "papermill": {
     "duration": 0.027346,
     "end_time": "2022-06-20T07:30:39.213470",
     "exception": false,
     "start_time": "2022-06-20T07:30:39.186124",
     "status": "completed"
    },
    "tags": []
   },
   "source": [
    "#  # 5. Tratamento e limpeza dos dados "
   ]
  },
  {
   "cell_type": "markdown",
   "id": "73258946",
   "metadata": {
    "papermill": {
     "duration": 0.027,
     "end_time": "2022-06-20T07:30:39.268214",
     "exception": false,
     "start_time": "2022-06-20T07:30:39.241214",
     "status": "completed"
    },
    "tags": []
   },
   "source": [
    "# 5.1 Elaboração de dois dataframes: um de treino e um de teste"
   ]
  },
  {
   "cell_type": "markdown",
   "id": "97f2b9b1",
   "metadata": {
    "papermill": {
     "duration": 0.027188,
     "end_time": "2022-06-20T07:30:39.323027",
     "exception": false,
     "start_time": "2022-06-20T07:30:39.295839",
     "status": "completed"
    },
    "tags": []
   },
   "source": [
    "# a) Dados de treino: merge entres os arquivos features.csv, stores.csv e train.csv"
   ]
  },
  {
   "cell_type": "code",
   "execution_count": 11,
   "id": "b57de59e",
   "metadata": {
    "execution": {
     "iopub.execute_input": "2022-06-20T07:30:39.380872Z",
     "iopub.status.busy": "2022-06-20T07:30:39.379988Z",
     "iopub.status.idle": "2022-06-20T07:30:39.644395Z",
     "shell.execute_reply": "2022-06-20T07:30:39.643280Z"
    },
    "papermill": {
     "duration": 0.296586,
     "end_time": "2022-06-20T07:30:39.647332",
     "exception": false,
     "start_time": "2022-06-20T07:30:39.350746",
     "status": "completed"
    },
    "tags": []
   },
   "outputs": [],
   "source": [
    "# Merge de 3 dataframes para gerar um dataframe final de treino aqui intitulado como\"df_train_final\"\n",
    "df_train_final = df_train.merge(df_stores,\n",
    "                                how='inner', \n",
    "                                on='Store')\\\n",
    "                         .merge(df_features, \n",
    "                                how='inner', \n",
    "                                on=['Store', 'Date', 'IsHoliday'])\n",
    "                        "
   ]
  },
  {
   "cell_type": "code",
   "execution_count": 12,
   "id": "2206c10c",
   "metadata": {
    "execution": {
     "iopub.execute_input": "2022-06-20T07:30:39.707098Z",
     "iopub.status.busy": "2022-06-20T07:30:39.706014Z",
     "iopub.status.idle": "2022-06-20T07:30:39.845031Z",
     "shell.execute_reply": "2022-06-20T07:30:39.843457Z"
    },
    "papermill": {
     "duration": 0.171027,
     "end_time": "2022-06-20T07:30:39.847324",
     "exception": false,
     "start_time": "2022-06-20T07:30:39.676297",
     "status": "completed"
    },
    "tags": []
   },
   "outputs": [
    {
     "name": "stdout",
     "output_type": "stream",
     "text": [
      "<class 'pandas.core.frame.DataFrame'>\n",
      "Int64Index: 421570 entries, 0 to 421569\n",
      "Data columns (total 16 columns):\n",
      " #   Column        Non-Null Count   Dtype  \n",
      "---  ------        --------------   -----  \n",
      " 0   Store         421570 non-null  int64  \n",
      " 1   Dept          421570 non-null  int64  \n",
      " 2   Date          421570 non-null  object \n",
      " 3   Weekly_Sales  421570 non-null  float64\n",
      " 4   IsHoliday     421570 non-null  bool   \n",
      " 5   Type          421570 non-null  object \n",
      " 6   Size          421570 non-null  int64  \n",
      " 7   Temperature   421570 non-null  float64\n",
      " 8   Fuel_Price    421570 non-null  float64\n",
      " 9   MarkDown1     150681 non-null  float64\n",
      " 10  MarkDown2     111248 non-null  float64\n",
      " 11  MarkDown3     137091 non-null  float64\n",
      " 12  MarkDown4     134967 non-null  float64\n",
      " 13  MarkDown5     151432 non-null  float64\n",
      " 14  CPI           421570 non-null  float64\n",
      " 15  Unemployment  421570 non-null  float64\n",
      "dtypes: bool(1), float64(10), int64(3), object(2)\n",
      "memory usage: 51.9+ MB\n",
      "Shape of df_train_final.csv: None\n"
     ]
    },
    {
     "data": {
      "text/html": [
       "<div>\n",
       "<style scoped>\n",
       "    .dataframe tbody tr th:only-of-type {\n",
       "        vertical-align: middle;\n",
       "    }\n",
       "\n",
       "    .dataframe tbody tr th {\n",
       "        vertical-align: top;\n",
       "    }\n",
       "\n",
       "    .dataframe thead th {\n",
       "        text-align: right;\n",
       "    }\n",
       "</style>\n",
       "<table border=\"1\" class=\"dataframe\">\n",
       "  <thead>\n",
       "    <tr style=\"text-align: right;\">\n",
       "      <th></th>\n",
       "      <th>Store</th>\n",
       "      <th>Dept</th>\n",
       "      <th>Date</th>\n",
       "      <th>Weekly_Sales</th>\n",
       "      <th>IsHoliday</th>\n",
       "      <th>Type</th>\n",
       "      <th>Size</th>\n",
       "      <th>Temperature</th>\n",
       "      <th>Fuel_Price</th>\n",
       "      <th>MarkDown1</th>\n",
       "      <th>MarkDown2</th>\n",
       "      <th>MarkDown3</th>\n",
       "      <th>MarkDown4</th>\n",
       "      <th>MarkDown5</th>\n",
       "      <th>CPI</th>\n",
       "      <th>Unemployment</th>\n",
       "    </tr>\n",
       "  </thead>\n",
       "  <tbody>\n",
       "    <tr>\n",
       "      <th>0</th>\n",
       "      <td>1</td>\n",
       "      <td>1</td>\n",
       "      <td>2010-02-05</td>\n",
       "      <td>24924.50</td>\n",
       "      <td>False</td>\n",
       "      <td>A</td>\n",
       "      <td>151315</td>\n",
       "      <td>42.31</td>\n",
       "      <td>2.572</td>\n",
       "      <td>NaN</td>\n",
       "      <td>NaN</td>\n",
       "      <td>NaN</td>\n",
       "      <td>NaN</td>\n",
       "      <td>NaN</td>\n",
       "      <td>211.096358</td>\n",
       "      <td>8.106</td>\n",
       "    </tr>\n",
       "    <tr>\n",
       "      <th>1</th>\n",
       "      <td>1</td>\n",
       "      <td>2</td>\n",
       "      <td>2010-02-05</td>\n",
       "      <td>50605.27</td>\n",
       "      <td>False</td>\n",
       "      <td>A</td>\n",
       "      <td>151315</td>\n",
       "      <td>42.31</td>\n",
       "      <td>2.572</td>\n",
       "      <td>NaN</td>\n",
       "      <td>NaN</td>\n",
       "      <td>NaN</td>\n",
       "      <td>NaN</td>\n",
       "      <td>NaN</td>\n",
       "      <td>211.096358</td>\n",
       "      <td>8.106</td>\n",
       "    </tr>\n",
       "    <tr>\n",
       "      <th>2</th>\n",
       "      <td>1</td>\n",
       "      <td>3</td>\n",
       "      <td>2010-02-05</td>\n",
       "      <td>13740.12</td>\n",
       "      <td>False</td>\n",
       "      <td>A</td>\n",
       "      <td>151315</td>\n",
       "      <td>42.31</td>\n",
       "      <td>2.572</td>\n",
       "      <td>NaN</td>\n",
       "      <td>NaN</td>\n",
       "      <td>NaN</td>\n",
       "      <td>NaN</td>\n",
       "      <td>NaN</td>\n",
       "      <td>211.096358</td>\n",
       "      <td>8.106</td>\n",
       "    </tr>\n",
       "    <tr>\n",
       "      <th>3</th>\n",
       "      <td>1</td>\n",
       "      <td>4</td>\n",
       "      <td>2010-02-05</td>\n",
       "      <td>39954.04</td>\n",
       "      <td>False</td>\n",
       "      <td>A</td>\n",
       "      <td>151315</td>\n",
       "      <td>42.31</td>\n",
       "      <td>2.572</td>\n",
       "      <td>NaN</td>\n",
       "      <td>NaN</td>\n",
       "      <td>NaN</td>\n",
       "      <td>NaN</td>\n",
       "      <td>NaN</td>\n",
       "      <td>211.096358</td>\n",
       "      <td>8.106</td>\n",
       "    </tr>\n",
       "    <tr>\n",
       "      <th>4</th>\n",
       "      <td>1</td>\n",
       "      <td>5</td>\n",
       "      <td>2010-02-05</td>\n",
       "      <td>32229.38</td>\n",
       "      <td>False</td>\n",
       "      <td>A</td>\n",
       "      <td>151315</td>\n",
       "      <td>42.31</td>\n",
       "      <td>2.572</td>\n",
       "      <td>NaN</td>\n",
       "      <td>NaN</td>\n",
       "      <td>NaN</td>\n",
       "      <td>NaN</td>\n",
       "      <td>NaN</td>\n",
       "      <td>211.096358</td>\n",
       "      <td>8.106</td>\n",
       "    </tr>\n",
       "  </tbody>\n",
       "</table>\n",
       "</div>"
      ],
      "text/plain": [
       "   Store  Dept        Date  Weekly_Sales  IsHoliday Type    Size  Temperature  \\\n",
       "0      1     1  2010-02-05      24924.50      False    A  151315        42.31   \n",
       "1      1     2  2010-02-05      50605.27      False    A  151315        42.31   \n",
       "2      1     3  2010-02-05      13740.12      False    A  151315        42.31   \n",
       "3      1     4  2010-02-05      39954.04      False    A  151315        42.31   \n",
       "4      1     5  2010-02-05      32229.38      False    A  151315        42.31   \n",
       "\n",
       "   Fuel_Price  MarkDown1  MarkDown2  MarkDown3  MarkDown4  MarkDown5  \\\n",
       "0       2.572        NaN        NaN        NaN        NaN        NaN   \n",
       "1       2.572        NaN        NaN        NaN        NaN        NaN   \n",
       "2       2.572        NaN        NaN        NaN        NaN        NaN   \n",
       "3       2.572        NaN        NaN        NaN        NaN        NaN   \n",
       "4       2.572        NaN        NaN        NaN        NaN        NaN   \n",
       "\n",
       "          CPI  Unemployment  \n",
       "0  211.096358         8.106  \n",
       "1  211.096358         8.106  \n",
       "2  211.096358         8.106  \n",
       "3  211.096358         8.106  \n",
       "4  211.096358         8.106  "
      ]
     },
     "execution_count": 12,
     "metadata": {},
     "output_type": "execute_result"
    }
   ],
   "source": [
    "# # print das principais informações dos dados e das cinco primeiras linhas.\n",
    "print(f\"Shape of df_train_final.csv: {df_train_final.info()}\")\n",
    "df_train_final.head()"
   ]
  },
  {
   "cell_type": "markdown",
   "id": "5d949e0b",
   "metadata": {
    "papermill": {
     "duration": 0.027878,
     "end_time": "2022-06-20T07:30:39.903817",
     "exception": false,
     "start_time": "2022-06-20T07:30:39.875939",
     "status": "completed"
    },
    "tags": []
   },
   "source": [
    "**Inferências:**\n",
    "\n",
    "* Há 16 colunas e 421570 linhas.\n",
    "* A coluna \"Date\" deveria estar no formato datetime do pandas.\n",
    "* variáveis categórica: Type, IsHoliday\n",
    "* Valores com NaN em alguns campos"
   ]
  },
  {
   "cell_type": "code",
   "execution_count": 13,
   "id": "708d95fc",
   "metadata": {
    "execution": {
     "iopub.execute_input": "2022-06-20T07:30:39.963033Z",
     "iopub.status.busy": "2022-06-20T07:30:39.962486Z",
     "iopub.status.idle": "2022-06-20T07:30:40.279878Z",
     "shell.execute_reply": "2022-06-20T07:30:40.278901Z"
    },
    "papermill": {
     "duration": 0.349778,
     "end_time": "2022-06-20T07:30:40.281926",
     "exception": false,
     "start_time": "2022-06-20T07:30:39.932148",
     "status": "completed"
    },
    "tags": []
   },
   "outputs": [
    {
     "data": {
      "text/html": [
       "<div>\n",
       "<style scoped>\n",
       "    .dataframe tbody tr th:only-of-type {\n",
       "        vertical-align: middle;\n",
       "    }\n",
       "\n",
       "    .dataframe tbody tr th {\n",
       "        vertical-align: top;\n",
       "    }\n",
       "\n",
       "    .dataframe thead th {\n",
       "        text-align: right;\n",
       "    }\n",
       "</style>\n",
       "<table border=\"1\" class=\"dataframe\">\n",
       "  <thead>\n",
       "    <tr style=\"text-align: right;\">\n",
       "      <th></th>\n",
       "      <th>count</th>\n",
       "      <th>mean</th>\n",
       "      <th>std</th>\n",
       "      <th>min</th>\n",
       "      <th>25%</th>\n",
       "      <th>50%</th>\n",
       "      <th>75%</th>\n",
       "      <th>max</th>\n",
       "    </tr>\n",
       "  </thead>\n",
       "  <tbody>\n",
       "    <tr>\n",
       "      <th>Store</th>\n",
       "      <td>421570.0</td>\n",
       "      <td>22.200546</td>\n",
       "      <td>12.785297</td>\n",
       "      <td>1.000</td>\n",
       "      <td>11.000000</td>\n",
       "      <td>22.00000</td>\n",
       "      <td>33.000000</td>\n",
       "      <td>45.000000</td>\n",
       "    </tr>\n",
       "    <tr>\n",
       "      <th>Dept</th>\n",
       "      <td>421570.0</td>\n",
       "      <td>44.260317</td>\n",
       "      <td>30.492054</td>\n",
       "      <td>1.000</td>\n",
       "      <td>18.000000</td>\n",
       "      <td>37.00000</td>\n",
       "      <td>74.000000</td>\n",
       "      <td>99.000000</td>\n",
       "    </tr>\n",
       "    <tr>\n",
       "      <th>Weekly_Sales</th>\n",
       "      <td>421570.0</td>\n",
       "      <td>15981.258123</td>\n",
       "      <td>22711.183519</td>\n",
       "      <td>-4988.940</td>\n",
       "      <td>2079.650000</td>\n",
       "      <td>7612.03000</td>\n",
       "      <td>20205.852500</td>\n",
       "      <td>693099.360000</td>\n",
       "    </tr>\n",
       "    <tr>\n",
       "      <th>Size</th>\n",
       "      <td>421570.0</td>\n",
       "      <td>136727.915739</td>\n",
       "      <td>60980.583328</td>\n",
       "      <td>34875.000</td>\n",
       "      <td>93638.000000</td>\n",
       "      <td>140167.00000</td>\n",
       "      <td>202505.000000</td>\n",
       "      <td>219622.000000</td>\n",
       "    </tr>\n",
       "    <tr>\n",
       "      <th>Temperature</th>\n",
       "      <td>421570.0</td>\n",
       "      <td>60.090059</td>\n",
       "      <td>18.447931</td>\n",
       "      <td>-2.060</td>\n",
       "      <td>46.680000</td>\n",
       "      <td>62.09000</td>\n",
       "      <td>74.280000</td>\n",
       "      <td>100.140000</td>\n",
       "    </tr>\n",
       "    <tr>\n",
       "      <th>Fuel_Price</th>\n",
       "      <td>421570.0</td>\n",
       "      <td>3.361027</td>\n",
       "      <td>0.458515</td>\n",
       "      <td>2.472</td>\n",
       "      <td>2.933000</td>\n",
       "      <td>3.45200</td>\n",
       "      <td>3.738000</td>\n",
       "      <td>4.468000</td>\n",
       "    </tr>\n",
       "    <tr>\n",
       "      <th>MarkDown1</th>\n",
       "      <td>150681.0</td>\n",
       "      <td>7246.420196</td>\n",
       "      <td>8291.221345</td>\n",
       "      <td>0.270</td>\n",
       "      <td>2240.270000</td>\n",
       "      <td>5347.45000</td>\n",
       "      <td>9210.900000</td>\n",
       "      <td>88646.760000</td>\n",
       "    </tr>\n",
       "    <tr>\n",
       "      <th>MarkDown2</th>\n",
       "      <td>111248.0</td>\n",
       "      <td>3334.628621</td>\n",
       "      <td>9475.357325</td>\n",
       "      <td>-265.760</td>\n",
       "      <td>41.600000</td>\n",
       "      <td>192.00000</td>\n",
       "      <td>1926.940000</td>\n",
       "      <td>104519.540000</td>\n",
       "    </tr>\n",
       "    <tr>\n",
       "      <th>MarkDown3</th>\n",
       "      <td>137091.0</td>\n",
       "      <td>1439.421384</td>\n",
       "      <td>9623.078290</td>\n",
       "      <td>-29.100</td>\n",
       "      <td>5.080000</td>\n",
       "      <td>24.60000</td>\n",
       "      <td>103.990000</td>\n",
       "      <td>141630.610000</td>\n",
       "    </tr>\n",
       "    <tr>\n",
       "      <th>MarkDown4</th>\n",
       "      <td>134967.0</td>\n",
       "      <td>3383.168256</td>\n",
       "      <td>6292.384031</td>\n",
       "      <td>0.220</td>\n",
       "      <td>504.220000</td>\n",
       "      <td>1481.31000</td>\n",
       "      <td>3595.040000</td>\n",
       "      <td>67474.850000</td>\n",
       "    </tr>\n",
       "    <tr>\n",
       "      <th>MarkDown5</th>\n",
       "      <td>151432.0</td>\n",
       "      <td>4628.975079</td>\n",
       "      <td>5962.887455</td>\n",
       "      <td>135.160</td>\n",
       "      <td>1878.440000</td>\n",
       "      <td>3359.45000</td>\n",
       "      <td>5563.800000</td>\n",
       "      <td>108519.280000</td>\n",
       "    </tr>\n",
       "    <tr>\n",
       "      <th>CPI</th>\n",
       "      <td>421570.0</td>\n",
       "      <td>171.201947</td>\n",
       "      <td>39.159276</td>\n",
       "      <td>126.064</td>\n",
       "      <td>132.022667</td>\n",
       "      <td>182.31878</td>\n",
       "      <td>212.416993</td>\n",
       "      <td>227.232807</td>\n",
       "    </tr>\n",
       "    <tr>\n",
       "      <th>Unemployment</th>\n",
       "      <td>421570.0</td>\n",
       "      <td>7.960289</td>\n",
       "      <td>1.863296</td>\n",
       "      <td>3.879</td>\n",
       "      <td>6.891000</td>\n",
       "      <td>7.86600</td>\n",
       "      <td>8.572000</td>\n",
       "      <td>14.313000</td>\n",
       "    </tr>\n",
       "  </tbody>\n",
       "</table>\n",
       "</div>"
      ],
      "text/plain": [
       "                 count           mean           std        min           25%  \\\n",
       "Store         421570.0      22.200546     12.785297      1.000     11.000000   \n",
       "Dept          421570.0      44.260317     30.492054      1.000     18.000000   \n",
       "Weekly_Sales  421570.0   15981.258123  22711.183519  -4988.940   2079.650000   \n",
       "Size          421570.0  136727.915739  60980.583328  34875.000  93638.000000   \n",
       "Temperature   421570.0      60.090059     18.447931     -2.060     46.680000   \n",
       "Fuel_Price    421570.0       3.361027      0.458515      2.472      2.933000   \n",
       "MarkDown1     150681.0    7246.420196   8291.221345      0.270   2240.270000   \n",
       "MarkDown2     111248.0    3334.628621   9475.357325   -265.760     41.600000   \n",
       "MarkDown3     137091.0    1439.421384   9623.078290    -29.100      5.080000   \n",
       "MarkDown4     134967.0    3383.168256   6292.384031      0.220    504.220000   \n",
       "MarkDown5     151432.0    4628.975079   5962.887455    135.160   1878.440000   \n",
       "CPI           421570.0     171.201947     39.159276    126.064    132.022667   \n",
       "Unemployment  421570.0       7.960289      1.863296      3.879      6.891000   \n",
       "\n",
       "                       50%            75%            max  \n",
       "Store             22.00000      33.000000      45.000000  \n",
       "Dept              37.00000      74.000000      99.000000  \n",
       "Weekly_Sales    7612.03000   20205.852500  693099.360000  \n",
       "Size          140167.00000  202505.000000  219622.000000  \n",
       "Temperature       62.09000      74.280000     100.140000  \n",
       "Fuel_Price         3.45200       3.738000       4.468000  \n",
       "MarkDown1       5347.45000    9210.900000   88646.760000  \n",
       "MarkDown2        192.00000    1926.940000  104519.540000  \n",
       "MarkDown3         24.60000     103.990000  141630.610000  \n",
       "MarkDown4       1481.31000    3595.040000   67474.850000  \n",
       "MarkDown5       3359.45000    5563.800000  108519.280000  \n",
       "CPI              182.31878     212.416993     227.232807  \n",
       "Unemployment       7.86600       8.572000      14.313000  "
      ]
     },
     "execution_count": 13,
     "metadata": {},
     "output_type": "execute_result"
    }
   ],
   "source": [
    "df_train_final.describe().T"
   ]
  },
  {
   "cell_type": "markdown",
   "id": "a27ecb3d",
   "metadata": {
    "papermill": {
     "duration": 0.027899,
     "end_time": "2022-06-20T07:30:40.338985",
     "exception": false,
     "start_time": "2022-06-20T07:30:40.311086",
     "status": "completed"
    },
    "tags": []
   },
   "source": [
    "**Observações:**\n",
    "\n",
    "* Erro: Valores negativos em alguns campos."
   ]
  },
  {
   "cell_type": "markdown",
   "id": "47c5c1b8",
   "metadata": {
    "papermill": {
     "duration": 0.028439,
     "end_time": "2022-06-20T07:30:40.397287",
     "exception": false,
     "start_time": "2022-06-20T07:30:40.368848",
     "status": "completed"
    },
    "tags": []
   },
   "source": [
    "# b) Dados de teste: merge entres os arquivos features.csv, stores.csv e test.csv"
   ]
  },
  {
   "cell_type": "code",
   "execution_count": 14,
   "id": "894d526f",
   "metadata": {
    "execution": {
     "iopub.execute_input": "2022-06-20T07:30:40.456080Z",
     "iopub.status.busy": "2022-06-20T07:30:40.455570Z",
     "iopub.status.idle": "2022-06-20T07:30:40.515333Z",
     "shell.execute_reply": "2022-06-20T07:30:40.514239Z"
    },
    "papermill": {
     "duration": 0.092575,
     "end_time": "2022-06-20T07:30:40.518252",
     "exception": false,
     "start_time": "2022-06-20T07:30:40.425677",
     "status": "completed"
    },
    "tags": []
   },
   "outputs": [],
   "source": [
    "# Merge de 3 dataframes para gerar um dataframe final de treino aqui intitulado como\"df_train_final\"\n",
    "df_test_final = df_test.merge(df_stores,\n",
    "                              how='inner',\n",
    "                              on='Store')\\\n",
    "                       .merge(df_features,\n",
    "                              how='inner',\n",
    "                              on=['Store', 'Date', 'IsHoliday'])"
   ]
  },
  {
   "cell_type": "code",
   "execution_count": 15,
   "id": "a79cf6c6",
   "metadata": {
    "execution": {
     "iopub.execute_input": "2022-06-20T07:30:40.578067Z",
     "iopub.status.busy": "2022-06-20T07:30:40.577549Z",
     "iopub.status.idle": "2022-06-20T07:30:40.639174Z",
     "shell.execute_reply": "2022-06-20T07:30:40.637791Z"
    },
    "papermill": {
     "duration": 0.095448,
     "end_time": "2022-06-20T07:30:40.642425",
     "exception": false,
     "start_time": "2022-06-20T07:30:40.546977",
     "status": "completed"
    },
    "tags": []
   },
   "outputs": [
    {
     "name": "stdout",
     "output_type": "stream",
     "text": [
      "<class 'pandas.core.frame.DataFrame'>\n",
      "Int64Index: 115064 entries, 0 to 115063\n",
      "Data columns (total 15 columns):\n",
      " #   Column        Non-Null Count   Dtype  \n",
      "---  ------        --------------   -----  \n",
      " 0   Store         115064 non-null  int64  \n",
      " 1   Dept          115064 non-null  int64  \n",
      " 2   Date          115064 non-null  object \n",
      " 3   IsHoliday     115064 non-null  bool   \n",
      " 4   Type          115064 non-null  object \n",
      " 5   Size          115064 non-null  int64  \n",
      " 6   Temperature   115064 non-null  float64\n",
      " 7   Fuel_Price    115064 non-null  float64\n",
      " 8   MarkDown1     114915 non-null  float64\n",
      " 9   MarkDown2     86437 non-null   float64\n",
      " 10  MarkDown3     105235 non-null  float64\n",
      " 11  MarkDown4     102176 non-null  float64\n",
      " 12  MarkDown5     115064 non-null  float64\n",
      " 13  CPI           76902 non-null   float64\n",
      " 14  Unemployment  76902 non-null   float64\n",
      "dtypes: bool(1), float64(9), int64(3), object(2)\n",
      "memory usage: 13.3+ MB\n",
      "Shape of df_test_final.csv: None\n",
      "\n"
     ]
    },
    {
     "data": {
      "text/html": [
       "<div>\n",
       "<style scoped>\n",
       "    .dataframe tbody tr th:only-of-type {\n",
       "        vertical-align: middle;\n",
       "    }\n",
       "\n",
       "    .dataframe tbody tr th {\n",
       "        vertical-align: top;\n",
       "    }\n",
       "\n",
       "    .dataframe thead th {\n",
       "        text-align: right;\n",
       "    }\n",
       "</style>\n",
       "<table border=\"1\" class=\"dataframe\">\n",
       "  <thead>\n",
       "    <tr style=\"text-align: right;\">\n",
       "      <th></th>\n",
       "      <th>Store</th>\n",
       "      <th>Dept</th>\n",
       "      <th>Date</th>\n",
       "      <th>IsHoliday</th>\n",
       "      <th>Type</th>\n",
       "      <th>Size</th>\n",
       "      <th>Temperature</th>\n",
       "      <th>Fuel_Price</th>\n",
       "      <th>MarkDown1</th>\n",
       "      <th>MarkDown2</th>\n",
       "      <th>MarkDown3</th>\n",
       "      <th>MarkDown4</th>\n",
       "      <th>MarkDown5</th>\n",
       "      <th>CPI</th>\n",
       "      <th>Unemployment</th>\n",
       "    </tr>\n",
       "  </thead>\n",
       "  <tbody>\n",
       "    <tr>\n",
       "      <th>0</th>\n",
       "      <td>1</td>\n",
       "      <td>1</td>\n",
       "      <td>2012-11-02</td>\n",
       "      <td>False</td>\n",
       "      <td>A</td>\n",
       "      <td>151315</td>\n",
       "      <td>55.32</td>\n",
       "      <td>3.386</td>\n",
       "      <td>6766.44</td>\n",
       "      <td>5147.7</td>\n",
       "      <td>50.82</td>\n",
       "      <td>3639.9</td>\n",
       "      <td>2737.42</td>\n",
       "      <td>223.462779</td>\n",
       "      <td>6.573</td>\n",
       "    </tr>\n",
       "    <tr>\n",
       "      <th>1</th>\n",
       "      <td>1</td>\n",
       "      <td>2</td>\n",
       "      <td>2012-11-02</td>\n",
       "      <td>False</td>\n",
       "      <td>A</td>\n",
       "      <td>151315</td>\n",
       "      <td>55.32</td>\n",
       "      <td>3.386</td>\n",
       "      <td>6766.44</td>\n",
       "      <td>5147.7</td>\n",
       "      <td>50.82</td>\n",
       "      <td>3639.9</td>\n",
       "      <td>2737.42</td>\n",
       "      <td>223.462779</td>\n",
       "      <td>6.573</td>\n",
       "    </tr>\n",
       "    <tr>\n",
       "      <th>2</th>\n",
       "      <td>1</td>\n",
       "      <td>3</td>\n",
       "      <td>2012-11-02</td>\n",
       "      <td>False</td>\n",
       "      <td>A</td>\n",
       "      <td>151315</td>\n",
       "      <td>55.32</td>\n",
       "      <td>3.386</td>\n",
       "      <td>6766.44</td>\n",
       "      <td>5147.7</td>\n",
       "      <td>50.82</td>\n",
       "      <td>3639.9</td>\n",
       "      <td>2737.42</td>\n",
       "      <td>223.462779</td>\n",
       "      <td>6.573</td>\n",
       "    </tr>\n",
       "    <tr>\n",
       "      <th>3</th>\n",
       "      <td>1</td>\n",
       "      <td>4</td>\n",
       "      <td>2012-11-02</td>\n",
       "      <td>False</td>\n",
       "      <td>A</td>\n",
       "      <td>151315</td>\n",
       "      <td>55.32</td>\n",
       "      <td>3.386</td>\n",
       "      <td>6766.44</td>\n",
       "      <td>5147.7</td>\n",
       "      <td>50.82</td>\n",
       "      <td>3639.9</td>\n",
       "      <td>2737.42</td>\n",
       "      <td>223.462779</td>\n",
       "      <td>6.573</td>\n",
       "    </tr>\n",
       "    <tr>\n",
       "      <th>4</th>\n",
       "      <td>1</td>\n",
       "      <td>5</td>\n",
       "      <td>2012-11-02</td>\n",
       "      <td>False</td>\n",
       "      <td>A</td>\n",
       "      <td>151315</td>\n",
       "      <td>55.32</td>\n",
       "      <td>3.386</td>\n",
       "      <td>6766.44</td>\n",
       "      <td>5147.7</td>\n",
       "      <td>50.82</td>\n",
       "      <td>3639.9</td>\n",
       "      <td>2737.42</td>\n",
       "      <td>223.462779</td>\n",
       "      <td>6.573</td>\n",
       "    </tr>\n",
       "  </tbody>\n",
       "</table>\n",
       "</div>"
      ],
      "text/plain": [
       "   Store  Dept        Date  IsHoliday Type    Size  Temperature  Fuel_Price  \\\n",
       "0      1     1  2012-11-02      False    A  151315        55.32       3.386   \n",
       "1      1     2  2012-11-02      False    A  151315        55.32       3.386   \n",
       "2      1     3  2012-11-02      False    A  151315        55.32       3.386   \n",
       "3      1     4  2012-11-02      False    A  151315        55.32       3.386   \n",
       "4      1     5  2012-11-02      False    A  151315        55.32       3.386   \n",
       "\n",
       "   MarkDown1  MarkDown2  MarkDown3  MarkDown4  MarkDown5         CPI  \\\n",
       "0    6766.44     5147.7      50.82     3639.9    2737.42  223.462779   \n",
       "1    6766.44     5147.7      50.82     3639.9    2737.42  223.462779   \n",
       "2    6766.44     5147.7      50.82     3639.9    2737.42  223.462779   \n",
       "3    6766.44     5147.7      50.82     3639.9    2737.42  223.462779   \n",
       "4    6766.44     5147.7      50.82     3639.9    2737.42  223.462779   \n",
       "\n",
       "   Unemployment  \n",
       "0         6.573  \n",
       "1         6.573  \n",
       "2         6.573  \n",
       "3         6.573  \n",
       "4         6.573  "
      ]
     },
     "execution_count": 15,
     "metadata": {},
     "output_type": "execute_result"
    }
   ],
   "source": [
    "print(f\"Shape of df_test_final.csv: {df_test_final.info()}\\n\")\n",
    "df_test_final.head()"
   ]
  },
  {
   "cell_type": "markdown",
   "id": "76364196",
   "metadata": {
    "papermill": {
     "duration": 0.029886,
     "end_time": "2022-06-20T07:30:40.701983",
     "exception": false,
     "start_time": "2022-06-20T07:30:40.672097",
     "status": "completed"
    },
    "tags": []
   },
   "source": [
    "**Observações:**\n",
    "\n",
    "* Há 15 colunas e 115064 linhas.\n",
    "* A coluna \"Date\" deveria estar no formato datetime do pandas.\n",
    "* variáveis categórica: Type, IsHoliday\n",
    "* Valores com NaN em alguns campos"
   ]
  },
  {
   "cell_type": "code",
   "execution_count": 16,
   "id": "820745de",
   "metadata": {
    "execution": {
     "iopub.execute_input": "2022-06-20T07:30:40.761984Z",
     "iopub.status.busy": "2022-06-20T07:30:40.761156Z",
     "iopub.status.idle": "2022-06-20T07:30:40.863376Z",
     "shell.execute_reply": "2022-06-20T07:30:40.862235Z"
    },
    "papermill": {
     "duration": 0.135314,
     "end_time": "2022-06-20T07:30:40.866181",
     "exception": false,
     "start_time": "2022-06-20T07:30:40.730867",
     "status": "completed"
    },
    "tags": []
   },
   "outputs": [
    {
     "data": {
      "text/html": [
       "<div>\n",
       "<style scoped>\n",
       "    .dataframe tbody tr th:only-of-type {\n",
       "        vertical-align: middle;\n",
       "    }\n",
       "\n",
       "    .dataframe tbody tr th {\n",
       "        vertical-align: top;\n",
       "    }\n",
       "\n",
       "    .dataframe thead th {\n",
       "        text-align: right;\n",
       "    }\n",
       "</style>\n",
       "<table border=\"1\" class=\"dataframe\">\n",
       "  <thead>\n",
       "    <tr style=\"text-align: right;\">\n",
       "      <th></th>\n",
       "      <th>count</th>\n",
       "      <th>mean</th>\n",
       "      <th>std</th>\n",
       "      <th>min</th>\n",
       "      <th>25%</th>\n",
       "      <th>50%</th>\n",
       "      <th>75%</th>\n",
       "      <th>max</th>\n",
       "    </tr>\n",
       "  </thead>\n",
       "  <tbody>\n",
       "    <tr>\n",
       "      <th>Store</th>\n",
       "      <td>115064.0</td>\n",
       "      <td>22.238207</td>\n",
       "      <td>12.809930</td>\n",
       "      <td>1.000000</td>\n",
       "      <td>11.000000</td>\n",
       "      <td>22.000000</td>\n",
       "      <td>33.000000</td>\n",
       "      <td>45.000000</td>\n",
       "    </tr>\n",
       "    <tr>\n",
       "      <th>Dept</th>\n",
       "      <td>115064.0</td>\n",
       "      <td>44.339524</td>\n",
       "      <td>30.656410</td>\n",
       "      <td>1.000000</td>\n",
       "      <td>18.000000</td>\n",
       "      <td>37.000000</td>\n",
       "      <td>74.000000</td>\n",
       "      <td>99.000000</td>\n",
       "    </tr>\n",
       "    <tr>\n",
       "      <th>Size</th>\n",
       "      <td>115064.0</td>\n",
       "      <td>136497.688921</td>\n",
       "      <td>61106.926438</td>\n",
       "      <td>34875.000000</td>\n",
       "      <td>93638.000000</td>\n",
       "      <td>140167.000000</td>\n",
       "      <td>202505.000000</td>\n",
       "      <td>219622.000000</td>\n",
       "    </tr>\n",
       "    <tr>\n",
       "      <th>Temperature</th>\n",
       "      <td>115064.0</td>\n",
       "      <td>53.941804</td>\n",
       "      <td>18.724153</td>\n",
       "      <td>-7.290000</td>\n",
       "      <td>39.820000</td>\n",
       "      <td>54.470000</td>\n",
       "      <td>67.350000</td>\n",
       "      <td>101.950000</td>\n",
       "    </tr>\n",
       "    <tr>\n",
       "      <th>Fuel_Price</th>\n",
       "      <td>115064.0</td>\n",
       "      <td>3.581546</td>\n",
       "      <td>0.239442</td>\n",
       "      <td>2.872000</td>\n",
       "      <td>3.431000</td>\n",
       "      <td>3.606000</td>\n",
       "      <td>3.766000</td>\n",
       "      <td>4.125000</td>\n",
       "    </tr>\n",
       "    <tr>\n",
       "      <th>MarkDown1</th>\n",
       "      <td>114915.0</td>\n",
       "      <td>7689.216439</td>\n",
       "      <td>10698.760716</td>\n",
       "      <td>-2781.450000</td>\n",
       "      <td>1966.460000</td>\n",
       "      <td>4842.290000</td>\n",
       "      <td>9439.140000</td>\n",
       "      <td>103184.980000</td>\n",
       "    </tr>\n",
       "    <tr>\n",
       "      <th>MarkDown2</th>\n",
       "      <td>86437.0</td>\n",
       "      <td>3734.051729</td>\n",
       "      <td>8323.495014</td>\n",
       "      <td>-35.740000</td>\n",
       "      <td>180.350000</td>\n",
       "      <td>742.590000</td>\n",
       "      <td>2735.670000</td>\n",
       "      <td>71074.170000</td>\n",
       "    </tr>\n",
       "    <tr>\n",
       "      <th>MarkDown3</th>\n",
       "      <td>105235.0</td>\n",
       "      <td>2403.088666</td>\n",
       "      <td>13767.939313</td>\n",
       "      <td>-179.260000</td>\n",
       "      <td>15.100000</td>\n",
       "      <td>78.260000</td>\n",
       "      <td>272.580000</td>\n",
       "      <td>149483.310000</td>\n",
       "    </tr>\n",
       "    <tr>\n",
       "      <th>MarkDown4</th>\n",
       "      <td>102176.0</td>\n",
       "      <td>3356.219071</td>\n",
       "      <td>7570.501545</td>\n",
       "      <td>0.220000</td>\n",
       "      <td>155.460000</td>\n",
       "      <td>840.940000</td>\n",
       "      <td>3096.920000</td>\n",
       "      <td>65344.640000</td>\n",
       "    </tr>\n",
       "    <tr>\n",
       "      <th>MarkDown5</th>\n",
       "      <td>115064.0</td>\n",
       "      <td>3922.681189</td>\n",
       "      <td>19445.150745</td>\n",
       "      <td>-185.170000</td>\n",
       "      <td>1309.300000</td>\n",
       "      <td>2390.430000</td>\n",
       "      <td>4227.270000</td>\n",
       "      <td>771448.100000</td>\n",
       "    </tr>\n",
       "    <tr>\n",
       "      <th>CPI</th>\n",
       "      <td>76902.0</td>\n",
       "      <td>176.961347</td>\n",
       "      <td>41.239967</td>\n",
       "      <td>131.236226</td>\n",
       "      <td>138.402033</td>\n",
       "      <td>192.304445</td>\n",
       "      <td>223.244532</td>\n",
       "      <td>228.976456</td>\n",
       "    </tr>\n",
       "    <tr>\n",
       "      <th>Unemployment</th>\n",
       "      <td>76902.0</td>\n",
       "      <td>6.868733</td>\n",
       "      <td>1.583427</td>\n",
       "      <td>3.684000</td>\n",
       "      <td>5.771000</td>\n",
       "      <td>6.806000</td>\n",
       "      <td>8.036000</td>\n",
       "      <td>10.199000</td>\n",
       "    </tr>\n",
       "  </tbody>\n",
       "</table>\n",
       "</div>"
      ],
      "text/plain": [
       "                 count           mean           std           min  \\\n",
       "Store         115064.0      22.238207     12.809930      1.000000   \n",
       "Dept          115064.0      44.339524     30.656410      1.000000   \n",
       "Size          115064.0  136497.688921  61106.926438  34875.000000   \n",
       "Temperature   115064.0      53.941804     18.724153     -7.290000   \n",
       "Fuel_Price    115064.0       3.581546      0.239442      2.872000   \n",
       "MarkDown1     114915.0    7689.216439  10698.760716  -2781.450000   \n",
       "MarkDown2      86437.0    3734.051729   8323.495014    -35.740000   \n",
       "MarkDown3     105235.0    2403.088666  13767.939313   -179.260000   \n",
       "MarkDown4     102176.0    3356.219071   7570.501545      0.220000   \n",
       "MarkDown5     115064.0    3922.681189  19445.150745   -185.170000   \n",
       "CPI            76902.0     176.961347     41.239967    131.236226   \n",
       "Unemployment   76902.0       6.868733      1.583427      3.684000   \n",
       "\n",
       "                       25%            50%            75%            max  \n",
       "Store            11.000000      22.000000      33.000000      45.000000  \n",
       "Dept             18.000000      37.000000      74.000000      99.000000  \n",
       "Size          93638.000000  140167.000000  202505.000000  219622.000000  \n",
       "Temperature      39.820000      54.470000      67.350000     101.950000  \n",
       "Fuel_Price        3.431000       3.606000       3.766000       4.125000  \n",
       "MarkDown1      1966.460000    4842.290000    9439.140000  103184.980000  \n",
       "MarkDown2       180.350000     742.590000    2735.670000   71074.170000  \n",
       "MarkDown3        15.100000      78.260000     272.580000  149483.310000  \n",
       "MarkDown4       155.460000     840.940000    3096.920000   65344.640000  \n",
       "MarkDown5      1309.300000    2390.430000    4227.270000  771448.100000  \n",
       "CPI             138.402033     192.304445     223.244532     228.976456  \n",
       "Unemployment      5.771000       6.806000       8.036000      10.199000  "
      ]
     },
     "execution_count": 16,
     "metadata": {},
     "output_type": "execute_result"
    }
   ],
   "source": [
    "df_test_final.describe().T"
   ]
  },
  {
   "cell_type": "markdown",
   "id": "c02fe8e5",
   "metadata": {
    "papermill": {
     "duration": 0.029761,
     "end_time": "2022-06-20T07:30:40.925562",
     "exception": false,
     "start_time": "2022-06-20T07:30:40.895801",
     "status": "completed"
    },
    "tags": []
   },
   "source": [
    "**Observações:**\n",
    "\n",
    "* Erro: Valores negativos em alguns campos."
   ]
  },
  {
   "cell_type": "markdown",
   "id": "83980415",
   "metadata": {
    "papermill": {
     "duration": 0.029085,
     "end_time": "2022-06-20T07:30:40.983929",
     "exception": false,
     "start_time": "2022-06-20T07:30:40.954844",
     "status": "completed"
    },
    "tags": []
   },
   "source": [
    "# c) Tratar os campos 'Date' e 'Type'"
   ]
  },
  {
   "cell_type": "code",
   "execution_count": 17,
   "id": "396bcb68",
   "metadata": {
    "execution": {
     "iopub.execute_input": "2022-06-20T07:30:41.046011Z",
     "iopub.status.busy": "2022-06-20T07:30:41.044921Z",
     "iopub.status.idle": "2022-06-20T07:30:41.165428Z",
     "shell.execute_reply": "2022-06-20T07:30:41.164297Z"
    },
    "papermill": {
     "duration": 0.15414,
     "end_time": "2022-06-20T07:30:41.168261",
     "exception": false,
     "start_time": "2022-06-20T07:30:41.014121",
     "status": "completed"
    },
    "tags": []
   },
   "outputs": [],
   "source": [
    "# transformando o tipo do campo 'Date' para datetime\n",
    "df_train_final.Date = pd.to_datetime(df_train_final.Date)\n",
    "df_test_final.Date = pd.to_datetime(df_test_final.Date)"
   ]
  },
  {
   "cell_type": "markdown",
   "id": "05691434",
   "metadata": {
    "papermill": {
     "duration": 0.030245,
     "end_time": "2022-06-20T07:30:41.228793",
     "exception": false,
     "start_time": "2022-06-20T07:30:41.198548",
     "status": "completed"
    },
    "tags": []
   },
   "source": [
    "Acima foi transformado a variável 'Date' de object para o tipo datetime aceito pela biblioteca pandas."
   ]
  },
  {
   "cell_type": "code",
   "execution_count": 18,
   "id": "93397277",
   "metadata": {
    "execution": {
     "iopub.execute_input": "2022-06-20T07:30:41.289763Z",
     "iopub.status.busy": "2022-06-20T07:30:41.289070Z",
     "iopub.status.idle": "2022-06-20T07:30:41.341010Z",
     "shell.execute_reply": "2022-06-20T07:30:41.340064Z"
    },
    "papermill": {
     "duration": 0.085476,
     "end_time": "2022-06-20T07:30:41.343725",
     "exception": false,
     "start_time": "2022-06-20T07:30:41.258249",
     "status": "completed"
    },
    "tags": []
   },
   "outputs": [],
   "source": [
    "storetype_values = {'A':3, 'B':2, 'C':1}\n",
    "df_train_final['Type'] = df_train_final.Type.map(storetype_values)\n",
    "df_test_final['Type'] = df_test_final.Type.map(storetype_values)"
   ]
  },
  {
   "cell_type": "markdown",
   "id": "0b4c955b",
   "metadata": {
    "papermill": {
     "duration": 0.028821,
     "end_time": "2022-06-20T07:30:41.401854",
     "exception": false,
     "start_time": "2022-06-20T07:30:41.373033",
     "status": "completed"
    },
    "tags": []
   },
   "source": [
    "Acima a variável categórica 'Type' foi transformada em variável numérica. Onde,\n",
    "\n",
    "Type: A, B, C  ----> Type: 3, 2, 1"
   ]
  },
  {
   "cell_type": "markdown",
   "id": "59b6c97c",
   "metadata": {
    "papermill": {
     "duration": 0.02847,
     "end_time": "2022-06-20T07:30:41.459698",
     "exception": false,
     "start_time": "2022-06-20T07:30:41.431228",
     "status": "completed"
    },
    "tags": []
   },
   "source": [
    "# d) Elaboração de quatro novas colunas a partir do campo 'Date': Year, Month,Week e Day "
   ]
  },
  {
   "cell_type": "markdown",
   "id": "cacebc41",
   "metadata": {
    "papermill": {
     "duration": 0.028877,
     "end_time": "2022-06-20T07:30:41.517717",
     "exception": false,
     "start_time": "2022-06-20T07:30:41.488840",
     "status": "completed"
    },
    "tags": []
   },
   "source": [
    "Aqui estamos criando quatro novos campos a partir do campo 'Date' para facilitar as análises e modelagens. Assim temos as seguintes novas colunas:\n",
    "\n",
    "* Year - respectivo ano de uma data.\n",
    "* Month - respectivo mês de uma data.\n",
    "* Day - respectivo dia de uma data.\n",
    "* Week - valor da semana referente a um ano.\n",
    "\n",
    "**exemplo:** \n",
    "\n",
    "    Date: 2012-10-26\n",
    "    Year: 2012\n",
    "    Month: 10\n",
    "    Day: 26\n",
    "    Week: 43 (Semana 43 do ano de 2012)\n",
    "    "
   ]
  },
  {
   "cell_type": "code",
   "execution_count": 19,
   "id": "73dffa0f",
   "metadata": {
    "execution": {
     "iopub.execute_input": "2022-06-20T07:30:41.579426Z",
     "iopub.status.busy": "2022-06-20T07:30:41.578932Z",
     "iopub.status.idle": "2022-06-20T07:30:41.950709Z",
     "shell.execute_reply": "2022-06-20T07:30:41.949736Z"
    },
    "papermill": {
     "duration": 0.406068,
     "end_time": "2022-06-20T07:30:41.953532",
     "exception": false,
     "start_time": "2022-06-20T07:30:41.547464",
     "status": "completed"
    },
    "tags": []
   },
   "outputs": [],
   "source": [
    "# Criação de 4 novos campos: Year, Month,Week e Day \n",
    "df_train_final['Year']=df_train_final['Date'].dt.year\n",
    "df_train_final['Month']=df_train_final['Date'].dt.month\n",
    "df_train_final['Week']=df_train_final['Date'].dt.week\n",
    "df_train_final['Day']=df_train_final['Date'].dt.day\n",
    "\n",
    "df_test_final['Year']=df_test_final['Date'].dt.year\n",
    "df_test_final['Month']=df_test_final['Date'].dt.month\n",
    "df_test_final['Week']=df_test_final['Date'].dt.week\n",
    "df_test_final['Day']=df_test_final['Date'].dt.day\n"
   ]
  },
  {
   "cell_type": "code",
   "execution_count": 20,
   "id": "f181b661",
   "metadata": {
    "execution": {
     "iopub.execute_input": "2022-06-20T07:30:42.014560Z",
     "iopub.status.busy": "2022-06-20T07:30:42.014070Z",
     "iopub.status.idle": "2022-06-20T07:30:42.035891Z",
     "shell.execute_reply": "2022-06-20T07:30:42.035067Z"
    },
    "papermill": {
     "duration": 0.054951,
     "end_time": "2022-06-20T07:30:42.037781",
     "exception": false,
     "start_time": "2022-06-20T07:30:41.982830",
     "status": "completed"
    },
    "tags": []
   },
   "outputs": [
    {
     "data": {
      "text/html": [
       "<div>\n",
       "<style scoped>\n",
       "    .dataframe tbody tr th:only-of-type {\n",
       "        vertical-align: middle;\n",
       "    }\n",
       "\n",
       "    .dataframe tbody tr th {\n",
       "        vertical-align: top;\n",
       "    }\n",
       "\n",
       "    .dataframe thead th {\n",
       "        text-align: right;\n",
       "    }\n",
       "</style>\n",
       "<table border=\"1\" class=\"dataframe\">\n",
       "  <thead>\n",
       "    <tr style=\"text-align: right;\">\n",
       "      <th></th>\n",
       "      <th>Store</th>\n",
       "      <th>Dept</th>\n",
       "      <th>Date</th>\n",
       "      <th>Weekly_Sales</th>\n",
       "      <th>IsHoliday</th>\n",
       "      <th>Type</th>\n",
       "      <th>Size</th>\n",
       "      <th>Temperature</th>\n",
       "      <th>Fuel_Price</th>\n",
       "      <th>MarkDown1</th>\n",
       "      <th>MarkDown2</th>\n",
       "      <th>MarkDown3</th>\n",
       "      <th>MarkDown4</th>\n",
       "      <th>MarkDown5</th>\n",
       "      <th>CPI</th>\n",
       "      <th>Unemployment</th>\n",
       "      <th>Year</th>\n",
       "      <th>Month</th>\n",
       "      <th>Week</th>\n",
       "      <th>Day</th>\n",
       "    </tr>\n",
       "  </thead>\n",
       "  <tbody>\n",
       "    <tr>\n",
       "      <th>0</th>\n",
       "      <td>1</td>\n",
       "      <td>1</td>\n",
       "      <td>2010-02-05</td>\n",
       "      <td>24924.50</td>\n",
       "      <td>False</td>\n",
       "      <td>3</td>\n",
       "      <td>151315</td>\n",
       "      <td>42.31</td>\n",
       "      <td>2.572</td>\n",
       "      <td>NaN</td>\n",
       "      <td>NaN</td>\n",
       "      <td>NaN</td>\n",
       "      <td>NaN</td>\n",
       "      <td>NaN</td>\n",
       "      <td>211.096358</td>\n",
       "      <td>8.106</td>\n",
       "      <td>2010</td>\n",
       "      <td>2</td>\n",
       "      <td>5</td>\n",
       "      <td>5</td>\n",
       "    </tr>\n",
       "    <tr>\n",
       "      <th>1</th>\n",
       "      <td>1</td>\n",
       "      <td>2</td>\n",
       "      <td>2010-02-05</td>\n",
       "      <td>50605.27</td>\n",
       "      <td>False</td>\n",
       "      <td>3</td>\n",
       "      <td>151315</td>\n",
       "      <td>42.31</td>\n",
       "      <td>2.572</td>\n",
       "      <td>NaN</td>\n",
       "      <td>NaN</td>\n",
       "      <td>NaN</td>\n",
       "      <td>NaN</td>\n",
       "      <td>NaN</td>\n",
       "      <td>211.096358</td>\n",
       "      <td>8.106</td>\n",
       "      <td>2010</td>\n",
       "      <td>2</td>\n",
       "      <td>5</td>\n",
       "      <td>5</td>\n",
       "    </tr>\n",
       "    <tr>\n",
       "      <th>2</th>\n",
       "      <td>1</td>\n",
       "      <td>3</td>\n",
       "      <td>2010-02-05</td>\n",
       "      <td>13740.12</td>\n",
       "      <td>False</td>\n",
       "      <td>3</td>\n",
       "      <td>151315</td>\n",
       "      <td>42.31</td>\n",
       "      <td>2.572</td>\n",
       "      <td>NaN</td>\n",
       "      <td>NaN</td>\n",
       "      <td>NaN</td>\n",
       "      <td>NaN</td>\n",
       "      <td>NaN</td>\n",
       "      <td>211.096358</td>\n",
       "      <td>8.106</td>\n",
       "      <td>2010</td>\n",
       "      <td>2</td>\n",
       "      <td>5</td>\n",
       "      <td>5</td>\n",
       "    </tr>\n",
       "    <tr>\n",
       "      <th>3</th>\n",
       "      <td>1</td>\n",
       "      <td>4</td>\n",
       "      <td>2010-02-05</td>\n",
       "      <td>39954.04</td>\n",
       "      <td>False</td>\n",
       "      <td>3</td>\n",
       "      <td>151315</td>\n",
       "      <td>42.31</td>\n",
       "      <td>2.572</td>\n",
       "      <td>NaN</td>\n",
       "      <td>NaN</td>\n",
       "      <td>NaN</td>\n",
       "      <td>NaN</td>\n",
       "      <td>NaN</td>\n",
       "      <td>211.096358</td>\n",
       "      <td>8.106</td>\n",
       "      <td>2010</td>\n",
       "      <td>2</td>\n",
       "      <td>5</td>\n",
       "      <td>5</td>\n",
       "    </tr>\n",
       "    <tr>\n",
       "      <th>4</th>\n",
       "      <td>1</td>\n",
       "      <td>5</td>\n",
       "      <td>2010-02-05</td>\n",
       "      <td>32229.38</td>\n",
       "      <td>False</td>\n",
       "      <td>3</td>\n",
       "      <td>151315</td>\n",
       "      <td>42.31</td>\n",
       "      <td>2.572</td>\n",
       "      <td>NaN</td>\n",
       "      <td>NaN</td>\n",
       "      <td>NaN</td>\n",
       "      <td>NaN</td>\n",
       "      <td>NaN</td>\n",
       "      <td>211.096358</td>\n",
       "      <td>8.106</td>\n",
       "      <td>2010</td>\n",
       "      <td>2</td>\n",
       "      <td>5</td>\n",
       "      <td>5</td>\n",
       "    </tr>\n",
       "  </tbody>\n",
       "</table>\n",
       "</div>"
      ],
      "text/plain": [
       "   Store  Dept       Date  Weekly_Sales  IsHoliday  Type    Size  Temperature  \\\n",
       "0      1     1 2010-02-05      24924.50      False     3  151315        42.31   \n",
       "1      1     2 2010-02-05      50605.27      False     3  151315        42.31   \n",
       "2      1     3 2010-02-05      13740.12      False     3  151315        42.31   \n",
       "3      1     4 2010-02-05      39954.04      False     3  151315        42.31   \n",
       "4      1     5 2010-02-05      32229.38      False     3  151315        42.31   \n",
       "\n",
       "   Fuel_Price  MarkDown1  MarkDown2  MarkDown3  MarkDown4  MarkDown5  \\\n",
       "0       2.572        NaN        NaN        NaN        NaN        NaN   \n",
       "1       2.572        NaN        NaN        NaN        NaN        NaN   \n",
       "2       2.572        NaN        NaN        NaN        NaN        NaN   \n",
       "3       2.572        NaN        NaN        NaN        NaN        NaN   \n",
       "4       2.572        NaN        NaN        NaN        NaN        NaN   \n",
       "\n",
       "          CPI  Unemployment  Year  Month  Week  Day  \n",
       "0  211.096358         8.106  2010      2     5    5  \n",
       "1  211.096358         8.106  2010      2     5    5  \n",
       "2  211.096358         8.106  2010      2     5    5  \n",
       "3  211.096358         8.106  2010      2     5    5  \n",
       "4  211.096358         8.106  2010      2     5    5  "
      ]
     },
     "execution_count": 20,
     "metadata": {},
     "output_type": "execute_result"
    }
   ],
   "source": [
    "#verificando se a ação acima foi feita de forma correta\n",
    "df_train_final.head()"
   ]
  },
  {
   "cell_type": "code",
   "execution_count": 21,
   "id": "5f8ca15b",
   "metadata": {
    "execution": {
     "iopub.execute_input": "2022-06-20T07:30:42.099649Z",
     "iopub.status.busy": "2022-06-20T07:30:42.098958Z",
     "iopub.status.idle": "2022-06-20T07:30:42.121557Z",
     "shell.execute_reply": "2022-06-20T07:30:42.120701Z"
    },
    "papermill": {
     "duration": 0.055622,
     "end_time": "2022-06-20T07:30:42.123503",
     "exception": false,
     "start_time": "2022-06-20T07:30:42.067881",
     "status": "completed"
    },
    "tags": []
   },
   "outputs": [
    {
     "data": {
      "text/html": [
       "<div>\n",
       "<style scoped>\n",
       "    .dataframe tbody tr th:only-of-type {\n",
       "        vertical-align: middle;\n",
       "    }\n",
       "\n",
       "    .dataframe tbody tr th {\n",
       "        vertical-align: top;\n",
       "    }\n",
       "\n",
       "    .dataframe thead th {\n",
       "        text-align: right;\n",
       "    }\n",
       "</style>\n",
       "<table border=\"1\" class=\"dataframe\">\n",
       "  <thead>\n",
       "    <tr style=\"text-align: right;\">\n",
       "      <th></th>\n",
       "      <th>Store</th>\n",
       "      <th>Dept</th>\n",
       "      <th>Date</th>\n",
       "      <th>IsHoliday</th>\n",
       "      <th>Type</th>\n",
       "      <th>Size</th>\n",
       "      <th>Temperature</th>\n",
       "      <th>Fuel_Price</th>\n",
       "      <th>MarkDown1</th>\n",
       "      <th>MarkDown2</th>\n",
       "      <th>MarkDown3</th>\n",
       "      <th>MarkDown4</th>\n",
       "      <th>MarkDown5</th>\n",
       "      <th>CPI</th>\n",
       "      <th>Unemployment</th>\n",
       "      <th>Year</th>\n",
       "      <th>Month</th>\n",
       "      <th>Week</th>\n",
       "      <th>Day</th>\n",
       "    </tr>\n",
       "  </thead>\n",
       "  <tbody>\n",
       "    <tr>\n",
       "      <th>0</th>\n",
       "      <td>1</td>\n",
       "      <td>1</td>\n",
       "      <td>2012-11-02</td>\n",
       "      <td>False</td>\n",
       "      <td>3</td>\n",
       "      <td>151315</td>\n",
       "      <td>55.32</td>\n",
       "      <td>3.386</td>\n",
       "      <td>6766.44</td>\n",
       "      <td>5147.7</td>\n",
       "      <td>50.82</td>\n",
       "      <td>3639.9</td>\n",
       "      <td>2737.42</td>\n",
       "      <td>223.462779</td>\n",
       "      <td>6.573</td>\n",
       "      <td>2012</td>\n",
       "      <td>11</td>\n",
       "      <td>44</td>\n",
       "      <td>2</td>\n",
       "    </tr>\n",
       "    <tr>\n",
       "      <th>1</th>\n",
       "      <td>1</td>\n",
       "      <td>2</td>\n",
       "      <td>2012-11-02</td>\n",
       "      <td>False</td>\n",
       "      <td>3</td>\n",
       "      <td>151315</td>\n",
       "      <td>55.32</td>\n",
       "      <td>3.386</td>\n",
       "      <td>6766.44</td>\n",
       "      <td>5147.7</td>\n",
       "      <td>50.82</td>\n",
       "      <td>3639.9</td>\n",
       "      <td>2737.42</td>\n",
       "      <td>223.462779</td>\n",
       "      <td>6.573</td>\n",
       "      <td>2012</td>\n",
       "      <td>11</td>\n",
       "      <td>44</td>\n",
       "      <td>2</td>\n",
       "    </tr>\n",
       "    <tr>\n",
       "      <th>2</th>\n",
       "      <td>1</td>\n",
       "      <td>3</td>\n",
       "      <td>2012-11-02</td>\n",
       "      <td>False</td>\n",
       "      <td>3</td>\n",
       "      <td>151315</td>\n",
       "      <td>55.32</td>\n",
       "      <td>3.386</td>\n",
       "      <td>6766.44</td>\n",
       "      <td>5147.7</td>\n",
       "      <td>50.82</td>\n",
       "      <td>3639.9</td>\n",
       "      <td>2737.42</td>\n",
       "      <td>223.462779</td>\n",
       "      <td>6.573</td>\n",
       "      <td>2012</td>\n",
       "      <td>11</td>\n",
       "      <td>44</td>\n",
       "      <td>2</td>\n",
       "    </tr>\n",
       "    <tr>\n",
       "      <th>3</th>\n",
       "      <td>1</td>\n",
       "      <td>4</td>\n",
       "      <td>2012-11-02</td>\n",
       "      <td>False</td>\n",
       "      <td>3</td>\n",
       "      <td>151315</td>\n",
       "      <td>55.32</td>\n",
       "      <td>3.386</td>\n",
       "      <td>6766.44</td>\n",
       "      <td>5147.7</td>\n",
       "      <td>50.82</td>\n",
       "      <td>3639.9</td>\n",
       "      <td>2737.42</td>\n",
       "      <td>223.462779</td>\n",
       "      <td>6.573</td>\n",
       "      <td>2012</td>\n",
       "      <td>11</td>\n",
       "      <td>44</td>\n",
       "      <td>2</td>\n",
       "    </tr>\n",
       "    <tr>\n",
       "      <th>4</th>\n",
       "      <td>1</td>\n",
       "      <td>5</td>\n",
       "      <td>2012-11-02</td>\n",
       "      <td>False</td>\n",
       "      <td>3</td>\n",
       "      <td>151315</td>\n",
       "      <td>55.32</td>\n",
       "      <td>3.386</td>\n",
       "      <td>6766.44</td>\n",
       "      <td>5147.7</td>\n",
       "      <td>50.82</td>\n",
       "      <td>3639.9</td>\n",
       "      <td>2737.42</td>\n",
       "      <td>223.462779</td>\n",
       "      <td>6.573</td>\n",
       "      <td>2012</td>\n",
       "      <td>11</td>\n",
       "      <td>44</td>\n",
       "      <td>2</td>\n",
       "    </tr>\n",
       "  </tbody>\n",
       "</table>\n",
       "</div>"
      ],
      "text/plain": [
       "   Store  Dept       Date  IsHoliday  Type    Size  Temperature  Fuel_Price  \\\n",
       "0      1     1 2012-11-02      False     3  151315        55.32       3.386   \n",
       "1      1     2 2012-11-02      False     3  151315        55.32       3.386   \n",
       "2      1     3 2012-11-02      False     3  151315        55.32       3.386   \n",
       "3      1     4 2012-11-02      False     3  151315        55.32       3.386   \n",
       "4      1     5 2012-11-02      False     3  151315        55.32       3.386   \n",
       "\n",
       "   MarkDown1  MarkDown2  MarkDown3  MarkDown4  MarkDown5         CPI  \\\n",
       "0    6766.44     5147.7      50.82     3639.9    2737.42  223.462779   \n",
       "1    6766.44     5147.7      50.82     3639.9    2737.42  223.462779   \n",
       "2    6766.44     5147.7      50.82     3639.9    2737.42  223.462779   \n",
       "3    6766.44     5147.7      50.82     3639.9    2737.42  223.462779   \n",
       "4    6766.44     5147.7      50.82     3639.9    2737.42  223.462779   \n",
       "\n",
       "   Unemployment  Year  Month  Week  Day  \n",
       "0         6.573  2012     11    44    2  \n",
       "1         6.573  2012     11    44    2  \n",
       "2         6.573  2012     11    44    2  \n",
       "3         6.573  2012     11    44    2  \n",
       "4         6.573  2012     11    44    2  "
      ]
     },
     "execution_count": 21,
     "metadata": {},
     "output_type": "execute_result"
    }
   ],
   "source": [
    "#verificando se a ação acima foi feita de forma correta\n",
    "df_test_final.head()"
   ]
  },
  {
   "cell_type": "markdown",
   "id": "849c6353",
   "metadata": {
    "papermill": {
     "duration": 0.029486,
     "end_time": "2022-06-20T07:30:42.182827",
     "exception": false,
     "start_time": "2022-06-20T07:30:42.153341",
     "status": "completed"
    },
    "tags": []
   },
   "source": [
    "# e) Verificando os valores ausentes"
   ]
  },
  {
   "cell_type": "code",
   "execution_count": 22,
   "id": "65193437",
   "metadata": {
    "execution": {
     "iopub.execute_input": "2022-06-20T07:30:42.243716Z",
     "iopub.status.busy": "2022-06-20T07:30:42.243190Z",
     "iopub.status.idle": "2022-06-20T07:30:42.280747Z",
     "shell.execute_reply": "2022-06-20T07:30:42.279527Z"
    },
    "papermill": {
     "duration": 0.071847,
     "end_time": "2022-06-20T07:30:42.284020",
     "exception": false,
     "start_time": "2022-06-20T07:30:42.212173",
     "status": "completed"
    },
    "tags": []
   },
   "outputs": [
    {
     "name": "stdout",
     "output_type": "stream",
     "text": [
      "<class 'pandas.core.frame.DataFrame'>\n",
      "Int64Index: 421570 entries, 0 to 421569\n",
      "Data columns (total 20 columns):\n",
      " #   Column        Non-Null Count   Dtype         \n",
      "---  ------        --------------   -----         \n",
      " 0   Store         421570 non-null  int64         \n",
      " 1   Dept          421570 non-null  int64         \n",
      " 2   Date          421570 non-null  datetime64[ns]\n",
      " 3   Weekly_Sales  421570 non-null  float64       \n",
      " 4   IsHoliday     421570 non-null  bool          \n",
      " 5   Type          421570 non-null  int64         \n",
      " 6   Size          421570 non-null  int64         \n",
      " 7   Temperature   421570 non-null  float64       \n",
      " 8   Fuel_Price    421570 non-null  float64       \n",
      " 9   MarkDown1     150681 non-null  float64       \n",
      " 10  MarkDown2     111248 non-null  float64       \n",
      " 11  MarkDown3     137091 non-null  float64       \n",
      " 12  MarkDown4     134967 non-null  float64       \n",
      " 13  MarkDown5     151432 non-null  float64       \n",
      " 14  CPI           421570 non-null  float64       \n",
      " 15  Unemployment  421570 non-null  float64       \n",
      " 16  Year          421570 non-null  int64         \n",
      " 17  Month         421570 non-null  int64         \n",
      " 18  Week          421570 non-null  int64         \n",
      " 19  Day           421570 non-null  int64         \n",
      "dtypes: bool(1), datetime64[ns](1), float64(10), int64(8)\n",
      "memory usage: 64.7 MB\n"
     ]
    }
   ],
   "source": [
    "# para sabar a quantidade de dados totais em cada campo\n",
    "df_train_final.info()"
   ]
  },
  {
   "cell_type": "code",
   "execution_count": 23,
   "id": "e6843564",
   "metadata": {
    "execution": {
     "iopub.execute_input": "2022-06-20T07:30:42.346972Z",
     "iopub.status.busy": "2022-06-20T07:30:42.346078Z",
     "iopub.status.idle": "2022-06-20T07:30:42.374203Z",
     "shell.execute_reply": "2022-06-20T07:30:42.373423Z"
    },
    "papermill": {
     "duration": 0.061421,
     "end_time": "2022-06-20T07:30:42.376265",
     "exception": false,
     "start_time": "2022-06-20T07:30:42.314844",
     "status": "completed"
    },
    "tags": []
   },
   "outputs": [
    {
     "data": {
      "text/plain": [
       "Store                0\n",
       "Dept                 0\n",
       "Date                 0\n",
       "Weekly_Sales         0\n",
       "IsHoliday            0\n",
       "Type                 0\n",
       "Size                 0\n",
       "Temperature          0\n",
       "Fuel_Price           0\n",
       "MarkDown1       270889\n",
       "MarkDown2       310322\n",
       "MarkDown3       284479\n",
       "MarkDown4       286603\n",
       "MarkDown5       270138\n",
       "CPI                  0\n",
       "Unemployment         0\n",
       "Year                 0\n",
       "Month                0\n",
       "Week                 0\n",
       "Day                  0\n",
       "dtype: int64"
      ]
     },
     "execution_count": 23,
     "metadata": {},
     "output_type": "execute_result"
    }
   ],
   "source": [
    "df_train_final.isnull().sum()"
   ]
  },
  {
   "cell_type": "markdown",
   "id": "695dbb58",
   "metadata": {
    "papermill": {
     "duration": 0.029864,
     "end_time": "2022-06-20T07:30:42.436539",
     "exception": false,
     "start_time": "2022-06-20T07:30:42.406675",
     "status": "completed"
    },
    "tags": []
   },
   "source": [
    "Consta valores ausentes nos campos 'MarkDown [1-5]'. São valores expressivos em relação a quantidade total de cada um deles. Diante disso, esses valores ausentes serão imputados como 0."
   ]
  },
  {
   "cell_type": "code",
   "execution_count": 24,
   "id": "d082d0f2",
   "metadata": {
    "execution": {
     "iopub.execute_input": "2022-06-20T07:30:42.499182Z",
     "iopub.status.busy": "2022-06-20T07:30:42.498663Z",
     "iopub.status.idle": "2022-06-20T07:30:42.531575Z",
     "shell.execute_reply": "2022-06-20T07:30:42.530571Z"
    },
    "papermill": {
     "duration": 0.067492,
     "end_time": "2022-06-20T07:30:42.534116",
     "exception": false,
     "start_time": "2022-06-20T07:30:42.466624",
     "status": "completed"
    },
    "tags": []
   },
   "outputs": [],
   "source": [
    "# Trocando os valores ausentes pelo valor numérico 0\n",
    "df_train_final.loc[df_train_final.MarkDown1.isnull() ,'MarkDown1']= 0\n",
    "df_train_final.loc[df_train_final.MarkDown2.isnull() ,'MarkDown2']= 0\n",
    "df_train_final.loc[df_train_final.MarkDown3.isnull() ,'MarkDown3']= 0\n",
    "df_train_final.loc[df_train_final.MarkDown4.isnull() ,'MarkDown4']= 0\n",
    "df_train_final.loc[df_train_final.MarkDown5.isnull() ,'MarkDown5']= 0"
   ]
  },
  {
   "cell_type": "code",
   "execution_count": 25,
   "id": "8642e359",
   "metadata": {
    "execution": {
     "iopub.execute_input": "2022-06-20T07:30:42.596951Z",
     "iopub.status.busy": "2022-06-20T07:30:42.596222Z",
     "iopub.status.idle": "2022-06-20T07:30:42.624714Z",
     "shell.execute_reply": "2022-06-20T07:30:42.623648Z"
    },
    "papermill": {
     "duration": 0.062617,
     "end_time": "2022-06-20T07:30:42.626862",
     "exception": false,
     "start_time": "2022-06-20T07:30:42.564245",
     "status": "completed"
    },
    "tags": []
   },
   "outputs": [
    {
     "data": {
      "text/plain": [
       "Store           0\n",
       "Dept            0\n",
       "Date            0\n",
       "Weekly_Sales    0\n",
       "IsHoliday       0\n",
       "Type            0\n",
       "Size            0\n",
       "Temperature     0\n",
       "Fuel_Price      0\n",
       "MarkDown1       0\n",
       "MarkDown2       0\n",
       "MarkDown3       0\n",
       "MarkDown4       0\n",
       "MarkDown5       0\n",
       "CPI             0\n",
       "Unemployment    0\n",
       "Year            0\n",
       "Month           0\n",
       "Week            0\n",
       "Day             0\n",
       "dtype: int64"
      ]
     },
     "execution_count": 25,
     "metadata": {},
     "output_type": "execute_result"
    }
   ],
   "source": [
    "#checando a quant. de valores ausentes após a mudança\n",
    "df_train_final.isnull().sum()"
   ]
  },
  {
   "cell_type": "code",
   "execution_count": 26,
   "id": "2d53d8e2",
   "metadata": {
    "execution": {
     "iopub.execute_input": "2022-06-20T07:30:42.690072Z",
     "iopub.status.busy": "2022-06-20T07:30:42.689369Z",
     "iopub.status.idle": "2022-06-20T07:30:42.716601Z",
     "shell.execute_reply": "2022-06-20T07:30:42.715506Z"
    },
    "papermill": {
     "duration": 0.061489,
     "end_time": "2022-06-20T07:30:42.718755",
     "exception": false,
     "start_time": "2022-06-20T07:30:42.657266",
     "status": "completed"
    },
    "tags": []
   },
   "outputs": [
    {
     "data": {
      "text/plain": [
       "False"
      ]
     },
     "execution_count": 26,
     "metadata": {},
     "output_type": "execute_result"
    }
   ],
   "source": [
    "# checando se existe valores NaN\n",
    "df_train_final.isnull().values.any()"
   ]
  },
  {
   "cell_type": "markdown",
   "id": "bb5c4f1c",
   "metadata": {
    "papermill": {
     "duration": 0.035757,
     "end_time": "2022-06-20T07:30:42.788056",
     "exception": false,
     "start_time": "2022-06-20T07:30:42.752299",
     "status": "completed"
    },
    "tags": []
   },
   "source": []
  },
  {
   "cell_type": "markdown",
   "id": "27749fdd",
   "metadata": {
    "papermill": {
     "duration": 0.034688,
     "end_time": "2022-06-20T07:30:42.860469",
     "exception": false,
     "start_time": "2022-06-20T07:30:42.825781",
     "status": "completed"
    },
    "tags": []
   },
   "source": [
    "# f) Verificando os valores negativos"
   ]
  },
  {
   "cell_type": "code",
   "execution_count": 27,
   "id": "c2b6e087",
   "metadata": {
    "execution": {
     "iopub.execute_input": "2022-06-20T07:30:42.925421Z",
     "iopub.status.busy": "2022-06-20T07:30:42.924593Z",
     "iopub.status.idle": "2022-06-20T07:30:43.261304Z",
     "shell.execute_reply": "2022-06-20T07:30:43.260222Z"
    },
    "papermill": {
     "duration": 0.372299,
     "end_time": "2022-06-20T07:30:43.263697",
     "exception": false,
     "start_time": "2022-06-20T07:30:42.891398",
     "status": "completed"
    },
    "tags": []
   },
   "outputs": [
    {
     "data": {
      "text/html": [
       "<div>\n",
       "<style scoped>\n",
       "    .dataframe tbody tr th:only-of-type {\n",
       "        vertical-align: middle;\n",
       "    }\n",
       "\n",
       "    .dataframe tbody tr th {\n",
       "        vertical-align: top;\n",
       "    }\n",
       "\n",
       "    .dataframe thead th {\n",
       "        text-align: right;\n",
       "    }\n",
       "</style>\n",
       "<table border=\"1\" class=\"dataframe\">\n",
       "  <thead>\n",
       "    <tr style=\"text-align: right;\">\n",
       "      <th></th>\n",
       "      <th>count</th>\n",
       "      <th>mean</th>\n",
       "      <th>std</th>\n",
       "      <th>min</th>\n",
       "      <th>25%</th>\n",
       "      <th>50%</th>\n",
       "      <th>75%</th>\n",
       "      <th>max</th>\n",
       "    </tr>\n",
       "  </thead>\n",
       "  <tbody>\n",
       "    <tr>\n",
       "      <th>Store</th>\n",
       "      <td>421570.0</td>\n",
       "      <td>22.200546</td>\n",
       "      <td>12.785297</td>\n",
       "      <td>1.000</td>\n",
       "      <td>11.000000</td>\n",
       "      <td>22.00000</td>\n",
       "      <td>33.000000</td>\n",
       "      <td>45.000000</td>\n",
       "    </tr>\n",
       "    <tr>\n",
       "      <th>Dept</th>\n",
       "      <td>421570.0</td>\n",
       "      <td>44.260317</td>\n",
       "      <td>30.492054</td>\n",
       "      <td>1.000</td>\n",
       "      <td>18.000000</td>\n",
       "      <td>37.00000</td>\n",
       "      <td>74.000000</td>\n",
       "      <td>99.000000</td>\n",
       "    </tr>\n",
       "    <tr>\n",
       "      <th>Weekly_Sales</th>\n",
       "      <td>421570.0</td>\n",
       "      <td>15981.258123</td>\n",
       "      <td>22711.183519</td>\n",
       "      <td>-4988.940</td>\n",
       "      <td>2079.650000</td>\n",
       "      <td>7612.03000</td>\n",
       "      <td>20205.852500</td>\n",
       "      <td>693099.360000</td>\n",
       "    </tr>\n",
       "    <tr>\n",
       "      <th>Type</th>\n",
       "      <td>421570.0</td>\n",
       "      <td>2.410088</td>\n",
       "      <td>0.666337</td>\n",
       "      <td>1.000</td>\n",
       "      <td>2.000000</td>\n",
       "      <td>3.00000</td>\n",
       "      <td>3.000000</td>\n",
       "      <td>3.000000</td>\n",
       "    </tr>\n",
       "    <tr>\n",
       "      <th>Size</th>\n",
       "      <td>421570.0</td>\n",
       "      <td>136727.915739</td>\n",
       "      <td>60980.583328</td>\n",
       "      <td>34875.000</td>\n",
       "      <td>93638.000000</td>\n",
       "      <td>140167.00000</td>\n",
       "      <td>202505.000000</td>\n",
       "      <td>219622.000000</td>\n",
       "    </tr>\n",
       "    <tr>\n",
       "      <th>Temperature</th>\n",
       "      <td>421570.0</td>\n",
       "      <td>60.090059</td>\n",
       "      <td>18.447931</td>\n",
       "      <td>-2.060</td>\n",
       "      <td>46.680000</td>\n",
       "      <td>62.09000</td>\n",
       "      <td>74.280000</td>\n",
       "      <td>100.140000</td>\n",
       "    </tr>\n",
       "    <tr>\n",
       "      <th>Fuel_Price</th>\n",
       "      <td>421570.0</td>\n",
       "      <td>3.361027</td>\n",
       "      <td>0.458515</td>\n",
       "      <td>2.472</td>\n",
       "      <td>2.933000</td>\n",
       "      <td>3.45200</td>\n",
       "      <td>3.738000</td>\n",
       "      <td>4.468000</td>\n",
       "    </tr>\n",
       "    <tr>\n",
       "      <th>MarkDown1</th>\n",
       "      <td>421570.0</td>\n",
       "      <td>2590.074819</td>\n",
       "      <td>6052.385934</td>\n",
       "      <td>0.000</td>\n",
       "      <td>0.000000</td>\n",
       "      <td>0.00000</td>\n",
       "      <td>2809.050000</td>\n",
       "      <td>88646.760000</td>\n",
       "    </tr>\n",
       "    <tr>\n",
       "      <th>MarkDown2</th>\n",
       "      <td>421570.0</td>\n",
       "      <td>879.974298</td>\n",
       "      <td>5084.538801</td>\n",
       "      <td>-265.760</td>\n",
       "      <td>0.000000</td>\n",
       "      <td>0.00000</td>\n",
       "      <td>2.200000</td>\n",
       "      <td>104519.540000</td>\n",
       "    </tr>\n",
       "    <tr>\n",
       "      <th>MarkDown3</th>\n",
       "      <td>421570.0</td>\n",
       "      <td>468.087665</td>\n",
       "      <td>5528.873453</td>\n",
       "      <td>-29.100</td>\n",
       "      <td>0.000000</td>\n",
       "      <td>0.00000</td>\n",
       "      <td>4.540000</td>\n",
       "      <td>141630.610000</td>\n",
       "    </tr>\n",
       "    <tr>\n",
       "      <th>MarkDown4</th>\n",
       "      <td>421570.0</td>\n",
       "      <td>1083.132268</td>\n",
       "      <td>3894.529945</td>\n",
       "      <td>0.000</td>\n",
       "      <td>0.000000</td>\n",
       "      <td>0.00000</td>\n",
       "      <td>425.290000</td>\n",
       "      <td>67474.850000</td>\n",
       "    </tr>\n",
       "    <tr>\n",
       "      <th>MarkDown5</th>\n",
       "      <td>421570.0</td>\n",
       "      <td>1662.772385</td>\n",
       "      <td>4207.629321</td>\n",
       "      <td>0.000</td>\n",
       "      <td>0.000000</td>\n",
       "      <td>0.00000</td>\n",
       "      <td>2168.040000</td>\n",
       "      <td>108519.280000</td>\n",
       "    </tr>\n",
       "    <tr>\n",
       "      <th>CPI</th>\n",
       "      <td>421570.0</td>\n",
       "      <td>171.201947</td>\n",
       "      <td>39.159276</td>\n",
       "      <td>126.064</td>\n",
       "      <td>132.022667</td>\n",
       "      <td>182.31878</td>\n",
       "      <td>212.416993</td>\n",
       "      <td>227.232807</td>\n",
       "    </tr>\n",
       "    <tr>\n",
       "      <th>Unemployment</th>\n",
       "      <td>421570.0</td>\n",
       "      <td>7.960289</td>\n",
       "      <td>1.863296</td>\n",
       "      <td>3.879</td>\n",
       "      <td>6.891000</td>\n",
       "      <td>7.86600</td>\n",
       "      <td>8.572000</td>\n",
       "      <td>14.313000</td>\n",
       "    </tr>\n",
       "    <tr>\n",
       "      <th>Year</th>\n",
       "      <td>421570.0</td>\n",
       "      <td>2010.968591</td>\n",
       "      <td>0.796876</td>\n",
       "      <td>2010.000</td>\n",
       "      <td>2010.000000</td>\n",
       "      <td>2011.00000</td>\n",
       "      <td>2012.000000</td>\n",
       "      <td>2012.000000</td>\n",
       "    </tr>\n",
       "    <tr>\n",
       "      <th>Month</th>\n",
       "      <td>421570.0</td>\n",
       "      <td>6.449510</td>\n",
       "      <td>3.243217</td>\n",
       "      <td>1.000</td>\n",
       "      <td>4.000000</td>\n",
       "      <td>6.00000</td>\n",
       "      <td>9.000000</td>\n",
       "      <td>12.000000</td>\n",
       "    </tr>\n",
       "    <tr>\n",
       "      <th>Week</th>\n",
       "      <td>421570.0</td>\n",
       "      <td>25.826762</td>\n",
       "      <td>14.151887</td>\n",
       "      <td>1.000</td>\n",
       "      <td>14.000000</td>\n",
       "      <td>26.00000</td>\n",
       "      <td>38.000000</td>\n",
       "      <td>52.000000</td>\n",
       "    </tr>\n",
       "    <tr>\n",
       "      <th>Day</th>\n",
       "      <td>421570.0</td>\n",
       "      <td>15.673131</td>\n",
       "      <td>8.753549</td>\n",
       "      <td>1.000</td>\n",
       "      <td>8.000000</td>\n",
       "      <td>16.00000</td>\n",
       "      <td>23.000000</td>\n",
       "      <td>31.000000</td>\n",
       "    </tr>\n",
       "  </tbody>\n",
       "</table>\n",
       "</div>"
      ],
      "text/plain": [
       "                 count           mean           std        min           25%  \\\n",
       "Store         421570.0      22.200546     12.785297      1.000     11.000000   \n",
       "Dept          421570.0      44.260317     30.492054      1.000     18.000000   \n",
       "Weekly_Sales  421570.0   15981.258123  22711.183519  -4988.940   2079.650000   \n",
       "Type          421570.0       2.410088      0.666337      1.000      2.000000   \n",
       "Size          421570.0  136727.915739  60980.583328  34875.000  93638.000000   \n",
       "Temperature   421570.0      60.090059     18.447931     -2.060     46.680000   \n",
       "Fuel_Price    421570.0       3.361027      0.458515      2.472      2.933000   \n",
       "MarkDown1     421570.0    2590.074819   6052.385934      0.000      0.000000   \n",
       "MarkDown2     421570.0     879.974298   5084.538801   -265.760      0.000000   \n",
       "MarkDown3     421570.0     468.087665   5528.873453    -29.100      0.000000   \n",
       "MarkDown4     421570.0    1083.132268   3894.529945      0.000      0.000000   \n",
       "MarkDown5     421570.0    1662.772385   4207.629321      0.000      0.000000   \n",
       "CPI           421570.0     171.201947     39.159276    126.064    132.022667   \n",
       "Unemployment  421570.0       7.960289      1.863296      3.879      6.891000   \n",
       "Year          421570.0    2010.968591      0.796876   2010.000   2010.000000   \n",
       "Month         421570.0       6.449510      3.243217      1.000      4.000000   \n",
       "Week          421570.0      25.826762     14.151887      1.000     14.000000   \n",
       "Day           421570.0      15.673131      8.753549      1.000      8.000000   \n",
       "\n",
       "                       50%            75%            max  \n",
       "Store             22.00000      33.000000      45.000000  \n",
       "Dept              37.00000      74.000000      99.000000  \n",
       "Weekly_Sales    7612.03000   20205.852500  693099.360000  \n",
       "Type               3.00000       3.000000       3.000000  \n",
       "Size          140167.00000  202505.000000  219622.000000  \n",
       "Temperature       62.09000      74.280000     100.140000  \n",
       "Fuel_Price         3.45200       3.738000       4.468000  \n",
       "MarkDown1          0.00000    2809.050000   88646.760000  \n",
       "MarkDown2          0.00000       2.200000  104519.540000  \n",
       "MarkDown3          0.00000       4.540000  141630.610000  \n",
       "MarkDown4          0.00000     425.290000   67474.850000  \n",
       "MarkDown5          0.00000    2168.040000  108519.280000  \n",
       "CPI              182.31878     212.416993     227.232807  \n",
       "Unemployment       7.86600       8.572000      14.313000  \n",
       "Year            2011.00000    2012.000000    2012.000000  \n",
       "Month              6.00000       9.000000      12.000000  \n",
       "Week              26.00000      38.000000      52.000000  \n",
       "Day               16.00000      23.000000      31.000000  "
      ]
     },
     "execution_count": 27,
     "metadata": {},
     "output_type": "execute_result"
    }
   ],
   "source": [
    "# analisando alguns dados estatíticos\n",
    "df_train_final.describe().T"
   ]
  },
  {
   "cell_type": "markdown",
   "id": "40851fa5",
   "metadata": {
    "papermill": {
     "duration": 0.030503,
     "end_time": "2022-06-20T07:30:43.325272",
     "exception": false,
     "start_time": "2022-06-20T07:30:43.294769",
     "status": "completed"
    },
    "tags": []
   },
   "source": [
    "Os campos Weekly_Sales,Temperature, MarkDown2, MarkDown3 possuem valores negtivos na coluna 'min'. Desses o único que não faz sentido ter um valor mínimo negativo é o Weekly_Sales, afinal não tem como ter vendas semanais negativas, só positivas ou zeradas."
   ]
  },
  {
   "cell_type": "code",
   "execution_count": 28,
   "id": "4e5a70e6",
   "metadata": {
    "execution": {
     "iopub.execute_input": "2022-06-20T07:30:43.388900Z",
     "iopub.status.busy": "2022-06-20T07:30:43.388296Z",
     "iopub.status.idle": "2022-06-20T07:30:43.397623Z",
     "shell.execute_reply": "2022-06-20T07:30:43.396836Z"
    },
    "papermill": {
     "duration": 0.043533,
     "end_time": "2022-06-20T07:30:43.399575",
     "exception": false,
     "start_time": "2022-06-20T07:30:43.356042",
     "status": "completed"
    },
    "tags": []
   },
   "outputs": [
    {
     "data": {
      "text/plain": [
       "(1285, 20)"
      ]
     },
     "execution_count": 28,
     "metadata": {},
     "output_type": "execute_result"
    }
   ],
   "source": [
    "# checando o numero de valores negativos no campo Weekly_Sales\n",
    "#Temos 1285 valores negativos nesse campo\n",
    "df_train_final[df_train_final.Weekly_Sales<0].shape"
   ]
  },
  {
   "cell_type": "code",
   "execution_count": 29,
   "id": "555d3171",
   "metadata": {
    "execution": {
     "iopub.execute_input": "2022-06-20T07:30:43.464741Z",
     "iopub.status.busy": "2022-06-20T07:30:43.464012Z",
     "iopub.status.idle": "2022-06-20T07:30:43.470277Z",
     "shell.execute_reply": "2022-06-20T07:30:43.469422Z"
    },
    "papermill": {
     "duration": 0.041378,
     "end_time": "2022-06-20T07:30:43.472410",
     "exception": false,
     "start_time": "2022-06-20T07:30:43.431032",
     "status": "completed"
    },
    "tags": []
   },
   "outputs": [
    {
     "data": {
      "text/plain": [
       "(421570,)"
      ]
     },
     "execution_count": 29,
     "metadata": {},
     "output_type": "execute_result"
    }
   ],
   "source": [
    "# checando o total de valores no campo Weekly_Sales\n",
    "# Temos 421570 valores\n",
    "df_train_final['Weekly_Sales'].shape"
   ]
  },
  {
   "cell_type": "markdown",
   "id": "fad33705",
   "metadata": {
    "papermill": {
     "duration": 0.031354,
     "end_time": "2022-06-20T07:30:43.535480",
     "exception": false,
     "start_time": "2022-06-20T07:30:43.504126",
     "status": "completed"
    },
    "tags": []
   },
   "source": [
    "A porcentagem de valores negativos é muito pequeno em relação ao todo. Portanto, terá baixo impacto na modelagem a remoção desses valores."
   ]
  },
  {
   "cell_type": "code",
   "execution_count": 30,
   "id": "e0e563b0",
   "metadata": {
    "execution": {
     "iopub.execute_input": "2022-06-20T07:30:43.600750Z",
     "iopub.status.busy": "2022-06-20T07:30:43.600196Z",
     "iopub.status.idle": "2022-06-20T07:30:43.645371Z",
     "shell.execute_reply": "2022-06-20T07:30:43.644446Z"
    },
    "papermill": {
     "duration": 0.080967,
     "end_time": "2022-06-20T07:30:43.648007",
     "exception": false,
     "start_time": "2022-06-20T07:30:43.567040",
     "status": "completed"
    },
    "tags": []
   },
   "outputs": [],
   "source": [
    "# removendo os valores negativos do campo Weekly_Sales. \n",
    "df_train_final = df_train_final[df_train_final.Weekly_Sales >= 0]"
   ]
  },
  {
   "cell_type": "code",
   "execution_count": 31,
   "id": "2b916854",
   "metadata": {
    "execution": {
     "iopub.execute_input": "2022-06-20T07:30:43.720301Z",
     "iopub.status.busy": "2022-06-20T07:30:43.719498Z",
     "iopub.status.idle": "2022-06-20T07:30:43.727820Z",
     "shell.execute_reply": "2022-06-20T07:30:43.726882Z"
    },
    "papermill": {
     "duration": 0.049362,
     "end_time": "2022-06-20T07:30:43.729951",
     "exception": false,
     "start_time": "2022-06-20T07:30:43.680589",
     "status": "completed"
    },
    "tags": []
   },
   "outputs": [
    {
     "data": {
      "text/plain": [
       "(0, 20)"
      ]
     },
     "execution_count": 31,
     "metadata": {},
     "output_type": "execute_result"
    }
   ],
   "source": [
    "# verificando se a ação acima foi feita\n",
    "df_train_final[df_train_final.Weekly_Sales<0].shape"
   ]
  },
  {
   "cell_type": "markdown",
   "id": "232d3525",
   "metadata": {
    "papermill": {
     "duration": 0.031838,
     "end_time": "2022-06-20T07:30:43.793849",
     "exception": false,
     "start_time": "2022-06-20T07:30:43.762011",
     "status": "completed"
    },
    "tags": []
   },
   "source": [
    "Valores negativos do campo Weekly_Sales foram removidos."
   ]
  },
  {
   "cell_type": "markdown",
   "id": "c262773f",
   "metadata": {
    "papermill": {
     "duration": 0.03163,
     "end_time": "2022-06-20T07:30:43.857380",
     "exception": false,
     "start_time": "2022-06-20T07:30:43.825750",
     "status": "completed"
    },
    "tags": []
   },
   "source": [
    "# g) Verificando linhas duplicadas."
   ]
  },
  {
   "cell_type": "code",
   "execution_count": 32,
   "id": "acb3bbb8",
   "metadata": {
    "execution": {
     "iopub.execute_input": "2022-06-20T07:30:43.922816Z",
     "iopub.status.busy": "2022-06-20T07:30:43.922058Z",
     "iopub.status.idle": "2022-06-20T07:30:44.320073Z",
     "shell.execute_reply": "2022-06-20T07:30:44.318938Z"
    },
    "papermill": {
     "duration": 0.433819,
     "end_time": "2022-06-20T07:30:44.322509",
     "exception": false,
     "start_time": "2022-06-20T07:30:43.888690",
     "status": "completed"
    },
    "tags": []
   },
   "outputs": [
    {
     "data": {
      "text/plain": [
       "0"
      ]
     },
     "execution_count": 32,
     "metadata": {},
     "output_type": "execute_result"
    }
   ],
   "source": [
    "# Somando todas as linhas duplicadas\n",
    "df_train_final.duplicated().sum()"
   ]
  },
  {
   "cell_type": "markdown",
   "id": "dde64b28",
   "metadata": {
    "papermill": {
     "duration": 0.031049,
     "end_time": "2022-06-20T07:30:44.385129",
     "exception": false,
     "start_time": "2022-06-20T07:30:44.354080",
     "status": "completed"
    },
    "tags": []
   },
   "source": [
    "Não há linhas duplicadas."
   ]
  },
  {
   "cell_type": "markdown",
   "id": "a55185d8",
   "metadata": {
    "papermill": {
     "duration": 0.033076,
     "end_time": "2022-06-20T07:30:44.449676",
     "exception": false,
     "start_time": "2022-06-20T07:30:44.416600",
     "status": "completed"
    },
    "tags": []
   },
   "source": [
    "#  # 6. Análise exploratória dos dados"
   ]
  },
  {
   "cell_type": "markdown",
   "id": "eac199c6",
   "metadata": {
    "papermill": {
     "duration": 0.031109,
     "end_time": "2022-06-20T07:30:44.514893",
     "exception": false,
     "start_time": "2022-06-20T07:30:44.483784",
     "status": "completed"
    },
    "tags": []
   },
   "source": [
    "# a) Impacto das vendas ao longo dos meses"
   ]
  },
  {
   "cell_type": "code",
   "execution_count": 33,
   "id": "5572d08f",
   "metadata": {
    "execution": {
     "iopub.execute_input": "2022-06-20T07:30:44.581278Z",
     "iopub.status.busy": "2022-06-20T07:30:44.580436Z",
     "iopub.status.idle": "2022-06-20T07:30:44.895238Z",
     "shell.execute_reply": "2022-06-20T07:30:44.894039Z"
    },
    "papermill": {
     "duration": 0.351782,
     "end_time": "2022-06-20T07:30:44.898212",
     "exception": false,
     "start_time": "2022-06-20T07:30:44.546430",
     "status": "completed"
    },
    "tags": []
   },
   "outputs": [
    {
     "data": {
      "image/png": "[encoded data removed]",
      "text/plain": [
       "<Figure size 1080x360 with 1 Axes>"
      ]
     },
     "metadata": {
      "needs_background": "light"
     },
     "output_type": "display_data"
    }
   ],
   "source": [
    "# plotagem da relação das datas com as vendas semanais\n",
    "plt.figure(figsize=(15,5))\n",
    "df_train_final.groupby(['Date'])['Weekly_Sales'].sum().plot()\n",
    "plt.title('Vendas Semanais vs Datas')\n",
    "plt.ylabel('Weekly sales ');"
   ]
  },
  {
   "cell_type": "markdown",
   "id": "ce5bd205",
   "metadata": {
    "papermill": {
     "duration": 0.032562,
     "end_time": "2022-06-20T07:30:44.963848",
     "exception": false,
     "start_time": "2022-06-20T07:30:44.931286",
     "status": "completed"
    },
    "tags": []
   },
   "source": [
    "### Inferências\n",
    "\n",
    "1. Analisando o gráfico vemos quatro picos, gerando altos impactos nas vendas. Dois deles é no fim de novembro(feriado de ação de graças) e os outros dois é no més de dezembro (natal). Já o feriado do super bowl(fevereiro) e do Labor Day geram um impacto médio no aumento das vendas.\n",
    "\n",
    "2. Há uma ligeira queda nas vendas em dezembro de 2011 comparado ao mesmo mês em 2012.\n",
    "\n",
    "3. Há uma sazonalidade no gráfico de vendas semanais ao longo do período de tempo que pode ser facilmente vista pelo gráfico.\n",
    "\n",
    "4. As vendas semanais médias estão flutuando em torno de 4,8*10^7"
   ]
  },
  {
   "cell_type": "markdown",
   "id": "7672f070",
   "metadata": {
    "papermill": {
     "duration": 0.032819,
     "end_time": "2022-06-20T07:30:45.029815",
     "exception": false,
     "start_time": "2022-06-20T07:30:44.996996",
     "status": "completed"
    },
    "tags": []
   },
   "source": [
    "# b) Impacto das vendas ao longo das semanas do ano."
   ]
  },
  {
   "cell_type": "code",
   "execution_count": 34,
   "id": "dbdf39a6",
   "metadata": {
    "execution": {
     "iopub.execute_input": "2022-06-20T07:30:45.097500Z",
     "iopub.status.busy": "2022-06-20T07:30:45.096518Z",
     "iopub.status.idle": "2022-06-20T07:30:51.788441Z",
     "shell.execute_reply": "2022-06-20T07:30:51.787368Z"
    },
    "papermill": {
     "duration": 6.728519,
     "end_time": "2022-06-20T07:30:51.790966",
     "exception": false,
     "start_time": "2022-06-20T07:30:45.062447",
     "status": "completed"
    },
    "tags": []
   },
   "outputs": [
    {
     "data": {
      "text/plain": [
       "<Figure size 720x720 with 0 Axes>"
      ]
     },
     "metadata": {},
     "output_type": "display_data"
    },
    {
     "data": {
      "image/png": "[encoded data removed]",
      "text/plain": [
       "<Figure size 720x360 with 1 Axes>"
      ]
     },
     "metadata": {
      "needs_background": "light"
     },
     "output_type": "display_data"
    }
   ],
   "source": [
    "# plotagem da relação das semanas com as vendas\n",
    "plt.figure(figsize=(10,10)) # dimensao do tamanho da figura\n",
    "sns.relplot(x = 'Week',y = 'Weekly_Sales',data = df_train_final, kind='line',aspect = 2)\n",
    "#plotagem\n",
    "plt.title(\"Vendas vs Semanas do ano \")\n",
    "plt.grid()\n",
    "plt.show();"
   ]
  },
  {
   "cell_type": "markdown",
   "id": "745289a3",
   "metadata": {
    "papermill": {
     "duration": 0.033215,
     "end_time": "2022-06-20T07:30:51.858332",
     "exception": false,
     "start_time": "2022-06-20T07:30:51.825117",
     "status": "completed"
    },
    "tags": []
   },
   "source": [
    "**Inferência:**\n",
    "\n",
    "Há flutuações ligeiras das semanas ao longo do ano. Da semana 45 a 50 temos dois picos de vendas devido aos feriados do Natal e de Dia de Ação de Graças que acontecem por essas semanas."
   ]
  },
  {
   "cell_type": "markdown",
   "id": "f749734e",
   "metadata": {
    "papermill": {
     "duration": 0.033229,
     "end_time": "2022-06-20T07:30:51.925499",
     "exception": false,
     "start_time": "2022-06-20T07:30:51.892270",
     "status": "completed"
    },
    "tags": []
   },
   "source": [
    "# c) Impacto dos markdowns[1-5] nas vendas semanais"
   ]
  },
  {
   "cell_type": "code",
   "execution_count": 35,
   "id": "e74998d2",
   "metadata": {
    "execution": {
     "iopub.execute_input": "2022-06-20T07:30:51.996152Z",
     "iopub.status.busy": "2022-06-20T07:30:51.994812Z",
     "iopub.status.idle": "2022-06-20T07:30:52.669702Z",
     "shell.execute_reply": "2022-06-20T07:30:52.668583Z"
    },
    "papermill": {
     "duration": 0.713436,
     "end_time": "2022-06-20T07:30:52.672512",
     "exception": false,
     "start_time": "2022-06-20T07:30:51.959076",
     "status": "completed"
    },
    "tags": []
   },
   "outputs": [
    {
     "data": {
      "image/png": "[encoded data removed]",
      "text/plain": [
       "<Figure size 1080x432 with 1 Axes>"
      ]
     },
     "metadata": {
      "needs_background": "light"
     },
     "output_type": "display_data"
    }
   ],
   "source": [
    "# agrupando cada markdown com o campo date e com isso temos a relação entre os dois.\n",
    "plt.figure(figsize=(15,6));\n",
    "df_train_final.groupby(['Date'])['MarkDown1'].sum().plot(label='MarkDown1')\n",
    "df_train_final.groupby(['Date'])['MarkDown2'].sum().plot(label='MarkDown2')\n",
    "df_train_final.groupby(['Date'])['MarkDown3'].sum().plot(label='MarkDown3')\n",
    "df_train_final.groupby(['Date'])['MarkDown4'].sum().plot(label='MarkDown4')\n",
    "df_train_final.groupby(['Date'])['MarkDown5'].sum().plot(label='MarkDown5')\n",
    "\n",
    "#legendas e plotagem\n",
    "plt.grid()\n",
    "plt.title('MarkDowns [1-5] vs Datas')  \n",
    "plt.ylabel('MarkDown [1-5]')\n",
    "plt.legend();"
   ]
  },
  {
   "cell_type": "markdown",
   "id": "b2455711",
   "metadata": {
    "papermill": {
     "duration": 0.03681,
     "end_time": "2022-06-20T07:30:52.744332",
     "exception": false,
     "start_time": "2022-06-20T07:30:52.707522",
     "status": "completed"
    },
    "tags": []
   },
   "source": [
    "**Inferências:**\n",
    "\n",
    "1. Não há valores de 'markdowns' disponíveis nas datas anteriores a outubro de 2011.\n",
    "\n",
    "2. Tivemos picos de 'markdowns' no intervelo de novembro de 2011 a fevereiro de 2012. Intervalo este que é onde ocorrem os seguintes feriados: Natal, Ação de Graças e Super Bowl.\n",
    "3. Ordem do impacto dos picos citados no item 2:\n",
    "                                               markdowns3 > markdowns2 > markdowns1 > markdowns4 > markdowns5"
   ]
  },
  {
   "cell_type": "markdown",
   "id": "e1d166f2",
   "metadata": {
    "papermill": {
     "duration": 0.034008,
     "end_time": "2022-06-20T07:30:52.813792",
     "exception": false,
     "start_time": "2022-06-20T07:30:52.779784",
     "status": "completed"
    },
    "tags": []
   },
   "source": [
    "# d) Impacto nas vendas com/sem feriados durante a semana"
   ]
  },
  {
   "cell_type": "code",
   "execution_count": 36,
   "id": "f989e0a1",
   "metadata": {
    "execution": {
     "iopub.execute_input": "2022-06-20T07:30:52.885143Z",
     "iopub.status.busy": "2022-06-20T07:30:52.884173Z",
     "iopub.status.idle": "2022-06-20T07:30:52.891823Z",
     "shell.execute_reply": "2022-06-20T07:30:52.890871Z"
    },
    "papermill": {
     "duration": 0.045888,
     "end_time": "2022-06-20T07:30:52.893944",
     "exception": false,
     "start_time": "2022-06-20T07:30:52.848056",
     "status": "completed"
    },
    "tags": []
   },
   "outputs": [
    {
     "data": {
      "text/plain": [
       "(420285, 20)"
      ]
     },
     "execution_count": 36,
     "metadata": {},
     "output_type": "execute_result"
    }
   ],
   "source": [
    "# dimensão do dataframe de treino\n",
    "df_train_final.shape"
   ]
  },
  {
   "cell_type": "code",
   "execution_count": 37,
   "id": "8a9910ec",
   "metadata": {
    "execution": {
     "iopub.execute_input": "2022-06-20T07:30:52.965971Z",
     "iopub.status.busy": "2022-06-20T07:30:52.965046Z",
     "iopub.status.idle": "2022-06-20T07:30:53.051281Z",
     "shell.execute_reply": "2022-06-20T07:30:53.050217Z"
    },
    "papermill": {
     "duration": 0.12494,
     "end_time": "2022-06-20T07:30:53.053522",
     "exception": false,
     "start_time": "2022-06-20T07:30:52.928582",
     "status": "completed"
    },
    "tags": []
   },
   "outputs": [
    {
     "name": "stdout",
     "output_type": "stream",
     "text": [
      "Holiday vs Weekly_Sales :\n",
      "\n",
      "count     29563.000000\n",
      "mean      17092.566220\n",
      "std       27249.206776\n",
      "min           0.000000\n",
      "25%        2122.830000\n",
      "50%        7997.860000\n",
      "75%       21256.915000\n",
      "max      693099.360000\n",
      "Name: Weekly_Sales, dtype: float64\n",
      "\n",
      "\n",
      "Non-Holiday vs Weekly_Sales:\n",
      "\n",
      "count    390722.000000\n",
      "mean      15949.958317\n",
      "std       22347.258698\n",
      "min           0.000000\n",
      "25%        2117.300000\n",
      "50%        7636.080000\n",
      "75%       20193.912500\n",
      "max      406988.630000\n",
      "Name: Weekly_Sales, dtype: float64\n"
     ]
    }
   ],
   "source": [
    "# print das estatíticas das vendas semanais quando tem feriado durante a semana.\n",
    "print(\"Holiday vs Weekly_Sales :\\n\")\n",
    "\n",
    "\n",
    "print(df_train_final[df_train_final['IsHoliday']==True]['Weekly_Sales'].describe())\n",
    "\n",
    "\n",
    "print('\\n')\n",
    "\n",
    "# print das estatíticas das vendas semanais quando não há feriado durante a semana.\n",
    "print(\"Non-Holiday vs Weekly_Sales:\\n\")\n",
    "print(df_train_final[df_train_final['IsHoliday']==False]['Weekly_Sales'].describe())"
   ]
  },
  {
   "cell_type": "markdown",
   "id": "dc942c91",
   "metadata": {
    "papermill": {
     "duration": 0.03469,
     "end_time": "2022-06-20T07:30:53.123162",
     "exception": false,
     "start_time": "2022-06-20T07:30:53.088472",
     "status": "completed"
    },
    "tags": []
   },
   "source": [
    "**Inferências:**\n",
    "\n",
    "Médias das vendas quando tem feriado na semana: 17092.566\n",
    "\n",
    "Médias das vendas quando não tem feriado na semana: 15949.958\n",
    "\n",
    "Ou seja, os feriados durante a semana geram, em média, mais vendas.\n",
    "Lembrando que na métrica WMAE o feriado na semana terá peso 5 e,numa situação contrário, terá valor 1."
   ]
  },
  {
   "cell_type": "markdown",
   "id": "5624b02a",
   "metadata": {
    "papermill": {
     "duration": 0.03485,
     "end_time": "2022-06-20T07:30:53.193087",
     "exception": false,
     "start_time": "2022-06-20T07:30:53.158237",
     "status": "completed"
    },
    "tags": []
   },
   "source": [
    "# e) Média das vendas por lojas"
   ]
  },
  {
   "cell_type": "code",
   "execution_count": 38,
   "id": "c072b49b",
   "metadata": {
    "execution": {
     "iopub.execute_input": "2022-06-20T07:30:53.265266Z",
     "iopub.status.busy": "2022-06-20T07:30:53.264401Z",
     "iopub.status.idle": "2022-06-20T07:30:53.898335Z",
     "shell.execute_reply": "2022-06-20T07:30:53.897205Z"
    },
    "papermill": {
     "duration": 0.672723,
     "end_time": "2022-06-20T07:30:53.900680",
     "exception": false,
     "start_time": "2022-06-20T07:30:53.227957",
     "status": "completed"
    },
    "tags": []
   },
   "outputs": [
    {
     "data": {
      "image/png": "[encoded data removed]",
      "text/plain": [
       "<Figure size 1440x576 with 1 Axes>"
      ]
     },
     "metadata": {
      "needs_background": "light"
     },
     "output_type": "display_data"
    }
   ],
   "source": [
    "#relacionando a média das vendas semanais e das lojas \n",
    "weekly_sales = df_train_final['Weekly_Sales'].groupby(df_train_final['Store']).mean()\n",
    "\n",
    "plt.figure(figsize=(20,8)) # dimensão da figura\n",
    "sns.barplot(weekly_sales.index, weekly_sales.values, palette='muted') \n",
    "\n",
    "plt.grid()\n",
    "plt.title('Média das vendas por lojas', fontsize=18)\n",
    "plt.ylabel('Vendas', fontsize=16)\n",
    "plt.xlabel('Lojas', fontsize=16)\n",
    "plt.show()"
   ]
  },
  {
   "cell_type": "markdown",
   "id": "6678dd71",
   "metadata": {
    "papermill": {
     "duration": 0.035289,
     "end_time": "2022-06-20T07:30:53.971717",
     "exception": false,
     "start_time": "2022-06-20T07:30:53.936428",
     "status": "completed"
    },
    "tags": []
   },
   "source": [
    "**Inferências:**\n",
    "\n",
    "1. N° das lojas que vendem mais: 2,4,6,10,13,14,19,20,27 e 39.\n",
    "2. Intervalo de vendas das lojas citadas em '1': De 22 a 30 mil vendas\n"
   ]
  },
  {
   "cell_type": "markdown",
   "id": "6c64c42d",
   "metadata": {
    "papermill": {
     "duration": 0.03508,
     "end_time": "2022-06-20T07:30:54.042290",
     "exception": false,
     "start_time": "2022-06-20T07:30:54.007210",
     "status": "completed"
    },
    "tags": []
   },
   "source": [
    "# f) Média das vendas por departamentos"
   ]
  },
  {
   "cell_type": "code",
   "execution_count": 39,
   "id": "5cd48fdc",
   "metadata": {
    "execution": {
     "iopub.execute_input": "2022-06-20T07:30:54.115298Z",
     "iopub.status.busy": "2022-06-20T07:30:54.114819Z",
     "iopub.status.idle": "2022-06-20T07:30:55.243782Z",
     "shell.execute_reply": "2022-06-20T07:30:55.242661Z"
    },
    "papermill": {
     "duration": 1.168594,
     "end_time": "2022-06-20T07:30:55.246363",
     "exception": false,
     "start_time": "2022-06-20T07:30:54.077769",
     "status": "completed"
    },
    "tags": []
   },
   "outputs": [
    {
     "data": {
      "image/png": "[encoded data removed]",
      "text/plain": [
       "<Figure size 1440x720 with 1 Axes>"
      ]
     },
     "metadata": {
      "needs_background": "light"
     },
     "output_type": "display_data"
    }
   ],
   "source": [
    "#relacionando a média das vendas semanais e dos departamentos \n",
    "weekly_sales = df_train_final['Weekly_Sales'].groupby(df_train_final['Dept']).mean()\n",
    "plt.figure(figsize=(20,10))\n",
    "sns.barplot(weekly_sales.index, weekly_sales.values, palette='deep')\n",
    "#plotagem\n",
    "plt.grid()\n",
    "plt.title('Média das vendas por departamentos', fontsize=20)\n",
    "plt.ylabel('Vendas', fontsize=20)\n",
    "plt.xlabel('Departamentos', fontsize=20)\n",
    "plt.show()"
   ]
  },
  {
   "cell_type": "markdown",
   "id": "a26896de",
   "metadata": {
    "papermill": {
     "duration": 0.035451,
     "end_time": "2022-06-20T07:30:55.317840",
     "exception": false,
     "start_time": "2022-06-20T07:30:55.282389",
     "status": "completed"
    },
    "tags": []
   },
   "source": [
    "**Inferências:**\n",
    "\n",
    "1. N° dos departamentos que vendem mais: 2,8,13,38,40,65,72,90,91,92,94,95\n",
    "2. Intervalo de vendas dos departamentos citadas em '1': De 32 a 75 mil vendas\n",
    "3. Departamentos que não obtiveram vendas segundo os dados disponibilizados: 15,39,43,45,47,51,53,54,57,61,62,63,64,66,68,69,70,73,75,76,78,84,86,88,89,"
   ]
  },
  {
   "cell_type": "markdown",
   "id": "c9ba4464",
   "metadata": {
    "papermill": {
     "duration": 0.035348,
     "end_time": "2022-06-20T07:30:55.389053",
     "exception": false,
     "start_time": "2022-06-20T07:30:55.353705",
     "status": "completed"
    },
    "tags": []
   },
   "source": [
    "# g) Média das vendas por tamanho e do tipo da loja"
   ]
  },
  {
   "cell_type": "code",
   "execution_count": 40,
   "id": "9548d8a4",
   "metadata": {
    "execution": {
     "iopub.execute_input": "2022-06-20T07:30:55.462522Z",
     "iopub.status.busy": "2022-06-20T07:30:55.462008Z",
     "iopub.status.idle": "2022-06-20T07:31:07.185736Z",
     "shell.execute_reply": "2022-06-20T07:31:07.184396Z"
    },
    "papermill": {
     "duration": 11.764102,
     "end_time": "2022-06-20T07:31:07.188905",
     "exception": false,
     "start_time": "2022-06-20T07:30:55.424803",
     "status": "completed"
    },
    "tags": []
   },
   "outputs": [
    {
     "data": {
      "image/png": "[encoded data removed]",
      "text/plain": [
       "<Figure size 1080x432 with 1 Axes>"
      ]
     },
     "metadata": {
      "needs_background": "light"
     },
     "output_type": "display_data"
    }
   ],
   "source": [
    "plt.figure(figsize=(15,6))\n",
    "sns.scatterplot(x=df_train_final.Size, y=df_train_final.Weekly_Sales, hue=df_train_final.Type, s=80, palette='bright');\n",
    "#plotagem\n",
    "plt.xticks( fontsize=16)\n",
    "plt.yticks( fontsize=16)\n",
    "plt.xlabel('Tamanho da loja', fontsize=18)\n",
    "plt.ylabel('Vendas', fontsize=18);"
   ]
  },
  {
   "cell_type": "markdown",
   "id": "9c0d39d6",
   "metadata": {
    "papermill": {
     "duration": 0.037621,
     "end_time": "2022-06-20T07:31:07.265049",
     "exception": false,
     "start_time": "2022-06-20T07:31:07.227428",
     "status": "completed"
    },
    "tags": []
   },
   "source": [
    "**Inferências:**\n",
    "\n",
    "1. Vendas das lojas do tipo '3' > Vendas das lojas do tipo '2' > Vendas das lojas do tipo '1'\n",
    "2. Lojas menores, até 45 mil [unidade não especificada] , vendem entre 100 a 180 mil [unidade nao especificada]\n",
    "3. Lojas de tamanho mediano (80 a 44 mil [unidade não especificada]) vendem entre 290 a 430 mil [unidade nao especificada]\n",
    "4. Lojas maiores(acima de 175 mil [unidade nao especificada])"
   ]
  },
  {
   "cell_type": "markdown",
   "id": "2b13fc60",
   "metadata": {
    "papermill": {
     "duration": 0.037293,
     "end_time": "2022-06-20T07:31:07.340145",
     "exception": false,
     "start_time": "2022-06-20T07:31:07.302852",
     "status": "completed"
    },
    "tags": []
   },
   "source": [
    "# h) Matriz de correlação "
   ]
  },
  {
   "cell_type": "code",
   "execution_count": 41,
   "id": "66f95d94",
   "metadata": {
    "execution": {
     "iopub.execute_input": "2022-06-20T07:31:07.418483Z",
     "iopub.status.busy": "2022-06-20T07:31:07.417622Z",
     "iopub.status.idle": "2022-06-20T07:31:21.165225Z",
     "shell.execute_reply": "2022-06-20T07:31:21.163742Z"
    },
    "papermill": {
     "duration": 13.790037,
     "end_time": "2022-06-20T07:31:21.168228",
     "exception": false,
     "start_time": "2022-06-20T07:31:07.378191",
     "status": "completed"
    },
    "tags": []
   },
   "outputs": [
    {
     "name": "stdout",
     "output_type": "stream",
     "text": [
      "Collecting dython\r\n",
      "  Downloading dython-0.7.1.post3-py3-none-any.whl (21 kB)\r\n",
      "Requirement already satisfied: scipy>=1.7.1 in /opt/conda/lib/python3.7/site-packages (from dython) (1.7.3)\r\n",
      "Requirement already satisfied: seaborn>=0.11.0 in /opt/conda/lib/python3.7/site-packages (from dython) (0.11.2)\r\n",
      "Requirement already satisfied: scikit-learn>=0.24.2 in /opt/conda/lib/python3.7/site-packages (from dython) (1.0.2)\r\n",
      "Requirement already satisfied: scikit-plot>=0.3.7 in /opt/conda/lib/python3.7/site-packages (from dython) (0.3.7)\r\n",
      "Requirement already satisfied: pandas>=1.3.2 in /opt/conda/lib/python3.7/site-packages (from dython) (1.3.5)\r\n",
      "Requirement already satisfied: matplotlib>=3.4.3 in /opt/conda/lib/python3.7/site-packages (from dython) (3.5.2)\r\n",
      "Requirement already satisfied: numpy>=1.19.5 in /opt/conda/lib/python3.7/site-packages (from dython) (1.21.6)\r\n",
      "Requirement already satisfied: packaging>=20.0 in /opt/conda/lib/python3.7/site-packages (from matplotlib>=3.4.3->dython) (21.3)\r\n",
      "Requirement already satisfied: cycler>=0.10 in /opt/conda/lib/python3.7/site-packages (from matplotlib>=3.4.3->dython) (0.11.0)\r\n",
      "Requirement already satisfied: python-dateutil>=2.7 in /opt/conda/lib/python3.7/site-packages (from matplotlib>=3.4.3->dython) (2.8.2)\r\n",
      "Requirement already satisfied: pyparsing>=2.2.1 in /opt/conda/lib/python3.7/site-packages (from matplotlib>=3.4.3->dython) (3.0.9)\r\n",
      "Requirement already satisfied: fonttools>=4.22.0 in /opt/conda/lib/python3.7/site-packages (from matplotlib>=3.4.3->dython) (4.33.3)\r\n",
      "Requirement already satisfied: pillow>=6.2.0 in /opt/conda/lib/python3.7/site-packages (from matplotlib>=3.4.3->dython) (9.1.0)\r\n",
      "Requirement already satisfied: kiwisolver>=1.0.1 in /opt/conda/lib/python3.7/site-packages (from matplotlib>=3.4.3->dython) (1.4.2)\r\n",
      "Requirement already satisfied: pytz>=2017.3 in /opt/conda/lib/python3.7/site-packages (from pandas>=1.3.2->dython) (2022.1)\r\n",
      "Requirement already satisfied: threadpoolctl>=2.0.0 in /opt/conda/lib/python3.7/site-packages (from scikit-learn>=0.24.2->dython) (3.1.0)\r\n",
      "Requirement already satisfied: joblib>=0.11 in /opt/conda/lib/python3.7/site-packages (from scikit-learn>=0.24.2->dython) (1.1.0)\r\n",
      "Requirement already satisfied: typing-extensions in /opt/conda/lib/python3.7/site-packages (from kiwisolver>=1.0.1->matplotlib>=3.4.3->dython) (4.2.0)\r\n",
      "Requirement already satisfied: six>=1.5 in /opt/conda/lib/python3.7/site-packages (from python-dateutil>=2.7->matplotlib>=3.4.3->dython) (1.16.0)\r\n",
      "Installing collected packages: dython\r\n",
      "Successfully installed dython-0.7.1.post3\r\n",
      "\u001b[33mWARNING: Running pip as the 'root' user can result in broken permissions and conflicting behaviour with the system package manager. It is recommended to use a virtual environment instead: https://pip.pypa.io/warnings/venv\u001b[0m\u001b[33m\r\n",
      "\u001b[0m"
     ]
    }
   ],
   "source": [
    "#Dython instalado\n",
    "!pip install dython"
   ]
  },
  {
   "cell_type": "code",
   "execution_count": 42,
   "id": "0622115d",
   "metadata": {
    "execution": {
     "iopub.execute_input": "2022-06-20T07:31:21.249149Z",
     "iopub.status.busy": "2022-06-20T07:31:21.248514Z",
     "iopub.status.idle": "2022-06-20T07:31:30.109655Z",
     "shell.execute_reply": "2022-06-20T07:31:30.108361Z"
    },
    "papermill": {
     "duration": 8.906415,
     "end_time": "2022-06-20T07:31:30.114008",
     "exception": false,
     "start_time": "2022-06-20T07:31:21.207593",
     "status": "completed"
    },
    "tags": []
   },
   "outputs": [
    {
     "data": {
      "image/png": "[encoded data removed]",
      "text/plain": [
       "<Figure size 1440x720 with 2 Axes>"
      ]
     },
     "metadata": {
      "needs_background": "light"
     },
     "output_type": "display_data"
    }
   ],
   "source": [
    "# Dado um conjunto de dados, o dython encontrará automaticamente quais recursos são categóricos e quais são \n",
    "#numéricos e calculará uma medida relevante de associação entre cada recurso , plotando tudo como um mapa de \n",
    "#calor de fácil leitura. .\n",
    "\n",
    "#é necessário ser instalado com esse comando: !pip install dython \n",
    "from dython import nominal\n",
    "nominal.associations(df_train_final,figsize=(20,10),mark_columns=True);"
   ]
  },
  {
   "cell_type": "markdown",
   "id": "1189ce0c",
   "metadata": {
    "papermill": {
     "duration": 0.043954,
     "end_time": "2022-06-20T07:31:30.201671",
     "exception": false,
     "start_time": "2022-06-20T07:31:30.157717",
     "status": "completed"
    },
    "tags": []
   },
   "source": [
    "**Inferências:**\n",
    "\n",
    "1. correlação entre [Weekly sales] e [Dept] = 0.15\n",
    "2. correlação entre [Weekly sales] e [Store] = 0.09\n",
    "3. correlação entre [Weekly sales] e [Type] = 0.19\n",
    "4. correlação entre [Weekly sales] e [size] = 0.24\n",
    "5. correlação entre [Weekly sales] e [Markdown1] = 0.05\n",
    "6. correlação entre [Weekly sales] e [Markdown2] = 0.02\n",
    "7. correlação entre [Weekly sales] e [Markdown3] = 0.04\n",
    "8. correlação entre [Weekly sales] e [Markdown4] = 0.04\n",
    "9. correlação entre [Weekly sales] e [Markdown5] = 0.05\n",
    "\n",
    "Todos os demais campos possuem baixa correlação."
   ]
  },
  {
   "cell_type": "markdown",
   "id": "7c3f001f",
   "metadata": {
    "papermill": {
     "duration": 0.042495,
     "end_time": "2022-06-20T07:31:30.288289",
     "exception": false,
     "start_time": "2022-06-20T07:31:30.245794",
     "status": "completed"
    },
    "tags": []
   },
   "source": [
    "# 7. Modelo de Machine Learnig Random Forest Regressor"
   ]
  },
  {
   "cell_type": "markdown",
   "id": "5de24a5e",
   "metadata": {
    "papermill": {
     "duration": 0.044202,
     "end_time": "2022-06-20T07:31:30.376597",
     "exception": false,
     "start_time": "2022-06-20T07:31:30.332395",
     "status": "completed"
    },
    "tags": []
   },
   "source": [
    "Função que calcula o WMAE:"
   ]
  },
  {
   "cell_type": "code",
   "execution_count": 43,
   "id": "1e307080",
   "metadata": {
    "execution": {
     "iopub.execute_input": "2022-06-20T07:31:30.467495Z",
     "iopub.status.busy": "2022-06-20T07:31:30.466382Z",
     "iopub.status.idle": "2022-06-20T07:31:30.473092Z",
     "shell.execute_reply": "2022-06-20T07:31:30.472245Z"
    },
    "papermill": {
     "duration": 0.053485,
     "end_time": "2022-06-20T07:31:30.475080",
     "exception": false,
     "start_time": "2022-06-20T07:31:30.421595",
     "status": "completed"
    },
    "tags": []
   },
   "outputs": [],
   "source": [
    "# função criada para o calculo da métrica WMAE\n",
    "# Entradas da função: dataframe, vendas atuais, previsão de vendas\n",
    "def WMAE(dataset, real, predicted):\n",
    "  \n",
    "    weights = dataset.IsHoliday.apply(lambda x: 5 if x else 1) # Valor do peso. Se w = 5 tem feriado durante a semana e w = 1 caso contrário.\n",
    "    return np.round(np.sum(weights*abs(real-predicted))/(np.sum(weights)), 2) #calculo da formula do WMAE"
   ]
  },
  {
   "cell_type": "markdown",
   "id": "14770e70",
   "metadata": {
    "papermill": {
     "duration": 0.043413,
     "end_time": "2022-06-20T07:31:30.561496",
     "exception": false,
     "start_time": "2022-06-20T07:31:30.518083",
     "status": "completed"
    },
    "tags": []
   },
   "source": [
    "**O modelo escolhido para este projeto é o Random Forest Regressor. Trata-se de um modelo que possui um método ensemble que garante uma robustez maior e utiliza múltiplas árvores de decisão ('n_estimators' do modelo)  cuja a média das saídas de todas as arvores determinarão o valor final previsto. Dentre os motivos citados no inicio desta análise para a escolha desse modelo há também o fato que terá baixa probabilidade sofrer de overfitting.**\n",
    "\n",
    "**Obs: a parte ruim do uso deste modelo é seu custo computacional que é alto.**\n"
   ]
  },
  {
   "cell_type": "code",
   "execution_count": 44,
   "id": "eadae23f",
   "metadata": {
    "execution": {
     "iopub.execute_input": "2022-06-20T07:31:30.654863Z",
     "iopub.status.busy": "2022-06-20T07:31:30.654275Z",
     "iopub.status.idle": "2022-06-20T07:31:30.664371Z",
     "shell.execute_reply": "2022-06-20T07:31:30.663528Z"
    },
    "papermill": {
     "duration": 0.059631,
     "end_time": "2022-06-20T07:31:30.667221",
     "exception": false,
     "start_time": "2022-06-20T07:31:30.607590",
     "status": "completed"
    },
    "tags": []
   },
   "outputs": [],
   "source": [
    "# função para prever vendas a partir do modelo random forest\n",
    "def random_forest(n_estimators, max_depth): # Entradas: numero de arvores e a profundidade delas.\n",
    "    result = [] \n",
    "    for estimator in n_estimators:  # O intuito é \"testar\" numeros de arvores e profundidades diferentes para assim escolher a melhor combinação\n",
    "        for depth in max_depth:\n",
    "            wmaes_cv = []       # é aqui onde será quardado o valor de WMAE\n",
    "            for i in range(1,5):\n",
    "                print('k:', i, ', n_estimators:', estimator, ', max_depth:', depth) # conforme o loop acontece é printado os valores utilizados e encontrados\n",
    "                x_train, x_test, y_train, y_test = train_test_split(X_train, Y_train, test_size=0.3) # dividi-se os dados em dois conjuntos. 70% para treino e 30% para teste.\n",
    "                RF = RandomForestRegressor(n_estimators=estimator, max_depth=depth)# \"Floresta\" criada\n",
    "                RF.fit(x_train, y_train) # \"floresta\" treinada\n",
    "                predicted = RF.predict(x_test) # previsão encontradas a paritr dos 30% de dados de teste\n",
    "                wmaes_cv.append(WMAE(x_test, y_test, predicted)) # add o valor do WMAE a variavel 'wmaes_cv'\n",
    "            print('WMAE:', np.mean(wmaes_cv)) # print do valor de wmae encontrado\n",
    "            result.append({'Max_Depth': depth, 'Estimators': estimator, 'WMAE': np.mean(wmaes_cv)}) # cria uma lista com a profundidade e numero de arvores e o valor wmae associado.\n",
    "    return pd.DataFrame(result) # retorna um novo dataframe com valores comentados na linha anterior"
   ]
  },
  {
   "cell_type": "markdown",
   "id": "8fabce88",
   "metadata": {
    "papermill": {
     "duration": 0.04255,
     "end_time": "2022-06-20T07:31:30.753995",
     "exception": false,
     "start_time": "2022-06-20T07:31:30.711445",
     "status": "completed"
    },
    "tags": []
   },
   "source": [
    "**Abaixo tem a lista dos campos que serão utilizados no modelo e o valor a ser previsto.**"
   ]
  },
  {
   "cell_type": "code",
   "execution_count": 45,
   "id": "978baceb",
   "metadata": {
    "execution": {
     "iopub.execute_input": "2022-06-20T07:31:30.841831Z",
     "iopub.status.busy": "2022-06-20T07:31:30.841265Z",
     "iopub.status.idle": "2022-06-20T07:31:30.858171Z",
     "shell.execute_reply": "2022-06-20T07:31:30.857105Z"
    },
    "papermill": {
     "duration": 0.063191,
     "end_time": "2022-06-20T07:31:30.860423",
     "exception": false,
     "start_time": "2022-06-20T07:31:30.797232",
     "status": "completed"
    },
    "tags": []
   },
   "outputs": [],
   "source": [
    "X_train = df_train_final[['Store','Dept','IsHoliday','Size','Week','Type','Year']] # lista de campos do dataframe que serão utilizados\n",
    "Y_train = df_train_final['Weekly_Sales'] # o valor a ser previsto: Vendas semanais"
   ]
  },
  {
   "cell_type": "code",
   "execution_count": 46,
   "id": "44b027fd",
   "metadata": {
    "execution": {
     "iopub.execute_input": "2022-06-20T07:31:30.948300Z",
     "iopub.status.busy": "2022-06-20T07:31:30.947492Z",
     "iopub.status.idle": "2022-06-20T07:31:30.966210Z",
     "shell.execute_reply": "2022-06-20T07:31:30.965262Z"
    },
    "papermill": {
     "duration": 0.065879,
     "end_time": "2022-06-20T07:31:30.969182",
     "exception": false,
     "start_time": "2022-06-20T07:31:30.903303",
     "status": "completed"
    },
    "tags": []
   },
   "outputs": [
    {
     "name": "stdout",
     "output_type": "stream",
     "text": [
      "<class 'pandas.core.frame.DataFrame'>\n",
      "Int64Index: 420285 entries, 0 to 421569\n",
      "Data columns (total 7 columns):\n",
      " #   Column     Non-Null Count   Dtype\n",
      "---  ------     --------------   -----\n",
      " 0   Store      420285 non-null  int64\n",
      " 1   Dept       420285 non-null  int64\n",
      " 2   IsHoliday  420285 non-null  bool \n",
      " 3   Size       420285 non-null  int64\n",
      " 4   Week       420285 non-null  int64\n",
      " 5   Type       420285 non-null  int64\n",
      " 6   Year       420285 non-null  int64\n",
      "dtypes: bool(1), int64(6)\n",
      "memory usage: 39.0 MB\n"
     ]
    }
   ],
   "source": [
    "# conferindo se ação acima foi feita corretamente\n",
    "X_train.info()"
   ]
  },
  {
   "cell_type": "code",
   "execution_count": 47,
   "id": "ae726abf",
   "metadata": {
    "execution": {
     "iopub.execute_input": "2022-06-20T07:31:31.058385Z",
     "iopub.status.busy": "2022-06-20T07:31:31.057836Z",
     "iopub.status.idle": "2022-06-20T07:59:40.567218Z",
     "shell.execute_reply": "2022-06-20T07:59:40.566488Z"
    },
    "papermill": {
     "duration": 1689.601047,
     "end_time": "2022-06-20T07:59:40.614418",
     "exception": false,
     "start_time": "2022-06-20T07:31:31.013371",
     "status": "completed"
    },
    "tags": []
   },
   "outputs": [
    {
     "name": "stdout",
     "output_type": "stream",
     "text": [
      "k: 1 , n_estimators: 56 , max_depth: 25\n",
      "k: 2 , n_estimators: 56 , max_depth: 25\n",
      "k: 3 , n_estimators: 56 , max_depth: 25\n",
      "k: 4 , n_estimators: 56 , max_depth: 25\n",
      "WMAE: 1531.6450000000002\n",
      "k: 1 , n_estimators: 56 , max_depth: 27\n",
      "k: 2 , n_estimators: 56 , max_depth: 27\n",
      "k: 3 , n_estimators: 56 , max_depth: 27\n",
      "k: 4 , n_estimators: 56 , max_depth: 27\n",
      "WMAE: 1543.9125\n",
      "k: 1 , n_estimators: 56 , max_depth: 30\n",
      "k: 2 , n_estimators: 56 , max_depth: 30\n",
      "k: 3 , n_estimators: 56 , max_depth: 30\n",
      "k: 4 , n_estimators: 56 , max_depth: 30\n",
      "WMAE: 1543.3650000000002\n",
      "k: 1 , n_estimators: 58 , max_depth: 25\n",
      "k: 2 , n_estimators: 58 , max_depth: 25\n",
      "k: 3 , n_estimators: 58 , max_depth: 25\n",
      "k: 4 , n_estimators: 58 , max_depth: 25\n",
      "WMAE: 1566.5175\n",
      "k: 1 , n_estimators: 58 , max_depth: 27\n",
      "k: 2 , n_estimators: 58 , max_depth: 27\n",
      "k: 3 , n_estimators: 58 , max_depth: 27\n",
      "k: 4 , n_estimators: 58 , max_depth: 27\n",
      "WMAE: 1556.4624999999999\n",
      "k: 1 , n_estimators: 58 , max_depth: 30\n",
      "k: 2 , n_estimators: 58 , max_depth: 30\n",
      "k: 3 , n_estimators: 58 , max_depth: 30\n",
      "k: 4 , n_estimators: 58 , max_depth: 30\n",
      "WMAE: 1533.85\n",
      "k: 1 , n_estimators: 60 , max_depth: 25\n",
      "k: 2 , n_estimators: 60 , max_depth: 25\n",
      "k: 3 , n_estimators: 60 , max_depth: 25\n",
      "k: 4 , n_estimators: 60 , max_depth: 25\n",
      "WMAE: 1552.25\n",
      "k: 1 , n_estimators: 60 , max_depth: 27\n",
      "k: 2 , n_estimators: 60 , max_depth: 27\n",
      "k: 3 , n_estimators: 60 , max_depth: 27\n",
      "k: 4 , n_estimators: 60 , max_depth: 27\n",
      "WMAE: 1557.1050000000002\n",
      "k: 1 , n_estimators: 60 , max_depth: 30\n",
      "k: 2 , n_estimators: 60 , max_depth: 30\n",
      "k: 3 , n_estimators: 60 , max_depth: 30\n",
      "k: 4 , n_estimators: 60 , max_depth: 30\n",
      "WMAE: 1553.0149999999999\n"
     ]
    },
    {
     "data": {
      "text/html": [
       "<div>\n",
       "<style scoped>\n",
       "    .dataframe tbody tr th:only-of-type {\n",
       "        vertical-align: middle;\n",
       "    }\n",
       "\n",
       "    .dataframe tbody tr th {\n",
       "        vertical-align: top;\n",
       "    }\n",
       "\n",
       "    .dataframe thead th {\n",
       "        text-align: right;\n",
       "    }\n",
       "</style>\n",
       "<table border=\"1\" class=\"dataframe\">\n",
       "  <thead>\n",
       "    <tr style=\"text-align: right;\">\n",
       "      <th></th>\n",
       "      <th>Max_Depth</th>\n",
       "      <th>Estimators</th>\n",
       "      <th>WMAE</th>\n",
       "    </tr>\n",
       "  </thead>\n",
       "  <tbody>\n",
       "    <tr>\n",
       "      <th>0</th>\n",
       "      <td>25</td>\n",
       "      <td>56</td>\n",
       "      <td>1531.6450</td>\n",
       "    </tr>\n",
       "    <tr>\n",
       "      <th>1</th>\n",
       "      <td>27</td>\n",
       "      <td>56</td>\n",
       "      <td>1543.9125</td>\n",
       "    </tr>\n",
       "    <tr>\n",
       "      <th>2</th>\n",
       "      <td>30</td>\n",
       "      <td>56</td>\n",
       "      <td>1543.3650</td>\n",
       "    </tr>\n",
       "    <tr>\n",
       "      <th>3</th>\n",
       "      <td>25</td>\n",
       "      <td>58</td>\n",
       "      <td>1566.5175</td>\n",
       "    </tr>\n",
       "    <tr>\n",
       "      <th>4</th>\n",
       "      <td>27</td>\n",
       "      <td>58</td>\n",
       "      <td>1556.4625</td>\n",
       "    </tr>\n",
       "    <tr>\n",
       "      <th>5</th>\n",
       "      <td>30</td>\n",
       "      <td>58</td>\n",
       "      <td>1533.8500</td>\n",
       "    </tr>\n",
       "    <tr>\n",
       "      <th>6</th>\n",
       "      <td>25</td>\n",
       "      <td>60</td>\n",
       "      <td>1552.2500</td>\n",
       "    </tr>\n",
       "    <tr>\n",
       "      <th>7</th>\n",
       "      <td>27</td>\n",
       "      <td>60</td>\n",
       "      <td>1557.1050</td>\n",
       "    </tr>\n",
       "    <tr>\n",
       "      <th>8</th>\n",
       "      <td>30</td>\n",
       "      <td>60</td>\n",
       "      <td>1553.0150</td>\n",
       "    </tr>\n",
       "  </tbody>\n",
       "</table>\n",
       "</div>"
      ],
      "text/plain": [
       "   Max_Depth  Estimators       WMAE\n",
       "0         25          56  1531.6450\n",
       "1         27          56  1543.9125\n",
       "2         30          56  1543.3650\n",
       "3         25          58  1566.5175\n",
       "4         27          58  1556.4625\n",
       "5         30          58  1533.8500\n",
       "6         25          60  1552.2500\n",
       "7         27          60  1557.1050\n",
       "8         30          60  1553.0150"
      ]
     },
     "execution_count": 47,
     "metadata": {},
     "output_type": "execute_result"
    }
   ],
   "source": [
    "n_estimators = [56, 58, 60] # valores para o numero de arvores \n",
    "max_depth = [25, 27, 30] # valores para a ser utilizado na profundidade da arvore\n",
    "\n",
    "random_forest(n_estimators, max_depth) # chamando a função random_forest "
   ]
  },
  {
   "cell_type": "markdown",
   "id": "5fd47456",
   "metadata": {
    "papermill": {
     "duration": 0.043244,
     "end_time": "2022-06-20T07:59:40.701527",
     "exception": false,
     "start_time": "2022-06-20T07:59:40.658283",
     "status": "completed"
    },
    "tags": []
   },
   "source": [
    "Pelo gráfico acima o melhor WMAE é 1535.1875\n",
    "\n",
    "n_estimator: 56\n",
    "\n",
    "Max_Depth: 25"
   ]
  },
  {
   "cell_type": "code",
   "execution_count": 48,
   "id": "4393722a",
   "metadata": {
    "execution": {
     "iopub.execute_input": "2022-06-20T07:59:40.809272Z",
     "iopub.status.busy": "2022-06-20T07:59:40.808570Z",
     "iopub.status.idle": "2022-06-20T08:00:35.205242Z",
     "shell.execute_reply": "2022-06-20T08:00:35.204282Z"
    },
    "papermill": {
     "duration": 54.502426,
     "end_time": "2022-06-20T08:00:35.250531",
     "exception": false,
     "start_time": "2022-06-20T07:59:40.748105",
     "status": "completed"
    },
    "tags": []
   },
   "outputs": [
    {
     "data": {
      "text/plain": [
       "RandomForestRegressor(max_depth=25, n_estimators=56)"
      ]
     },
     "execution_count": 48,
     "metadata": {},
     "output_type": "execute_result"
    }
   ],
   "source": [
    "\n",
    "#treinando o modelo\n",
    "RF = RandomForestRegressor(n_estimators=56, max_depth=25)\n",
    "RF.fit(X_train, Y_train)"
   ]
  },
  {
   "cell_type": "code",
   "execution_count": 49,
   "id": "fc5e8bce",
   "metadata": {
    "execution": {
     "iopub.execute_input": "2022-06-20T08:00:35.338560Z",
     "iopub.status.busy": "2022-06-20T08:00:35.338015Z",
     "iopub.status.idle": "2022-06-20T08:00:37.475611Z",
     "shell.execute_reply": "2022-06-20T08:00:37.474609Z"
    },
    "papermill": {
     "duration": 2.184538,
     "end_time": "2022-06-20T08:00:37.478175",
     "exception": false,
     "start_time": "2022-06-20T08:00:35.293637",
     "status": "completed"
    },
    "tags": []
   },
   "outputs": [],
   "source": [
    "# campos que serão utilizados no modelo\n",
    "X_test = df_test_final[['Store', 'Dept', 'IsHoliday', 'Size', 'Week', 'Type', 'Year']]\n",
    "predict = RF.predict(X_test) # previsão dos valores a partir do dataframe de teste"
   ]
  },
  {
   "cell_type": "markdown",
   "id": "c11629df",
   "metadata": {
    "papermill": {
     "duration": 0.043326,
     "end_time": "2022-06-20T08:00:37.566804",
     "exception": false,
     "start_time": "2022-06-20T08:00:37.523478",
     "status": "completed"
    },
    "tags": []
   },
   "source": [
    "**Submissão dos resultados no Kaggle**"
   ]
  },
  {
   "cell_type": "code",
   "execution_count": 50,
   "id": "2ed5ef71",
   "metadata": {
    "execution": {
     "iopub.execute_input": "2022-06-20T08:00:37.657119Z",
     "iopub.status.busy": "2022-06-20T08:00:37.656718Z",
     "iopub.status.idle": "2022-06-20T08:00:37.662279Z",
     "shell.execute_reply": "2022-06-20T08:00:37.661421Z"
    },
    "papermill": {
     "duration": 0.053282,
     "end_time": "2022-06-20T08:00:37.664573",
     "exception": false,
     "start_time": "2022-06-20T08:00:37.611291",
     "status": "completed"
    },
    "tags": []
   },
   "outputs": [],
   "source": [
    "df_sample_submission['Weekly_Sales'] = predict"
   ]
  },
  {
   "cell_type": "code",
   "execution_count": 51,
   "id": "e72404d8",
   "metadata": {
    "execution": {
     "iopub.execute_input": "2022-06-20T08:00:37.759201Z",
     "iopub.status.busy": "2022-06-20T08:00:37.758805Z",
     "iopub.status.idle": "2022-06-20T08:00:37.770296Z",
     "shell.execute_reply": "2022-06-20T08:00:37.769570Z"
    },
    "papermill": {
     "duration": 0.061665,
     "end_time": "2022-06-20T08:00:37.772501",
     "exception": false,
     "start_time": "2022-06-20T08:00:37.710836",
     "status": "completed"
    },
    "tags": []
   },
   "outputs": [
    {
     "data": {
      "text/html": [
       "<div>\n",
       "<style scoped>\n",
       "    .dataframe tbody tr th:only-of-type {\n",
       "        vertical-align: middle;\n",
       "    }\n",
       "\n",
       "    .dataframe tbody tr th {\n",
       "        vertical-align: top;\n",
       "    }\n",
       "\n",
       "    .dataframe thead th {\n",
       "        text-align: right;\n",
       "    }\n",
       "</style>\n",
       "<table border=\"1\" class=\"dataframe\">\n",
       "  <thead>\n",
       "    <tr style=\"text-align: right;\">\n",
       "      <th></th>\n",
       "      <th>Id</th>\n",
       "      <th>Weekly_Sales</th>\n",
       "    </tr>\n",
       "  </thead>\n",
       "  <tbody>\n",
       "    <tr>\n",
       "      <th>0</th>\n",
       "      <td>1_1_2012-11-02</td>\n",
       "      <td>32686.824821</td>\n",
       "    </tr>\n",
       "    <tr>\n",
       "      <th>1</th>\n",
       "      <td>1_1_2012-11-09</td>\n",
       "      <td>45873.316250</td>\n",
       "    </tr>\n",
       "    <tr>\n",
       "      <th>2</th>\n",
       "      <td>1_1_2012-11-16</td>\n",
       "      <td>9334.254260</td>\n",
       "    </tr>\n",
       "    <tr>\n",
       "      <th>3</th>\n",
       "      <td>1_1_2012-11-23</td>\n",
       "      <td>36357.108036</td>\n",
       "    </tr>\n",
       "    <tr>\n",
       "      <th>4</th>\n",
       "      <td>1_1_2012-11-30</td>\n",
       "      <td>26758.145893</td>\n",
       "    </tr>\n",
       "    <tr>\n",
       "      <th>...</th>\n",
       "      <td>...</td>\n",
       "      <td>...</td>\n",
       "    </tr>\n",
       "    <tr>\n",
       "      <th>115059</th>\n",
       "      <td>45_98_2013-06-28</td>\n",
       "      <td>3401.825000</td>\n",
       "    </tr>\n",
       "    <tr>\n",
       "      <th>115060</th>\n",
       "      <td>45_98_2013-07-05</td>\n",
       "      <td>3903.206071</td>\n",
       "    </tr>\n",
       "    <tr>\n",
       "      <th>115061</th>\n",
       "      <td>45_98_2013-07-12</td>\n",
       "      <td>52971.421607</td>\n",
       "    </tr>\n",
       "    <tr>\n",
       "      <th>115062</th>\n",
       "      <td>45_98_2013-07-19</td>\n",
       "      <td>6336.969107</td>\n",
       "    </tr>\n",
       "    <tr>\n",
       "      <th>115063</th>\n",
       "      <td>45_98_2013-07-26</td>\n",
       "      <td>704.332500</td>\n",
       "    </tr>\n",
       "  </tbody>\n",
       "</table>\n",
       "<p>115064 rows × 2 columns</p>\n",
       "</div>"
      ],
      "text/plain": [
       "                      Id  Weekly_Sales\n",
       "0         1_1_2012-11-02  32686.824821\n",
       "1         1_1_2012-11-09  45873.316250\n",
       "2         1_1_2012-11-16   9334.254260\n",
       "3         1_1_2012-11-23  36357.108036\n",
       "4         1_1_2012-11-30  26758.145893\n",
       "...                  ...           ...\n",
       "115059  45_98_2013-06-28   3401.825000\n",
       "115060  45_98_2013-07-05   3903.206071\n",
       "115061  45_98_2013-07-12  52971.421607\n",
       "115062  45_98_2013-07-19   6336.969107\n",
       "115063  45_98_2013-07-26    704.332500\n",
       "\n",
       "[115064 rows x 2 columns]"
      ]
     },
     "execution_count": 51,
     "metadata": {},
     "output_type": "execute_result"
    }
   ],
   "source": [
    "df_sample_submission"
   ]
  },
  {
   "cell_type": "code",
   "execution_count": 52,
   "id": "ea584474",
   "metadata": {
    "execution": {
     "iopub.execute_input": "2022-06-20T08:00:37.867499Z",
     "iopub.status.busy": "2022-06-20T08:00:37.867047Z",
     "iopub.status.idle": "2022-06-20T08:00:38.324106Z",
     "shell.execute_reply": "2022-06-20T08:00:38.323405Z"
    },
    "papermill": {
     "duration": 0.506846,
     "end_time": "2022-06-20T08:00:38.326301",
     "exception": false,
     "start_time": "2022-06-20T08:00:37.819455",
     "status": "completed"
    },
    "tags": []
   },
   "outputs": [],
   "source": [
    "df_sample_submission.to_csv('submission.csv', index=False)"
   ]
  }
 ],
 "metadata": {
  "kernelspec": {
   "display_name": "Python 3",
   "language": "python",
   "name": "python3"
  },
  "language_info": {
   "codemirror_mode": {
    "name": "ipython",
    "version": 3
   },
   "file_extension": ".py",
   "mimetype": "text/x-python",
   "name": "python",
   "nbconvert_exporter": "python",
   "pygments_lexer": "ipython3",
   "version": "3.7.12"
  },
  "papermill": {
   "default_parameters": {},
   "duration": 1816.561057,
   "end_time": "2022-06-20T08:00:39.399110",
   "environment_variables": {},
   "exception": null,
   "input_path": "__notebook__.ipynb",
   "output_path": "__notebook__.ipynb",
   "parameters": {},
   "start_time": "2022-06-20T07:30:22.838053",
   "version": "2.3.4"
  }
 },
 "nbformat": 4,
 "nbformat_minor": 5
}
